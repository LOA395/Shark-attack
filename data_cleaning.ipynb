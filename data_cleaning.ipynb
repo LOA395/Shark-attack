{
 "cells": [
  {
   "cell_type": "markdown",
   "metadata": {},
   "source": [
    "## SHARK ATTACK"
   ]
  },
  {
   "cell_type": "markdown",
   "metadata": {},
   "source": [
    "### Importamos la base de datos y verificamos los datos"
   ]
  },
  {
   "cell_type": "code",
   "execution_count": 1,
   "metadata": {},
   "outputs": [],
   "source": [
    "#pip install pycountry"
   ]
  },
  {
   "cell_type": "code",
   "execution_count": 2,
   "metadata": {},
   "outputs": [],
   "source": [
    "import pandas as pd\n",
    "import numpy as np\n",
    "import re\n",
    "import pycountry"
   ]
  },
  {
   "cell_type": "code",
   "execution_count": 3,
   "metadata": {},
   "outputs": [],
   "source": [
    "# Configurar pandas para mostrar todas las columnas\n",
    "pd.set_option('display.max_columns', None)"
   ]
  },
  {
   "cell_type": "code",
   "execution_count": 4,
   "metadata": {},
   "outputs": [],
   "source": [
    "# Cargar el archivo de Excel usando Pandas\n",
    "url = 'https://www.sharkattackfile.net/spreadsheets/GSAF5.xls'\n",
    "df = pd.read_excel(url)"
   ]
  },
  {
   "cell_type": "code",
   "execution_count": 5,
   "metadata": {},
   "outputs": [
    {
     "data": {
      "text/html": [
       "<div>\n",
       "<style scoped>\n",
       "    .dataframe tbody tr th:only-of-type {\n",
       "        vertical-align: middle;\n",
       "    }\n",
       "\n",
       "    .dataframe tbody tr th {\n",
       "        vertical-align: top;\n",
       "    }\n",
       "\n",
       "    .dataframe thead th {\n",
       "        text-align: right;\n",
       "    }\n",
       "</style>\n",
       "<table border=\"1\" class=\"dataframe\">\n",
       "  <thead>\n",
       "    <tr style=\"text-align: right;\">\n",
       "      <th></th>\n",
       "      <th>Date</th>\n",
       "      <th>Year</th>\n",
       "      <th>Type</th>\n",
       "      <th>Country</th>\n",
       "      <th>State</th>\n",
       "      <th>Location</th>\n",
       "      <th>Activity</th>\n",
       "      <th>Name</th>\n",
       "      <th>Sex</th>\n",
       "      <th>Age</th>\n",
       "      <th>Injury</th>\n",
       "      <th>Unnamed: 11</th>\n",
       "      <th>Time</th>\n",
       "      <th>Species</th>\n",
       "      <th>Source</th>\n",
       "      <th>pdf</th>\n",
       "      <th>href formula</th>\n",
       "      <th>href</th>\n",
       "      <th>Case Number</th>\n",
       "      <th>Case Number.1</th>\n",
       "      <th>original order</th>\n",
       "      <th>Unnamed: 21</th>\n",
       "      <th>Unnamed: 22</th>\n",
       "    </tr>\n",
       "  </thead>\n",
       "  <tbody>\n",
       "    <tr>\n",
       "      <th>0</th>\n",
       "      <td>15 Mar 2024</td>\n",
       "      <td>2024.0</td>\n",
       "      <td>Unprovoked</td>\n",
       "      <td>AUSTRALIA</td>\n",
       "      <td>Queensland</td>\n",
       "      <td>Bargara Beach</td>\n",
       "      <td>Swimming</td>\n",
       "      <td>Brooklyn Sauer</td>\n",
       "      <td>F</td>\n",
       "      <td>13</td>\n",
       "      <td>Minor injuries to back, abdomen and legs</td>\n",
       "      <td>NaN</td>\n",
       "      <td>16h00</td>\n",
       "      <td>Tiger shark</td>\n",
       "      <td>Yahoo News, 3/15/2024</td>\n",
       "      <td>NaN</td>\n",
       "      <td>NaN</td>\n",
       "      <td>NaN</td>\n",
       "      <td>NaN</td>\n",
       "      <td>NaN</td>\n",
       "      <td>NaN</td>\n",
       "      <td>NaN</td>\n",
       "      <td>NaN</td>\n",
       "    </tr>\n",
       "    <tr>\n",
       "      <th>1</th>\n",
       "      <td>04 Mar 2024</td>\n",
       "      <td>2024.0</td>\n",
       "      <td>Unprovoked</td>\n",
       "      <td>USA</td>\n",
       "      <td>Hawaii</td>\n",
       "      <td>Old Man's, Waikiki</td>\n",
       "      <td>Surfing</td>\n",
       "      <td>Matthew White</td>\n",
       "      <td>M</td>\n",
       "      <td>NaN</td>\n",
       "      <td>No injury, shark bit surfboard</td>\n",
       "      <td>N</td>\n",
       "      <td>NaN</td>\n",
       "      <td>Tiger shark 8'</td>\n",
       "      <td>Surfer, 3/6/2024F</td>\n",
       "      <td>NaN</td>\n",
       "      <td>NaN</td>\n",
       "      <td>NaN</td>\n",
       "      <td>NaN</td>\n",
       "      <td>NaN</td>\n",
       "      <td>NaN</td>\n",
       "      <td>NaN</td>\n",
       "      <td>NaN</td>\n",
       "    </tr>\n",
       "    <tr>\n",
       "      <th>2</th>\n",
       "      <td>02 Mar-2024</td>\n",
       "      <td>2024.0</td>\n",
       "      <td>Unprovoked</td>\n",
       "      <td>USA</td>\n",
       "      <td>Hawaii</td>\n",
       "      <td>Rainbows, Oahu</td>\n",
       "      <td>Swimming</td>\n",
       "      <td>NaN</td>\n",
       "      <td>F</td>\n",
       "      <td>11</td>\n",
       "      <td>Lacerations to left foot</td>\n",
       "      <td>N</td>\n",
       "      <td>13h30</td>\n",
       "      <td>3' to 4' shark</td>\n",
       "      <td>Hawaii News Now, 3/4/2024</td>\n",
       "      <td>NaN</td>\n",
       "      <td>NaN</td>\n",
       "      <td>NaN</td>\n",
       "      <td>NaN</td>\n",
       "      <td>NaN</td>\n",
       "      <td>NaN</td>\n",
       "      <td>NaN</td>\n",
       "      <td>NaN</td>\n",
       "    </tr>\n",
       "    <tr>\n",
       "      <th>3</th>\n",
       "      <td>25 Feb-2024</td>\n",
       "      <td>2024.0</td>\n",
       "      <td>Unprovoked</td>\n",
       "      <td>AUSTRALIA</td>\n",
       "      <td>Western Australia</td>\n",
       "      <td>Sandlnd Island, Jurian Bay</td>\n",
       "      <td>NaN</td>\n",
       "      <td>female</td>\n",
       "      <td>F</td>\n",
       "      <td>46</td>\n",
       "      <td>Leg bitten</td>\n",
       "      <td>N</td>\n",
       "      <td>11h30</td>\n",
       "      <td>Tiger shark</td>\n",
       "      <td>WA Today, 2/26/2024</td>\n",
       "      <td>NaN</td>\n",
       "      <td>NaN</td>\n",
       "      <td>NaN</td>\n",
       "      <td>NaN</td>\n",
       "      <td>NaN</td>\n",
       "      <td>NaN</td>\n",
       "      <td>NaN</td>\n",
       "      <td>NaN</td>\n",
       "    </tr>\n",
       "    <tr>\n",
       "      <th>4</th>\n",
       "      <td>14 Feb-2024</td>\n",
       "      <td>2024.0</td>\n",
       "      <td>Unprovoked</td>\n",
       "      <td>INDIA</td>\n",
       "      <td>Maharashtra</td>\n",
       "      <td>Vaitarna River, Palghar District</td>\n",
       "      <td>Fishing</td>\n",
       "      <td>Vicky Suresh Govari</td>\n",
       "      <td>M</td>\n",
       "      <td>32</td>\n",
       "      <td>Calf of lower left leg injured</td>\n",
       "      <td>N</td>\n",
       "      <td>NaN</td>\n",
       "      <td>Bull shark, 7'</td>\n",
       "      <td>Times of India, 2/14/2024</td>\n",
       "      <td>NaN</td>\n",
       "      <td>NaN</td>\n",
       "      <td>NaN</td>\n",
       "      <td>NaN</td>\n",
       "      <td>NaN</td>\n",
       "      <td>NaN</td>\n",
       "      <td>NaN</td>\n",
       "      <td>NaN</td>\n",
       "    </tr>\n",
       "    <tr>\n",
       "      <th>...</th>\n",
       "      <td>...</td>\n",
       "      <td>...</td>\n",
       "      <td>...</td>\n",
       "      <td>...</td>\n",
       "      <td>...</td>\n",
       "      <td>...</td>\n",
       "      <td>...</td>\n",
       "      <td>...</td>\n",
       "      <td>...</td>\n",
       "      <td>...</td>\n",
       "      <td>...</td>\n",
       "      <td>...</td>\n",
       "      <td>...</td>\n",
       "      <td>...</td>\n",
       "      <td>...</td>\n",
       "      <td>...</td>\n",
       "      <td>...</td>\n",
       "      <td>...</td>\n",
       "      <td>...</td>\n",
       "      <td>...</td>\n",
       "      <td>...</td>\n",
       "      <td>...</td>\n",
       "      <td>...</td>\n",
       "    </tr>\n",
       "    <tr>\n",
       "      <th>6964</th>\n",
       "      <td>NaN</td>\n",
       "      <td>NaN</td>\n",
       "      <td>NaN</td>\n",
       "      <td>NaN</td>\n",
       "      <td>NaN</td>\n",
       "      <td>NaN</td>\n",
       "      <td>NaN</td>\n",
       "      <td>NaN</td>\n",
       "      <td>NaN</td>\n",
       "      <td>NaN</td>\n",
       "      <td>NaN</td>\n",
       "      <td>NaN</td>\n",
       "      <td>NaN</td>\n",
       "      <td>NaN</td>\n",
       "      <td>NaN</td>\n",
       "      <td>NaN</td>\n",
       "      <td>http://sharkattackfile.net/spreadsheets/pdf_di...</td>\n",
       "      <td>NaN</td>\n",
       "      <td>NaN</td>\n",
       "      <td>NaN</td>\n",
       "      <td>NaN</td>\n",
       "      <td>NaN</td>\n",
       "      <td>NaN</td>\n",
       "    </tr>\n",
       "    <tr>\n",
       "      <th>6965</th>\n",
       "      <td>NaN</td>\n",
       "      <td>NaN</td>\n",
       "      <td>NaN</td>\n",
       "      <td>NaN</td>\n",
       "      <td>NaN</td>\n",
       "      <td>NaN</td>\n",
       "      <td>NaN</td>\n",
       "      <td>NaN</td>\n",
       "      <td>NaN</td>\n",
       "      <td>NaN</td>\n",
       "      <td>NaN</td>\n",
       "      <td>NaN</td>\n",
       "      <td>NaN</td>\n",
       "      <td>NaN</td>\n",
       "      <td>NaN</td>\n",
       "      <td>NaN</td>\n",
       "      <td>http://sharkattackfile.net/spreadsheets/pdf_di...</td>\n",
       "      <td>NaN</td>\n",
       "      <td>NaN</td>\n",
       "      <td>NaN</td>\n",
       "      <td>NaN</td>\n",
       "      <td>NaN</td>\n",
       "      <td>NaN</td>\n",
       "    </tr>\n",
       "    <tr>\n",
       "      <th>6966</th>\n",
       "      <td>NaN</td>\n",
       "      <td>NaN</td>\n",
       "      <td>NaN</td>\n",
       "      <td>NaN</td>\n",
       "      <td>NaN</td>\n",
       "      <td>NaN</td>\n",
       "      <td>NaN</td>\n",
       "      <td>NaN</td>\n",
       "      <td>NaN</td>\n",
       "      <td>NaN</td>\n",
       "      <td>NaN</td>\n",
       "      <td>NaN</td>\n",
       "      <td>NaN</td>\n",
       "      <td>NaN</td>\n",
       "      <td>NaN</td>\n",
       "      <td>NaN</td>\n",
       "      <td>http://sharkattackfile.net/spreadsheets/pdf_di...</td>\n",
       "      <td>NaN</td>\n",
       "      <td>NaN</td>\n",
       "      <td>NaN</td>\n",
       "      <td>NaN</td>\n",
       "      <td>NaN</td>\n",
       "      <td>NaN</td>\n",
       "    </tr>\n",
       "    <tr>\n",
       "      <th>6967</th>\n",
       "      <td>NaN</td>\n",
       "      <td>NaN</td>\n",
       "      <td>NaN</td>\n",
       "      <td>NaN</td>\n",
       "      <td>NaN</td>\n",
       "      <td>NaN</td>\n",
       "      <td>NaN</td>\n",
       "      <td>NaN</td>\n",
       "      <td>NaN</td>\n",
       "      <td>NaN</td>\n",
       "      <td>NaN</td>\n",
       "      <td>NaN</td>\n",
       "      <td>NaN</td>\n",
       "      <td>NaN</td>\n",
       "      <td>NaN</td>\n",
       "      <td>NaN</td>\n",
       "      <td>http://sharkattackfile.net/spreadsheets/pdf_di...</td>\n",
       "      <td>NaN</td>\n",
       "      <td>NaN</td>\n",
       "      <td>NaN</td>\n",
       "      <td>NaN</td>\n",
       "      <td>NaN</td>\n",
       "      <td>NaN</td>\n",
       "    </tr>\n",
       "    <tr>\n",
       "      <th>6968</th>\n",
       "      <td>NaN</td>\n",
       "      <td>NaN</td>\n",
       "      <td>NaN</td>\n",
       "      <td>NaN</td>\n",
       "      <td>NaN</td>\n",
       "      <td>NaN</td>\n",
       "      <td>NaN</td>\n",
       "      <td>NaN</td>\n",
       "      <td>NaN</td>\n",
       "      <td>NaN</td>\n",
       "      <td>NaN</td>\n",
       "      <td>NaN</td>\n",
       "      <td>NaN</td>\n",
       "      <td>NaN</td>\n",
       "      <td>NaN</td>\n",
       "      <td>NaN</td>\n",
       "      <td>http://sharkattackfile.net/spreadsheets/pdf_di...</td>\n",
       "      <td>NaN</td>\n",
       "      <td>NaN</td>\n",
       "      <td>NaN</td>\n",
       "      <td>NaN</td>\n",
       "      <td>NaN</td>\n",
       "      <td>NaN</td>\n",
       "    </tr>\n",
       "  </tbody>\n",
       "</table>\n",
       "<p>6969 rows × 23 columns</p>\n",
       "</div>"
      ],
      "text/plain": [
       "             Date    Year        Type    Country              State  \\\n",
       "0     15 Mar 2024  2024.0  Unprovoked  AUSTRALIA         Queensland   \n",
       "1     04 Mar 2024  2024.0  Unprovoked        USA             Hawaii   \n",
       "2     02 Mar-2024  2024.0  Unprovoked        USA             Hawaii   \n",
       "3     25 Feb-2024  2024.0  Unprovoked  AUSTRALIA  Western Australia   \n",
       "4     14 Feb-2024  2024.0  Unprovoked      INDIA        Maharashtra   \n",
       "...           ...     ...         ...        ...                ...   \n",
       "6964          NaN     NaN         NaN        NaN                NaN   \n",
       "6965          NaN     NaN         NaN        NaN                NaN   \n",
       "6966          NaN     NaN         NaN        NaN                NaN   \n",
       "6967          NaN     NaN         NaN        NaN                NaN   \n",
       "6968          NaN     NaN         NaN        NaN                NaN   \n",
       "\n",
       "                              Location  Activity                 Name  Sex  \\\n",
       "0                        Bargara Beach  Swimming       Brooklyn Sauer    F   \n",
       "1                   Old Man's, Waikiki   Surfing        Matthew White    M   \n",
       "2                       Rainbows, Oahu  Swimming                  NaN    F   \n",
       "3           Sandlnd Island, Jurian Bay       NaN               female    F   \n",
       "4     Vaitarna River, Palghar District   Fishing  Vicky Suresh Govari    M   \n",
       "...                                ...       ...                  ...  ...   \n",
       "6964                               NaN       NaN                  NaN  NaN   \n",
       "6965                               NaN       NaN                  NaN  NaN   \n",
       "6966                               NaN       NaN                  NaN  NaN   \n",
       "6967                               NaN       NaN                  NaN  NaN   \n",
       "6968                               NaN       NaN                  NaN  NaN   \n",
       "\n",
       "      Age                                    Injury Unnamed: 11   Time  \\\n",
       "0      13  Minor injuries to back, abdomen and legs         NaN  16h00   \n",
       "1     NaN            No injury, shark bit surfboard           N    NaN   \n",
       "2      11                  Lacerations to left foot           N  13h30   \n",
       "3      46                                Leg bitten           N  11h30   \n",
       "4      32            Calf of lower left leg injured           N    NaN   \n",
       "...   ...                                       ...         ...    ...   \n",
       "6964  NaN                                       NaN         NaN    NaN   \n",
       "6965  NaN                                       NaN         NaN    NaN   \n",
       "6966  NaN                                       NaN         NaN    NaN   \n",
       "6967  NaN                                       NaN         NaN    NaN   \n",
       "6968  NaN                                       NaN         NaN    NaN   \n",
       "\n",
       "            Species                      Source  pdf  \\\n",
       "0        Tiger shark      Yahoo News, 3/15/2024  NaN   \n",
       "1     Tiger shark 8'          Surfer, 3/6/2024F  NaN   \n",
       "2     3' to 4' shark  Hawaii News Now, 3/4/2024  NaN   \n",
       "3        Tiger shark        WA Today, 2/26/2024  NaN   \n",
       "4     Bull shark, 7'  Times of India, 2/14/2024  NaN   \n",
       "...              ...                        ...  ...   \n",
       "6964             NaN                        NaN  NaN   \n",
       "6965             NaN                        NaN  NaN   \n",
       "6966             NaN                        NaN  NaN   \n",
       "6967             NaN                        NaN  NaN   \n",
       "6968             NaN                        NaN  NaN   \n",
       "\n",
       "                                           href formula href Case Number  \\\n",
       "0                                                   NaN  NaN         NaN   \n",
       "1                                                   NaN  NaN         NaN   \n",
       "2                                                   NaN  NaN         NaN   \n",
       "3                                                   NaN  NaN         NaN   \n",
       "4                                                   NaN  NaN         NaN   \n",
       "...                                                 ...  ...         ...   \n",
       "6964  http://sharkattackfile.net/spreadsheets/pdf_di...  NaN         NaN   \n",
       "6965  http://sharkattackfile.net/spreadsheets/pdf_di...  NaN         NaN   \n",
       "6966  http://sharkattackfile.net/spreadsheets/pdf_di...  NaN         NaN   \n",
       "6967  http://sharkattackfile.net/spreadsheets/pdf_di...  NaN         NaN   \n",
       "6968  http://sharkattackfile.net/spreadsheets/pdf_di...  NaN         NaN   \n",
       "\n",
       "     Case Number.1  original order Unnamed: 21 Unnamed: 22  \n",
       "0              NaN             NaN         NaN         NaN  \n",
       "1              NaN             NaN         NaN         NaN  \n",
       "2              NaN             NaN         NaN         NaN  \n",
       "3              NaN             NaN         NaN         NaN  \n",
       "4              NaN             NaN         NaN         NaN  \n",
       "...            ...             ...         ...         ...  \n",
       "6964           NaN             NaN         NaN         NaN  \n",
       "6965           NaN             NaN         NaN         NaN  \n",
       "6966           NaN             NaN         NaN         NaN  \n",
       "6967           NaN             NaN         NaN         NaN  \n",
       "6968           NaN             NaN         NaN         NaN  \n",
       "\n",
       "[6969 rows x 23 columns]"
      ]
     },
     "execution_count": 5,
     "metadata": {},
     "output_type": "execute_result"
    }
   ],
   "source": [
    "# Verificar el DataFrame\n",
    "df"
   ]
  },
  {
   "cell_type": "code",
   "execution_count": 6,
   "metadata": {},
   "outputs": [
    {
     "data": {
      "text/plain": [
       "Date                25\n",
       "Year                27\n",
       "Type                43\n",
       "Country             75\n",
       "State              507\n",
       "Location           590\n",
       "Activity           611\n",
       "Name               245\n",
       "Sex                604\n",
       "Age               3019\n",
       "Injury              60\n",
       "Unnamed: 11        587\n",
       "Time              3551\n",
       "Species           3157\n",
       "Source              44\n",
       "pdf                170\n",
       "href formula       150\n",
       "href               173\n",
       "Case Number        171\n",
       "Case Number.1      172\n",
       "original order     170\n",
       "Unnamed: 21       6968\n",
       "Unnamed: 22       6967\n",
       "dtype: int64"
      ]
     },
     "execution_count": 6,
     "metadata": {},
     "output_type": "execute_result"
    }
   ],
   "source": [
    "# Verificar valores faltantes\n",
    "df.isnull().sum()"
   ]
  },
  {
   "cell_type": "code",
   "execution_count": 7,
   "metadata": {},
   "outputs": [
    {
     "name": "stdout",
     "output_type": "stream",
     "text": [
      "<class 'pandas.core.frame.DataFrame'>\n",
      "RangeIndex: 6969 entries, 0 to 6968\n",
      "Data columns (total 23 columns):\n",
      " #   Column          Non-Null Count  Dtype  \n",
      "---  ------          --------------  -----  \n",
      " 0   Date            6944 non-null   object \n",
      " 1   Year            6942 non-null   float64\n",
      " 2   Type            6926 non-null   object \n",
      " 3   Country         6894 non-null   object \n",
      " 4   State           6462 non-null   object \n",
      " 5   Location        6379 non-null   object \n",
      " 6   Activity        6358 non-null   object \n",
      " 7   Name            6724 non-null   object \n",
      " 8   Sex             6365 non-null   object \n",
      " 9   Age             3950 non-null   object \n",
      " 10  Injury          6909 non-null   object \n",
      " 11  Unnamed: 11     6382 non-null   object \n",
      " 12  Time            3418 non-null   object \n",
      " 13  Species         3812 non-null   object \n",
      " 14  Source          6925 non-null   object \n",
      " 15  pdf             6799 non-null   object \n",
      " 16  href formula    6819 non-null   object \n",
      " 17  href            6796 non-null   object \n",
      " 18  Case Number     6798 non-null   object \n",
      " 19  Case Number.1   6797 non-null   object \n",
      " 20  original order  6799 non-null   float64\n",
      " 21  Unnamed: 21     1 non-null      object \n",
      " 22  Unnamed: 22     2 non-null      object \n",
      "dtypes: float64(2), object(21)\n",
      "memory usage: 1.2+ MB\n"
     ]
    }
   ],
   "source": [
    "df.info()"
   ]
  },
  {
   "cell_type": "markdown",
   "metadata": {},
   "source": [
    "### Eliminamos las filas anteriores al año 1700"
   ]
  },
  {
   "cell_type": "code",
   "execution_count": 8,
   "metadata": {},
   "outputs": [
    {
     "data": {
      "text/html": [
       "<div>\n",
       "<style scoped>\n",
       "    .dataframe tbody tr th:only-of-type {\n",
       "        vertical-align: middle;\n",
       "    }\n",
       "\n",
       "    .dataframe tbody tr th {\n",
       "        vertical-align: top;\n",
       "    }\n",
       "\n",
       "    .dataframe thead th {\n",
       "        text-align: right;\n",
       "    }\n",
       "</style>\n",
       "<table border=\"1\" class=\"dataframe\">\n",
       "  <thead>\n",
       "    <tr style=\"text-align: right;\">\n",
       "      <th></th>\n",
       "      <th>Date</th>\n",
       "      <th>Year</th>\n",
       "      <th>Type</th>\n",
       "      <th>Country</th>\n",
       "      <th>State</th>\n",
       "      <th>Location</th>\n",
       "      <th>Activity</th>\n",
       "      <th>Name</th>\n",
       "      <th>Sex</th>\n",
       "      <th>Age</th>\n",
       "      <th>Injury</th>\n",
       "      <th>Unnamed: 11</th>\n",
       "      <th>Time</th>\n",
       "      <th>Species</th>\n",
       "      <th>Source</th>\n",
       "      <th>pdf</th>\n",
       "      <th>href formula</th>\n",
       "      <th>href</th>\n",
       "      <th>Case Number</th>\n",
       "      <th>Case Number.1</th>\n",
       "      <th>original order</th>\n",
       "      <th>Unnamed: 21</th>\n",
       "      <th>Unnamed: 22</th>\n",
       "    </tr>\n",
       "  </thead>\n",
       "  <tbody>\n",
       "    <tr>\n",
       "      <th>6934</th>\n",
       "      <td>Circa 1862</td>\n",
       "      <td>0.0</td>\n",
       "      <td>Unprovoked</td>\n",
       "      <td>USA</td>\n",
       "      <td>Hawaii</td>\n",
       "      <td>Puna</td>\n",
       "      <td>NaN</td>\n",
       "      <td>A \"chiefess\"</td>\n",
       "      <td>F</td>\n",
       "      <td>NaN</td>\n",
       "      <td>Ankle bitten</td>\n",
       "      <td>N</td>\n",
       "      <td>NaN</td>\n",
       "      <td>NaN</td>\n",
       "      <td>Captain W. Young</td>\n",
       "      <td>ND-0010-Puna Hawaii.pdf</td>\n",
       "      <td>http://sharkattackfile.net/spreadsheets/pdf_di...</td>\n",
       "      <td>http://sharkattackfile.net/spreadsheets/pdf_di...</td>\n",
       "      <td>ND.0010</td>\n",
       "      <td>ND.0010</td>\n",
       "      <td>11.0</td>\n",
       "      <td>NaN</td>\n",
       "      <td>NaN</td>\n",
       "    </tr>\n",
       "    <tr>\n",
       "      <th>6826</th>\n",
       "      <td>Before 2016</td>\n",
       "      <td>0.0</td>\n",
       "      <td>Unprovoked</td>\n",
       "      <td>KENYA</td>\n",
       "      <td>Mombasa</td>\n",
       "      <td>Kilindini</td>\n",
       "      <td>Diving</td>\n",
       "      <td>Hamisi Njenga</td>\n",
       "      <td>M</td>\n",
       "      <td>NaN</td>\n",
       "      <td>FATAL</td>\n",
       "      <td>Y</td>\n",
       "      <td>NaN</td>\n",
       "      <td>NaN</td>\n",
       "      <td>eadestination</td>\n",
       "      <td>ND-0152-Kenya.pdf</td>\n",
       "      <td>http://sharkattackfile.net/spreadsheets/pdf_di...</td>\n",
       "      <td>http://sharkattackfile.net/spreadsheets/pdf_di...</td>\n",
       "      <td>ND-0152</td>\n",
       "      <td>ND-0152</td>\n",
       "      <td>119.0</td>\n",
       "      <td>NaN</td>\n",
       "      <td>NaN</td>\n",
       "    </tr>\n",
       "    <tr>\n",
       "      <th>6840</th>\n",
       "      <td>Before 2011</td>\n",
       "      <td>0.0</td>\n",
       "      <td>Unprovoked</td>\n",
       "      <td>SUDAN</td>\n",
       "      <td>Red Sea State</td>\n",
       "      <td>NaN</td>\n",
       "      <td>Snorkeling</td>\n",
       "      <td>female</td>\n",
       "      <td>F</td>\n",
       "      <td>NaN</td>\n",
       "      <td>Leg severely bitten</td>\n",
       "      <td>N</td>\n",
       "      <td>NaN</td>\n",
       "      <td>NaN</td>\n",
       "      <td>E. Ritter, GSAF</td>\n",
       "      <td>ND-0127-Sudan.pdf</td>\n",
       "      <td>http://sharkattackfile.net/spreadsheets/pdf_di...</td>\n",
       "      <td>http://sharkattackfile.net/spreadsheets/pdf_di...</td>\n",
       "      <td>ND-0127</td>\n",
       "      <td>ND-0127</td>\n",
       "      <td>105.0</td>\n",
       "      <td>NaN</td>\n",
       "      <td>NaN</td>\n",
       "    </tr>\n",
       "    <tr>\n",
       "      <th>6906</th>\n",
       "      <td>1941-1945</td>\n",
       "      <td>0.0</td>\n",
       "      <td>Unprovoked</td>\n",
       "      <td>IRAN</td>\n",
       "      <td>Khuzestan Province</td>\n",
       "      <td>Ahvaz, on the Karun River</td>\n",
       "      <td>Standing, washing rear wheels of his ambulance...</td>\n",
       "      <td>I.A.S. C. driver</td>\n",
       "      <td>M</td>\n",
       "      <td>NaN</td>\n",
       "      <td>FATAL, fell into water when shark seized his r...</td>\n",
       "      <td>Y</td>\n",
       "      <td>NaN</td>\n",
       "      <td>NaN</td>\n",
       "      <td>Lt.Col. R.S. Hunt, p.79</td>\n",
       "      <td>ND-0039-AmbulanceDriver.pdf</td>\n",
       "      <td>http://sharkattackfile.net/spreadsheets/pdf_di...</td>\n",
       "      <td>http://sharkattackfile.net/spreadsheets/pdf_di...</td>\n",
       "      <td>ND.0039</td>\n",
       "      <td>ND.0039</td>\n",
       "      <td>39.0</td>\n",
       "      <td>NaN</td>\n",
       "      <td>NaN</td>\n",
       "    </tr>\n",
       "    <tr>\n",
       "      <th>6925</th>\n",
       "      <td>Before 1921</td>\n",
       "      <td>0.0</td>\n",
       "      <td>Unprovoked</td>\n",
       "      <td>USA</td>\n",
       "      <td>Florida</td>\n",
       "      <td>Gadsden Point, Tampa Bay</td>\n",
       "      <td>Fishing</td>\n",
       "      <td>James Kelley</td>\n",
       "      <td>M</td>\n",
       "      <td>NaN</td>\n",
       "      <td>2-inch lacerations</td>\n",
       "      <td>N</td>\n",
       "      <td>NaN</td>\n",
       "      <td>NaN</td>\n",
       "      <td>T. Helm, p.219</td>\n",
       "      <td>ND-0019-Kelley.pdf</td>\n",
       "      <td>http://sharkattackfile.net/spreadsheets/pdf_di...</td>\n",
       "      <td>http://sharkattackfile.net/spreadsheets/pdf_di...</td>\n",
       "      <td>ND.0019</td>\n",
       "      <td>ND.0019</td>\n",
       "      <td>20.0</td>\n",
       "      <td>NaN</td>\n",
       "      <td>NaN</td>\n",
       "    </tr>\n",
       "    <tr>\n",
       "      <th>6833</th>\n",
       "      <td>Before 1909</td>\n",
       "      <td>0.0</td>\n",
       "      <td>Unprovoked</td>\n",
       "      <td>AUSTRALIA</td>\n",
       "      <td>Queensland</td>\n",
       "      <td>Moreton Bay</td>\n",
       "      <td>Fell into the water</td>\n",
       "      <td>Lieutenant Hexton</td>\n",
       "      <td>M</td>\n",
       "      <td>NaN</td>\n",
       "      <td>FATAL</td>\n",
       "      <td>Y</td>\n",
       "      <td>NaN</td>\n",
       "      <td>NaN</td>\n",
       "      <td>Brisbane Courier, 1/28/1909</td>\n",
       "      <td>ND-0138-Hexton.pdf</td>\n",
       "      <td>http://sharkattackfile.net/spreadsheets/pdf_di...</td>\n",
       "      <td>http://sharkattackfile.net/spreadsheets/pdf_di...</td>\n",
       "      <td>ND-0138</td>\n",
       "      <td>ND-0138</td>\n",
       "      <td>112.0</td>\n",
       "      <td>NaN</td>\n",
       "      <td>NaN</td>\n",
       "    </tr>\n",
       "    <tr>\n",
       "      <th>6924</th>\n",
       "      <td>1920 -1923</td>\n",
       "      <td>0.0</td>\n",
       "      <td>Unprovoked</td>\n",
       "      <td>AUSTRALIA</td>\n",
       "      <td>Queensland</td>\n",
       "      <td>Great Barrier Reef</td>\n",
       "      <td>NaN</td>\n",
       "      <td>3 Japanese divers</td>\n",
       "      <td>M</td>\n",
       "      <td>NaN</td>\n",
       "      <td>FATAL</td>\n",
       "      <td>Y</td>\n",
       "      <td>NaN</td>\n",
       "      <td>NaN</td>\n",
       "      <td>V.M. Coppleson (1958), p.241</td>\n",
       "      <td>ND-0020-3JapaneseDivers.pdf</td>\n",
       "      <td>http://sharkattackfile.net/spreadsheets/pdf_di...</td>\n",
       "      <td>http://sharkattackfile.net/spreadsheets/pdf_di...</td>\n",
       "      <td>ND.0020</td>\n",
       "      <td>ND.0020</td>\n",
       "      <td>21.0</td>\n",
       "      <td>NaN</td>\n",
       "      <td>NaN</td>\n",
       "    </tr>\n",
       "    <tr>\n",
       "      <th>6903</th>\n",
       "      <td>\"Before the war\"</td>\n",
       "      <td>0.0</td>\n",
       "      <td>Unprovoked</td>\n",
       "      <td>AUSTRALIA</td>\n",
       "      <td>Torres Strait</td>\n",
       "      <td>Thursday Island?</td>\n",
       "      <td>Free diving</td>\n",
       "      <td>Mortakee</td>\n",
       "      <td>M</td>\n",
       "      <td>NaN</td>\n",
       "      <td>Head bitten</td>\n",
       "      <td>N</td>\n",
       "      <td>NaN</td>\n",
       "      <td>NaN</td>\n",
       "      <td>Press clipping dated 6/28/1950</td>\n",
       "      <td>ND-0042-Mortakee.pdf</td>\n",
       "      <td>http://sharkattackfile.net/spreadsheets/pdf_di...</td>\n",
       "      <td>http://sharkattackfile.net/spreadsheets/pdf_di...</td>\n",
       "      <td>ND.0042</td>\n",
       "      <td>ND.0042</td>\n",
       "      <td>42.0</td>\n",
       "      <td>NaN</td>\n",
       "      <td>NaN</td>\n",
       "    </tr>\n",
       "    <tr>\n",
       "      <th>6848</th>\n",
       "      <td>Before 2012</td>\n",
       "      <td>0.0</td>\n",
       "      <td>Unprovoked</td>\n",
       "      <td>NaN</td>\n",
       "      <td>NaN</td>\n",
       "      <td>In a river feeding into the Bay of Bengal</td>\n",
       "      <td>Netting shrimp</td>\n",
       "      <td>Sametra Mestri</td>\n",
       "      <td>F</td>\n",
       "      <td>NaN</td>\n",
       "      <td>Hand severed</td>\n",
       "      <td>N</td>\n",
       "      <td>NaN</td>\n",
       "      <td>NaN</td>\n",
       "      <td>National Georgraphic Television</td>\n",
       "      <td>ND-0114-BayOfBengal.pdf</td>\n",
       "      <td>http://sharkattackfile.net/spreadsheets/pdf_di...</td>\n",
       "      <td>http://sharkattackfile.net/spreadsheets/pdf_di...</td>\n",
       "      <td>ND-0114</td>\n",
       "      <td>ND-0114</td>\n",
       "      <td>97.0</td>\n",
       "      <td>NaN</td>\n",
       "      <td>NaN</td>\n",
       "    </tr>\n",
       "    <tr>\n",
       "      <th>6894</th>\n",
       "      <td>Before 1958</td>\n",
       "      <td>0.0</td>\n",
       "      <td>Unprovoked</td>\n",
       "      <td>INDIA</td>\n",
       "      <td>Maharashtra</td>\n",
       "      <td>Malwan, near Ratnagiri</td>\n",
       "      <td>NaN</td>\n",
       "      <td>male</td>\n",
       "      <td>M</td>\n",
       "      <td>NaN</td>\n",
       "      <td>FATAL</td>\n",
       "      <td>Y</td>\n",
       "      <td>NaN</td>\n",
       "      <td>NaN</td>\n",
       "      <td>V.M. Coppleson (1958), p.261</td>\n",
       "      <td>ND-0053-India.pdf</td>\n",
       "      <td>http://sharkattackfile.net/spreadsheets/pdf_di...</td>\n",
       "      <td>http://sharkattackfile.net/spreadsheets/pdf_di...</td>\n",
       "      <td>ND.0053</td>\n",
       "      <td>ND.0053</td>\n",
       "      <td>51.0</td>\n",
       "      <td>NaN</td>\n",
       "      <td>NaN</td>\n",
       "    </tr>\n",
       "  </tbody>\n",
       "</table>\n",
       "</div>"
      ],
      "text/plain": [
       "                  Date  Year        Type    Country               State  \\\n",
       "6934        Circa 1862   0.0  Unprovoked        USA              Hawaii   \n",
       "6826       Before 2016   0.0  Unprovoked      KENYA             Mombasa   \n",
       "6840       Before 2011   0.0  Unprovoked      SUDAN       Red Sea State   \n",
       "6906         1941-1945   0.0  Unprovoked       IRAN  Khuzestan Province   \n",
       "6925       Before 1921   0.0  Unprovoked        USA             Florida   \n",
       "6833       Before 1909   0.0  Unprovoked  AUSTRALIA          Queensland   \n",
       "6924        1920 -1923   0.0  Unprovoked  AUSTRALIA          Queensland   \n",
       "6903  \"Before the war\"   0.0  Unprovoked  AUSTRALIA       Torres Strait   \n",
       "6848       Before 2012   0.0  Unprovoked        NaN                 NaN   \n",
       "6894       Before 1958   0.0  Unprovoked      INDIA         Maharashtra   \n",
       "\n",
       "                                       Location  \\\n",
       "6934                                       Puna   \n",
       "6826                                  Kilindini   \n",
       "6840                                        NaN   \n",
       "6906                  Ahvaz, on the Karun River   \n",
       "6925                   Gadsden Point, Tampa Bay   \n",
       "6833                                Moreton Bay   \n",
       "6924                         Great Barrier Reef   \n",
       "6903                           Thursday Island?   \n",
       "6848  In a river feeding into the Bay of Bengal   \n",
       "6894                     Malwan, near Ratnagiri   \n",
       "\n",
       "                                               Activity               Name  \\\n",
       "6934                                                NaN       A \"chiefess\"   \n",
       "6826                                             Diving      Hamisi Njenga   \n",
       "6840                                         Snorkeling             female   \n",
       "6906  Standing, washing rear wheels of his ambulance...  I.A.S. C. driver    \n",
       "6925                                            Fishing       James Kelley   \n",
       "6833                                Fell into the water  Lieutenant Hexton   \n",
       "6924                                                NaN  3 Japanese divers   \n",
       "6903                                        Free diving           Mortakee   \n",
       "6848                                     Netting shrimp     Sametra Mestri   \n",
       "6894                                                NaN               male   \n",
       "\n",
       "     Sex  Age                                             Injury Unnamed: 11  \\\n",
       "6934   F  NaN                                       Ankle bitten           N   \n",
       "6826   M  NaN                                              FATAL           Y   \n",
       "6840   F  NaN                                Leg severely bitten           N   \n",
       "6906   M  NaN  FATAL, fell into water when shark seized his r...           Y   \n",
       "6925   M  NaN                                 2-inch lacerations           N   \n",
       "6833   M  NaN                                              FATAL           Y   \n",
       "6924   M  NaN                                              FATAL           Y   \n",
       "6903   M  NaN                                        Head bitten           N   \n",
       "6848   F  NaN                                       Hand severed           N   \n",
       "6894   M  NaN                                              FATAL           Y   \n",
       "\n",
       "     Time Species                            Source  \\\n",
       "6934  NaN      NaN                 Captain W. Young   \n",
       "6826  NaN      NaN                    eadestination   \n",
       "6840  NaN      NaN                  E. Ritter, GSAF   \n",
       "6906  NaN      NaN          Lt.Col. R.S. Hunt, p.79   \n",
       "6925  NaN      NaN                   T. Helm, p.219   \n",
       "6833  NaN      NaN      Brisbane Courier, 1/28/1909   \n",
       "6924  NaN      NaN     V.M. Coppleson (1958), p.241   \n",
       "6903  NaN      NaN   Press clipping dated 6/28/1950   \n",
       "6848  NaN      NaN  National Georgraphic Television   \n",
       "6894  NaN      NaN     V.M. Coppleson (1958), p.261   \n",
       "\n",
       "                              pdf  \\\n",
       "6934      ND-0010-Puna Hawaii.pdf   \n",
       "6826            ND-0152-Kenya.pdf   \n",
       "6840            ND-0127-Sudan.pdf   \n",
       "6906  ND-0039-AmbulanceDriver.pdf   \n",
       "6925           ND-0019-Kelley.pdf   \n",
       "6833           ND-0138-Hexton.pdf   \n",
       "6924  ND-0020-3JapaneseDivers.pdf   \n",
       "6903         ND-0042-Mortakee.pdf   \n",
       "6848      ND-0114-BayOfBengal.pdf   \n",
       "6894            ND-0053-India.pdf   \n",
       "\n",
       "                                           href formula  \\\n",
       "6934  http://sharkattackfile.net/spreadsheets/pdf_di...   \n",
       "6826  http://sharkattackfile.net/spreadsheets/pdf_di...   \n",
       "6840  http://sharkattackfile.net/spreadsheets/pdf_di...   \n",
       "6906  http://sharkattackfile.net/spreadsheets/pdf_di...   \n",
       "6925  http://sharkattackfile.net/spreadsheets/pdf_di...   \n",
       "6833  http://sharkattackfile.net/spreadsheets/pdf_di...   \n",
       "6924  http://sharkattackfile.net/spreadsheets/pdf_di...   \n",
       "6903  http://sharkattackfile.net/spreadsheets/pdf_di...   \n",
       "6848  http://sharkattackfile.net/spreadsheets/pdf_di...   \n",
       "6894  http://sharkattackfile.net/spreadsheets/pdf_di...   \n",
       "\n",
       "                                                   href Case Number  \\\n",
       "6934  http://sharkattackfile.net/spreadsheets/pdf_di...     ND.0010   \n",
       "6826  http://sharkattackfile.net/spreadsheets/pdf_di...     ND-0152   \n",
       "6840  http://sharkattackfile.net/spreadsheets/pdf_di...     ND-0127   \n",
       "6906  http://sharkattackfile.net/spreadsheets/pdf_di...     ND.0039   \n",
       "6925  http://sharkattackfile.net/spreadsheets/pdf_di...     ND.0019   \n",
       "6833  http://sharkattackfile.net/spreadsheets/pdf_di...     ND-0138   \n",
       "6924  http://sharkattackfile.net/spreadsheets/pdf_di...     ND.0020   \n",
       "6903  http://sharkattackfile.net/spreadsheets/pdf_di...     ND.0042   \n",
       "6848  http://sharkattackfile.net/spreadsheets/pdf_di...     ND-0114   \n",
       "6894  http://sharkattackfile.net/spreadsheets/pdf_di...     ND.0053   \n",
       "\n",
       "     Case Number.1  original order Unnamed: 21 Unnamed: 22  \n",
       "6934       ND.0010            11.0         NaN         NaN  \n",
       "6826       ND-0152           119.0         NaN         NaN  \n",
       "6840       ND-0127           105.0         NaN         NaN  \n",
       "6906       ND.0039            39.0         NaN         NaN  \n",
       "6925       ND.0019            20.0         NaN         NaN  \n",
       "6833       ND-0138           112.0         NaN         NaN  \n",
       "6924       ND.0020            21.0         NaN         NaN  \n",
       "6903       ND.0042            42.0         NaN         NaN  \n",
       "6848       ND-0114            97.0         NaN         NaN  \n",
       "6894       ND.0053            51.0         NaN         NaN  "
      ]
     },
     "execution_count": 8,
     "metadata": {},
     "output_type": "execute_result"
    }
   ],
   "source": [
    "# Observamos los datos anteriores a 1700\n",
    "df[df['Year'] <= 1700].sample(10)"
   ]
  },
  {
   "cell_type": "markdown",
   "metadata": {},
   "source": [
    "Los datos de fechas en los casos más antiguos son un caos y faltan bastantes datos. Por eso tomamos la decisión de eliminar los datos anteriores a 1700."
   ]
  },
  {
   "cell_type": "code",
   "execution_count": 9,
   "metadata": {},
   "outputs": [],
   "source": [
    "# Eliminar las filas anteriores a 1700\n",
    "df = df[df['Year'] >= 1700]"
   ]
  },
  {
   "cell_type": "code",
   "execution_count": 10,
   "metadata": {},
   "outputs": [
    {
     "data": {
      "text/plain": [
       "Date                 0\n",
       "Year                 0\n",
       "Type                16\n",
       "Country             43\n",
       "State              450\n",
       "Location           522\n",
       "Activity           558\n",
       "Name               215\n",
       "Sex                569\n",
       "Age               2862\n",
       "Injury              28\n",
       "Unnamed: 11        558\n",
       "Time              3385\n",
       "Species           3024\n",
       "Source              19\n",
       "pdf                143\n",
       "href formula       148\n",
       "href               146\n",
       "Case Number        144\n",
       "Case Number.1      145\n",
       "original order     143\n",
       "Unnamed: 21       6795\n",
       "Unnamed: 22       6794\n",
       "dtype: int64"
      ]
     },
     "execution_count": 10,
     "metadata": {},
     "output_type": "execute_result"
    }
   ],
   "source": [
    "# Verificar valores faltantes\n",
    "df.isnull().sum()"
   ]
  },
  {
   "cell_type": "markdown",
   "metadata": {},
   "source": [
    "## Tratamiento de valores nulos"
   ]
  },
  {
   "cell_type": "markdown",
   "metadata": {},
   "source": [
    "Lo primero es eliminar las columnas que tienen más del 50% de valores nulos y las filas con muchos valores nulos."
   ]
  },
  {
   "cell_type": "code",
   "execution_count": 11,
   "metadata": {},
   "outputs": [],
   "source": [
    "# Eliminar columnas con más del 50% de valores faltantes\n",
    "missing_values_threshold = 0.5\n",
    "df = df.loc[:, df.isnull().mean() < missing_values_threshold]"
   ]
  },
  {
   "cell_type": "code",
   "execution_count": 12,
   "metadata": {},
   "outputs": [
    {
     "data": {
      "text/plain": [
       "Index(['Date', 'Year', 'Type', 'Country', 'State', 'Location', 'Activity',\n",
       "       'Name', 'Sex', 'Age', 'Injury', 'Unnamed: 11', 'Time', 'Species ',\n",
       "       'Source', 'pdf', 'href formula', 'href', 'Case Number', 'Case Number.1',\n",
       "       'original order'],\n",
       "      dtype='object')"
      ]
     },
     "execution_count": 12,
     "metadata": {},
     "output_type": "execute_result"
    }
   ],
   "source": [
    "df.columns"
   ]
  },
  {
   "cell_type": "code",
   "execution_count": 13,
   "metadata": {},
   "outputs": [],
   "source": [
    "# Eliminar filas con más de 5 valores faltantes\n",
    "df = df.dropna(thresh=len(df.columns) - 5)"
   ]
  },
  {
   "cell_type": "code",
   "execution_count": 14,
   "metadata": {},
   "outputs": [
    {
     "data": {
      "text/plain": [
       "Date                 0\n",
       "Year                 0\n",
       "Type                15\n",
       "Country             23\n",
       "State              375\n",
       "Location           435\n",
       "Activity           474\n",
       "Name               138\n",
       "Sex                478\n",
       "Age               2709\n",
       "Injury              19\n",
       "Unnamed: 11        508\n",
       "Time              3224\n",
       "Species           2867\n",
       "Source              18\n",
       "pdf                  0\n",
       "href formula         4\n",
       "href                 2\n",
       "Case Number          0\n",
       "Case Number.1        1\n",
       "original order       0\n",
       "dtype: int64"
      ]
     },
     "execution_count": 14,
     "metadata": {},
     "output_type": "execute_result"
    }
   ],
   "source": [
    "df.isnull().sum()"
   ]
  },
  {
   "cell_type": "markdown",
   "metadata": {},
   "source": [
    "## Eliminamos las columnas que no aportan información para nuestro estudio"
   ]
  },
  {
   "cell_type": "code",
   "execution_count": 15,
   "metadata": {},
   "outputs": [
    {
     "data": {
      "text/plain": [
       "Index(['Date', 'Year', 'Type', 'Country', 'State', 'Location', 'Activity',\n",
       "       'Name', 'Sex', 'Age', 'Injury', 'Unnamed: 11', 'Time', 'Species ',\n",
       "       'Source', 'pdf', 'href formula', 'href', 'Case Number', 'Case Number.1',\n",
       "       'original order'],\n",
       "      dtype='object')"
      ]
     },
     "execution_count": 15,
     "metadata": {},
     "output_type": "execute_result"
    }
   ],
   "source": [
    "# VISUALIZAR EL NOMBRE DE LAS COLUMNAS\n",
    "df.columns"
   ]
  },
  {
   "cell_type": "markdown",
   "metadata": {},
   "source": [
    "Eliminamos columnas como ‘pdf’, 'href', 'Case Number', 'original order', etc., que no aportan información útil para el estudio. También hay otras columnas que podrían aportar información interesante, pero debido a que los datos están recogidos sin ninguna estructura o que la mayoría son nulos, no podemos utilizarlas. Por eso eliminamos columnas como 'Injury', 'Species ', 'Source', etc."
   ]
  },
  {
   "cell_type": "code",
   "execution_count": 16,
   "metadata": {},
   "outputs": [],
   "source": [
    "# Eliminar columnas\n",
    "df = df.drop(['pdf', 'href formula', 'href', 'Case Number.1', 'Case Number', 'original order', 'Source', 'Name', 'Species ', 'Location', 'Injury', 'Year', 'Time', 'Type'], axis=1)\n"
   ]
  },
  {
   "cell_type": "code",
   "execution_count": 17,
   "metadata": {},
   "outputs": [
    {
     "data": {
      "text/plain": [
       "Index(['Date', 'Country', 'State', 'Activity', 'Sex', 'Age', 'Unnamed: 11'], dtype='object')"
      ]
     },
     "execution_count": 17,
     "metadata": {},
     "output_type": "execute_result"
    }
   ],
   "source": [
    "df.columns"
   ]
  },
  {
   "cell_type": "markdown",
   "metadata": {},
   "source": [
    "## Renombrar columna\n",
    "La columna unnamed: 11 hace referencia a la mortalidad del ataque. Le ponemos un nombre que tenga sentido."
   ]
  },
  {
   "cell_type": "code",
   "execution_count": 18,
   "metadata": {},
   "outputs": [],
   "source": [
    "# Renombrar columna unnamed: 11 por Died\n",
    "df.rename(columns={\"Unnamed: 11\": \"Deceased\"}, inplace=True)"
   ]
  },
  {
   "cell_type": "code",
   "execution_count": 19,
   "metadata": {},
   "outputs": [
    {
     "data": {
      "text/plain": [
       "Index(['Date', 'Country', 'State', 'Activity', 'Sex', 'Age', 'Deceased'], dtype='object')"
      ]
     },
     "execution_count": 19,
     "metadata": {},
     "output_type": "execute_result"
    }
   ],
   "source": [
    "df.columns"
   ]
  },
  {
   "cell_type": "markdown",
   "metadata": {},
   "source": [
    "## Análisis por columnas\n",
    "\n",
    "Procedemos a estudiar los valores únicos de cada columna e intentamos estandarizar lo máximo posible. Tratamos los nulos de la forma que mejor consideremos y se transforman los datos al tipo que necesitemos para el posterior análisis."
   ]
  },
  {
   "cell_type": "markdown",
   "metadata": {},
   "source": [
    "### Columna Country\n"
   ]
  },
  {
   "cell_type": "code",
   "execution_count": 20,
   "metadata": {},
   "outputs": [
    {
     "data": {
      "text/plain": [
       "207"
      ]
     },
     "execution_count": 20,
     "metadata": {},
     "output_type": "execute_result"
    }
   ],
   "source": [
    "# CANTIDAD DE VALORES UNICOS\n",
    "df['Country'].nunique()"
   ]
  },
  {
   "cell_type": "code",
   "execution_count": 21,
   "metadata": {},
   "outputs": [
    {
     "data": {
      "text/plain": [
       "array(['SOUTH AFRICA', 'BAHAMAS', 'USA', 'AUSTRALIA', 'ENGLAND', 'JAPAN',\n",
       "       'INDONESIA', 'EGYPT', 'JAMAICA', 'BELIZE', 'MALDIVES', 'THAILAND',\n",
       "       'FRENCH POLYNESIA', 'COLUMBIA', 'NEW ZEALAND', 'MEXICO',\n",
       "       'COSTA RICA', 'New Zealand', 'BRAZIL',\n",
       "       'British Overseas Territory', 'CANADA', 'ECUADOR', 'JORDAN',\n",
       "       'NEW CALEDONIA', 'ST KITTS / NEVIS', 'ST MARTIN', 'SPAIN', 'FIJI',\n",
       "       'SEYCHELLES', 'PAPUA NEW GUINEA', 'REUNION ISLAND', 'ISRAEL',\n",
       "       'CHINA', 'SAMOA', 'IRELAND', 'ITALY', 'COLOMBIA', 'MALAYSIA',\n",
       "       'LIBYA', nan, 'CUBA', 'MAURITIUS', 'SOLOMON ISLANDS',\n",
       "       'ST HELENA, British overseas territory', 'COMOROS', 'REUNION',\n",
       "       'UNITED KINGDOM', 'UNITED ARAB EMIRATES', 'PHILIPPINES',\n",
       "       'CAPE VERDE', 'Fiji', 'DOMINICAN REPUBLIC', 'CAYMAN ISLANDS',\n",
       "       'ARUBA', 'MOZAMBIQUE', 'PUERTO RICO', 'ATLANTIC OCEAN', 'GREECE',\n",
       "       'ST. MARTIN', 'FRANCE', 'TRINIDAD & TOBAGO', 'KIRIBATI',\n",
       "       'DIEGO GARCIA', 'TAIWAN', 'PALESTINIAN TERRITORIES', 'GUAM',\n",
       "       'NIGERIA', 'TONGA', 'SCOTLAND', 'CROATIA', 'SAUDI ARABIA', 'CHILE',\n",
       "       'ANTIGUA', 'KENYA', 'RUSSIA', 'TURKS & CAICOS',\n",
       "       'UNITED ARAB EMIRATES (UAE)', 'AZORES', 'SOUTH KOREA', 'MALTA',\n",
       "       'VIETNAM', 'MADAGASCAR', 'PANAMA', 'SOMALIA', 'NEVIS',\n",
       "       'BRITISH VIRGIN ISLANDS', 'NORWAY', 'YEMEN', 'GULF OF ADEN',\n",
       "       'Sierra Leone', 'ST. MAARTIN', 'GRAND CAYMAN', 'Seychelles',\n",
       "       'LIBERIA', 'VANUATU', 'MEXICO ', 'HONDURAS', 'VENEZUELA',\n",
       "       'SRI LANKA', ' TONGA', 'URUGUAY', 'INDIA', 'MICRONESIA',\n",
       "       'CARIBBEAN SEA', 'OKINAWA', 'TANZANIA', 'MARSHALL ISLANDS',\n",
       "       'SENEGAL', 'EGYPT / ISRAEL', 'NORTHERN ARABIAN SEA', 'HONG KONG',\n",
       "       'EL SALVADOR', 'ANGOLA', 'BERMUDA', 'MONTENEGRO', 'IRAN',\n",
       "       'TUNISIA', 'NAMIBIA', 'NORTH ATLANTIC OCEAN', 'PORTUGAL',\n",
       "       'SOUTH CHINA SEA', 'PALAU', 'WESTERN SAMOA', 'PACIFIC OCEAN ',\n",
       "       'BRITISH ISLES', 'GRENADA', 'IRAQ', 'TURKEY', 'SINGAPORE',\n",
       "       'NEW BRITAIN', 'SUDAN', 'JOHNSTON ISLAND', 'SOUTH PACIFIC OCEAN',\n",
       "       'NEW GUINEA', 'RED SEA', 'NORTH PACIFIC OCEAN',\n",
       "       'FEDERATED STATES OF MICRONESIA', 'MID ATLANTIC OCEAN',\n",
       "       'ADMIRALTY ISLANDS', 'BRITISH WEST INDIES', 'SOUTH ATLANTIC OCEAN',\n",
       "       'PERSIAN GULF', 'RED SEA / INDIAN OCEAN', 'PACIFIC OCEAN',\n",
       "       'NORTH SEA', 'NICARAGUA ', 'MALDIVE ISLANDS', 'AMERICAN SAMOA',\n",
       "       'ANDAMAN / NICOBAR ISLANDAS', 'GABON', 'MAYOTTE',\n",
       "       'NORTH ATLANTIC OCEAN ', 'THE BALKANS', 'SUDAN?', 'ARGENTINA',\n",
       "       'MARTINIQUE', 'INDIAN OCEAN', 'GUATEMALA', 'NETHERLANDS ANTILLES',\n",
       "       'NORTHERN MARIANA ISLANDS', 'IRAN / IRAQ', 'JAVA', 'SIERRA LEONE',\n",
       "       ' PHILIPPINES', 'NICARAGUA', 'CENTRAL PACIFIC',\n",
       "       'SOLOMON ISLANDS / VANUATU', 'SOUTHWEST PACIFIC OCEAN',\n",
       "       'BAY OF BENGAL', 'MID-PACIFC OCEAN', 'SLOVENIA', 'CURACAO',\n",
       "       'ICELAND', 'ITALY / CROATIA', 'BARBADOS', 'MONACO', 'GUYANA',\n",
       "       'HAITI', 'SAN DOMINGO', 'KUWAIT', 'YEMEN ', 'FALKLAND ISLANDS',\n",
       "       'CRETE', 'CYPRUS', 'EGYPT ', 'WEST INDIES', 'BURMA', 'LEBANON',\n",
       "       'BRITISH NEW GUINEA', 'OCEAN', 'GEORGIA', 'SYRIA', 'TUVALU',\n",
       "       'INDIAN OCEAN?', 'GUINEA', 'ANDAMAN ISLANDS', 'CEYLON',\n",
       "       'EQUATORIAL GUINEA / CAMEROON', 'COOK ISLANDS', 'TOBAGO', 'PERU',\n",
       "       'AFRICA', 'ALGERIA', 'Coast of AFRICA', 'TASMAN SEA', 'GHANA',\n",
       "       'MEDITERRANEAN SEA', 'SWEDEN'], dtype=object)"
      ]
     },
     "execution_count": 21,
     "metadata": {},
     "output_type": "execute_result"
    }
   ],
   "source": [
    "# VALORES UNICOS\n",
    "df['Country'].unique()"
   ]
  },
  {
   "cell_type": "markdown",
   "metadata": {},
   "source": [
    "Aplicamos varias técnicas para intentar estandarizar el nombre de los países, por si hay algunas opciones que hacen referencia al mismo país."
   ]
  },
  {
   "cell_type": "code",
   "execution_count": 22,
   "metadata": {},
   "outputs": [
    {
     "data": {
      "text/plain": [
       "23"
      ]
     },
     "execution_count": 22,
     "metadata": {},
     "output_type": "execute_result"
    }
   ],
   "source": [
    "df['Country'].isnull().sum()"
   ]
  },
  {
   "cell_type": "code",
   "execution_count": 23,
   "metadata": {},
   "outputs": [
    {
     "name": "stderr",
     "output_type": "stream",
     "text": [
      "C:\\Users\\Laura Ortiz\\AppData\\Local\\Temp\\ipykernel_24728\\269342119.py:8: FutureWarning: The default value of regex will change from True to False in a future version. In addition, single character regular expressions will *not* be treated as literal strings when regex=True.\n",
      "  df['Country'] = df['Country'].str.replace('?', '')\n"
     ]
    }
   ],
   "source": [
    "# Reemplazar minisculas por minusculas\n",
    "df['Country'] = df['Country'].str.lower()\n",
    "\n",
    "# Eliminar espacios en las celdas\n",
    "df['Country'] = df['Country'].str.strip()\n",
    "\n",
    "# Reemplazar '?' por ''\n",
    "df['Country'] = df['Country'].str.replace('?', '')"
   ]
  },
  {
   "cell_type": "code",
   "execution_count": 24,
   "metadata": {},
   "outputs": [
    {
     "data": {
      "text/plain": [
       "193"
      ]
     },
     "execution_count": 24,
     "metadata": {},
     "output_type": "execute_result"
    }
   ],
   "source": [
    "df['Country'].nunique()"
   ]
  },
  {
   "cell_type": "code",
   "execution_count": 25,
   "metadata": {},
   "outputs": [],
   "source": [
    "def estandarizar_pais(pais):\n",
    "    try:\n",
    "        # Buscar por nombre\n",
    "        return pycountry.countries.lookup(pais).name\n",
    "    except LookupError:\n",
    "        return 'Unknown'\n",
    "\n"
   ]
  },
  {
   "cell_type": "code",
   "execution_count": 26,
   "metadata": {},
   "outputs": [],
   "source": [
    "df['standarized_country'] = df['Country'].apply(estandarizar_pais)"
   ]
  },
  {
   "cell_type": "code",
   "execution_count": 27,
   "metadata": {},
   "outputs": [
    {
     "data": {
      "text/plain": [
       "117"
      ]
     },
     "execution_count": 27,
     "metadata": {},
     "output_type": "execute_result"
    }
   ],
   "source": [
    "df['standarized_country'].nunique()"
   ]
  },
  {
   "cell_type": "code",
   "execution_count": 28,
   "metadata": {},
   "outputs": [
    {
     "data": {
      "text/plain": [
       "array(['South Africa', 'Bahamas', 'United States', 'Australia', 'Unknown',\n",
       "       'Japan', 'Indonesia', 'Egypt', 'Jamaica', 'Belize', 'Maldives',\n",
       "       'Thailand', 'French Polynesia', 'New Zealand', 'Mexico',\n",
       "       'Costa Rica', 'Brazil', 'Canada', 'Ecuador', 'Jordan',\n",
       "       'New Caledonia', 'Spain', 'Fiji', 'Seychelles', 'Papua New Guinea',\n",
       "       'Israel', 'China', 'Samoa', 'Ireland', 'Italy', 'Colombia',\n",
       "       'Malaysia', 'Libya', 'Cuba', 'Mauritius', 'Solomon Islands',\n",
       "       'Comoros', 'United Kingdom', 'United Arab Emirates', 'Philippines',\n",
       "       'Dominican Republic', 'Cayman Islands', 'Aruba', 'Mozambique',\n",
       "       'Puerto Rico', 'Greece', 'France', 'Kiribati',\n",
       "       'Taiwan, Province of China', 'Guam', 'Nigeria', 'Tonga', 'Croatia',\n",
       "       'Saudi Arabia', 'Chile', 'Kenya', 'Korea, Republic of', 'Malta',\n",
       "       'Viet Nam', 'Madagascar', 'Panama', 'Somalia',\n",
       "       'Virgin Islands, British', 'Norway', 'Yemen', 'Sierra Leone',\n",
       "       'Liberia', 'Vanuatu', 'Honduras',\n",
       "       'Venezuela, Bolivarian Republic of', 'Sri Lanka', 'Uruguay',\n",
       "       'India', 'Tanzania, United Republic of', 'Marshall Islands',\n",
       "       'Senegal', 'Hong Kong', 'El Salvador', 'Angola', 'Bermuda',\n",
       "       'Montenegro', 'Iran, Islamic Republic of', 'Tunisia', 'Namibia',\n",
       "       'Portugal', 'Palau', 'Grenada', 'Iraq', 'Singapore', 'Sudan',\n",
       "       'Micronesia, Federated States of', 'Nicaragua', 'American Samoa',\n",
       "       'Gabon', 'Mayotte', 'Argentina', 'Martinique', 'Guatemala',\n",
       "       'Northern Mariana Islands', 'Slovenia', 'Iceland', 'Barbados',\n",
       "       'Monaco', 'Guyana', 'Haiti', 'Kuwait', 'Cyprus', 'Lebanon',\n",
       "       'Georgia', 'Syrian Arab Republic', 'Tuvalu', 'Guinea',\n",
       "       'Cook Islands', 'Peru', 'Algeria', 'Ghana', 'Sweden'], dtype=object)"
      ]
     },
     "execution_count": 28,
     "metadata": {},
     "output_type": "execute_result"
    }
   ],
   "source": [
    "df['standarized_country'].unique()"
   ]
  },
  {
   "cell_type": "code",
   "execution_count": 29,
   "metadata": {},
   "outputs": [],
   "source": [
    "desconocidos = df[['Country', 'standarized_country']][df['standarized_country'] == 'Unknown']"
   ]
  },
  {
   "cell_type": "code",
   "execution_count": 30,
   "metadata": {},
   "outputs": [
    {
     "data": {
      "text/plain": [
       "(313, 2)"
      ]
     },
     "execution_count": 30,
     "metadata": {},
     "output_type": "execute_result"
    }
   ],
   "source": [
    "desconocidos.shape"
   ]
  },
  {
   "cell_type": "code",
   "execution_count": 31,
   "metadata": {},
   "outputs": [
    {
     "data": {
      "text/html": [
       "<div>\n",
       "<style scoped>\n",
       "    .dataframe tbody tr th:only-of-type {\n",
       "        vertical-align: middle;\n",
       "    }\n",
       "\n",
       "    .dataframe tbody tr th {\n",
       "        vertical-align: top;\n",
       "    }\n",
       "\n",
       "    .dataframe thead th {\n",
       "        text-align: right;\n",
       "    }\n",
       "</style>\n",
       "<table border=\"1\" class=\"dataframe\">\n",
       "  <thead>\n",
       "    <tr style=\"text-align: right;\">\n",
       "      <th></th>\n",
       "      <th>Country</th>\n",
       "      <th>standarized_country</th>\n",
       "    </tr>\n",
       "  </thead>\n",
       "  <tbody>\n",
       "    <tr>\n",
       "      <th>6595</th>\n",
       "      <td>ceylon</td>\n",
       "      <td>Unknown</td>\n",
       "    </tr>\n",
       "    <tr>\n",
       "      <th>6653</th>\n",
       "      <td>atlantic ocean</td>\n",
       "      <td>Unknown</td>\n",
       "    </tr>\n",
       "    <tr>\n",
       "      <th>2957</th>\n",
       "      <td>reunion</td>\n",
       "      <td>Unknown</td>\n",
       "    </tr>\n",
       "    <tr>\n",
       "      <th>2155</th>\n",
       "      <td>grand cayman</td>\n",
       "      <td>Unknown</td>\n",
       "    </tr>\n",
       "    <tr>\n",
       "      <th>6057</th>\n",
       "      <td>NaN</td>\n",
       "      <td>Unknown</td>\n",
       "    </tr>\n",
       "    <tr>\n",
       "      <th>5363</th>\n",
       "      <td>south atlantic ocean</td>\n",
       "      <td>Unknown</td>\n",
       "    </tr>\n",
       "    <tr>\n",
       "      <th>1998</th>\n",
       "      <td>turks &amp; caicos</td>\n",
       "      <td>Unknown</td>\n",
       "    </tr>\n",
       "    <tr>\n",
       "      <th>1524</th>\n",
       "      <td>reunion</td>\n",
       "      <td>Unknown</td>\n",
       "    </tr>\n",
       "    <tr>\n",
       "      <th>723</th>\n",
       "      <td>st helena, british overseas territory</td>\n",
       "      <td>Unknown</td>\n",
       "    </tr>\n",
       "    <tr>\n",
       "      <th>6423</th>\n",
       "      <td>pacific ocean</td>\n",
       "      <td>Unknown</td>\n",
       "    </tr>\n",
       "    <tr>\n",
       "      <th>5014</th>\n",
       "      <td>indian ocean</td>\n",
       "      <td>Unknown</td>\n",
       "    </tr>\n",
       "    <tr>\n",
       "      <th>4288</th>\n",
       "      <td>NaN</td>\n",
       "      <td>Unknown</td>\n",
       "    </tr>\n",
       "    <tr>\n",
       "      <th>5170</th>\n",
       "      <td>mid atlantic ocean</td>\n",
       "      <td>Unknown</td>\n",
       "    </tr>\n",
       "    <tr>\n",
       "      <th>2691</th>\n",
       "      <td>reunion</td>\n",
       "      <td>Unknown</td>\n",
       "    </tr>\n",
       "    <tr>\n",
       "      <th>1509</th>\n",
       "      <td>reunion</td>\n",
       "      <td>Unknown</td>\n",
       "    </tr>\n",
       "    <tr>\n",
       "      <th>3645</th>\n",
       "      <td>england</td>\n",
       "      <td>Unknown</td>\n",
       "    </tr>\n",
       "    <tr>\n",
       "      <th>2588</th>\n",
       "      <td>caribbean sea</td>\n",
       "      <td>Unknown</td>\n",
       "    </tr>\n",
       "    <tr>\n",
       "      <th>6693</th>\n",
       "      <td>coast of africa</td>\n",
       "      <td>Unknown</td>\n",
       "    </tr>\n",
       "    <tr>\n",
       "      <th>4272</th>\n",
       "      <td>red sea</td>\n",
       "      <td>Unknown</td>\n",
       "    </tr>\n",
       "    <tr>\n",
       "      <th>1514</th>\n",
       "      <td>reunion</td>\n",
       "      <td>Unknown</td>\n",
       "    </tr>\n",
       "    <tr>\n",
       "      <th>6630</th>\n",
       "      <td>NaN</td>\n",
       "      <td>Unknown</td>\n",
       "    </tr>\n",
       "    <tr>\n",
       "      <th>1865</th>\n",
       "      <td>scotland</td>\n",
       "      <td>Unknown</td>\n",
       "    </tr>\n",
       "    <tr>\n",
       "      <th>6436</th>\n",
       "      <td>atlantic ocean</td>\n",
       "      <td>Unknown</td>\n",
       "    </tr>\n",
       "    <tr>\n",
       "      <th>4419</th>\n",
       "      <td>south atlantic ocean</td>\n",
       "      <td>Unknown</td>\n",
       "    </tr>\n",
       "    <tr>\n",
       "      <th>5471</th>\n",
       "      <td>scotland</td>\n",
       "      <td>Unknown</td>\n",
       "    </tr>\n",
       "    <tr>\n",
       "      <th>5295</th>\n",
       "      <td>pacific ocean</td>\n",
       "      <td>Unknown</td>\n",
       "    </tr>\n",
       "    <tr>\n",
       "      <th>4749</th>\n",
       "      <td>atlantic ocean</td>\n",
       "      <td>Unknown</td>\n",
       "    </tr>\n",
       "    <tr>\n",
       "      <th>4413</th>\n",
       "      <td>admiralty islands</td>\n",
       "      <td>Unknown</td>\n",
       "    </tr>\n",
       "    <tr>\n",
       "      <th>4249</th>\n",
       "      <td>south pacific ocean</td>\n",
       "      <td>Unknown</td>\n",
       "    </tr>\n",
       "    <tr>\n",
       "      <th>3056</th>\n",
       "      <td>reunion</td>\n",
       "      <td>Unknown</td>\n",
       "    </tr>\n",
       "  </tbody>\n",
       "</table>\n",
       "</div>"
      ],
      "text/plain": [
       "                                    Country standarized_country\n",
       "6595                                 ceylon             Unknown\n",
       "6653                         atlantic ocean             Unknown\n",
       "2957                                reunion             Unknown\n",
       "2155                           grand cayman             Unknown\n",
       "6057                                    NaN             Unknown\n",
       "5363                   south atlantic ocean             Unknown\n",
       "1998                         turks & caicos             Unknown\n",
       "1524                                reunion             Unknown\n",
       "723   st helena, british overseas territory             Unknown\n",
       "6423                          pacific ocean             Unknown\n",
       "5014                           indian ocean             Unknown\n",
       "4288                                    NaN             Unknown\n",
       "5170                     mid atlantic ocean             Unknown\n",
       "2691                                reunion             Unknown\n",
       "1509                                reunion             Unknown\n",
       "3645                                england             Unknown\n",
       "2588                          caribbean sea             Unknown\n",
       "6693                        coast of africa             Unknown\n",
       "4272                                red sea             Unknown\n",
       "1514                                reunion             Unknown\n",
       "6630                                    NaN             Unknown\n",
       "1865                               scotland             Unknown\n",
       "6436                         atlantic ocean             Unknown\n",
       "4419                   south atlantic ocean             Unknown\n",
       "5471                               scotland             Unknown\n",
       "5295                          pacific ocean             Unknown\n",
       "4749                         atlantic ocean             Unknown\n",
       "4413                      admiralty islands             Unknown\n",
       "4249                    south pacific ocean             Unknown\n",
       "3056                                reunion             Unknown"
      ]
     },
     "execution_count": 31,
     "metadata": {},
     "output_type": "execute_result"
    }
   ],
   "source": [
    "desconocidos.sample(30)"
   ]
  },
  {
   "cell_type": "code",
   "execution_count": 32,
   "metadata": {},
   "outputs": [
    {
     "data": {
      "text/plain": [
       "117"
      ]
     },
     "execution_count": 32,
     "metadata": {},
     "output_type": "execute_result"
    }
   ],
   "source": [
    "df['standarized_country'].nunique()"
   ]
  },
  {
   "cell_type": "code",
   "execution_count": 33,
   "metadata": {},
   "outputs": [
    {
     "data": {
      "text/plain": [
       "4781             Bahamas\n",
       "3942             Unknown\n",
       "1867              Brazil\n",
       "2960       United States\n",
       "615                Egypt\n",
       "2294               Tonga\n",
       "6320         New Zealand\n",
       "2487       United States\n",
       "3306       United States\n",
       "4886           Australia\n",
       "3123               Tonga\n",
       "4140               Italy\n",
       "5428    Papua New Guinea\n",
       "3743       United States\n",
       "427           Seychelles\n",
       "4192       United States\n",
       "3790       United States\n",
       "4715              Mexico\n",
       "3225           Australia\n",
       "6207             Bahamas\n",
       "3006       United States\n",
       "1106       United States\n",
       "5830           Australia\n",
       "2825        South Africa\n",
       "2766       United States\n",
       "6432           Australia\n",
       "746            Australia\n",
       "6562              Mexico\n",
       "5485           Australia\n",
       "386        United States\n",
       "Name: standarized_country, dtype: object"
      ]
     },
     "execution_count": 33,
     "metadata": {},
     "output_type": "execute_result"
    }
   ],
   "source": [
    "df['standarized_country'].sample(30)"
   ]
  },
  {
   "cell_type": "code",
   "execution_count": 34,
   "metadata": {},
   "outputs": [],
   "source": [
    "mapeo_paises = {\n",
    "    'burma': 'Myanmar',\n",
    "    'reunion': 'Reunion',\n",
    "    'reunion island': 'Reunion',\n",
    "    'north pacific ocean': 'North Pacific Ocean',\n",
    "    'okinawa': 'Japan',\n",
    "    'turkey': 'Turkey',\n",
    "    'st helena, british overseas territory': 'United Kingdom',\n",
    "    'falkland islands': 'United Kingdom',\n",
    "    'andaman / nicobar islands': 'India',\n",
    "    'new britain': 'Papua New Guinea',\n",
    "    'england': 'United Kingdom',\n",
    "    'st martin': 'Saint Martin',\n",
    "    'scotland': 'United Kingdom',\n",
    "    'maldive islands': 'Maldives',\n",
    "    'the balkans': 'Balkans',\n",
    "    'atlantic ocean': 'Atlantic Ocean',\n",
    "    'ceylon': 'Sri Lanka',\n",
    "    'pacific ocean': 'Pacific Ocean',\n",
    "    'north atlantic ocean': 'North Atlantic Ocean',\n",
    "    'italy / croatia': 'Italy',\n",
    "    'caribbean sea': 'Caribbean',\n",
    "    'admiralty islands': 'Papua New Guinea',\n",
    "    'russia': 'Russia',\n",
    "    'micronesia': 'Micronesia',\n",
    "    'persian gulf': 'Persian Gulf',\n",
    "    'iran / iraq': 'Iran',\n",
    "    'tobago': 'Trinidad and Tobago',\n",
    "    'south atlantic ocean': 'South Atlantic Ocean',\n",
    "    'new guinea': 'Papua New Guinea',\n",
    "    'turks & caicos': 'Turks and Caicos Islands',\n",
    "    'san domingo': 'Dominican Republic',\n",
    "    'british isles': 'United Kingdom',\n",
    "    'red sea': 'Red Sea',\n",
    "    'indian ocean': 'Indian Ocean',\n",
    "    'trinidad & tobago': 'Trinidad and Tobago',\n",
    "    'columbia': 'Colombia',  \n",
    "    'egypt / israel': 'Egypt',\n",
    "    'cape verde': 'Cape Verde',\n",
    "    'west indies': 'Caribbean',  \n",
    "    'crete': 'Greece',  \n",
    "    'nevis': 'Saint Kitts and Nevis',  \n",
    "    'british west indies': 'Caribbean',  \n",
    "    'mid atlantic ocean': 'Mid Atlantic Ocean',  \n",
    "    'central pacific': 'Central Pacific Ocean',  \n",
    "    'british new guinea': 'Papua New Guinea',  \n",
    "    'diego garcia': 'British Indian Ocean Territory',  \n",
    "    'st. martin': 'Saint Martin',  \n",
    "    'curacao': 'Curaçao',  \n",
    "    'grand cayman': 'Cayman Islands', \n",
    "    'gulf of aden': 'Gulf of Aden',  \n",
    "    'southwest pacific ocean': 'Southwest Pacific Ocean', \n",
    "    'johnston island': 'United States', \n",
    "    'western samoa': 'Samoa',  \n",
    "    'st. maartin': 'Saint Martin',  \n",
    "    'united arab emirates (uae)': 'United Arab Emirates',  \n",
    "    'northern arabian sea': 'Northern Arabian Sea',  \n",
    "    'red sea / indian ocean': 'Red Sea',\n",
    "    'solomon islands / vanuatu': 'Solomon Islands',\n",
    "    'south pacific ocean': 'South Pacific Ocean',\n",
    "    'azores': 'Portugal',\n",
    "    'bay of bengal': 'Bay of Bengal',\n",
    "    'tasman sea': 'Tasman Sea',\n",
    "    'netherlands antilles': 'Curaçao',\n",
    "    'palestinian territories': 'Palestinian Territories',\n",
    "    'st kitts / nevis': 'Saint Kitts and Nevis',\n",
    "    'mid-pacific ocean': 'Mid-Pacific Ocean',\n",
    "    'south china sea': 'China',\n",
    "    'java': 'Indonesia',\n",
    "    'antigua': 'Antigua and Barbuda',\n",
    "    'equatorial guinea / cameroon': 'Equatorial Guinea',\n",
    "}\n"
   ]
  },
  {
   "cell_type": "code",
   "execution_count": 35,
   "metadata": {},
   "outputs": [],
   "source": [
    "df['standarized_country'] = df['Country'].map(mapeo_paises).fillna(df['standarized_country'])"
   ]
  },
  {
   "cell_type": "code",
   "execution_count": 36,
   "metadata": {},
   "outputs": [],
   "source": [
    "desconocidos = df[['Country', 'standarized_country']][df['standarized_country'] == 'Unknown']"
   ]
  },
  {
   "cell_type": "code",
   "execution_count": 37,
   "metadata": {},
   "outputs": [
    {
     "data": {
      "text/plain": [
       "(32, 2)"
      ]
     },
     "execution_count": 37,
     "metadata": {},
     "output_type": "execute_result"
    }
   ],
   "source": [
    "desconocidos.shape"
   ]
  },
  {
   "cell_type": "code",
   "execution_count": 38,
   "metadata": {},
   "outputs": [
    {
     "data": {
      "text/plain": [
       "0"
      ]
     },
     "execution_count": 38,
     "metadata": {},
     "output_type": "execute_result"
    }
   ],
   "source": [
    "df['standarized_country'].isnull().sum()"
   ]
  },
  {
   "cell_type": "code",
   "execution_count": 39,
   "metadata": {},
   "outputs": [
    {
     "data": {
      "text/html": [
       "<div>\n",
       "<style scoped>\n",
       "    .dataframe tbody tr th:only-of-type {\n",
       "        vertical-align: middle;\n",
       "    }\n",
       "\n",
       "    .dataframe tbody tr th {\n",
       "        vertical-align: top;\n",
       "    }\n",
       "\n",
       "    .dataframe thead th {\n",
       "        text-align: right;\n",
       "    }\n",
       "</style>\n",
       "<table border=\"1\" class=\"dataframe\">\n",
       "  <thead>\n",
       "    <tr style=\"text-align: right;\">\n",
       "      <th></th>\n",
       "      <th>Date</th>\n",
       "      <th>Country</th>\n",
       "      <th>State</th>\n",
       "      <th>Activity</th>\n",
       "      <th>Sex</th>\n",
       "      <th>Age</th>\n",
       "      <th>Deceased</th>\n",
       "      <th>standarized_country</th>\n",
       "    </tr>\n",
       "  </thead>\n",
       "  <tbody>\n",
       "    <tr>\n",
       "      <th>138</th>\n",
       "      <td>25-Sep-2022</td>\n",
       "      <td>south africa</td>\n",
       "      <td>Western Cape Province</td>\n",
       "      <td>Swimming</td>\n",
       "      <td>F</td>\n",
       "      <td>39</td>\n",
       "      <td>Y</td>\n",
       "      <td>South Africa</td>\n",
       "    </tr>\n",
       "    <tr>\n",
       "      <th>140</th>\n",
       "      <td>06-Sep-2022</td>\n",
       "      <td>bahamas</td>\n",
       "      <td>NaN</td>\n",
       "      <td>Snorkeling</td>\n",
       "      <td>F</td>\n",
       "      <td>58</td>\n",
       "      <td>Y</td>\n",
       "      <td>Bahamas</td>\n",
       "    </tr>\n",
       "    <tr>\n",
       "      <th>141</th>\n",
       "      <td>03-Sep-2022</td>\n",
       "      <td>usa</td>\n",
       "      <td>Hawaii</td>\n",
       "      <td>Swimming  or Snorkeling</td>\n",
       "      <td>F</td>\n",
       "      <td>51</td>\n",
       "      <td>N</td>\n",
       "      <td>United States</td>\n",
       "    </tr>\n",
       "    <tr>\n",
       "      <th>142</th>\n",
       "      <td>31-Aug-2022</td>\n",
       "      <td>australia</td>\n",
       "      <td>New South Wales</td>\n",
       "      <td>Surfing</td>\n",
       "      <td>M</td>\n",
       "      <td>14</td>\n",
       "      <td>N</td>\n",
       "      <td>Australia</td>\n",
       "    </tr>\n",
       "    <tr>\n",
       "      <th>143</th>\n",
       "      <td>17-Aug-2022</td>\n",
       "      <td>australia</td>\n",
       "      <td>New South Wales</td>\n",
       "      <td>Kayaking</td>\n",
       "      <td>M</td>\n",
       "      <td>NaN</td>\n",
       "      <td>N</td>\n",
       "      <td>Australia</td>\n",
       "    </tr>\n",
       "    <tr>\n",
       "      <th>...</th>\n",
       "      <td>...</td>\n",
       "      <td>...</td>\n",
       "      <td>...</td>\n",
       "      <td>...</td>\n",
       "      <td>...</td>\n",
       "      <td>...</td>\n",
       "      <td>...</td>\n",
       "      <td>...</td>\n",
       "    </tr>\n",
       "    <tr>\n",
       "      <th>6793</th>\n",
       "      <td>June 1721</td>\n",
       "      <td>italy</td>\n",
       "      <td>Sardinia</td>\n",
       "      <td>Swimming</td>\n",
       "      <td>M</td>\n",
       "      <td>NaN</td>\n",
       "      <td>Y</td>\n",
       "      <td>Italy</td>\n",
       "    </tr>\n",
       "    <tr>\n",
       "      <th>6794</th>\n",
       "      <td>26-Mar-1703</td>\n",
       "      <td>barbados</td>\n",
       "      <td>Southwest coast</td>\n",
       "      <td>Swimming</td>\n",
       "      <td>M</td>\n",
       "      <td>19</td>\n",
       "      <td>N</td>\n",
       "      <td>Barbados</td>\n",
       "    </tr>\n",
       "    <tr>\n",
       "      <th>6795</th>\n",
       "      <td>1700s</td>\n",
       "      <td>france</td>\n",
       "      <td>NaN</td>\n",
       "      <td>NaN</td>\n",
       "      <td>M</td>\n",
       "      <td>NaN</td>\n",
       "      <td>Y</td>\n",
       "      <td>France</td>\n",
       "    </tr>\n",
       "    <tr>\n",
       "      <th>6796</th>\n",
       "      <td>1700s</td>\n",
       "      <td>france</td>\n",
       "      <td>Côte d'Azur</td>\n",
       "      <td>Bathing</td>\n",
       "      <td>M</td>\n",
       "      <td>NaN</td>\n",
       "      <td>N</td>\n",
       "      <td>France</td>\n",
       "    </tr>\n",
       "    <tr>\n",
       "      <th>6797</th>\n",
       "      <td>1700s</td>\n",
       "      <td>barbados</td>\n",
       "      <td>NaN</td>\n",
       "      <td>Bathing</td>\n",
       "      <td>M</td>\n",
       "      <td>NaN</td>\n",
       "      <td>Y</td>\n",
       "      <td>Barbados</td>\n",
       "    </tr>\n",
       "  </tbody>\n",
       "</table>\n",
       "<p>6523 rows × 8 columns</p>\n",
       "</div>"
      ],
      "text/plain": [
       "             Date       Country                  State  \\\n",
       "138   25-Sep-2022  south africa  Western Cape Province   \n",
       "140   06-Sep-2022       bahamas                    NaN   \n",
       "141   03-Sep-2022           usa                 Hawaii   \n",
       "142   31-Aug-2022     australia        New South Wales   \n",
       "143   17-Aug-2022     australia        New South Wales   \n",
       "...           ...           ...                    ...   \n",
       "6793    June 1721         italy               Sardinia   \n",
       "6794  26-Mar-1703      barbados        Southwest coast   \n",
       "6795        1700s        france                    NaN   \n",
       "6796        1700s        france           Côte d'Azur    \n",
       "6797        1700s      barbados                    NaN   \n",
       "\n",
       "                     Activity Sex  Age Deceased standarized_country  \n",
       "138                  Swimming   F   39        Y        South Africa  \n",
       "140                Snorkeling   F   58        Y             Bahamas  \n",
       "141   Swimming  or Snorkeling   F   51        N       United States  \n",
       "142                   Surfing   M   14        N           Australia  \n",
       "143                  Kayaking   M  NaN        N           Australia  \n",
       "...                       ...  ..  ...      ...                 ...  \n",
       "6793                 Swimming   M  NaN        Y               Italy  \n",
       "6794                 Swimming   M   19        N            Barbados  \n",
       "6795                      NaN   M  NaN        Y              France  \n",
       "6796                  Bathing   M  NaN        N              France  \n",
       "6797                  Bathing   M  NaN        Y            Barbados  \n",
       "\n",
       "[6523 rows x 8 columns]"
      ]
     },
     "execution_count": 39,
     "metadata": {},
     "output_type": "execute_result"
    }
   ],
   "source": [
    "df"
   ]
  },
  {
   "cell_type": "markdown",
   "metadata": {},
   "source": [
    "### Columna State\n",
    "Aplicamos varias técnicas para intentar estandarizar el nombre de los estados."
   ]
  },
  {
   "cell_type": "code",
   "execution_count": 40,
   "metadata": {},
   "outputs": [
    {
     "data": {
      "text/plain": [
       "825"
      ]
     },
     "execution_count": 40,
     "metadata": {},
     "output_type": "execute_result"
    }
   ],
   "source": [
    "df['State'].nunique()"
   ]
  },
  {
   "cell_type": "code",
   "execution_count": 41,
   "metadata": {},
   "outputs": [
    {
     "data": {
      "text/plain": [
       "array(['Western Cape Province', nan, 'Hawaii', 'New South Wales',\n",
       "       'South Carolina', 'Westerm Australia', 'Florida', 'California',\n",
       "       'Cornwall', 'New York', 'Noirth Carolina', 'Okinawa', 'Bali',\n",
       "       'Hurghada, Red Sea Governorate', 'Western Australia',\n",
       "       'Ambergris Cay', 'Georgia', 'Phuket', 'Tahiti', 'Alabama',\n",
       "       'New Jersey', 'KZN', 'Isla De San Andres', 'South Island',\n",
       "       'Grand  Bahama Island', 'Queensland', 'Sonora', 'Guanacoste',\n",
       "       'KwaZulu-Natal', 'Quintana Roo', 'Victoria', 'São Paulo.',\n",
       "       'North Island', 'Turks and Caicos', 'Louisiana', 'Texas',\n",
       "       'Nova Scotia', 'Maryland', 'North Carolina', 'Pernambuco',\n",
       "       'Chanthaburi Province', 'Eastern Cape Province', 'BAHAMAS',\n",
       "       'Galapagos', 'Aqaba', 'West Sussex', 'Nouville', 'Ambergris Key',\n",
       "       'Westmoreland Parish', 'Marquesas', 'Loyalty Islands',\n",
       "       'South Australia', 'Maui', 'The Narrows', 'Raa Atoll', 'Oregon',\n",
       "       'South Sinai', 'South Province', ' Grand Bahama Island',\n",
       "       'Franklin County, Florida', 'Virgin Islands', 'Tasmania',\n",
       "       'Tuamotu Islands', 'Maine', 'Bahamas', 'Delaware', 'Abaco Islands',\n",
       "       'Muang district of Satun province, ', 'Canary Islands',\n",
       "       'Vanua Levu', 'Exumas', 'Southland', 'Phang Nga Province',\n",
       "       'Praslin', 'Central Province', 'Guerrero', 'Moorea', 'Baja ',\n",
       "       'Saint-Gilles', 'Guam', 'Northern Territory ', 'Cayman Islands',\n",
       "       'Rhode Island', 'Chatham Islands', 'Quinta Roo',\n",
       "       'Lucayan Archipelago', 'Bélep Islands', 'Noumea',\n",
       "       'Fernando de Noronha', 'Liaoning Province', 'New South Wales ',\n",
       "       'Upolo', 'St. Marys Parish', 'Massachusetts', 'County Cork',\n",
       "       'Chieti, Province', 'Guizhou Province',\n",
       "       'San Andres and Providencia Archipelago', 'The Exuma Cays',\n",
       "       'Colima', 'Hua Hin', 'Cocos Island', 'Alifu Alifu Atoll',\n",
       "       'New Providence', 'Alagoas', 'Boi Island, Victoria',\n",
       "       'Galapagos Islands', 'Sepang', 'Holquin Province',\n",
       "       'Pamplemousses ', ' Upolu Island', 'Shizuoka Prefecture',\n",
       "       'Castellón', 'Red Sea Protectorate', 'New Providence District',\n",
       "       '40 miles off Grand Bahama Island', 'Ascension Island', 'Majorca',\n",
       "       'Washington', 'Tabasco', 'Anjouan', 'Ibiza Island', 'South Devon',\n",
       "       'New Providence ', 'Sharjah, ', 'Baja California Sur', 'Saint-Leu',\n",
       "       'Luzon Island', 'Tamaulipas', 'Saint-Andre', 'Bimini', 'Tuamotos',\n",
       "       'North Province', 'New Providence Island', 'Alicante Province',\n",
       "       'Hong Kong', 'Kochi Prefecture', 'Isla Providencia', 'Suez',\n",
       "       'Grand Terre', 'Boa Vista Island', 'Santa Catarina State',\n",
       "       'Altagracia Province', 'Grand Cayman', 'Balneário Camboriú',\n",
       "       'Fujairah Emirate', 'Grand Canary Island', 'Inhambane Province',\n",
       "       'Alicante', 'Guanacaste', 'Bora Bora', 'Grand Bahama Island',\n",
       "       'Le Port', 'Rangiroa', 'Saint-Gilles-les-Bains', 'Sardinia',\n",
       "       'Sinaloa', 'Central Tuamotu', 'd’Étang-Salé', 'Granada',\n",
       "       'Cargados Carajos Shoals (St. Brandon)', 'Catalonia', 'West End',\n",
       "       'Atsumi peninsula', 'Palmyra Atoll', 'Wallis and Futuna',\n",
       "       'Baie de Sainte-Marie', 'Society Islands', 'Trinidad',\n",
       "       'Okinawa Prefecture', '740 miles SE of Tarawa Atoll',\n",
       "       'Southern District', 'Bay of Biscay', 'Exuma Islands',\n",
       "       'Saint-Paul', 'Taitung ', 'Kingston Parish', 'Santa Cruz Island',\n",
       "       'Tuamotus', 'Eleuthera', 'St. Catherine', 'Palawan',\n",
       "       'Mercury Islands', 'Delta', \"Vava'u\", 'Inner Hebrides',\n",
       "       'Saint Leu', 'Trois-Bassins', 'British Colombia', 'Saint-Benoit',\n",
       "       'Tabuk Province', 'Antofagasta Province', \"St John's\",\n",
       "       'Santa Elena', 'East New Britain', 'Bois-Blanc ', 'Moray',\n",
       "       'Puerto Rico', 'Samaná Province', 'Coast Province',\n",
       "       'Primorsky Krai',\n",
       "       'Peter the Great Bay, Khasan, Primorsky Krai (Far East)',\n",
       "       'Telyakovsky Bay, Khasan,  Primorsky Krai (Far East)', 'Sucre',\n",
       "       'Middle Caicos', 'Caicos Bank', 'San Andrés archipelago', 'Kedah',\n",
       "       'Umm al Qaywayan Province', 'Vitu Levu', 'South Sinai Peninsula',\n",
       "       ' Loyalty Islands', 'Saint Gilles ', 'Virginia', \"Ha'api \",\n",
       "       'Western Province', 'Jeju Province', 'Binh Dinh Province',\n",
       "       'Antsiranana Province', 'Sinai Peninsula', 'Off Vanua Levu',\n",
       "       'Merizo', 'Rio Grande Do Sul', 'Dubai', 'Torres Strait',\n",
       "       'Eastern Province', 'Eastern Cape  Province', 'Maputo Province',\n",
       "       'Bocas', 'Fife', 'Devon', 'Makira-Ulawa Province', 'Mombasa',\n",
       "       'Catalunya', 'St. Johns Reef', 'Off Green Island', 'North Region',\n",
       "       'Batangas province', 'Strait of Malacca', 'Guantanamo Province',\n",
       "       'Maranhão', 'Red Sea', 'Batanes Provine', 'Luzon',\n",
       "       'Northern Territory', ' Split-Dalmatia Count,', 'North Devon',\n",
       "       'US Virgin Islands', 'San Carlos', 'Cabo San Lucas', 'Sussex',\n",
       "       'Bahia', 'Easter Ross', 'Guerro', 'Yasawa Islands',\n",
       "       'Northern Bahamas', 'Tokyo Bay', 'Baja California', 'Green Bay',\n",
       "       'Marovo Lagoon', 'Territory of Cocos (Keeling) Islands',\n",
       "       'Oslo Fjord', 'Kent', 'Bird Island', 'Providenciales',\n",
       "       'Bimini Islands', 'Muhafazat Hadramawt', 'Cook islans',\n",
       "       'Surigao del Norte', 'Between Somalia & Yemen', 'Ambergris Caye',\n",
       "       'Saint-Pierre', 'Kentucky', 'Andros Islands', 'Western Area',\n",
       "       '300 miles from Antigua', '800 miles from land',\n",
       "       '600 nm west of the Canary Islands', 'Simpson Bay', 'East Wall',\n",
       "       'Inner Islands', 'Shanghai', 'Malampa Province',\n",
       "       \"South Ch'ungch'ong Province\", 'Bay Islands', 'New Mexico',\n",
       "       'Santa Isabel Province', 'Santiago de Cuba Province',\n",
       "       'Camaguey Province', 'Conservatória District', 'South Carolina ',\n",
       "       'Kuril Islands in the Pacific', 'Wakayama Prefecture',\n",
       "       \"Nuku'alofa\", 'Saint-Benoît',\n",
       "       'South Island, near Karitane north of Dunedin', 'Rocha',\n",
       "       'Northlands', 'Anzoategui', 'Cook Islands', 'Tamil Nadu',\n",
       "       'Pearl Islands', 'Taveuni', 'Johnston Atoll', 'Baatan',\n",
       "       'Rio de Janeiro', 'Nueva Esparta', 'North Pacific coast',\n",
       "       'Caroline Islands', 'Cheshire', 'Louisiade Archipelago',\n",
       "       'KwaZulu-Natal between Port Edward and Port St Johns',\n",
       "       'Milne Bay Province', 'Cikobia Island (north of Vanua Levu)',\n",
       "       'Rayong Province', 'Zamboanga del Sur Province',\n",
       "       'Rio Grande de Norte',\n",
       "       'Off the western coast of peninsular Malaysia', 'New Brunswick',\n",
       "       'Miyako Island', 'Alaska', 'Minerva Reef', 'Madang Province',\n",
       "       'Worcestershire', 'Phang nga Province', 'Alinglaplap Atoll',\n",
       "       'Adriatic Sea', 'Ralik Chain', 'Grand Baie',\n",
       "       \"L' Etang Salé-les-Bains\", 'Southern Japan', 'Cap Vert Peninsula',\n",
       "       'Marches region', 'Berry Islands', 'Transvaal', 'Gaza',\n",
       "       \"Grand'Anse\", 'Miyako', \"L'Etang-Sale\", 'Chatham Islands ',\n",
       "       'South Sinai, Gulf of Aqaba', 'Cat Cay', 'Missouri',\n",
       "       '12 miles off the north coast', 'Saint-Paul ',\n",
       "       'Chatham Islands, east of New  Zealand', 'Saint-Denis', 'Vava’u',\n",
       "       'Mississippi', 'Clearwater Bay', 'New Territories',\n",
       "       'Aichi Prefecture', 'Kagoshima Prefecture', 'Saint-Joseph',\n",
       "       'Banaadir Region', 'La Libertad', 'Costa Blanca', 'Walkers Cay',\n",
       "       'On the Kowloon penisula, south of Sai Kung', 'Ehime Prefecture',\n",
       "       'Tongapatu Group', 'West Africa', 'Wakaya Island',\n",
       "       'North Carolina ', 'Mexico / Caribbean Sea', 'Antarctic Ocean',\n",
       "       'La Saline-les-Bains', 'Sea of Japan', 'Tavenui', 'Ligurian Sea',\n",
       "       \"L'Etang-Salé\", 'Kowloon Peninsula', 'Port Shelter',\n",
       "       'Laucala Island', 'Sainte-Marie', 'Great Exuma Island',\n",
       "       'Sainte-Suzanne', 'Tuscany', 'Tyrrhenian Sea', 'New Ireland',\n",
       "       'Valpariso Province', 'Manfredonia ', 'Tokyo Prefecture',\n",
       "       'Saint-Louis', 'Mindoro', 'Between DR and Puerto Rico',\n",
       "       'Between Honiara & Isabel Island', 'Florida Straits', 'Cádiz',\n",
       "       'Sicily', 'Andikira Fokithes', 'Central Philippines',\n",
       "       'Northwest Italy', 'English Channel', 'North & South Carolina',\n",
       "       'Carolina coast', 'Kumamoto Prefecture', 'Biserta',\n",
       "       'Saint-Philippe', 'Chungnam', 'Eronogo Region', 'Coquimbo',\n",
       "       'Pagasitikos Gulf', \"St. Mary's Parish\", 'Romblon Province',\n",
       "       'Lamu Archipelago', 'Los Vilos', 'Island of Kos', \"Ha'api\",\n",
       "       'Madeira Islands', 'Ho Ha Wan Marine Park', 'Southern Thailand',\n",
       "       'Ralik Archipelago', 'South China Sea 200 miles from Hong Kong',\n",
       "       'Reggio Calabria Province', 'Mirs Bay ', 'Genoa Province',\n",
       "       ' Split-Dalmatia County', 'Florida ',\n",
       "       'Primorje-Gorski Kotar County ', 'Aulong Island',\n",
       "       'Western Caroline Islands', 'Upolu Island', 'Antibes',\n",
       "       'Illeginni Atoll', 'Istria County', 'Between Beira & Maputo',\n",
       "       'Istria ', 'Khuzestan Province', 'Inhambe Province',\n",
       "       'Namonuito Atoll', 'Eastern Caroline Islands',\n",
       "       'Western Caroline Islands (North Pacific Ocean)', 'Caribbean Sea',\n",
       "       'St. Andrew Parish', 'Limpopo River', 'New Ireland Province',\n",
       "       'Zadar County', 'Basrah', 'Clarendon', 'Moro Gulf', 'Johor',\n",
       "       'Magdalena Department', 'Gulf Province', 'Morobe Province',\n",
       "       'Limón Province', 'Rombion Province', 'Veracruz',\n",
       "       'Brindisi Province', 'Kagawa Prefecture', 'Liguria', 'Hamilton',\n",
       "       'Out Islands', 'Mugla Province', 'Gibraltar', 'New Britain',\n",
       "       'Bay of Maputo', 'Duke of York Islands', 'Taranto province',\n",
       "       'Northern Taiwan', 'Admiralty Islands, Manus Province',\n",
       "       'North Sumatra', \"250 miles southwest of O'ahu, Hawaii\",\n",
       "       'West coast', 'East Sepik', 'Near Bougainville (North Solomons)',\n",
       "       'East of the Gulf of Aqaba', 'Bougainville (North Solomons)',\n",
       "       'Victoria ', 'Okayama Prefecture', 'San Blas', 'Connecticut',\n",
       "       'Lau Group', 'Caribbean Coast', 'Vita Levu', 'San Blas Islands',\n",
       "       'Puntarenas Province', 'Lomaloma, Lau',\n",
       "       'Between Southampton & Canary Islands',\n",
       "       'South Coast, East New Britain', ' Lau Province', 'Ysabel Island',\n",
       "       'Santo Domingo', 'San Blas coast', 'Thessaly',\n",
       "       'Lomaiviti  Island Group', 'Rodrigues', 'Manus Island',\n",
       "       'Pinas Bay', 'Grand Turk Island', 'Off coast of West Africa',\n",
       "       'Sharon', 'Antalya Province', 'Northern District',\n",
       "       'New Ireland Province, Bismarck Archipelago', 'Cyclades',\n",
       "       'Viti Levu', 'Off the Coromandel Peninsula, North Island',\n",
       "       'Madang', 'Guadalcanal Province', '10ºS, 142ºE', 'Kwajalein Atoll',\n",
       "       'East Flores', 'Western Luzon Island', 'Shefa Province',\n",
       "       '165  miles from Bermuda',\n",
       "       '25 km off the coast of Iran & 483km from mouth of Persian Gulf',\n",
       "       'Venice Province', 'Sandaun Province', 'Anatolia',\n",
       "       'East New Britain Province', 'United Arab Emirates',\n",
       "       'Wake Island (EnenKio)', '19S, 178?E', 'Pennsylvania',\n",
       "       '9.35N 79.35W', 'Roncador Bank', 'Western District',\n",
       "       'Enroute from Suez to Aden (Yemen)',\n",
       "       '180 miles southeast of Okinawa', 'Eniwetok Atoll',\n",
       "       'Cap-Vert Peninsula', 'Delagoa Bay', 'In the English Channel ',\n",
       "       'Cook Strait', 'Unknown, treated at Wick, SCOTLAND',\n",
       "       'Corregidor Island', 'Paget', '33N, 68W', 'Casamance',\n",
       "       'Madang (WO)', 'Pacific coast', 'St. Georges ',\n",
       "       'Eastern  Province', 'Northwest of Viti Levu',\n",
       "       'West New Britain Province', 'Rigo subdistrict', 'Masbate',\n",
       "       '400 miles southeast of Sri Lanka', 'Lomaiviti Province', 'Kadavu',\n",
       "       'Leyte Island', 'Orissa', 'Guerrrero', 'Hokkaido Prefecture',\n",
       "       'North Palawan', 'Queaon', 'Istria', 'PANAMA',\n",
       "       'In the Gulf Stream ', 'Mersin Province', 'Guyamas',\n",
       "       'Between England & South Africa', 'Mindanao',\n",
       "       ' Kikori River mouth', 'South Chungcheong Province',\n",
       "       'Ahirkapi coast', 'Tutuila Island', 'Primorje-Gorski Kotar County',\n",
       "       'Between Hawaii & Wake Island', 'Taipei Hsien',\n",
       "       'Ibaraki Prefecture', 'South Pacific Ocean', 'Canal Zone',\n",
       "       'Honiara', 'Havana Province', 'Karun River',\n",
       "       'Abau Subdistrict,Central Province',\n",
       "       'New Britain, Bismarck Archipelago', 'Estuaire Province',\n",
       "       'Near Dakar, Cap Vert Peninsula',\n",
       "       'Near the Andaman & Nicobar Islands', 'Mozambique Channel',\n",
       "       'Tyrrenian Sea', 'Congreve Channel', 'St. Thomas Bay', 'Madeira',\n",
       "       'Between Comores & Madagascar', 'Corfu Island',\n",
       "       '1000 miles west of Hawaii', 'Izo Islands',\n",
       "       ' Primorje-Gorski Kotar County', 'Open sea', 'Aden',\n",
       "       'New Ireland, Bismarck Archipelago', '18S / 50E', 'Illinois',\n",
       "       'Isles del Rosario', 'Wake Island', 'Isle of Man',\n",
       "       'Nagasaki Prefecture', 'Liguaria', 'Slovenia', 'South shore ',\n",
       "       'Buenos Aires Province', 'Gulf of Panama', 'Genoa  Province',\n",
       "       'Abau Sub District, Central Province', 'Teramo', 'Red Sea State',\n",
       "       'Curacao', 'Port Louis Province', 'Montserrado', 'Bay of Maputu',\n",
       "       'Sofala Province', 'Salerno', 'Salerno Province', 'Taranto',\n",
       "       ' La Libertad', 'Sago Prefecture', 'Savona', 'Southern Province',\n",
       "       'Jakarta Harbour', 'Singapore Harbor', 'Calabria',\n",
       "       'Shatt-el-Arab River', 'Shatt-al-Arab River',\n",
       "       'Calvados Archipelago', 'Shat-Al-Arab River',\n",
       "       'Between Kwajalein Atoll & Johnston Island', 'Attica',\n",
       "       'Adana Province', 'Bandar Ma’shur sea inlet', 'Saipan',\n",
       "       'Carpathian Sea', 'Kwajalein', 'Dar-es-Salaam ',\n",
       "       '\"Head of the Gulf\"', 'Ryukyu', ' North Carolina',\n",
       "       'In transit between Tinian and Leyte', 'Northern Java', 'Tel Aviv',\n",
       "       'Colon Province', '300 miles east of Luzon',\n",
       "       'Bernardino Strait near Gulf of Leyte',\n",
       "       'Off Samar Island in the Gulf of Leyte',\n",
       "       'Lake Nicaragua (fresh water)', 'Pacific Ocean',\n",
       "       'Near the Fiji Islands', '40 miles south of Naples ',\n",
       "       'Northwest of Papua New Guinea', 'Between Hawaii and U.S.A.',\n",
       "       'Makora-Ulawa Province', 'Midway Atoll',\n",
       "       '300 miles east of St. Thomas (Virgin Islands)',\n",
       "       'West of Ceylon (Sri  Lanka)', 'East Java', 'Camiguin Island',\n",
       "       'Cay Sal Bank', '(Southwestern Pacific)', 'Panama City',\n",
       "       'Off Libya', 'Off coast of Ecuador', 'Trelawney Province',\n",
       "       'In Convoy OB 274', 'New Georgia', 'Panama Bay (Pacific Ocean)',\n",
       "       'Bwagaoia', 'Western Papuan Gulf', 'Torres Strait ', 'Carabobo',\n",
       "       'Ascension Bay', 'North China', 'Lower San Juan River',\n",
       "       'Nicoya Peninsula', 'Basrah City', 'West Bengal', 'Queensland ',\n",
       "       'Argyllshire', 'Arran', 'Argyll', 'Fishing Grounds',\n",
       "       'Newfoundland', 'Isle of Wight', 'Makira-Uluwa Province',\n",
       "       'Elqui Province', 'Istanbul', 'St Michael Parish',\n",
       "       'Barlavento Islands', 'Viti Levu Island', 'Bay of Fundy', 'Manila',\n",
       "       'French Southern Territories', 'Niua ', 'Black River',\n",
       "       'Phoenix Islands', 'Cienfuegos Province', 'Valencia',\n",
       "       'Santiago Island', 'Near Puntarenas', 'Porto Seguro',\n",
       "       'Salinas Bay', 'Golfo di Genova in the Ligurian Sea',\n",
       "       'Sants-Montjic', 'South of the Equator ', 'Bay of Monaco',\n",
       "       'Valencia ', 'Vancouver',\n",
       "       '2 to 3 miles off Taboguilla Island, Pacific Ocean', 'Dorset',\n",
       "       '150 miles offshore', 'Galica', 'Demerara County', 'Vera Cruz',\n",
       "       ' Manila Bay', 'Lucy', 'East Yorkshire', 'Cape Haitien', 'Leyte',\n",
       "       'Halifax', 'Turtle Bogue',\n",
       "       '60 miles north of San Domingo in the West Indies', 'Colon',\n",
       "       'Off Ireland', 'Mediterranean Sea', 'Gran Canaria',\n",
       "       'Apolima Strait', 'Essequibo', 'Lagos ', '5aint-Denis',\n",
       "       'Viti Levu group', 'Balearics', 'Málaga ', 'Georges Bank',\n",
       "       'Zambesi River', 'Colón Province', '30 nm from Singapore',\n",
       "       'Andalucia', 'Sfax', 'South Atlantic Ocean', 'Galicia',\n",
       "       'Gulf of Suez', 'Java', 'Tiburon Peninsula', 'Oaxaca',\n",
       "       'Harare Province', 'Khánh Hòa Province', 'Maluku Province',\n",
       "       'Suez Canal', ' Nusa Tenggara', 'Between Noumea & Sydney',\n",
       "       'Villa Clara Province', 'Ancona Province', 'Quezon',\n",
       "       'Rio San Juan', 'Southern Cyprus', 'Syracuse', 'Western Viscayas',\n",
       "       'Mindoro Occidental', 'Negros ', 'Imperia Province', 'Muala',\n",
       "       'East coast', 'Ratak ', 'Socotra Islands', 'Off Cape Haitien',\n",
       "       'Moluccas', 'Bocas del Toro', 'Provence', 'Bay of Campeche',\n",
       "       'Rangoon', 'Bay of Bengal', 'Bayelsa State', 'South Island?',\n",
       "       'Norfolk Island', 'Brittany', 'Line Islands', 'Woodlark Islands',\n",
       "       'Munxar Reef', 'Between Perth & Colombo', 'Gujarat', 'Cortés',\n",
       "       'Gulf of California',\n",
       "       'Somewhere between Philadelphia and Hiogo, Japan', ' New Jersey',\n",
       "       \"Côte d'Azur  \", 'Maldonado coast', 'Western Banks',\n",
       "       'Andaman Islands', 'Off the coast of West Africa',\n",
       "       'Misamis Oriental', 'Strait of Messina', 'Hoogly River',\n",
       "       'Cyclades archipelago', 'Mount Lebanon',\n",
       "       'Between Hastings & Fairlight, Sussex', 'Veracruz ',\n",
       "       'Gilbert Islands', 'Lomaiviti Provine',\n",
       "       'Off the coast of South America', '22ºN, 88ºE',\n",
       "       'Matanzas Province (north coast)', 'Alpes Maritime', 'Edinburgh',\n",
       "       'Eastern Catalona', '300 miles east of Mauritius',\n",
       "       'Foveaux Strait', 'Sumatra', 'Conakry Region', 'Corfu', 'Malaga',\n",
       "       'Bonin Islands', 'Fernando Po Island', 'Mangaia Island',\n",
       "       'New York ', 'Corfu ', 'Between Australia & USA', 'Tongatapu',\n",
       "       'Norfolk', 'Island of St. Thomas', 'Sanma Province',\n",
       "       \"35º39 : 165º8'\", 'CUBA', 'Western Area ', 'Paraiba', 'Cape Coast',\n",
       "       'Cumberland', 'Rivers State', 'Maharashtra', 'St. Anne',\n",
       "       'St Helena', \"Côte d'Azur \", 'Skagerrak arm of the North Sea',\n",
       "       'Las Perlas archipelago', 'Southwest coast'], dtype=object)"
      ]
     },
     "execution_count": 41,
     "metadata": {},
     "output_type": "execute_result"
    }
   ],
   "source": [
    "df['State'].unique()"
   ]
  },
  {
   "cell_type": "code",
   "execution_count": 42,
   "metadata": {},
   "outputs": [],
   "source": [
    "# Reemplazar minisculas por mayusculas\n",
    "df['State'] = df['State'].str.upper()\n",
    "\n",
    "# Eliminar espacios en las celdas\n",
    "df['State'] = df['State'].str.strip()\n",
    "\n",
    "# Reemplazar celdas vacias por NAN\n",
    "df['State'] = df['State'].replace({''}, 'NaN')"
   ]
  },
  {
   "cell_type": "code",
   "execution_count": 43,
   "metadata": {},
   "outputs": [
    {
     "data": {
      "text/plain": [
       "796"
      ]
     },
     "execution_count": 43,
     "metadata": {},
     "output_type": "execute_result"
    }
   ],
   "source": [
    "df['State'].nunique()"
   ]
  },
  {
   "cell_type": "markdown",
   "metadata": {},
   "source": [
    "### Columna Activity\n",
    "\n",
    "Aplicamos varias técnicas para intentar estandarizar las actividades posibles."
   ]
  },
  {
   "cell_type": "code",
   "execution_count": 44,
   "metadata": {},
   "outputs": [
    {
     "data": {
      "text/plain": [
       "array(['Swimming', 'Snorkeling', 'Swimming  or Snorkeling', ...,\n",
       "       \"a corsair's boat was overturned\", 'Washing himself',\n",
       "       'Fell overboard from a frigate & was swallowed by a shark. The captain fired a gun at the shark, and \"the creature cast the man out of his throat.\"'],\n",
       "      dtype=object)"
      ]
     },
     "execution_count": 44,
     "metadata": {},
     "output_type": "execute_result"
    }
   ],
   "source": [
    "df['Activity'].unique()"
   ]
  },
  {
   "cell_type": "code",
   "execution_count": 45,
   "metadata": {},
   "outputs": [
    {
     "data": {
      "text/plain": [
       "Surfing                                                                                                                                                 1089\n",
       "Swimming                                                                                                                                                 923\n",
       "Fishing                                                                                                                                                  465\n",
       "Spearfishing                                                                                                                                             369\n",
       "Wading                                                                                                                                                   164\n",
       "                                                                                                                                                        ... \n",
       "Picking up shark by the tail                                                                                                                               1\n",
       "Wading & pushing dinghy toward  the shallows                                                                                                               1\n",
       "Diving. Shark “swallowed’ his hand, so he threw his other around the shark and went “shark-back riding” for 30 yards until the shark opened its jaws       1\n",
       "Body surfing?                                                                                                                                              1\n",
       "Fell overboard from a frigate & was swallowed by a shark. The captain fired a gun at the shark, and \"the creature cast the man out of his throat.\"         1\n",
       "Name: Activity, Length: 1506, dtype: int64"
      ]
     },
     "execution_count": 45,
     "metadata": {},
     "output_type": "execute_result"
    }
   ],
   "source": [
    "df['Activity'].value_counts()"
   ]
  },
  {
   "cell_type": "code",
   "execution_count": 46,
   "metadata": {},
   "outputs": [
    {
     "data": {
      "text/plain": [
       "474"
      ]
     },
     "execution_count": 46,
     "metadata": {},
     "output_type": "execute_result"
    }
   ],
   "source": [
    "df['Activity'].isnull().sum()"
   ]
  },
  {
   "cell_type": "code",
   "execution_count": 47,
   "metadata": {},
   "outputs": [],
   "source": [
    "# Reemplazar valores NaN con 'Unknown'\n",
    "df['Activity'].fillna('Unspecific', inplace=True)\n",
    "\n",
    "# Convertir todo a minúsculas y eliminar espacios en blanco al inicio y final\n",
    "df['Activity'] = df['Activity'].str.lower().str.strip()"
   ]
  },
  {
   "cell_type": "markdown",
   "metadata": {},
   "source": [
    "Mediante expresiones regulares intentamos estandarizar al máximo posible. Aunque perdemos algún dato en realidad ganamos información. Aunque antes había menos nulos, los no nulos aportaban una información imposible de analizar."
   ]
  },
  {
   "cell_type": "code",
   "execution_count": 48,
   "metadata": {},
   "outputs": [],
   "source": [
    "\n",
    "# Definir una función para aplicar las expresiones regulares\n",
    "def standardize_activity(activity):\n",
    "    if re.search(r'swim|swimming', activity):\n",
    "        return 'swimming'\n",
    "    elif re.search(r'surf|surfing', activity):\n",
    "        return 'surfing'\n",
    "    elif re.search(r'dive|diving|snorkeling', activity):\n",
    "        return 'diving'\n",
    "    elif re.search(r'fish|fishing', activity):\n",
    "        return 'fishing'\n",
    "    elif re.search(r'kayak|canoe|paddle', activity):\n",
    "        return 'kayaking'\n",
    "    elif re.search(r'board|boat', activity):\n",
    "        return 'boarding'\n",
    "    elif re.search(r'wade|wading', activity):\n",
    "        return 'wading'\n",
    "    else:\n",
    "        return 'Unspecific'"
   ]
  },
  {
   "cell_type": "code",
   "execution_count": 49,
   "metadata": {},
   "outputs": [],
   "source": [
    "# Aplicar la función a la columna 'Activity'\n",
    "df['Activity'] = df['Activity'].apply(standardize_activity)"
   ]
  },
  {
   "cell_type": "code",
   "execution_count": 50,
   "metadata": {},
   "outputs": [
    {
     "data": {
      "text/plain": [
       "Unspecific    1504\n",
       "surfing       1377\n",
       "fishing       1179\n",
       "swimming      1172\n",
       "diving         679\n",
       "boarding       340\n",
       "wading         173\n",
       "kayaking        99\n",
       "Name: Activity, dtype: int64"
      ]
     },
     "execution_count": 50,
     "metadata": {},
     "output_type": "execute_result"
    }
   ],
   "source": [
    "# Verificar los resultados\n",
    "df['Activity'].value_counts()"
   ]
  },
  {
   "cell_type": "markdown",
   "metadata": {},
   "source": [
    "### Columna Sex\n",
    "\n",
    "Aplicamos varias técnicas para estandarizar la categoría a 3 posibles datos: F, M, Unknown."
   ]
  },
  {
   "cell_type": "code",
   "execution_count": 51,
   "metadata": {},
   "outputs": [
    {
     "data": {
      "text/plain": [
       "array(['F', 'M', nan, ' M', 'M ', 'lli', 'M x 2', 'N', '.'], dtype=object)"
      ]
     },
     "execution_count": 51,
     "metadata": {},
     "output_type": "execute_result"
    }
   ],
   "source": [
    "# Verificar valores unicos\n",
    "df['Sex'].unique()"
   ]
  },
  {
   "cell_type": "code",
   "execution_count": 52,
   "metadata": {},
   "outputs": [
    {
     "data": {
      "text/plain": [
       "478"
      ]
     },
     "execution_count": 52,
     "metadata": {},
     "output_type": "execute_result"
    }
   ],
   "source": [
    "# Verificar valores faltantes\n",
    "df['Sex'].isnull().sum()"
   ]
  },
  {
   "cell_type": "code",
   "execution_count": 53,
   "metadata": {},
   "outputs": [],
   "source": [
    "# Reemplazar valores NaN con 'Unknown'\n",
    "df['Sex'].fillna('Unknown', inplace=True)\n",
    "# Eliminar espacios en blanco al inicio y final\n",
    "df['Sex'] = df['Sex'].str.strip()"
   ]
  },
  {
   "cell_type": "code",
   "execution_count": 54,
   "metadata": {},
   "outputs": [],
   "source": [
    "# Creamos un diccionario de remplazos teniendo en cuenta los valores que hemos identificado\n",
    "dic_remplazos = {'M x 2': 'M', 'lli': 'M', 'N': 'M', '.': 'Unknown'}\n",
    "# Reemplazar \n",
    "df['Sex'] = df['Sex'].replace(dic_remplazos)\n",
    "\n"
   ]
  },
  {
   "cell_type": "code",
   "execution_count": 55,
   "metadata": {},
   "outputs": [
    {
     "data": {
      "text/plain": [
       "M          5315\n",
       "F           729\n",
       "Unknown     479\n",
       "Name: Sex, dtype: int64"
      ]
     },
     "execution_count": 55,
     "metadata": {},
     "output_type": "execute_result"
    }
   ],
   "source": [
    "# Verificar resultados\n",
    "df['Sex'].value_counts()"
   ]
  },
  {
   "cell_type": "markdown",
   "metadata": {},
   "source": [
    "### Columna Age\n",
    "\n",
    "Pasamos la edad a formato numérico. Perdemos algunos datos, pero ganamos información."
   ]
  },
  {
   "cell_type": "code",
   "execution_count": 56,
   "metadata": {},
   "outputs": [
    {
     "data": {
      "text/plain": [
       "2709"
      ]
     },
     "execution_count": 56,
     "metadata": {},
     "output_type": "execute_result"
    }
   ],
   "source": [
    "# Verificar valores faltantes\n",
    "df['Age'].isnull().sum()"
   ]
  },
  {
   "cell_type": "code",
   "execution_count": 57,
   "metadata": {},
   "outputs": [
    {
     "data": {
      "text/plain": [
       "792         NaN\n",
       "3242         30\n",
       "162          28\n",
       "301           7\n",
       "4296         12\n",
       "417          24\n",
       "739         NaN\n",
       "268           7\n",
       "5761         17\n",
       "3526        NaN\n",
       "5109         20\n",
       "4541        NaN\n",
       "1129        NaN\n",
       "5857        NaN\n",
       "166          68\n",
       "2061         24\n",
       "4042         35\n",
       "4837         12\n",
       "2641    23 & 20\n",
       "827          36\n",
       "2754        NaN\n",
       "601          17\n",
       "1340         25\n",
       "6503        NaN\n",
       "5352        NaN\n",
       "822          29\n",
       "6579        NaN\n",
       "2198          6\n",
       "6132         23\n",
       "1551         46\n",
       "Name: Age, dtype: object"
      ]
     },
     "execution_count": 57,
     "metadata": {},
     "output_type": "execute_result"
    }
   ],
   "source": [
    "# Verificar el tipo de datos de la variable\n",
    "df['Age'].sample(30)"
   ]
  },
  {
   "cell_type": "code",
   "execution_count": 58,
   "metadata": {},
   "outputs": [],
   "source": [
    "# Convertir la columna 'Age' a numérica, con valores no numéricos convertidos a NaN\n",
    "df['Age'] = pd.to_numeric(df['Age'], errors='coerce')"
   ]
  },
  {
   "cell_type": "code",
   "execution_count": 59,
   "metadata": {},
   "outputs": [
    {
     "data": {
      "text/plain": [
       "dtype('float64')"
      ]
     },
     "execution_count": 59,
     "metadata": {},
     "output_type": "execute_result"
    }
   ],
   "source": [
    "# Verificar el tipo de datos de la variable\n",
    "df['Age'].dtype"
   ]
  },
  {
   "cell_type": "code",
   "execution_count": 60,
   "metadata": {},
   "outputs": [
    {
     "data": {
      "text/plain": [
       "2833"
      ]
     },
     "execution_count": 60,
     "metadata": {},
     "output_type": "execute_result"
    }
   ],
   "source": [
    "# Verificar valores faltantes\n",
    "df['Age'].isnull().sum()"
   ]
  },
  {
   "cell_type": "markdown",
   "metadata": {},
   "source": [
    "### Columna Deceased\n",
    "\n",
    "Aplicamos varias técnicas para estandarizar la categoría a 3 posibles datos: Y, N, Unknown."
   ]
  },
  {
   "cell_type": "code",
   "execution_count": 61,
   "metadata": {},
   "outputs": [
    {
     "data": {
      "text/plain": [
       "array(['Y', 'N', 'M', 'n', nan, 'Nq', 'F', 'UNKNOWN', 2017, 'Y x 2', ' N',\n",
       "       'N ', 'y'], dtype=object)"
      ]
     },
     "execution_count": 61,
     "metadata": {},
     "output_type": "execute_result"
    }
   ],
   "source": [
    "# Verificar valores unicos\n",
    "df['Deceased'].unique()"
   ]
  },
  {
   "cell_type": "code",
   "execution_count": 62,
   "metadata": {},
   "outputs": [
    {
     "data": {
      "text/plain": [
       "508"
      ]
     },
     "execution_count": 62,
     "metadata": {},
     "output_type": "execute_result"
    }
   ],
   "source": [
    "# Verificar valores faltantes\n",
    "df['Deceased'].isnull().sum()"
   ]
  },
  {
   "cell_type": "code",
   "execution_count": 63,
   "metadata": {},
   "outputs": [],
   "source": [
    "# Creamos un diccionario de remplazos teniendo en cuenta los valores que hemos identificado\n",
    "dic_remplazos_Deceased = {'M': 'UNKNOWN','F': 'UNKNOWN', 'Nq': 'UNKNOWN', 'Y x 2': 'Y'}\n",
    "\n",
    "# Eliminar espacios en blanco al inicio y final\n",
    "df['Deceased'] = df['Deceased'].str.strip()\n",
    "# Reemplazar valores\n",
    "df['Deceased'] = df['Deceased'].replace(dic_remplazos_Deceased)\n",
    "# Reemplazar minisculas por mayusculas\n",
    "df['Deceased'] = df['Deceased'].str.upper()\n",
    "# Reemplazar valores NaN con 'UNKNOWN'\n",
    "df['Deceased'].fillna('UNKNOWN', inplace=True)"
   ]
  },
  {
   "cell_type": "code",
   "execution_count": 64,
   "metadata": {},
   "outputs": [
    {
     "data": {
      "text/plain": [
       "array(['Y', 'N', 'UNKNOWN'], dtype=object)"
      ]
     },
     "execution_count": 64,
     "metadata": {},
     "output_type": "execute_result"
    }
   ],
   "source": [
    "# Verificar resultados\n",
    "df['Deceased'].unique()"
   ]
  },
  {
   "cell_type": "code",
   "execution_count": 65,
   "metadata": {},
   "outputs": [
    {
     "data": {
      "text/plain": [
       "N          4611\n",
       "Y          1342\n",
       "UNKNOWN     570\n",
       "Name: Deceased, dtype: int64"
      ]
     },
     "execution_count": 65,
     "metadata": {},
     "output_type": "execute_result"
    }
   ],
   "source": [
    "# Verificar valores\n",
    "df['Deceased'].value_counts()"
   ]
  },
  {
   "cell_type": "markdown",
   "metadata": {},
   "source": [
    "### Columna Date\n",
    "\n",
    "Estudiamos los formatos de fechas para realizar los cambios necesarios y para que al cambiar al formato fechas perdamos la menor cantidad de datos. "
   ]
  },
  {
   "cell_type": "code",
   "execution_count": 66,
   "metadata": {},
   "outputs": [
    {
     "data": {
      "text/plain": [
       "0"
      ]
     },
     "execution_count": 66,
     "metadata": {},
     "output_type": "execute_result"
    }
   ],
   "source": [
    "df['Date'].isna().sum()"
   ]
  },
  {
   "cell_type": "code",
   "execution_count": 67,
   "metadata": {},
   "outputs": [
    {
     "data": {
      "text/plain": [
       "5116                    1950\n",
       "3352             27-May-1988\n",
       "3509             22-Jul-1984\n",
       "6717             06-Jan-1835\n",
       "1997             07-May-2007\n",
       "6716    Reported 21-Feb-1835\n",
       "1037             24-May-2015\n",
       "2091             31-May-2006\n",
       "1728             05-Jul-2009\n",
       "1961             15-Aug-2007\n",
       "5529             13-Aug-1935\n",
       "1524             15-Jun-2011\n",
       "1545             16-Apr-2011\n",
       "1244             01-Sep-2013\n",
       "470              16-Aug-2019\n",
       "5751             28-Dec-1927\n",
       "2023             09-Jan-2007\n",
       "1123             27-Aug-2014\n",
       "6238    Reported 04-Dec-1897\n",
       "3859             09-Mar-1975\n",
       "4930             06-Feb-1955\n",
       "1766             01-Mar-2009\n",
       "5173             03-Aug-1948\n",
       "953              30-Oct-2015\n",
       "5821             29-Jan-1924\n",
       "1194             20-Feb-2014\n",
       "6443             12-Aug-1881\n",
       "2517             15-Sep-2001\n",
       "1072             17-Jan-2015\n",
       "3418                Dec-1986\n",
       "Name: Date, dtype: object"
      ]
     },
     "execution_count": 67,
     "metadata": {},
     "output_type": "execute_result"
    }
   ],
   "source": [
    "# Mostrar valores unicos y visualizarlos\n",
    "df['Date'].sample(30)"
   ]
  },
  {
   "cell_type": "code",
   "execution_count": 68,
   "metadata": {},
   "outputs": [],
   "source": [
    "# Eliminar espacios en las celdas\n",
    "\n",
    "df['Date'] = df['Date'].str.strip()"
   ]
  },
  {
   "cell_type": "code",
   "execution_count": 69,
   "metadata": {},
   "outputs": [],
   "source": [
    "# Remplazar espacios y puntos por guiones\n",
    "df['Date'] = df['Date'].apply(lambda x: x.replace(' ', '-') if isinstance(x, str) else x)\n",
    "df['Date'] = df['Date'].apply(lambda x: x.replace('.', '-') if isinstance(x, str) else x)"
   ]
  },
  {
   "cell_type": "code",
   "execution_count": 70,
   "metadata": {},
   "outputs": [
    {
     "data": {
      "text/plain": [
       "4104    Reported-11-Apr-1968\n",
       "5324             21-Nov-1942\n",
       "5081             01-Feb-1951\n",
       "1982             30-Jun-2007\n",
       "6118             29-Dec-1905\n",
       "2312             14-Feb-2004\n",
       "5311             02-Mar-1943\n",
       "792              06-Feb-2017\n",
       "3874             14-Sep-1974\n",
       "6285    Reported-01-Sep-1894\n",
       "3741             27-Jul-1978\n",
       "418              17-Jan-2020\n",
       "1004             19-Jul-2015\n",
       "6002             04-May-1912\n",
       "3953             05-Jul-1972\n",
       "3525             04-Jan-1984\n",
       "626     Reported-30-Apr-2018\n",
       "4822             09-Jul-1957\n",
       "6083    Reported-12-Aug-1907\n",
       "5429             26-Feb-1939\n",
       "5577             24-Feb-1934\n",
       "5720           Reported-1929\n",
       "4291             26-Aug-1964\n",
       "3818             08-Jan-1976\n",
       "6688    Reported-10-Sep-1845\n",
       "3032             18-Oct-1994\n",
       "5817    Reported-28-Mar-1924\n",
       "6212             28-Jan-1899\n",
       "6553    Reported-15-Apr-1869\n",
       "4388             08-Feb-1963\n",
       "Name: Date, dtype: object"
      ]
     },
     "execution_count": 70,
     "metadata": {},
     "output_type": "execute_result"
    }
   ],
   "source": [
    "# Mostrar valores unicos y visualizarlos\n",
    "df['Date'].sample(30)"
   ]
  },
  {
   "cell_type": "code",
   "execution_count": 71,
   "metadata": {},
   "outputs": [],
   "source": [
    "# Función para eliminar 'Reported-', 'Late-', y 'Early' \n",
    "\n",
    "df['Date'] = df['Date'].str.replace('^(Reported-|Late-|Early-)', '', regex=True)\n",
    "\n"
   ]
  },
  {
   "cell_type": "code",
   "execution_count": 72,
   "metadata": {},
   "outputs": [],
   "source": [
    "# Función para quitar el dia\n",
    "def quitar_dia(x):\n",
    "    parts = x.split('-')\n",
    "    if len(parts) == 3:\n",
    "        return '-'.join(parts[1:])   \n",
    "    return x  "
   ]
  },
  {
   "cell_type": "code",
   "execution_count": 73,
   "metadata": {},
   "outputs": [],
   "source": [
    "# Función para quitar el dia\n",
    "df['Date'] = df['Date'].apply(lambda x: quitar_dia(x) if isinstance(x, str) else x)"
   ]
  },
  {
   "cell_type": "code",
   "execution_count": 74,
   "metadata": {},
   "outputs": [
    {
     "data": {
      "text/plain": [
       "383     Jul-2020\n",
       "2984    Jul-1995\n",
       "973     Sep-2015\n",
       "1787    Jan-2009\n",
       "5188         NaN\n",
       "3568    Mar-1983\n",
       "345     Oct-2020\n",
       "5368    Aug-1941\n",
       "4300    Jul-1964\n",
       "812     Nov-2016\n",
       "6186    Sep-1900\n",
       "5885    Jun-1920\n",
       "2280    Jun-2004\n",
       "6490    Apr-1877\n",
       "5773    Oct-1926\n",
       "4785    Jun-1958\n",
       "5804        1925\n",
       "4530    Apr-1961\n",
       "1451    Dec-2011\n",
       "6419    Jul-1883\n",
       "3963    Mar-1972\n",
       "1245    Aug-2013\n",
       "662     Jan-2018\n",
       "3093    Aug-1993\n",
       "5845        1923\n",
       "1569    Jan-2011\n",
       "668     Nov-2017\n",
       "4160    Mar-1967\n",
       "3090    Sep-1993\n",
       "591     Aug-2018\n",
       "Name: Date, dtype: object"
      ]
     },
     "execution_count": 74,
     "metadata": {},
     "output_type": "execute_result"
    }
   ],
   "source": [
    "# Mostrar valores unicos y visualizarlos\n",
    "df['Date'].sample(30)"
   ]
  },
  {
   "cell_type": "code",
   "execution_count": 75,
   "metadata": {},
   "outputs": [],
   "source": [
    "df['Date'] = pd.to_datetime(df['Date'],format ='%b-%Y', errors='coerce')"
   ]
  },
  {
   "cell_type": "code",
   "execution_count": 76,
   "metadata": {},
   "outputs": [
    {
     "data": {
      "text/plain": [
       "Date                   datetime64[ns]\n",
       "Country                        object\n",
       "State                          object\n",
       "Activity                       object\n",
       "Sex                            object\n",
       "Age                           float64\n",
       "Deceased                       object\n",
       "standarized_country            object\n",
       "dtype: object"
      ]
     },
     "execution_count": 76,
     "metadata": {},
     "output_type": "execute_result"
    }
   ],
   "source": [
    "df.dtypes"
   ]
  },
  {
   "cell_type": "code",
   "execution_count": 77,
   "metadata": {},
   "outputs": [
    {
     "data": {
      "text/plain": [
       "1936   2007-09-01\n",
       "770    2017-04-01\n",
       "5203   1947-07-01\n",
       "3093   1993-08-01\n",
       "4589   1960-09-01\n",
       "6266   1895-08-01\n",
       "2657   2000-07-01\n",
       "3753   1978-01-01\n",
       "2304   2004-03-01\n",
       "624    2018-05-01\n",
       "2864   1997-06-01\n",
       "5564   1934-08-01\n",
       "3007   1995-04-01\n",
       "3138   1992-11-01\n",
       "2393   2003-04-01\n",
       "1127   2014-08-01\n",
       "227    2021-11-01\n",
       "4870   1956-08-01\n",
       "1675   2009-12-01\n",
       "6667   1849-06-01\n",
       "4064   1969-08-01\n",
       "2518   2001-09-01\n",
       "1809   2008-10-01\n",
       "4864   1956-08-01\n",
       "4579   1960-11-01\n",
       "6365   1888-02-01\n",
       "3395   1987-07-01\n",
       "4952   1954-09-01\n",
       "2439   2002-09-01\n",
       "6283   1894-09-01\n",
       "Name: Date, dtype: datetime64[ns]"
      ]
     },
     "execution_count": 77,
     "metadata": {},
     "output_type": "execute_result"
    }
   ],
   "source": [
    "df['Date'].sample(30)"
   ]
  },
  {
   "cell_type": "code",
   "execution_count": 78,
   "metadata": {},
   "outputs": [
    {
     "data": {
      "text/plain": [
       "469"
      ]
     },
     "execution_count": 78,
     "metadata": {},
     "output_type": "execute_result"
    }
   ],
   "source": [
    "df['Date'].isna().sum()"
   ]
  },
  {
   "cell_type": "markdown",
   "metadata": {},
   "source": [
    "## Creamos colunas Month y Year\n",
    "Extraemos la información de mes y año a columnas independientes. "
   ]
  },
  {
   "cell_type": "code",
   "execution_count": 79,
   "metadata": {},
   "outputs": [],
   "source": [
    "# Extraer la columna de mes\n",
    "df['Month'] = df['Date'].dt.strftime('%B')\n",
    "\n",
    "# Extraer la columna de año\n",
    "df['Year'] = df['Date'].dt.year"
   ]
  },
  {
   "cell_type": "code",
   "execution_count": 80,
   "metadata": {},
   "outputs": [
    {
     "data": {
      "text/plain": [
       "469"
      ]
     },
     "execution_count": 80,
     "metadata": {},
     "output_type": "execute_result"
    }
   ],
   "source": [
    "df['Month'].isna().sum()"
   ]
  },
  {
   "cell_type": "markdown",
   "metadata": {},
   "source": [
    "## Creamos la columna Decade\n",
    "Esta columna nos ayudara en la visualización de los datos."
   ]
  },
  {
   "cell_type": "code",
   "execution_count": 81,
   "metadata": {},
   "outputs": [],
   "source": [
    "# Agrupar por década\n",
    "df['Decade'] = (df['Year'] // 10) * 10\n"
   ]
  },
  {
   "cell_type": "code",
   "execution_count": 82,
   "metadata": {},
   "outputs": [
    {
     "data": {
      "text/html": [
       "<div>\n",
       "<style scoped>\n",
       "    .dataframe tbody tr th:only-of-type {\n",
       "        vertical-align: middle;\n",
       "    }\n",
       "\n",
       "    .dataframe tbody tr th {\n",
       "        vertical-align: top;\n",
       "    }\n",
       "\n",
       "    .dataframe thead th {\n",
       "        text-align: right;\n",
       "    }\n",
       "</style>\n",
       "<table border=\"1\" class=\"dataframe\">\n",
       "  <thead>\n",
       "    <tr style=\"text-align: right;\">\n",
       "      <th></th>\n",
       "      <th>Date</th>\n",
       "      <th>Country</th>\n",
       "      <th>State</th>\n",
       "      <th>Activity</th>\n",
       "      <th>Sex</th>\n",
       "      <th>Age</th>\n",
       "      <th>Deceased</th>\n",
       "      <th>standarized_country</th>\n",
       "      <th>Month</th>\n",
       "      <th>Year</th>\n",
       "      <th>Decade</th>\n",
       "    </tr>\n",
       "  </thead>\n",
       "  <tbody>\n",
       "    <tr>\n",
       "      <th>138</th>\n",
       "      <td>2022-09-01</td>\n",
       "      <td>south africa</td>\n",
       "      <td>WESTERN CAPE PROVINCE</td>\n",
       "      <td>swimming</td>\n",
       "      <td>F</td>\n",
       "      <td>39.0</td>\n",
       "      <td>Y</td>\n",
       "      <td>South Africa</td>\n",
       "      <td>September</td>\n",
       "      <td>2022.0</td>\n",
       "      <td>2020.0</td>\n",
       "    </tr>\n",
       "    <tr>\n",
       "      <th>140</th>\n",
       "      <td>2022-09-01</td>\n",
       "      <td>bahamas</td>\n",
       "      <td>NaN</td>\n",
       "      <td>diving</td>\n",
       "      <td>F</td>\n",
       "      <td>58.0</td>\n",
       "      <td>Y</td>\n",
       "      <td>Bahamas</td>\n",
       "      <td>September</td>\n",
       "      <td>2022.0</td>\n",
       "      <td>2020.0</td>\n",
       "    </tr>\n",
       "    <tr>\n",
       "      <th>141</th>\n",
       "      <td>2022-09-01</td>\n",
       "      <td>usa</td>\n",
       "      <td>HAWAII</td>\n",
       "      <td>swimming</td>\n",
       "      <td>F</td>\n",
       "      <td>51.0</td>\n",
       "      <td>N</td>\n",
       "      <td>United States</td>\n",
       "      <td>September</td>\n",
       "      <td>2022.0</td>\n",
       "      <td>2020.0</td>\n",
       "    </tr>\n",
       "    <tr>\n",
       "      <th>142</th>\n",
       "      <td>2022-08-01</td>\n",
       "      <td>australia</td>\n",
       "      <td>NEW SOUTH WALES</td>\n",
       "      <td>surfing</td>\n",
       "      <td>M</td>\n",
       "      <td>14.0</td>\n",
       "      <td>N</td>\n",
       "      <td>Australia</td>\n",
       "      <td>August</td>\n",
       "      <td>2022.0</td>\n",
       "      <td>2020.0</td>\n",
       "    </tr>\n",
       "    <tr>\n",
       "      <th>143</th>\n",
       "      <td>2022-08-01</td>\n",
       "      <td>australia</td>\n",
       "      <td>NEW SOUTH WALES</td>\n",
       "      <td>kayaking</td>\n",
       "      <td>M</td>\n",
       "      <td>NaN</td>\n",
       "      <td>N</td>\n",
       "      <td>Australia</td>\n",
       "      <td>August</td>\n",
       "      <td>2022.0</td>\n",
       "      <td>2020.0</td>\n",
       "    </tr>\n",
       "    <tr>\n",
       "      <th>...</th>\n",
       "      <td>...</td>\n",
       "      <td>...</td>\n",
       "      <td>...</td>\n",
       "      <td>...</td>\n",
       "      <td>...</td>\n",
       "      <td>...</td>\n",
       "      <td>...</td>\n",
       "      <td>...</td>\n",
       "      <td>...</td>\n",
       "      <td>...</td>\n",
       "      <td>...</td>\n",
       "    </tr>\n",
       "    <tr>\n",
       "      <th>6793</th>\n",
       "      <td>NaT</td>\n",
       "      <td>italy</td>\n",
       "      <td>SARDINIA</td>\n",
       "      <td>swimming</td>\n",
       "      <td>M</td>\n",
       "      <td>NaN</td>\n",
       "      <td>Y</td>\n",
       "      <td>Italy</td>\n",
       "      <td>NaN</td>\n",
       "      <td>NaN</td>\n",
       "      <td>NaN</td>\n",
       "    </tr>\n",
       "    <tr>\n",
       "      <th>6794</th>\n",
       "      <td>1703-03-01</td>\n",
       "      <td>barbados</td>\n",
       "      <td>SOUTHWEST COAST</td>\n",
       "      <td>swimming</td>\n",
       "      <td>M</td>\n",
       "      <td>19.0</td>\n",
       "      <td>N</td>\n",
       "      <td>Barbados</td>\n",
       "      <td>March</td>\n",
       "      <td>1703.0</td>\n",
       "      <td>1700.0</td>\n",
       "    </tr>\n",
       "    <tr>\n",
       "      <th>6795</th>\n",
       "      <td>NaT</td>\n",
       "      <td>france</td>\n",
       "      <td>NaN</td>\n",
       "      <td>Unspecific</td>\n",
       "      <td>M</td>\n",
       "      <td>NaN</td>\n",
       "      <td>Y</td>\n",
       "      <td>France</td>\n",
       "      <td>NaN</td>\n",
       "      <td>NaN</td>\n",
       "      <td>NaN</td>\n",
       "    </tr>\n",
       "    <tr>\n",
       "      <th>6796</th>\n",
       "      <td>NaT</td>\n",
       "      <td>france</td>\n",
       "      <td>CÔTE D'AZUR</td>\n",
       "      <td>Unspecific</td>\n",
       "      <td>M</td>\n",
       "      <td>NaN</td>\n",
       "      <td>N</td>\n",
       "      <td>France</td>\n",
       "      <td>NaN</td>\n",
       "      <td>NaN</td>\n",
       "      <td>NaN</td>\n",
       "    </tr>\n",
       "    <tr>\n",
       "      <th>6797</th>\n",
       "      <td>NaT</td>\n",
       "      <td>barbados</td>\n",
       "      <td>NaN</td>\n",
       "      <td>Unspecific</td>\n",
       "      <td>M</td>\n",
       "      <td>NaN</td>\n",
       "      <td>Y</td>\n",
       "      <td>Barbados</td>\n",
       "      <td>NaN</td>\n",
       "      <td>NaN</td>\n",
       "      <td>NaN</td>\n",
       "    </tr>\n",
       "  </tbody>\n",
       "</table>\n",
       "<p>6523 rows × 11 columns</p>\n",
       "</div>"
      ],
      "text/plain": [
       "           Date       Country                  State    Activity Sex   Age  \\\n",
       "138  2022-09-01  south africa  WESTERN CAPE PROVINCE    swimming   F  39.0   \n",
       "140  2022-09-01       bahamas                    NaN      diving   F  58.0   \n",
       "141  2022-09-01           usa                 HAWAII    swimming   F  51.0   \n",
       "142  2022-08-01     australia        NEW SOUTH WALES     surfing   M  14.0   \n",
       "143  2022-08-01     australia        NEW SOUTH WALES    kayaking   M   NaN   \n",
       "...         ...           ...                    ...         ...  ..   ...   \n",
       "6793        NaT         italy               SARDINIA    swimming   M   NaN   \n",
       "6794 1703-03-01      barbados        SOUTHWEST COAST    swimming   M  19.0   \n",
       "6795        NaT        france                    NaN  Unspecific   M   NaN   \n",
       "6796        NaT        france            CÔTE D'AZUR  Unspecific   M   NaN   \n",
       "6797        NaT      barbados                    NaN  Unspecific   M   NaN   \n",
       "\n",
       "     Deceased standarized_country      Month    Year  Decade  \n",
       "138         Y        South Africa  September  2022.0  2020.0  \n",
       "140         Y             Bahamas  September  2022.0  2020.0  \n",
       "141         N       United States  September  2022.0  2020.0  \n",
       "142         N           Australia     August  2022.0  2020.0  \n",
       "143         N           Australia     August  2022.0  2020.0  \n",
       "...       ...                 ...        ...     ...     ...  \n",
       "6793        Y               Italy        NaN     NaN     NaN  \n",
       "6794        N            Barbados      March  1703.0  1700.0  \n",
       "6795        Y              France        NaN     NaN     NaN  \n",
       "6796        N              France        NaN     NaN     NaN  \n",
       "6797        Y            Barbados        NaN     NaN     NaN  \n",
       "\n",
       "[6523 rows x 11 columns]"
      ]
     },
     "execution_count": 82,
     "metadata": {},
     "output_type": "execute_result"
    }
   ],
   "source": [
    "df"
   ]
  },
  {
   "cell_type": "markdown",
   "metadata": {},
   "source": [
    "## Creamos la columna Season\n",
    "Con los datos de paises, las listas de hemisferios y los meses extraemos la información se la estación.\n"
   ]
  },
  {
   "cell_type": "code",
   "execution_count": 83,
   "metadata": {},
   "outputs": [],
   "source": [
    "hemisferio_norte = [\n",
    "    \"United States\", \"Canada\", \"Bahamas\", \"Mexico\", \"Costa Rica\", \"Cuba\", \"Jamaica\", \"Belize\", \"Guatemala\", \n",
    "    \"El Salvador\", \"Honduras\", \"Nicaragua\", \"Panama\", \"Dominican Republic\", \"Puerto Rico\", \"Trinidad and Tobago\", \n",
    "    \"Saint Kitts and Nevis\", \"Saint Martin\", \"Barbados\", \"Dominica\", \"Martinique\", \"Grenada\", \"Haiti\", \"Turkey\", \n",
    "    \"Cyprus\", \"Israel\", \"Jordan\", \"Iraq\", \"Lebanon\", \"Syrian Arab Republic\", \"Palestinian Territories\", \n",
    "    \"Saudi Arabia\", \"United Arab Emirates\", \"Kuwait\", \"Oman\", \"Qatar\", \"Bahrain\", \"Georgia\", \"Russia\", \"Ukraine\", \n",
    "    \"Belarus\", \"Poland\", \"Slovakia\", \"Hungary\", \"Romania\", \"Bulgaria\", \"Greece\", \"Albania\", \"North Macedonia\", \n",
    "    \"Kosovo\", \"Serbia\", \"Montenegro\", \"Bosnia and Herzegovina\", \"Croatia\", \"Slovenia\", \"Italy\", \"Malta\", \"France\", \n",
    "    \"Andorra\", \"Monaco\", \"Luxembourg\", \"Belgium\", \"Netherlands\", \"Denmark\", \"Norway\", \"Sweden\", \"Iceland\", \n",
    "    \"Ireland\", \"United Kingdom\", \"Spain\"\n",
    "]\n",
    "\n",
    "hemisferio_sur = [\n",
    "    \"South Africa\", \"Australia\", \"New Zealand\", \"Fiji\", \"Samoa\", \"Papua New Guinea\", \"Solomon Islands\", \n",
    "    \"Vanuatu\", \"Tuvalu\", \"Kiribati\", \"Nauru\", \"American Samoa\", \"Tonga\", \"Comoros\", \"Seychelles\", \"Mauritius\", \n",
    "    \"Madagascar\", \"Mozambique\", \"Tanzania\", \"Kenya\", \"Uganda\", \"Rwanda\", \"Burundi\", \"Zambia\", \"Zimbabwe\", \n",
    "    \"Botswana\", \"Namibia\", \"Angola\", \"Democratic Republic of the Congo\", \"Congo\", \"Gabon\", \"Equatorial Guinea\", \n",
    "    \"Sao Tome and Principe\", \"Maldives\", \"Sri Lanka\", \"India\", \"Bangladesh\", \"Myanmar\", \"Timor-Leste\", \"Falkland Islands\", \n",
    "    \"Argentina\", \"Chile\", \"Peru\", \"Bolivia\", \"Paraguay\", \"Uruguay\", \"Brazil\", \"Suriname\", \"Guyana\"\n",
    "]\n"
   ]
  },
  {
   "cell_type": "code",
   "execution_count": 84,
   "metadata": {},
   "outputs": [],
   "source": [
    "# Definir las estaciones en función del mes y el hemisferio\n",
    "def get_season(month, country):\n",
    "    if country in hemisferio_sur:\n",
    "        # Hemisferio sur\n",
    "        if month in ['December', 'January', 'February']:\n",
    "            return 'Summer'\n",
    "        elif month in ['March', 'April', 'May']:\n",
    "            return 'Autumn'\n",
    "        elif month in ['June', 'July', 'August']:\n",
    "            return 'Winter'\n",
    "        elif month in ['September', 'October', 'November']:\n",
    "            return 'Spring'\n",
    "    elif country in hemisferio_norte:\n",
    "        # Hemisferio norte\n",
    "        if month in ['December', 'January', 'February']:\n",
    "            return 'Winter'\n",
    "        elif month in ['March', 'April', 'May']:\n",
    "            return 'Spring'\n",
    "        elif month in ['June', 'July', 'August']:\n",
    "            return 'Summer'\n",
    "        elif month in ['September', 'October', 'November']:\n",
    "            return 'Autumn'\n",
    "    else:\n",
    "        return 'Unknown'\n",
    "\n"
   ]
  },
  {
   "cell_type": "code",
   "execution_count": 85,
   "metadata": {},
   "outputs": [],
   "source": [
    "df['Season'] = df.apply(lambda row: get_season(row['Month'], row['standarized_country']), axis=1)"
   ]
  },
  {
   "cell_type": "code",
   "execution_count": 86,
   "metadata": {},
   "outputs": [
    {
     "data": {
      "text/plain": [
       "387"
      ]
     },
     "execution_count": 86,
     "metadata": {},
     "output_type": "execute_result"
    }
   ],
   "source": [
    "df['Season'].isnull().sum()"
   ]
  },
  {
   "cell_type": "code",
   "execution_count": 87,
   "metadata": {},
   "outputs": [],
   "source": [
    "df['Season'].fillna('Unknown', inplace=True)"
   ]
  },
  {
   "cell_type": "code",
   "execution_count": 88,
   "metadata": {},
   "outputs": [
    {
     "data": {
      "text/plain": [
       "Summer     2311\n",
       "Autumn     1398\n",
       "Unknown    1092\n",
       "Spring     1078\n",
       "Winter      644\n",
       "Name: Season, dtype: int64"
      ]
     },
     "execution_count": 88,
     "metadata": {},
     "output_type": "execute_result"
    }
   ],
   "source": [
    "df['Season'].value_counts()"
   ]
  },
  {
   "cell_type": "markdown",
   "metadata": {},
   "source": [
    "## Estudiar duplicados"
   ]
  },
  {
   "cell_type": "code",
   "execution_count": 89,
   "metadata": {},
   "outputs": [
    {
     "data": {
      "text/plain": [
       "142"
      ]
     },
     "execution_count": 89,
     "metadata": {},
     "output_type": "execute_result"
    }
   ],
   "source": [
    "# Verificar duplicados\n",
    "df.duplicated().sum()"
   ]
  },
  {
   "cell_type": "code",
   "execution_count": 90,
   "metadata": {},
   "outputs": [],
   "source": [
    "# Eliminar duplicados\n",
    "df.drop_duplicates(inplace = True)\n",
    "# Restablecer el índice\n",
    "df.reset_index(drop=True, inplace=True)"
   ]
  },
  {
   "cell_type": "code",
   "execution_count": 91,
   "metadata": {},
   "outputs": [
    {
     "data": {
      "text/plain": [
       "0"
      ]
     },
     "execution_count": 91,
     "metadata": {},
     "output_type": "execute_result"
    }
   ],
   "source": [
    "# Verificar duplicados\n",
    "df.duplicated().sum()"
   ]
  },
  {
   "cell_type": "code",
   "execution_count": null,
   "metadata": {},
   "outputs": [],
   "source": []
  },
  {
   "cell_type": "code",
   "execution_count": 92,
   "metadata": {},
   "outputs": [
    {
     "data": {
      "text/html": [
       "<div>\n",
       "<style scoped>\n",
       "    .dataframe tbody tr th:only-of-type {\n",
       "        vertical-align: middle;\n",
       "    }\n",
       "\n",
       "    .dataframe tbody tr th {\n",
       "        vertical-align: top;\n",
       "    }\n",
       "\n",
       "    .dataframe thead th {\n",
       "        text-align: right;\n",
       "    }\n",
       "</style>\n",
       "<table border=\"1\" class=\"dataframe\">\n",
       "  <thead>\n",
       "    <tr style=\"text-align: right;\">\n",
       "      <th></th>\n",
       "      <th>Date</th>\n",
       "      <th>Country</th>\n",
       "      <th>State</th>\n",
       "      <th>Activity</th>\n",
       "      <th>Sex</th>\n",
       "      <th>Age</th>\n",
       "      <th>Deceased</th>\n",
       "      <th>standarized_country</th>\n",
       "      <th>Month</th>\n",
       "      <th>Year</th>\n",
       "      <th>Decade</th>\n",
       "      <th>Season</th>\n",
       "    </tr>\n",
       "  </thead>\n",
       "  <tbody>\n",
       "    <tr>\n",
       "      <th>0</th>\n",
       "      <td>2022-09-01</td>\n",
       "      <td>south africa</td>\n",
       "      <td>WESTERN CAPE PROVINCE</td>\n",
       "      <td>swimming</td>\n",
       "      <td>F</td>\n",
       "      <td>39.0</td>\n",
       "      <td>Y</td>\n",
       "      <td>South Africa</td>\n",
       "      <td>September</td>\n",
       "      <td>2022.0</td>\n",
       "      <td>2020.0</td>\n",
       "      <td>Spring</td>\n",
       "    </tr>\n",
       "    <tr>\n",
       "      <th>1</th>\n",
       "      <td>2022-09-01</td>\n",
       "      <td>bahamas</td>\n",
       "      <td>NaN</td>\n",
       "      <td>diving</td>\n",
       "      <td>F</td>\n",
       "      <td>58.0</td>\n",
       "      <td>Y</td>\n",
       "      <td>Bahamas</td>\n",
       "      <td>September</td>\n",
       "      <td>2022.0</td>\n",
       "      <td>2020.0</td>\n",
       "      <td>Autumn</td>\n",
       "    </tr>\n",
       "    <tr>\n",
       "      <th>2</th>\n",
       "      <td>2022-09-01</td>\n",
       "      <td>usa</td>\n",
       "      <td>HAWAII</td>\n",
       "      <td>swimming</td>\n",
       "      <td>F</td>\n",
       "      <td>51.0</td>\n",
       "      <td>N</td>\n",
       "      <td>United States</td>\n",
       "      <td>September</td>\n",
       "      <td>2022.0</td>\n",
       "      <td>2020.0</td>\n",
       "      <td>Autumn</td>\n",
       "    </tr>\n",
       "    <tr>\n",
       "      <th>3</th>\n",
       "      <td>2022-08-01</td>\n",
       "      <td>australia</td>\n",
       "      <td>NEW SOUTH WALES</td>\n",
       "      <td>surfing</td>\n",
       "      <td>M</td>\n",
       "      <td>14.0</td>\n",
       "      <td>N</td>\n",
       "      <td>Australia</td>\n",
       "      <td>August</td>\n",
       "      <td>2022.0</td>\n",
       "      <td>2020.0</td>\n",
       "      <td>Winter</td>\n",
       "    </tr>\n",
       "    <tr>\n",
       "      <th>4</th>\n",
       "      <td>2022-08-01</td>\n",
       "      <td>australia</td>\n",
       "      <td>NEW SOUTH WALES</td>\n",
       "      <td>kayaking</td>\n",
       "      <td>M</td>\n",
       "      <td>NaN</td>\n",
       "      <td>N</td>\n",
       "      <td>Australia</td>\n",
       "      <td>August</td>\n",
       "      <td>2022.0</td>\n",
       "      <td>2020.0</td>\n",
       "      <td>Winter</td>\n",
       "    </tr>\n",
       "    <tr>\n",
       "      <th>...</th>\n",
       "      <td>...</td>\n",
       "      <td>...</td>\n",
       "      <td>...</td>\n",
       "      <td>...</td>\n",
       "      <td>...</td>\n",
       "      <td>...</td>\n",
       "      <td>...</td>\n",
       "      <td>...</td>\n",
       "      <td>...</td>\n",
       "      <td>...</td>\n",
       "      <td>...</td>\n",
       "      <td>...</td>\n",
       "    </tr>\n",
       "    <tr>\n",
       "      <th>6376</th>\n",
       "      <td>NaT</td>\n",
       "      <td>italy</td>\n",
       "      <td>SARDINIA</td>\n",
       "      <td>swimming</td>\n",
       "      <td>M</td>\n",
       "      <td>NaN</td>\n",
       "      <td>Y</td>\n",
       "      <td>Italy</td>\n",
       "      <td>NaN</td>\n",
       "      <td>NaN</td>\n",
       "      <td>NaN</td>\n",
       "      <td>Unknown</td>\n",
       "    </tr>\n",
       "    <tr>\n",
       "      <th>6377</th>\n",
       "      <td>1703-03-01</td>\n",
       "      <td>barbados</td>\n",
       "      <td>SOUTHWEST COAST</td>\n",
       "      <td>swimming</td>\n",
       "      <td>M</td>\n",
       "      <td>19.0</td>\n",
       "      <td>N</td>\n",
       "      <td>Barbados</td>\n",
       "      <td>March</td>\n",
       "      <td>1703.0</td>\n",
       "      <td>1700.0</td>\n",
       "      <td>Spring</td>\n",
       "    </tr>\n",
       "    <tr>\n",
       "      <th>6378</th>\n",
       "      <td>NaT</td>\n",
       "      <td>france</td>\n",
       "      <td>NaN</td>\n",
       "      <td>Unspecific</td>\n",
       "      <td>M</td>\n",
       "      <td>NaN</td>\n",
       "      <td>Y</td>\n",
       "      <td>France</td>\n",
       "      <td>NaN</td>\n",
       "      <td>NaN</td>\n",
       "      <td>NaN</td>\n",
       "      <td>Unknown</td>\n",
       "    </tr>\n",
       "    <tr>\n",
       "      <th>6379</th>\n",
       "      <td>NaT</td>\n",
       "      <td>france</td>\n",
       "      <td>CÔTE D'AZUR</td>\n",
       "      <td>Unspecific</td>\n",
       "      <td>M</td>\n",
       "      <td>NaN</td>\n",
       "      <td>N</td>\n",
       "      <td>France</td>\n",
       "      <td>NaN</td>\n",
       "      <td>NaN</td>\n",
       "      <td>NaN</td>\n",
       "      <td>Unknown</td>\n",
       "    </tr>\n",
       "    <tr>\n",
       "      <th>6380</th>\n",
       "      <td>NaT</td>\n",
       "      <td>barbados</td>\n",
       "      <td>NaN</td>\n",
       "      <td>Unspecific</td>\n",
       "      <td>M</td>\n",
       "      <td>NaN</td>\n",
       "      <td>Y</td>\n",
       "      <td>Barbados</td>\n",
       "      <td>NaN</td>\n",
       "      <td>NaN</td>\n",
       "      <td>NaN</td>\n",
       "      <td>Unknown</td>\n",
       "    </tr>\n",
       "  </tbody>\n",
       "</table>\n",
       "<p>6381 rows × 12 columns</p>\n",
       "</div>"
      ],
      "text/plain": [
       "           Date       Country                  State    Activity Sex   Age  \\\n",
       "0    2022-09-01  south africa  WESTERN CAPE PROVINCE    swimming   F  39.0   \n",
       "1    2022-09-01       bahamas                    NaN      diving   F  58.0   \n",
       "2    2022-09-01           usa                 HAWAII    swimming   F  51.0   \n",
       "3    2022-08-01     australia        NEW SOUTH WALES     surfing   M  14.0   \n",
       "4    2022-08-01     australia        NEW SOUTH WALES    kayaking   M   NaN   \n",
       "...         ...           ...                    ...         ...  ..   ...   \n",
       "6376        NaT         italy               SARDINIA    swimming   M   NaN   \n",
       "6377 1703-03-01      barbados        SOUTHWEST COAST    swimming   M  19.0   \n",
       "6378        NaT        france                    NaN  Unspecific   M   NaN   \n",
       "6379        NaT        france            CÔTE D'AZUR  Unspecific   M   NaN   \n",
       "6380        NaT      barbados                    NaN  Unspecific   M   NaN   \n",
       "\n",
       "     Deceased standarized_country      Month    Year  Decade   Season  \n",
       "0           Y        South Africa  September  2022.0  2020.0   Spring  \n",
       "1           Y             Bahamas  September  2022.0  2020.0   Autumn  \n",
       "2           N       United States  September  2022.0  2020.0   Autumn  \n",
       "3           N           Australia     August  2022.0  2020.0   Winter  \n",
       "4           N           Australia     August  2022.0  2020.0   Winter  \n",
       "...       ...                 ...        ...     ...     ...      ...  \n",
       "6376        Y               Italy        NaN     NaN     NaN  Unknown  \n",
       "6377        N            Barbados      March  1703.0  1700.0   Spring  \n",
       "6378        Y              France        NaN     NaN     NaN  Unknown  \n",
       "6379        N              France        NaN     NaN     NaN  Unknown  \n",
       "6380        Y            Barbados        NaN     NaN     NaN  Unknown  \n",
       "\n",
       "[6381 rows x 12 columns]"
      ]
     },
     "execution_count": 92,
     "metadata": {},
     "output_type": "execute_result"
    }
   ],
   "source": [
    "df"
   ]
  },
  {
   "cell_type": "code",
   "execution_count": 94,
   "metadata": {},
   "outputs": [
    {
     "name": "stdout",
     "output_type": "stream",
     "text": [
      "<class 'pandas.core.frame.DataFrame'>\n",
      "RangeIndex: 6381 entries, 0 to 6380\n",
      "Data columns (total 12 columns):\n",
      " #   Column               Non-Null Count  Dtype         \n",
      "---  ------               --------------  -----         \n",
      " 0   Date                 5975 non-null   datetime64[ns]\n",
      " 1   Country              6358 non-null   object        \n",
      " 2   State                6008 non-null   object        \n",
      " 3   Activity             6381 non-null   object        \n",
      " 4   Sex                  6381 non-null   object        \n",
      " 5   Age                  3672 non-null   float64       \n",
      " 6   Deceased             6381 non-null   object        \n",
      " 7   standarized_country  6381 non-null   object        \n",
      " 8   Month                5975 non-null   object        \n",
      " 9   Year                 5975 non-null   float64       \n",
      " 10  Decade               5975 non-null   float64       \n",
      " 11  Season               6381 non-null   object        \n",
      "dtypes: datetime64[ns](1), float64(3), object(8)\n",
      "memory usage: 598.3+ KB\n"
     ]
    }
   ],
   "source": [
    "df.info()"
   ]
  },
  {
   "cell_type": "markdown",
   "metadata": {},
   "source": [
    "## Guardar en CSV\n",
    "\n",
    "Guardamos los datos en un csv para usarlos para el EDA."
   ]
  },
  {
   "cell_type": "code",
   "execution_count": 93,
   "metadata": {},
   "outputs": [],
   "source": [
    "df.to_csv('clean_data.csv', index=False)"
   ]
  }
 ],
 "metadata": {
  "kernelspec": {
   "display_name": "base",
   "language": "python",
   "name": "python3"
  },
  "language_info": {
   "codemirror_mode": {
    "name": "ipython",
    "version": 3
   },
   "file_extension": ".py",
   "mimetype": "text/x-python",
   "name": "python",
   "nbconvert_exporter": "python",
   "pygments_lexer": "ipython3",
   "version": "3.9.13"
  }
 },
 "nbformat": 4,
 "nbformat_minor": 2
}
