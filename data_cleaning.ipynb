{
 "cells": [
  {
   "cell_type": "markdown",
   "metadata": {},
   "source": [
    "## SHARK ATTACK"
   ]
  },
  {
   "cell_type": "markdown",
   "metadata": {},
   "source": [
    "### Importamos la base de datos y verificamos los datos"
   ]
  },
  {
   "cell_type": "code",
   "execution_count": 1,
   "metadata": {},
   "outputs": [],
   "source": [
    "import pandas as pd\n",
    "import numpy as np\n",
    "import re"
   ]
  },
  {
   "cell_type": "code",
   "execution_count": 2,
   "metadata": {},
   "outputs": [],
   "source": [
    "# Configurar pandas para mostrar todas las columnas\n",
    "pd.set_option('display.max_columns', None)"
   ]
  },
  {
   "cell_type": "code",
   "execution_count": 3,
   "metadata": {},
   "outputs": [],
   "source": [
    "# Cargar el archivo de Excel usando Pandas\n",
    "url = 'https://www.sharkattackfile.net/spreadsheets/GSAF5.xls'\n",
    "df = pd.read_excel(url)"
   ]
  },
  {
   "cell_type": "code",
   "execution_count": 4,
   "metadata": {},
   "outputs": [
    {
     "data": {
      "text/html": [
       "<div>\n",
       "<style scoped>\n",
       "    .dataframe tbody tr th:only-of-type {\n",
       "        vertical-align: middle;\n",
       "    }\n",
       "\n",
       "    .dataframe tbody tr th {\n",
       "        vertical-align: top;\n",
       "    }\n",
       "\n",
       "    .dataframe thead th {\n",
       "        text-align: right;\n",
       "    }\n",
       "</style>\n",
       "<table border=\"1\" class=\"dataframe\">\n",
       "  <thead>\n",
       "    <tr style=\"text-align: right;\">\n",
       "      <th></th>\n",
       "      <th>Date</th>\n",
       "      <th>Year</th>\n",
       "      <th>Type</th>\n",
       "      <th>Country</th>\n",
       "      <th>State</th>\n",
       "      <th>Location</th>\n",
       "      <th>Activity</th>\n",
       "      <th>Name</th>\n",
       "      <th>Sex</th>\n",
       "      <th>Age</th>\n",
       "      <th>Injury</th>\n",
       "      <th>Unnamed: 11</th>\n",
       "      <th>Time</th>\n",
       "      <th>Species</th>\n",
       "      <th>Source</th>\n",
       "      <th>pdf</th>\n",
       "      <th>href formula</th>\n",
       "      <th>href</th>\n",
       "      <th>Case Number</th>\n",
       "      <th>Case Number.1</th>\n",
       "      <th>original order</th>\n",
       "      <th>Unnamed: 21</th>\n",
       "      <th>Unnamed: 22</th>\n",
       "    </tr>\n",
       "  </thead>\n",
       "  <tbody>\n",
       "    <tr>\n",
       "      <th>0</th>\n",
       "      <td>15 Mar 2024</td>\n",
       "      <td>2024.0</td>\n",
       "      <td>Unprovoked</td>\n",
       "      <td>AUSTRALIA</td>\n",
       "      <td>Queensland</td>\n",
       "      <td>Bargara Beach</td>\n",
       "      <td>Swimming</td>\n",
       "      <td>Brooklyn Sauer</td>\n",
       "      <td>F</td>\n",
       "      <td>13</td>\n",
       "      <td>Minor injuries to back, abdomen and legs</td>\n",
       "      <td>NaN</td>\n",
       "      <td>16h00</td>\n",
       "      <td>Tiger shark</td>\n",
       "      <td>Yahoo News, 3/15/2024</td>\n",
       "      <td>NaN</td>\n",
       "      <td>NaN</td>\n",
       "      <td>NaN</td>\n",
       "      <td>NaN</td>\n",
       "      <td>NaN</td>\n",
       "      <td>NaN</td>\n",
       "      <td>NaN</td>\n",
       "      <td>NaN</td>\n",
       "    </tr>\n",
       "    <tr>\n",
       "      <th>1</th>\n",
       "      <td>04 Mar 2024</td>\n",
       "      <td>2024.0</td>\n",
       "      <td>Unprovoked</td>\n",
       "      <td>USA</td>\n",
       "      <td>Hawaii</td>\n",
       "      <td>Old Man's, Waikiki</td>\n",
       "      <td>Surfing</td>\n",
       "      <td>Matthew White</td>\n",
       "      <td>M</td>\n",
       "      <td>NaN</td>\n",
       "      <td>No injury, shark bit surfboard</td>\n",
       "      <td>N</td>\n",
       "      <td>NaN</td>\n",
       "      <td>Tiger shark 8'</td>\n",
       "      <td>Surfer, 3/6/2024F</td>\n",
       "      <td>NaN</td>\n",
       "      <td>NaN</td>\n",
       "      <td>NaN</td>\n",
       "      <td>NaN</td>\n",
       "      <td>NaN</td>\n",
       "      <td>NaN</td>\n",
       "      <td>NaN</td>\n",
       "      <td>NaN</td>\n",
       "    </tr>\n",
       "    <tr>\n",
       "      <th>2</th>\n",
       "      <td>02 Mar-2024</td>\n",
       "      <td>2024.0</td>\n",
       "      <td>Unprovoked</td>\n",
       "      <td>USA</td>\n",
       "      <td>Hawaii</td>\n",
       "      <td>Rainbows, Oahu</td>\n",
       "      <td>Swimming</td>\n",
       "      <td>NaN</td>\n",
       "      <td>F</td>\n",
       "      <td>11</td>\n",
       "      <td>Lacerations to left foot</td>\n",
       "      <td>N</td>\n",
       "      <td>13h30</td>\n",
       "      <td>3' to 4' shark</td>\n",
       "      <td>Hawaii News Now, 3/4/2024</td>\n",
       "      <td>NaN</td>\n",
       "      <td>NaN</td>\n",
       "      <td>NaN</td>\n",
       "      <td>NaN</td>\n",
       "      <td>NaN</td>\n",
       "      <td>NaN</td>\n",
       "      <td>NaN</td>\n",
       "      <td>NaN</td>\n",
       "    </tr>\n",
       "    <tr>\n",
       "      <th>3</th>\n",
       "      <td>25 Feb-2024</td>\n",
       "      <td>2024.0</td>\n",
       "      <td>Unprovoked</td>\n",
       "      <td>AUSTRALIA</td>\n",
       "      <td>Western Australia</td>\n",
       "      <td>Sandlnd Island, Jurian Bay</td>\n",
       "      <td>NaN</td>\n",
       "      <td>female</td>\n",
       "      <td>F</td>\n",
       "      <td>46</td>\n",
       "      <td>Leg bitten</td>\n",
       "      <td>N</td>\n",
       "      <td>11h30</td>\n",
       "      <td>Tiger shark</td>\n",
       "      <td>WA Today, 2/26/2024</td>\n",
       "      <td>NaN</td>\n",
       "      <td>NaN</td>\n",
       "      <td>NaN</td>\n",
       "      <td>NaN</td>\n",
       "      <td>NaN</td>\n",
       "      <td>NaN</td>\n",
       "      <td>NaN</td>\n",
       "      <td>NaN</td>\n",
       "    </tr>\n",
       "    <tr>\n",
       "      <th>4</th>\n",
       "      <td>14 Feb-2024</td>\n",
       "      <td>2024.0</td>\n",
       "      <td>Unprovoked</td>\n",
       "      <td>INDIA</td>\n",
       "      <td>Maharashtra</td>\n",
       "      <td>Vaitarna River, Palghar District</td>\n",
       "      <td>Fishing</td>\n",
       "      <td>Vicky Suresh Govari</td>\n",
       "      <td>M</td>\n",
       "      <td>32</td>\n",
       "      <td>Calf of lower left leg injured</td>\n",
       "      <td>N</td>\n",
       "      <td>NaN</td>\n",
       "      <td>Bull shark, 7'</td>\n",
       "      <td>Times of India, 2/14/2024</td>\n",
       "      <td>NaN</td>\n",
       "      <td>NaN</td>\n",
       "      <td>NaN</td>\n",
       "      <td>NaN</td>\n",
       "      <td>NaN</td>\n",
       "      <td>NaN</td>\n",
       "      <td>NaN</td>\n",
       "      <td>NaN</td>\n",
       "    </tr>\n",
       "    <tr>\n",
       "      <th>...</th>\n",
       "      <td>...</td>\n",
       "      <td>...</td>\n",
       "      <td>...</td>\n",
       "      <td>...</td>\n",
       "      <td>...</td>\n",
       "      <td>...</td>\n",
       "      <td>...</td>\n",
       "      <td>...</td>\n",
       "      <td>...</td>\n",
       "      <td>...</td>\n",
       "      <td>...</td>\n",
       "      <td>...</td>\n",
       "      <td>...</td>\n",
       "      <td>...</td>\n",
       "      <td>...</td>\n",
       "      <td>...</td>\n",
       "      <td>...</td>\n",
       "      <td>...</td>\n",
       "      <td>...</td>\n",
       "      <td>...</td>\n",
       "      <td>...</td>\n",
       "      <td>...</td>\n",
       "      <td>...</td>\n",
       "    </tr>\n",
       "    <tr>\n",
       "      <th>6964</th>\n",
       "      <td>NaN</td>\n",
       "      <td>NaN</td>\n",
       "      <td>NaN</td>\n",
       "      <td>NaN</td>\n",
       "      <td>NaN</td>\n",
       "      <td>NaN</td>\n",
       "      <td>NaN</td>\n",
       "      <td>NaN</td>\n",
       "      <td>NaN</td>\n",
       "      <td>NaN</td>\n",
       "      <td>NaN</td>\n",
       "      <td>NaN</td>\n",
       "      <td>NaN</td>\n",
       "      <td>NaN</td>\n",
       "      <td>NaN</td>\n",
       "      <td>NaN</td>\n",
       "      <td>http://sharkattackfile.net/spreadsheets/pdf_di...</td>\n",
       "      <td>NaN</td>\n",
       "      <td>NaN</td>\n",
       "      <td>NaN</td>\n",
       "      <td>NaN</td>\n",
       "      <td>NaN</td>\n",
       "      <td>NaN</td>\n",
       "    </tr>\n",
       "    <tr>\n",
       "      <th>6965</th>\n",
       "      <td>NaN</td>\n",
       "      <td>NaN</td>\n",
       "      <td>NaN</td>\n",
       "      <td>NaN</td>\n",
       "      <td>NaN</td>\n",
       "      <td>NaN</td>\n",
       "      <td>NaN</td>\n",
       "      <td>NaN</td>\n",
       "      <td>NaN</td>\n",
       "      <td>NaN</td>\n",
       "      <td>NaN</td>\n",
       "      <td>NaN</td>\n",
       "      <td>NaN</td>\n",
       "      <td>NaN</td>\n",
       "      <td>NaN</td>\n",
       "      <td>NaN</td>\n",
       "      <td>http://sharkattackfile.net/spreadsheets/pdf_di...</td>\n",
       "      <td>NaN</td>\n",
       "      <td>NaN</td>\n",
       "      <td>NaN</td>\n",
       "      <td>NaN</td>\n",
       "      <td>NaN</td>\n",
       "      <td>NaN</td>\n",
       "    </tr>\n",
       "    <tr>\n",
       "      <th>6966</th>\n",
       "      <td>NaN</td>\n",
       "      <td>NaN</td>\n",
       "      <td>NaN</td>\n",
       "      <td>NaN</td>\n",
       "      <td>NaN</td>\n",
       "      <td>NaN</td>\n",
       "      <td>NaN</td>\n",
       "      <td>NaN</td>\n",
       "      <td>NaN</td>\n",
       "      <td>NaN</td>\n",
       "      <td>NaN</td>\n",
       "      <td>NaN</td>\n",
       "      <td>NaN</td>\n",
       "      <td>NaN</td>\n",
       "      <td>NaN</td>\n",
       "      <td>NaN</td>\n",
       "      <td>http://sharkattackfile.net/spreadsheets/pdf_di...</td>\n",
       "      <td>NaN</td>\n",
       "      <td>NaN</td>\n",
       "      <td>NaN</td>\n",
       "      <td>NaN</td>\n",
       "      <td>NaN</td>\n",
       "      <td>NaN</td>\n",
       "    </tr>\n",
       "    <tr>\n",
       "      <th>6967</th>\n",
       "      <td>NaN</td>\n",
       "      <td>NaN</td>\n",
       "      <td>NaN</td>\n",
       "      <td>NaN</td>\n",
       "      <td>NaN</td>\n",
       "      <td>NaN</td>\n",
       "      <td>NaN</td>\n",
       "      <td>NaN</td>\n",
       "      <td>NaN</td>\n",
       "      <td>NaN</td>\n",
       "      <td>NaN</td>\n",
       "      <td>NaN</td>\n",
       "      <td>NaN</td>\n",
       "      <td>NaN</td>\n",
       "      <td>NaN</td>\n",
       "      <td>NaN</td>\n",
       "      <td>http://sharkattackfile.net/spreadsheets/pdf_di...</td>\n",
       "      <td>NaN</td>\n",
       "      <td>NaN</td>\n",
       "      <td>NaN</td>\n",
       "      <td>NaN</td>\n",
       "      <td>NaN</td>\n",
       "      <td>NaN</td>\n",
       "    </tr>\n",
       "    <tr>\n",
       "      <th>6968</th>\n",
       "      <td>NaN</td>\n",
       "      <td>NaN</td>\n",
       "      <td>NaN</td>\n",
       "      <td>NaN</td>\n",
       "      <td>NaN</td>\n",
       "      <td>NaN</td>\n",
       "      <td>NaN</td>\n",
       "      <td>NaN</td>\n",
       "      <td>NaN</td>\n",
       "      <td>NaN</td>\n",
       "      <td>NaN</td>\n",
       "      <td>NaN</td>\n",
       "      <td>NaN</td>\n",
       "      <td>NaN</td>\n",
       "      <td>NaN</td>\n",
       "      <td>NaN</td>\n",
       "      <td>http://sharkattackfile.net/spreadsheets/pdf_di...</td>\n",
       "      <td>NaN</td>\n",
       "      <td>NaN</td>\n",
       "      <td>NaN</td>\n",
       "      <td>NaN</td>\n",
       "      <td>NaN</td>\n",
       "      <td>NaN</td>\n",
       "    </tr>\n",
       "  </tbody>\n",
       "</table>\n",
       "<p>6969 rows × 23 columns</p>\n",
       "</div>"
      ],
      "text/plain": [
       "             Date    Year        Type    Country              State  \\\n",
       "0     15 Mar 2024  2024.0  Unprovoked  AUSTRALIA         Queensland   \n",
       "1     04 Mar 2024  2024.0  Unprovoked        USA             Hawaii   \n",
       "2     02 Mar-2024  2024.0  Unprovoked        USA             Hawaii   \n",
       "3     25 Feb-2024  2024.0  Unprovoked  AUSTRALIA  Western Australia   \n",
       "4     14 Feb-2024  2024.0  Unprovoked      INDIA        Maharashtra   \n",
       "...           ...     ...         ...        ...                ...   \n",
       "6964          NaN     NaN         NaN        NaN                NaN   \n",
       "6965          NaN     NaN         NaN        NaN                NaN   \n",
       "6966          NaN     NaN         NaN        NaN                NaN   \n",
       "6967          NaN     NaN         NaN        NaN                NaN   \n",
       "6968          NaN     NaN         NaN        NaN                NaN   \n",
       "\n",
       "                              Location  Activity                 Name  Sex  \\\n",
       "0                        Bargara Beach  Swimming       Brooklyn Sauer    F   \n",
       "1                   Old Man's, Waikiki   Surfing        Matthew White    M   \n",
       "2                       Rainbows, Oahu  Swimming                  NaN    F   \n",
       "3           Sandlnd Island, Jurian Bay       NaN               female    F   \n",
       "4     Vaitarna River, Palghar District   Fishing  Vicky Suresh Govari    M   \n",
       "...                                ...       ...                  ...  ...   \n",
       "6964                               NaN       NaN                  NaN  NaN   \n",
       "6965                               NaN       NaN                  NaN  NaN   \n",
       "6966                               NaN       NaN                  NaN  NaN   \n",
       "6967                               NaN       NaN                  NaN  NaN   \n",
       "6968                               NaN       NaN                  NaN  NaN   \n",
       "\n",
       "      Age                                    Injury Unnamed: 11   Time  \\\n",
       "0      13  Minor injuries to back, abdomen and legs         NaN  16h00   \n",
       "1     NaN            No injury, shark bit surfboard           N    NaN   \n",
       "2      11                  Lacerations to left foot           N  13h30   \n",
       "3      46                                Leg bitten           N  11h30   \n",
       "4      32            Calf of lower left leg injured           N    NaN   \n",
       "...   ...                                       ...         ...    ...   \n",
       "6964  NaN                                       NaN         NaN    NaN   \n",
       "6965  NaN                                       NaN         NaN    NaN   \n",
       "6966  NaN                                       NaN         NaN    NaN   \n",
       "6967  NaN                                       NaN         NaN    NaN   \n",
       "6968  NaN                                       NaN         NaN    NaN   \n",
       "\n",
       "            Species                      Source  pdf  \\\n",
       "0        Tiger shark      Yahoo News, 3/15/2024  NaN   \n",
       "1     Tiger shark 8'          Surfer, 3/6/2024F  NaN   \n",
       "2     3' to 4' shark  Hawaii News Now, 3/4/2024  NaN   \n",
       "3        Tiger shark        WA Today, 2/26/2024  NaN   \n",
       "4     Bull shark, 7'  Times of India, 2/14/2024  NaN   \n",
       "...              ...                        ...  ...   \n",
       "6964             NaN                        NaN  NaN   \n",
       "6965             NaN                        NaN  NaN   \n",
       "6966             NaN                        NaN  NaN   \n",
       "6967             NaN                        NaN  NaN   \n",
       "6968             NaN                        NaN  NaN   \n",
       "\n",
       "                                           href formula href Case Number  \\\n",
       "0                                                   NaN  NaN         NaN   \n",
       "1                                                   NaN  NaN         NaN   \n",
       "2                                                   NaN  NaN         NaN   \n",
       "3                                                   NaN  NaN         NaN   \n",
       "4                                                   NaN  NaN         NaN   \n",
       "...                                                 ...  ...         ...   \n",
       "6964  http://sharkattackfile.net/spreadsheets/pdf_di...  NaN         NaN   \n",
       "6965  http://sharkattackfile.net/spreadsheets/pdf_di...  NaN         NaN   \n",
       "6966  http://sharkattackfile.net/spreadsheets/pdf_di...  NaN         NaN   \n",
       "6967  http://sharkattackfile.net/spreadsheets/pdf_di...  NaN         NaN   \n",
       "6968  http://sharkattackfile.net/spreadsheets/pdf_di...  NaN         NaN   \n",
       "\n",
       "     Case Number.1  original order Unnamed: 21 Unnamed: 22  \n",
       "0              NaN             NaN         NaN         NaN  \n",
       "1              NaN             NaN         NaN         NaN  \n",
       "2              NaN             NaN         NaN         NaN  \n",
       "3              NaN             NaN         NaN         NaN  \n",
       "4              NaN             NaN         NaN         NaN  \n",
       "...            ...             ...         ...         ...  \n",
       "6964           NaN             NaN         NaN         NaN  \n",
       "6965           NaN             NaN         NaN         NaN  \n",
       "6966           NaN             NaN         NaN         NaN  \n",
       "6967           NaN             NaN         NaN         NaN  \n",
       "6968           NaN             NaN         NaN         NaN  \n",
       "\n",
       "[6969 rows x 23 columns]"
      ]
     },
     "execution_count": 4,
     "metadata": {},
     "output_type": "execute_result"
    }
   ],
   "source": [
    "# Verificar el DataFrame\n",
    "df"
   ]
  },
  {
   "cell_type": "code",
   "execution_count": 5,
   "metadata": {},
   "outputs": [
    {
     "data": {
      "text/plain": [
       "Date                25\n",
       "Year                27\n",
       "Type                43\n",
       "Country             75\n",
       "State              507\n",
       "Location           590\n",
       "Activity           611\n",
       "Name               245\n",
       "Sex                604\n",
       "Age               3019\n",
       "Injury              60\n",
       "Unnamed: 11        587\n",
       "Time              3551\n",
       "Species           3157\n",
       "Source              44\n",
       "pdf                170\n",
       "href formula       150\n",
       "href               173\n",
       "Case Number        171\n",
       "Case Number.1      172\n",
       "original order     170\n",
       "Unnamed: 21       6968\n",
       "Unnamed: 22       6967\n",
       "dtype: int64"
      ]
     },
     "execution_count": 5,
     "metadata": {},
     "output_type": "execute_result"
    }
   ],
   "source": [
    "# Verificar valores faltantes\n",
    "df.isnull().sum()"
   ]
  },
  {
   "cell_type": "code",
   "execution_count": 6,
   "metadata": {},
   "outputs": [
    {
     "name": "stdout",
     "output_type": "stream",
     "text": [
      "<class 'pandas.core.frame.DataFrame'>\n",
      "RangeIndex: 6969 entries, 0 to 6968\n",
      "Data columns (total 23 columns):\n",
      " #   Column          Non-Null Count  Dtype  \n",
      "---  ------          --------------  -----  \n",
      " 0   Date            6944 non-null   object \n",
      " 1   Year            6942 non-null   float64\n",
      " 2   Type            6926 non-null   object \n",
      " 3   Country         6894 non-null   object \n",
      " 4   State           6462 non-null   object \n",
      " 5   Location        6379 non-null   object \n",
      " 6   Activity        6358 non-null   object \n",
      " 7   Name            6724 non-null   object \n",
      " 8   Sex             6365 non-null   object \n",
      " 9   Age             3950 non-null   object \n",
      " 10  Injury          6909 non-null   object \n",
      " 11  Unnamed: 11     6382 non-null   object \n",
      " 12  Time            3418 non-null   object \n",
      " 13  Species         3812 non-null   object \n",
      " 14  Source          6925 non-null   object \n",
      " 15  pdf             6799 non-null   object \n",
      " 16  href formula    6819 non-null   object \n",
      " 17  href            6796 non-null   object \n",
      " 18  Case Number     6798 non-null   object \n",
      " 19  Case Number.1   6797 non-null   object \n",
      " 20  original order  6799 non-null   float64\n",
      " 21  Unnamed: 21     1 non-null      object \n",
      " 22  Unnamed: 22     2 non-null      object \n",
      "dtypes: float64(2), object(21)\n",
      "memory usage: 1.2+ MB\n"
     ]
    }
   ],
   "source": [
    "df.info()"
   ]
  },
  {
   "cell_type": "markdown",
   "metadata": {},
   "source": [
    "### Eliminamos las filas anteriores al año 1700"
   ]
  },
  {
   "cell_type": "code",
   "execution_count": 7,
   "metadata": {},
   "outputs": [
    {
     "data": {
      "text/html": [
       "<div>\n",
       "<style scoped>\n",
       "    .dataframe tbody tr th:only-of-type {\n",
       "        vertical-align: middle;\n",
       "    }\n",
       "\n",
       "    .dataframe tbody tr th {\n",
       "        vertical-align: top;\n",
       "    }\n",
       "\n",
       "    .dataframe thead th {\n",
       "        text-align: right;\n",
       "    }\n",
       "</style>\n",
       "<table border=\"1\" class=\"dataframe\">\n",
       "  <thead>\n",
       "    <tr style=\"text-align: right;\">\n",
       "      <th></th>\n",
       "      <th>Date</th>\n",
       "      <th>Year</th>\n",
       "      <th>Type</th>\n",
       "      <th>Country</th>\n",
       "      <th>State</th>\n",
       "      <th>Location</th>\n",
       "      <th>Activity</th>\n",
       "      <th>Name</th>\n",
       "      <th>Sex</th>\n",
       "      <th>Age</th>\n",
       "      <th>Injury</th>\n",
       "      <th>Unnamed: 11</th>\n",
       "      <th>Time</th>\n",
       "      <th>Species</th>\n",
       "      <th>Source</th>\n",
       "      <th>pdf</th>\n",
       "      <th>href formula</th>\n",
       "      <th>href</th>\n",
       "      <th>Case Number</th>\n",
       "      <th>Case Number.1</th>\n",
       "      <th>original order</th>\n",
       "      <th>Unnamed: 21</th>\n",
       "      <th>Unnamed: 22</th>\n",
       "    </tr>\n",
       "  </thead>\n",
       "  <tbody>\n",
       "    <tr>\n",
       "      <th>6798</th>\n",
       "      <td>Late 1600s Reported 1728</td>\n",
       "      <td>1642.0</td>\n",
       "      <td>Invalid</td>\n",
       "      <td>GUINEA</td>\n",
       "      <td>NaN</td>\n",
       "      <td>NaN</td>\n",
       "      <td>Went overboard</td>\n",
       "      <td>crew member of the Nieuwstadt</td>\n",
       "      <td>M</td>\n",
       "      <td>NaN</td>\n",
       "      <td>FATAL</td>\n",
       "      <td>NaN</td>\n",
       "      <td>NaN</td>\n",
       "      <td>Questionable</td>\n",
       "      <td>History of the Pyrates, by D. Defoe, Vol. 2, p.28</td>\n",
       "      <td>1642.00.00.b-Nieuwstadt.pdf</td>\n",
       "      <td>http://sharkattackfile.net/spreadsheets/pdf_di...</td>\n",
       "      <td>http://sharkattackfile.net/spreadsheets/pdf_di...</td>\n",
       "      <td>1642.00.00.b</td>\n",
       "      <td>1642.00.00.b</td>\n",
       "      <td>145.0</td>\n",
       "      <td>NaN</td>\n",
       "      <td>NaN</td>\n",
       "    </tr>\n",
       "    <tr>\n",
       "      <th>6917</th>\n",
       "      <td>No date</td>\n",
       "      <td>0.0</td>\n",
       "      <td>Unprovoked</td>\n",
       "      <td>GREECE</td>\n",
       "      <td>Dodecanese Islands</td>\n",
       "      <td>Symi Island</td>\n",
       "      <td>Sponge diving</td>\n",
       "      <td>Psarofa-gomenes</td>\n",
       "      <td>M</td>\n",
       "      <td>NaN</td>\n",
       "      <td>Head bitten</td>\n",
       "      <td>N</td>\n",
       "      <td>NaN</td>\n",
       "      <td>NaN</td>\n",
       "      <td>M. N. Kalafatas</td>\n",
       "      <td>ND-0027-Psarofagomenos.pdf</td>\n",
       "      <td>http://sharkattackfile.net/spreadsheets/pdf_di...</td>\n",
       "      <td>http://sharkattackfile.net/spreadsheets/pdf_di...</td>\n",
       "      <td>ND.0027</td>\n",
       "      <td>ND.0027</td>\n",
       "      <td>28.0</td>\n",
       "      <td>NaN</td>\n",
       "      <td>NaN</td>\n",
       "    </tr>\n",
       "    <tr>\n",
       "      <th>6926</th>\n",
       "      <td>Before 1911</td>\n",
       "      <td>0.0</td>\n",
       "      <td>Unprovoked</td>\n",
       "      <td>VIETNAM</td>\n",
       "      <td>Ba Ria-Vung Tau  Province</td>\n",
       "      <td>Vũng Tàu</td>\n",
       "      <td>Swimming around anchored ship</td>\n",
       "      <td>crewman</td>\n",
       "      <td>M</td>\n",
       "      <td>NaN</td>\n",
       "      <td>Foot bitten</td>\n",
       "      <td>N</td>\n",
       "      <td>NaN</td>\n",
       "      <td>NaN</td>\n",
       "      <td>Daily Kennebec Journal, 3/27/1911</td>\n",
       "      <td>ND-0018-Vietnam.pdf</td>\n",
       "      <td>http://sharkattackfile.net/spreadsheets/pdf_di...</td>\n",
       "      <td>http://sharkattackfile.net/spreadsheets/pdf_di...</td>\n",
       "      <td>ND.0018</td>\n",
       "      <td>ND.0018</td>\n",
       "      <td>19.0</td>\n",
       "      <td>NaN</td>\n",
       "      <td>NaN</td>\n",
       "    </tr>\n",
       "    <tr>\n",
       "      <th>6931</th>\n",
       "      <td>No date (3 days after preceding incident) &amp; pr...</td>\n",
       "      <td>0.0</td>\n",
       "      <td>Unprovoked</td>\n",
       "      <td>SOUTH AFRICA</td>\n",
       "      <td>KwaZulu-Natal</td>\n",
       "      <td>Durban</td>\n",
       "      <td>Fishing</td>\n",
       "      <td>a native fisherman</td>\n",
       "      <td>M</td>\n",
       "      <td>NaN</td>\n",
       "      <td>FATAL, body not recovered but shark was caught...</td>\n",
       "      <td>Y</td>\n",
       "      <td>NaN</td>\n",
       "      <td>NaN</td>\n",
       "      <td>Rural New Yorker, 7/19/1913</td>\n",
       "      <td>ND-0013-Durban-native-fisherman.pdf</td>\n",
       "      <td>http://sharkattackfile.net/spreadsheets/pdf_di...</td>\n",
       "      <td>http://sharkattackfile.net/spreadsheets/pdf_di...</td>\n",
       "      <td>ND.0013</td>\n",
       "      <td>ND.0013</td>\n",
       "      <td>14.0</td>\n",
       "      <td>NaN</td>\n",
       "      <td>NaN</td>\n",
       "    </tr>\n",
       "    <tr>\n",
       "      <th>6875</th>\n",
       "      <td>No date, Before 1902</td>\n",
       "      <td>0.0</td>\n",
       "      <td>Unprovoked</td>\n",
       "      <td>USA</td>\n",
       "      <td>Florida</td>\n",
       "      <td>Mosquito Inlet (Ponce Inlet), Volusia County</td>\n",
       "      <td>Canoeing</td>\n",
       "      <td>male</td>\n",
       "      <td>M</td>\n",
       "      <td>NaN</td>\n",
       "      <td>FATAL</td>\n",
       "      <td>Y</td>\n",
       "      <td>NaN</td>\n",
       "      <td>NaN</td>\n",
       "      <td>W.H. Gregg, p.19;      L. Schultz &amp; M. Malin, ...</td>\n",
       "      <td>ND-0078-canoeist-mail-carrier.pdf</td>\n",
       "      <td>http://sharkattackfile.net/spreadsheets/pdf_di...</td>\n",
       "      <td>http://sharkattackfile.net/spreadsheets/pdf_di...</td>\n",
       "      <td>ND.0078</td>\n",
       "      <td>ND.0078</td>\n",
       "      <td>70.0</td>\n",
       "      <td>NaN</td>\n",
       "      <td>NaN</td>\n",
       "    </tr>\n",
       "    <tr>\n",
       "      <th>6799</th>\n",
       "      <td>1691</td>\n",
       "      <td>1691.0</td>\n",
       "      <td>Unprovoked</td>\n",
       "      <td>CANADA</td>\n",
       "      <td>Quebec</td>\n",
       "      <td>Gaspé</td>\n",
       "      <td>NaN</td>\n",
       "      <td>Sailor</td>\n",
       "      <td>M</td>\n",
       "      <td>NaN</td>\n",
       "      <td>FATAL</td>\n",
       "      <td>Y</td>\n",
       "      <td>NaN</td>\n",
       "      <td>NaN</td>\n",
       "      <td>Canadian Shark Attack Registry</td>\n",
       "      <td>NaN</td>\n",
       "      <td>NaN</td>\n",
       "      <td>NaN</td>\n",
       "      <td>NaN</td>\n",
       "      <td>NaN</td>\n",
       "      <td>NaN</td>\n",
       "      <td>NaN</td>\n",
       "      <td>NaN</td>\n",
       "    </tr>\n",
       "    <tr>\n",
       "      <th>6812</th>\n",
       "      <td>Ca.789-1033 A.D</td>\n",
       "      <td>1000.0</td>\n",
       "      <td>Unprovoked</td>\n",
       "      <td>USA</td>\n",
       "      <td>Puerto Rico</td>\n",
       "      <td>Archeological site</td>\n",
       "      <td>NaN</td>\n",
       "      <td>male</td>\n",
       "      <td>M</td>\n",
       "      <td>29</td>\n",
       "      <td>FATAL</td>\n",
       "      <td>N</td>\n",
       "      <td>NaN</td>\n",
       "      <td>Tiger shark</td>\n",
       "      <td>P. Seigel</td>\n",
       "      <td>1000AD-PuertoRico.pdf</td>\n",
       "      <td>http://sharkattackfile.net/spreadsheets/pdf_di...</td>\n",
       "      <td>http://sharkattackfile.net/spreadsheets/pdf_di...</td>\n",
       "      <td>1000.00.00</td>\n",
       "      <td>1000.00.00</td>\n",
       "      <td>133.0</td>\n",
       "      <td>NaN</td>\n",
       "      <td>NaN</td>\n",
       "    </tr>\n",
       "    <tr>\n",
       "      <th>6884</th>\n",
       "      <td>1960s</td>\n",
       "      <td>0.0</td>\n",
       "      <td>Unprovoked</td>\n",
       "      <td>IRAQ</td>\n",
       "      <td>Basrah</td>\n",
       "      <td>Shatt-al-Arab River</td>\n",
       "      <td>Swimming naked near a date palm where many dat...</td>\n",
       "      <td>male</td>\n",
       "      <td>M</td>\n",
       "      <td>6</td>\n",
       "      <td>Arm severed</td>\n",
       "      <td>N</td>\n",
       "      <td>Afternoon</td>\n",
       "      <td>Bull shark</td>\n",
       "      <td>B.W. Coad &amp; L.A.J. Al-Hassan</td>\n",
       "      <td>ND-0064-Shatt-al-Arab.pdf</td>\n",
       "      <td>http://sharkattackfile.net/spreadsheets/pdf_di...</td>\n",
       "      <td>http://sharkattackfile.net/spreadsheets/pdf_di...</td>\n",
       "      <td>ND.0064</td>\n",
       "      <td>ND.0064</td>\n",
       "      <td>61.0</td>\n",
       "      <td>NaN</td>\n",
       "      <td>NaN</td>\n",
       "    </tr>\n",
       "    <tr>\n",
       "      <th>6927</th>\n",
       "      <td>Before 1921</td>\n",
       "      <td>0.0</td>\n",
       "      <td>Unprovoked</td>\n",
       "      <td>SOUTH AFRICA</td>\n",
       "      <td>KwaZulu-Natal</td>\n",
       "      <td>Durban</td>\n",
       "      <td>Crew swimming alongside their anchored ship</td>\n",
       "      <td>male</td>\n",
       "      <td>M</td>\n",
       "      <td>NaN</td>\n",
       "      <td>FATAL</td>\n",
       "      <td>Y</td>\n",
       "      <td>NaN</td>\n",
       "      <td>NaN</td>\n",
       "      <td>Captain A. Anderson,  Natal Mercury, 12/31/192...</td>\n",
       "      <td>ND-0017-alongside-ship.pdf</td>\n",
       "      <td>http://sharkattackfile.net/spreadsheets/pdf_di...</td>\n",
       "      <td>http://sharkattackfile.net/spreadsheets/pdf_di...</td>\n",
       "      <td>ND.0017</td>\n",
       "      <td>ND.0017</td>\n",
       "      <td>18.0</td>\n",
       "      <td>NaN</td>\n",
       "      <td>NaN</td>\n",
       "    </tr>\n",
       "    <tr>\n",
       "      <th>6916</th>\n",
       "      <td>A few years before 1938</td>\n",
       "      <td>0.0</td>\n",
       "      <td>Watercraft</td>\n",
       "      <td>ITALY</td>\n",
       "      <td>Adriatic Sea</td>\n",
       "      <td>NaN</td>\n",
       "      <td>Wooden fishing boat</td>\n",
       "      <td>Occupant:     Mr. Maciotta</td>\n",
       "      <td>M</td>\n",
       "      <td>NaN</td>\n",
       "      <td>No injury to occupant; shark capsized boat</td>\n",
       "      <td>N</td>\n",
       "      <td>NaN</td>\n",
       "      <td>White shark</td>\n",
       "      <td>A. De Maddalena; Anon. (1938)</td>\n",
       "      <td>ND-0028-Maciotta.pdf</td>\n",
       "      <td>http://sharkattackfile.net/spreadsheets/pdf_di...</td>\n",
       "      <td>http://sharkattackfile.net/spreadsheets/pdf_di...</td>\n",
       "      <td>ND.0028</td>\n",
       "      <td>ND.0028</td>\n",
       "      <td>29.0</td>\n",
       "      <td>NaN</td>\n",
       "      <td>NaN</td>\n",
       "    </tr>\n",
       "  </tbody>\n",
       "</table>\n",
       "</div>"
      ],
      "text/plain": [
       "                                                   Date    Year        Type  \\\n",
       "6798                           Late 1600s Reported 1728  1642.0     Invalid   \n",
       "6917                                            No date     0.0  Unprovoked   \n",
       "6926                                        Before 1911     0.0  Unprovoked   \n",
       "6931  No date (3 days after preceding incident) & pr...     0.0  Unprovoked   \n",
       "6875                               No date, Before 1902     0.0  Unprovoked   \n",
       "6799                                               1691  1691.0  Unprovoked   \n",
       "6812                                    Ca.789-1033 A.D  1000.0  Unprovoked   \n",
       "6884                                              1960s     0.0  Unprovoked   \n",
       "6927                                        Before 1921     0.0  Unprovoked   \n",
       "6916                            A few years before 1938     0.0  Watercraft   \n",
       "\n",
       "           Country                      State  \\\n",
       "6798        GUINEA                        NaN   \n",
       "6917        GREECE         Dodecanese Islands   \n",
       "6926       VIETNAM  Ba Ria-Vung Tau  Province   \n",
       "6931  SOUTH AFRICA              KwaZulu-Natal   \n",
       "6875           USA                    Florida   \n",
       "6799        CANADA                     Quebec   \n",
       "6812           USA                Puerto Rico   \n",
       "6884          IRAQ                     Basrah   \n",
       "6927  SOUTH AFRICA              KwaZulu-Natal   \n",
       "6916         ITALY               Adriatic Sea   \n",
       "\n",
       "                                          Location  \\\n",
       "6798                                           NaN   \n",
       "6917                                   Symi Island   \n",
       "6926                                      Vũng Tàu   \n",
       "6931                                        Durban   \n",
       "6875  Mosquito Inlet (Ponce Inlet), Volusia County   \n",
       "6799                                         Gaspé   \n",
       "6812                            Archeological site   \n",
       "6884                          Shatt-al-Arab River    \n",
       "6927                                       Durban    \n",
       "6916                                           NaN   \n",
       "\n",
       "                                               Activity  \\\n",
       "6798                                     Went overboard   \n",
       "6917                                      Sponge diving   \n",
       "6926                      Swimming around anchored ship   \n",
       "6931                                            Fishing   \n",
       "6875                                           Canoeing   \n",
       "6799                                                NaN   \n",
       "6812                                                NaN   \n",
       "6884  Swimming naked near a date palm where many dat...   \n",
       "6927        Crew swimming alongside their anchored ship   \n",
       "6916                                Wooden fishing boat   \n",
       "\n",
       "                               Name Sex  Age  \\\n",
       "6798  crew member of the Nieuwstadt   M  NaN   \n",
       "6917                Psarofa-gomenes   M  NaN   \n",
       "6926                        crewman   M  NaN   \n",
       "6931             a native fisherman   M  NaN   \n",
       "6875                           male   M  NaN   \n",
       "6799                         Sailor   M  NaN   \n",
       "6812                           male   M   29   \n",
       "6884                           male   M    6   \n",
       "6927                           male   M  NaN   \n",
       "6916     Occupant:     Mr. Maciotta   M  NaN   \n",
       "\n",
       "                                                 Injury Unnamed: 11  \\\n",
       "6798                                              FATAL         NaN   \n",
       "6917                                        Head bitten           N   \n",
       "6926                                        Foot bitten           N   \n",
       "6931  FATAL, body not recovered but shark was caught...           Y   \n",
       "6875                                              FATAL           Y   \n",
       "6799                                              FATAL           Y   \n",
       "6812                                              FATAL           N   \n",
       "6884                                        Arm severed           N   \n",
       "6927                                              FATAL           Y   \n",
       "6916         No injury to occupant; shark capsized boat           N   \n",
       "\n",
       "           Time      Species   \\\n",
       "6798        NaN  Questionable   \n",
       "6917        NaN           NaN   \n",
       "6926        NaN           NaN   \n",
       "6931        NaN           NaN   \n",
       "6875        NaN           NaN   \n",
       "6799        NaN           NaN   \n",
       "6812        NaN   Tiger shark   \n",
       "6884  Afternoon    Bull shark   \n",
       "6927        NaN           NaN   \n",
       "6916        NaN   White shark   \n",
       "\n",
       "                                                 Source  \\\n",
       "6798  History of the Pyrates, by D. Defoe, Vol. 2, p.28   \n",
       "6917                                   M. N. Kalafatas    \n",
       "6926                  Daily Kennebec Journal, 3/27/1911   \n",
       "6931                       Rural New Yorker, 7/19/1913    \n",
       "6875  W.H. Gregg, p.19;      L. Schultz & M. Malin, ...   \n",
       "6799                     Canadian Shark Attack Registry   \n",
       "6812                                          P. Seigel   \n",
       "6884                       B.W. Coad & L.A.J. Al-Hassan   \n",
       "6927  Captain A. Anderson,  Natal Mercury, 12/31/192...   \n",
       "6916                      A. De Maddalena; Anon. (1938)   \n",
       "\n",
       "                                      pdf  \\\n",
       "6798          1642.00.00.b-Nieuwstadt.pdf   \n",
       "6917           ND-0027-Psarofagomenos.pdf   \n",
       "6926                  ND-0018-Vietnam.pdf   \n",
       "6931  ND-0013-Durban-native-fisherman.pdf   \n",
       "6875    ND-0078-canoeist-mail-carrier.pdf   \n",
       "6799                                  NaN   \n",
       "6812                1000AD-PuertoRico.pdf   \n",
       "6884            ND-0064-Shatt-al-Arab.pdf   \n",
       "6927           ND-0017-alongside-ship.pdf   \n",
       "6916                 ND-0028-Maciotta.pdf   \n",
       "\n",
       "                                           href formula  \\\n",
       "6798  http://sharkattackfile.net/spreadsheets/pdf_di...   \n",
       "6917  http://sharkattackfile.net/spreadsheets/pdf_di...   \n",
       "6926  http://sharkattackfile.net/spreadsheets/pdf_di...   \n",
       "6931  http://sharkattackfile.net/spreadsheets/pdf_di...   \n",
       "6875  http://sharkattackfile.net/spreadsheets/pdf_di...   \n",
       "6799                                                NaN   \n",
       "6812  http://sharkattackfile.net/spreadsheets/pdf_di...   \n",
       "6884  http://sharkattackfile.net/spreadsheets/pdf_di...   \n",
       "6927  http://sharkattackfile.net/spreadsheets/pdf_di...   \n",
       "6916  http://sharkattackfile.net/spreadsheets/pdf_di...   \n",
       "\n",
       "                                                   href   Case Number  \\\n",
       "6798  http://sharkattackfile.net/spreadsheets/pdf_di...  1642.00.00.b   \n",
       "6917  http://sharkattackfile.net/spreadsheets/pdf_di...       ND.0027   \n",
       "6926  http://sharkattackfile.net/spreadsheets/pdf_di...       ND.0018   \n",
       "6931  http://sharkattackfile.net/spreadsheets/pdf_di...       ND.0013   \n",
       "6875  http://sharkattackfile.net/spreadsheets/pdf_di...       ND.0078   \n",
       "6799                                                NaN           NaN   \n",
       "6812  http://sharkattackfile.net/spreadsheets/pdf_di...    1000.00.00   \n",
       "6884  http://sharkattackfile.net/spreadsheets/pdf_di...       ND.0064   \n",
       "6927  http://sharkattackfile.net/spreadsheets/pdf_di...       ND.0017   \n",
       "6916  http://sharkattackfile.net/spreadsheets/pdf_di...       ND.0028   \n",
       "\n",
       "     Case Number.1  original order Unnamed: 21 Unnamed: 22  \n",
       "6798  1642.00.00.b           145.0         NaN         NaN  \n",
       "6917       ND.0027            28.0         NaN         NaN  \n",
       "6926       ND.0018            19.0         NaN         NaN  \n",
       "6931       ND.0013            14.0         NaN         NaN  \n",
       "6875       ND.0078            70.0         NaN         NaN  \n",
       "6799           NaN             NaN         NaN         NaN  \n",
       "6812    1000.00.00           133.0         NaN         NaN  \n",
       "6884       ND.0064            61.0         NaN         NaN  \n",
       "6927       ND.0017            18.0         NaN         NaN  \n",
       "6916       ND.0028            29.0         NaN         NaN  "
      ]
     },
     "execution_count": 7,
     "metadata": {},
     "output_type": "execute_result"
    }
   ],
   "source": [
    "# Observamos los datos anteriores a 1700\n",
    "df[df['Year'] <= 1700].sample(10)"
   ]
  },
  {
   "cell_type": "markdown",
   "metadata": {},
   "source": [
    "Los datos de fechas en los casos más antiguos son un caos y faltan bastantes datos. Por eso tomamos la decisión de eliminar los datos anteriores a 1700."
   ]
  },
  {
   "cell_type": "code",
   "execution_count": 8,
   "metadata": {},
   "outputs": [],
   "source": [
    "# Eliminar las filas anteriores a 1700\n",
    "df = df[df['Year'] >= 1700]"
   ]
  },
  {
   "cell_type": "code",
   "execution_count": 9,
   "metadata": {},
   "outputs": [
    {
     "data": {
      "text/plain": [
       "Date                 0\n",
       "Year                 0\n",
       "Type                16\n",
       "Country             43\n",
       "State              450\n",
       "Location           522\n",
       "Activity           558\n",
       "Name               215\n",
       "Sex                569\n",
       "Age               2862\n",
       "Injury              28\n",
       "Unnamed: 11        558\n",
       "Time              3385\n",
       "Species           3024\n",
       "Source              19\n",
       "pdf                143\n",
       "href formula       148\n",
       "href               146\n",
       "Case Number        144\n",
       "Case Number.1      145\n",
       "original order     143\n",
       "Unnamed: 21       6795\n",
       "Unnamed: 22       6794\n",
       "dtype: int64"
      ]
     },
     "execution_count": 9,
     "metadata": {},
     "output_type": "execute_result"
    }
   ],
   "source": [
    "# Verificar valores faltantes\n",
    "df.isnull().sum()"
   ]
  },
  {
   "cell_type": "markdown",
   "metadata": {},
   "source": [
    "## Tratamiento de valores nulos"
   ]
  },
  {
   "cell_type": "markdown",
   "metadata": {},
   "source": [
    "Lo primero es eliminar las columnas que tienen más del 50% de valores nulos y las filas con muchos valores nulos."
   ]
  },
  {
   "cell_type": "code",
   "execution_count": 10,
   "metadata": {},
   "outputs": [],
   "source": [
    "# Eliminar columnas con más del 50% de valores faltantes\n",
    "missing_values_threshold = 0.5\n",
    "df = df.loc[:, df.isnull().mean() < missing_values_threshold]"
   ]
  },
  {
   "cell_type": "code",
   "execution_count": 11,
   "metadata": {},
   "outputs": [
    {
     "data": {
      "text/plain": [
       "Index(['Date', 'Year', 'Type', 'Country', 'State', 'Location', 'Activity',\n",
       "       'Name', 'Sex', 'Age', 'Injury', 'Unnamed: 11', 'Time', 'Species ',\n",
       "       'Source', 'pdf', 'href formula', 'href', 'Case Number', 'Case Number.1',\n",
       "       'original order'],\n",
       "      dtype='object')"
      ]
     },
     "execution_count": 11,
     "metadata": {},
     "output_type": "execute_result"
    }
   ],
   "source": [
    "df.columns"
   ]
  },
  {
   "cell_type": "code",
   "execution_count": 12,
   "metadata": {},
   "outputs": [],
   "source": [
    "# Eliminar filas con más de 5 valores faltantes\n",
    "df = df.dropna(thresh=len(df.columns) - 5)"
   ]
  },
  {
   "cell_type": "code",
   "execution_count": 13,
   "metadata": {},
   "outputs": [
    {
     "data": {
      "text/plain": [
       "Date                 0\n",
       "Year                 0\n",
       "Type                15\n",
       "Country             23\n",
       "State              375\n",
       "Location           435\n",
       "Activity           474\n",
       "Name               138\n",
       "Sex                478\n",
       "Age               2709\n",
       "Injury              19\n",
       "Unnamed: 11        508\n",
       "Time              3224\n",
       "Species           2867\n",
       "Source              18\n",
       "pdf                  0\n",
       "href formula         4\n",
       "href                 2\n",
       "Case Number          0\n",
       "Case Number.1        1\n",
       "original order       0\n",
       "dtype: int64"
      ]
     },
     "execution_count": 13,
     "metadata": {},
     "output_type": "execute_result"
    }
   ],
   "source": [
    "df.isnull().sum()"
   ]
  },
  {
   "cell_type": "markdown",
   "metadata": {},
   "source": [
    "## Eliminamos las columnas que no aportan información para nuestro estudio"
   ]
  },
  {
   "cell_type": "code",
   "execution_count": 14,
   "metadata": {},
   "outputs": [
    {
     "data": {
      "text/plain": [
       "Index(['Date', 'Year', 'Type', 'Country', 'State', 'Location', 'Activity',\n",
       "       'Name', 'Sex', 'Age', 'Injury', 'Unnamed: 11', 'Time', 'Species ',\n",
       "       'Source', 'pdf', 'href formula', 'href', 'Case Number', 'Case Number.1',\n",
       "       'original order'],\n",
       "      dtype='object')"
      ]
     },
     "execution_count": 14,
     "metadata": {},
     "output_type": "execute_result"
    }
   ],
   "source": [
    "# VISUALIZAR EL NOMBRE DE LAS COLUMNAS\n",
    "df.columns"
   ]
  },
  {
   "cell_type": "markdown",
   "metadata": {},
   "source": [
    "Eliminamos columnas como ‘pdf’, 'href', 'Case Number', 'original order', etc., que no aportan información útil para el estudio. También hay otras columnas que podrían aportar información interesante, pero debido a que los datos están recogidos sin ninguna estructura o que la mayoría son nulos, no podemos utilizarlas. Por eso eliminamos columnas como 'Injury', 'Species ', 'Source', etc."
   ]
  },
  {
   "cell_type": "code",
   "execution_count": 15,
   "metadata": {},
   "outputs": [],
   "source": [
    "# Eliminar columnas\n",
    "df = df.drop(['pdf', 'href formula', 'href', 'Case Number.1', 'Case Number', 'original order', 'Source', 'Name', 'Species ', 'Location', 'Injury', 'Year', 'Time', 'Type'], axis=1)\n"
   ]
  },
  {
   "cell_type": "code",
   "execution_count": 16,
   "metadata": {},
   "outputs": [
    {
     "data": {
      "text/plain": [
       "Index(['Date', 'Country', 'State', 'Activity', 'Sex', 'Age', 'Unnamed: 11'], dtype='object')"
      ]
     },
     "execution_count": 16,
     "metadata": {},
     "output_type": "execute_result"
    }
   ],
   "source": [
    "df.columns"
   ]
  },
  {
   "cell_type": "markdown",
   "metadata": {},
   "source": [
    "## Renombrar columna\n",
    "La columna unnamed: 11 hace referencia a la mortalidad del ataque. Le ponemos un nombre que tenga sentido."
   ]
  },
  {
   "cell_type": "code",
   "execution_count": 17,
   "metadata": {},
   "outputs": [],
   "source": [
    "# Renombrar columna unnamed: 11 por Died\n",
    "df.rename(columns={\"Unnamed: 11\": \"Deceased\"}, inplace=True)"
   ]
  },
  {
   "cell_type": "code",
   "execution_count": 18,
   "metadata": {},
   "outputs": [
    {
     "data": {
      "text/plain": [
       "Index(['Date', 'Country', 'State', 'Activity', 'Sex', 'Age', 'Deceased'], dtype='object')"
      ]
     },
     "execution_count": 18,
     "metadata": {},
     "output_type": "execute_result"
    }
   ],
   "source": [
    "df.columns"
   ]
  },
  {
   "cell_type": "markdown",
   "metadata": {},
   "source": [
    "## Análisis por columnas\n",
    "\n",
    "Procedemos a estudiar los valores únicos de cada columna e intentamos estandarizar lo máximo posible. Tratamos los nulos de la forma que mejor consideremos y se transforman los datos al tipo que necesitemos para el posterior análisis."
   ]
  },
  {
   "cell_type": "markdown",
   "metadata": {},
   "source": [
    "### Columna Country\n"
   ]
  },
  {
   "cell_type": "code",
   "execution_count": 19,
   "metadata": {},
   "outputs": [
    {
     "data": {
      "text/plain": [
       "207"
      ]
     },
     "execution_count": 19,
     "metadata": {},
     "output_type": "execute_result"
    }
   ],
   "source": [
    "# CANTIDAD DE VALORES UNICOS\n",
    "df['Country'].nunique()"
   ]
  },
  {
   "cell_type": "code",
   "execution_count": 20,
   "metadata": {},
   "outputs": [
    {
     "data": {
      "text/plain": [
       "array(['SOUTH AFRICA', 'BAHAMAS', 'USA', 'AUSTRALIA', 'ENGLAND', 'JAPAN',\n",
       "       'INDONESIA', 'EGYPT', 'JAMAICA', 'BELIZE', 'MALDIVES', 'THAILAND',\n",
       "       'FRENCH POLYNESIA', 'COLUMBIA', 'NEW ZEALAND', 'MEXICO',\n",
       "       'COSTA RICA', 'New Zealand', 'BRAZIL',\n",
       "       'British Overseas Territory', 'CANADA', 'ECUADOR', 'JORDAN',\n",
       "       'NEW CALEDONIA', 'ST KITTS / NEVIS', 'ST MARTIN', 'SPAIN', 'FIJI',\n",
       "       'SEYCHELLES', 'PAPUA NEW GUINEA', 'REUNION ISLAND', 'ISRAEL',\n",
       "       'CHINA', 'SAMOA', 'IRELAND', 'ITALY', 'COLOMBIA', 'MALAYSIA',\n",
       "       'LIBYA', nan, 'CUBA', 'MAURITIUS', 'SOLOMON ISLANDS',\n",
       "       'ST HELENA, British overseas territory', 'COMOROS', 'REUNION',\n",
       "       'UNITED KINGDOM', 'UNITED ARAB EMIRATES', 'PHILIPPINES',\n",
       "       'CAPE VERDE', 'Fiji', 'DOMINICAN REPUBLIC', 'CAYMAN ISLANDS',\n",
       "       'ARUBA', 'MOZAMBIQUE', 'PUERTO RICO', 'ATLANTIC OCEAN', 'GREECE',\n",
       "       'ST. MARTIN', 'FRANCE', 'TRINIDAD & TOBAGO', 'KIRIBATI',\n",
       "       'DIEGO GARCIA', 'TAIWAN', 'PALESTINIAN TERRITORIES', 'GUAM',\n",
       "       'NIGERIA', 'TONGA', 'SCOTLAND', 'CROATIA', 'SAUDI ARABIA', 'CHILE',\n",
       "       'ANTIGUA', 'KENYA', 'RUSSIA', 'TURKS & CAICOS',\n",
       "       'UNITED ARAB EMIRATES (UAE)', 'AZORES', 'SOUTH KOREA', 'MALTA',\n",
       "       'VIETNAM', 'MADAGASCAR', 'PANAMA', 'SOMALIA', 'NEVIS',\n",
       "       'BRITISH VIRGIN ISLANDS', 'NORWAY', 'YEMEN', 'GULF OF ADEN',\n",
       "       'Sierra Leone', 'ST. MAARTIN', 'GRAND CAYMAN', 'Seychelles',\n",
       "       'LIBERIA', 'VANUATU', 'MEXICO ', 'HONDURAS', 'VENEZUELA',\n",
       "       'SRI LANKA', ' TONGA', 'URUGUAY', 'INDIA', 'MICRONESIA',\n",
       "       'CARIBBEAN SEA', 'OKINAWA', 'TANZANIA', 'MARSHALL ISLANDS',\n",
       "       'SENEGAL', 'EGYPT / ISRAEL', 'NORTHERN ARABIAN SEA', 'HONG KONG',\n",
       "       'EL SALVADOR', 'ANGOLA', 'BERMUDA', 'MONTENEGRO', 'IRAN',\n",
       "       'TUNISIA', 'NAMIBIA', 'NORTH ATLANTIC OCEAN', 'PORTUGAL',\n",
       "       'SOUTH CHINA SEA', 'PALAU', 'WESTERN SAMOA', 'PACIFIC OCEAN ',\n",
       "       'BRITISH ISLES', 'GRENADA', 'IRAQ', 'TURKEY', 'SINGAPORE',\n",
       "       'NEW BRITAIN', 'SUDAN', 'JOHNSTON ISLAND', 'SOUTH PACIFIC OCEAN',\n",
       "       'NEW GUINEA', 'RED SEA', 'NORTH PACIFIC OCEAN',\n",
       "       'FEDERATED STATES OF MICRONESIA', 'MID ATLANTIC OCEAN',\n",
       "       'ADMIRALTY ISLANDS', 'BRITISH WEST INDIES', 'SOUTH ATLANTIC OCEAN',\n",
       "       'PERSIAN GULF', 'RED SEA / INDIAN OCEAN', 'PACIFIC OCEAN',\n",
       "       'NORTH SEA', 'NICARAGUA ', 'MALDIVE ISLANDS', 'AMERICAN SAMOA',\n",
       "       'ANDAMAN / NICOBAR ISLANDAS', 'GABON', 'MAYOTTE',\n",
       "       'NORTH ATLANTIC OCEAN ', 'THE BALKANS', 'SUDAN?', 'ARGENTINA',\n",
       "       'MARTINIQUE', 'INDIAN OCEAN', 'GUATEMALA', 'NETHERLANDS ANTILLES',\n",
       "       'NORTHERN MARIANA ISLANDS', 'IRAN / IRAQ', 'JAVA', 'SIERRA LEONE',\n",
       "       ' PHILIPPINES', 'NICARAGUA', 'CENTRAL PACIFIC',\n",
       "       'SOLOMON ISLANDS / VANUATU', 'SOUTHWEST PACIFIC OCEAN',\n",
       "       'BAY OF BENGAL', 'MID-PACIFC OCEAN', 'SLOVENIA', 'CURACAO',\n",
       "       'ICELAND', 'ITALY / CROATIA', 'BARBADOS', 'MONACO', 'GUYANA',\n",
       "       'HAITI', 'SAN DOMINGO', 'KUWAIT', 'YEMEN ', 'FALKLAND ISLANDS',\n",
       "       'CRETE', 'CYPRUS', 'EGYPT ', 'WEST INDIES', 'BURMA', 'LEBANON',\n",
       "       'BRITISH NEW GUINEA', 'OCEAN', 'GEORGIA', 'SYRIA', 'TUVALU',\n",
       "       'INDIAN OCEAN?', 'GUINEA', 'ANDAMAN ISLANDS', 'CEYLON',\n",
       "       'EQUATORIAL GUINEA / CAMEROON', 'COOK ISLANDS', 'TOBAGO', 'PERU',\n",
       "       'AFRICA', 'ALGERIA', 'Coast of AFRICA', 'TASMAN SEA', 'GHANA',\n",
       "       'MEDITERRANEAN SEA', 'SWEDEN'], dtype=object)"
      ]
     },
     "execution_count": 20,
     "metadata": {},
     "output_type": "execute_result"
    }
   ],
   "source": [
    "# VALORES UNICOS\n",
    "df['Country'].unique()"
   ]
  },
  {
   "cell_type": "markdown",
   "metadata": {},
   "source": [
    "Aplicamos varias técnicas para intentar estandarizar el nombre de los países, por si hay algunas opciones que hacen referencia al mismo país."
   ]
  },
  {
   "cell_type": "code",
   "execution_count": 21,
   "metadata": {},
   "outputs": [],
   "source": [
    "# Reemplazar minisculas por minusculas\n",
    "df['Country'] = df['Country'].str.lower()\n",
    "\n",
    "# Eliminar espacios en las celdas\n",
    "df['Country'] = df['Country'].str.strip()"
   ]
  },
  {
   "cell_type": "code",
   "execution_count": 22,
   "metadata": {},
   "outputs": [
    {
     "data": {
      "text/plain": [
       "195"
      ]
     },
     "execution_count": 22,
     "metadata": {},
     "output_type": "execute_result"
    }
   ],
   "source": [
    "df['Country'].nunique()"
   ]
  },
  {
   "cell_type": "markdown",
   "metadata": {},
   "source": [
    "### Columna State\n",
    "Aplicamos varias técnicas para intentar estandarizar el nombre de los estados."
   ]
  },
  {
   "cell_type": "code",
   "execution_count": 23,
   "metadata": {},
   "outputs": [
    {
     "data": {
      "text/plain": [
       "825"
      ]
     },
     "execution_count": 23,
     "metadata": {},
     "output_type": "execute_result"
    }
   ],
   "source": [
    "df['State'].nunique()"
   ]
  },
  {
   "cell_type": "code",
   "execution_count": 24,
   "metadata": {},
   "outputs": [
    {
     "data": {
      "text/plain": [
       "array(['Western Cape Province', nan, 'Hawaii', 'New South Wales',\n",
       "       'South Carolina', 'Westerm Australia', 'Florida', 'California',\n",
       "       'Cornwall', 'New York', 'Noirth Carolina', 'Okinawa', 'Bali',\n",
       "       'Hurghada, Red Sea Governorate', 'Western Australia',\n",
       "       'Ambergris Cay', 'Georgia', 'Phuket', 'Tahiti', 'Alabama',\n",
       "       'New Jersey', 'KZN', 'Isla De San Andres', 'South Island',\n",
       "       'Grand  Bahama Island', 'Queensland', 'Sonora', 'Guanacoste',\n",
       "       'KwaZulu-Natal', 'Quintana Roo', 'Victoria', 'São Paulo.',\n",
       "       'North Island', 'Turks and Caicos', 'Louisiana', 'Texas',\n",
       "       'Nova Scotia', 'Maryland', 'North Carolina', 'Pernambuco',\n",
       "       'Chanthaburi Province', 'Eastern Cape Province', 'BAHAMAS',\n",
       "       'Galapagos', 'Aqaba', 'West Sussex', 'Nouville', 'Ambergris Key',\n",
       "       'Westmoreland Parish', 'Marquesas', 'Loyalty Islands',\n",
       "       'South Australia', 'Maui', 'The Narrows', 'Raa Atoll', 'Oregon',\n",
       "       'South Sinai', 'South Province', ' Grand Bahama Island',\n",
       "       'Franklin County, Florida', 'Virgin Islands', 'Tasmania',\n",
       "       'Tuamotu Islands', 'Maine', 'Bahamas', 'Delaware', 'Abaco Islands',\n",
       "       'Muang district of Satun province, ', 'Canary Islands',\n",
       "       'Vanua Levu', 'Exumas', 'Southland', 'Phang Nga Province',\n",
       "       'Praslin', 'Central Province', 'Guerrero', 'Moorea', 'Baja ',\n",
       "       'Saint-Gilles', 'Guam', 'Northern Territory ', 'Cayman Islands',\n",
       "       'Rhode Island', 'Chatham Islands', 'Quinta Roo',\n",
       "       'Lucayan Archipelago', 'Bélep Islands', 'Noumea',\n",
       "       'Fernando de Noronha', 'Liaoning Province', 'New South Wales ',\n",
       "       'Upolo', 'St. Marys Parish', 'Massachusetts', 'County Cork',\n",
       "       'Chieti, Province', 'Guizhou Province',\n",
       "       'San Andres and Providencia Archipelago', 'The Exuma Cays',\n",
       "       'Colima', 'Hua Hin', 'Cocos Island', 'Alifu Alifu Atoll',\n",
       "       'New Providence', 'Alagoas', 'Boi Island, Victoria',\n",
       "       'Galapagos Islands', 'Sepang', 'Holquin Province',\n",
       "       'Pamplemousses ', ' Upolu Island', 'Shizuoka Prefecture',\n",
       "       'Castellón', 'Red Sea Protectorate', 'New Providence District',\n",
       "       '40 miles off Grand Bahama Island', 'Ascension Island', 'Majorca',\n",
       "       'Washington', 'Tabasco', 'Anjouan', 'Ibiza Island', 'South Devon',\n",
       "       'New Providence ', 'Sharjah, ', 'Baja California Sur', 'Saint-Leu',\n",
       "       'Luzon Island', 'Tamaulipas', 'Saint-Andre', 'Bimini', 'Tuamotos',\n",
       "       'North Province', 'New Providence Island', 'Alicante Province',\n",
       "       'Hong Kong', 'Kochi Prefecture', 'Isla Providencia', 'Suez',\n",
       "       'Grand Terre', 'Boa Vista Island', 'Santa Catarina State',\n",
       "       'Altagracia Province', 'Grand Cayman', 'Balneário Camboriú',\n",
       "       'Fujairah Emirate', 'Grand Canary Island', 'Inhambane Province',\n",
       "       'Alicante', 'Guanacaste', 'Bora Bora', 'Grand Bahama Island',\n",
       "       'Le Port', 'Rangiroa', 'Saint-Gilles-les-Bains', 'Sardinia',\n",
       "       'Sinaloa', 'Central Tuamotu', 'd’Étang-Salé', 'Granada',\n",
       "       'Cargados Carajos Shoals (St. Brandon)', 'Catalonia', 'West End',\n",
       "       'Atsumi peninsula', 'Palmyra Atoll', 'Wallis and Futuna',\n",
       "       'Baie de Sainte-Marie', 'Society Islands', 'Trinidad',\n",
       "       'Okinawa Prefecture', '740 miles SE of Tarawa Atoll',\n",
       "       'Southern District', 'Bay of Biscay', 'Exuma Islands',\n",
       "       'Saint-Paul', 'Taitung ', 'Kingston Parish', 'Santa Cruz Island',\n",
       "       'Tuamotus', 'Eleuthera', 'St. Catherine', 'Palawan',\n",
       "       'Mercury Islands', 'Delta', \"Vava'u\", 'Inner Hebrides',\n",
       "       'Saint Leu', 'Trois-Bassins', 'British Colombia', 'Saint-Benoit',\n",
       "       'Tabuk Province', 'Antofagasta Province', \"St John's\",\n",
       "       'Santa Elena', 'East New Britain', 'Bois-Blanc ', 'Moray',\n",
       "       'Puerto Rico', 'Samaná Province', 'Coast Province',\n",
       "       'Primorsky Krai',\n",
       "       'Peter the Great Bay, Khasan, Primorsky Krai (Far East)',\n",
       "       'Telyakovsky Bay, Khasan,  Primorsky Krai (Far East)', 'Sucre',\n",
       "       'Middle Caicos', 'Caicos Bank', 'San Andrés archipelago', 'Kedah',\n",
       "       'Umm al Qaywayan Province', 'Vitu Levu', 'South Sinai Peninsula',\n",
       "       ' Loyalty Islands', 'Saint Gilles ', 'Virginia', \"Ha'api \",\n",
       "       'Western Province', 'Jeju Province', 'Binh Dinh Province',\n",
       "       'Antsiranana Province', 'Sinai Peninsula', 'Off Vanua Levu',\n",
       "       'Merizo', 'Rio Grande Do Sul', 'Dubai', 'Torres Strait',\n",
       "       'Eastern Province', 'Eastern Cape  Province', 'Maputo Province',\n",
       "       'Bocas', 'Fife', 'Devon', 'Makira-Ulawa Province', 'Mombasa',\n",
       "       'Catalunya', 'St. Johns Reef', 'Off Green Island', 'North Region',\n",
       "       'Batangas province', 'Strait of Malacca', 'Guantanamo Province',\n",
       "       'Maranhão', 'Red Sea', 'Batanes Provine', 'Luzon',\n",
       "       'Northern Territory', ' Split-Dalmatia Count,', 'North Devon',\n",
       "       'US Virgin Islands', 'San Carlos', 'Cabo San Lucas', 'Sussex',\n",
       "       'Bahia', 'Easter Ross', 'Guerro', 'Yasawa Islands',\n",
       "       'Northern Bahamas', 'Tokyo Bay', 'Baja California', 'Green Bay',\n",
       "       'Marovo Lagoon', 'Territory of Cocos (Keeling) Islands',\n",
       "       'Oslo Fjord', 'Kent', 'Bird Island', 'Providenciales',\n",
       "       'Bimini Islands', 'Muhafazat Hadramawt', 'Cook islans',\n",
       "       'Surigao del Norte', 'Between Somalia & Yemen', 'Ambergris Caye',\n",
       "       'Saint-Pierre', 'Kentucky', 'Andros Islands', 'Western Area',\n",
       "       '300 miles from Antigua', '800 miles from land',\n",
       "       '600 nm west of the Canary Islands', 'Simpson Bay', 'East Wall',\n",
       "       'Inner Islands', 'Shanghai', 'Malampa Province',\n",
       "       \"South Ch'ungch'ong Province\", 'Bay Islands', 'New Mexico',\n",
       "       'Santa Isabel Province', 'Santiago de Cuba Province',\n",
       "       'Camaguey Province', 'Conservatória District', 'South Carolina ',\n",
       "       'Kuril Islands in the Pacific', 'Wakayama Prefecture',\n",
       "       \"Nuku'alofa\", 'Saint-Benoît',\n",
       "       'South Island, near Karitane north of Dunedin', 'Rocha',\n",
       "       'Northlands', 'Anzoategui', 'Cook Islands', 'Tamil Nadu',\n",
       "       'Pearl Islands', 'Taveuni', 'Johnston Atoll', 'Baatan',\n",
       "       'Rio de Janeiro', 'Nueva Esparta', 'North Pacific coast',\n",
       "       'Caroline Islands', 'Cheshire', 'Louisiade Archipelago',\n",
       "       'KwaZulu-Natal between Port Edward and Port St Johns',\n",
       "       'Milne Bay Province', 'Cikobia Island (north of Vanua Levu)',\n",
       "       'Rayong Province', 'Zamboanga del Sur Province',\n",
       "       'Rio Grande de Norte',\n",
       "       'Off the western coast of peninsular Malaysia', 'New Brunswick',\n",
       "       'Miyako Island', 'Alaska', 'Minerva Reef', 'Madang Province',\n",
       "       'Worcestershire', 'Phang nga Province', 'Alinglaplap Atoll',\n",
       "       'Adriatic Sea', 'Ralik Chain', 'Grand Baie',\n",
       "       \"L' Etang Salé-les-Bains\", 'Southern Japan', 'Cap Vert Peninsula',\n",
       "       'Marches region', 'Berry Islands', 'Transvaal', 'Gaza',\n",
       "       \"Grand'Anse\", 'Miyako', \"L'Etang-Sale\", 'Chatham Islands ',\n",
       "       'South Sinai, Gulf of Aqaba', 'Cat Cay', 'Missouri',\n",
       "       '12 miles off the north coast', 'Saint-Paul ',\n",
       "       'Chatham Islands, east of New  Zealand', 'Saint-Denis', 'Vava’u',\n",
       "       'Mississippi', 'Clearwater Bay', 'New Territories',\n",
       "       'Aichi Prefecture', 'Kagoshima Prefecture', 'Saint-Joseph',\n",
       "       'Banaadir Region', 'La Libertad', 'Costa Blanca', 'Walkers Cay',\n",
       "       'On the Kowloon penisula, south of Sai Kung', 'Ehime Prefecture',\n",
       "       'Tongapatu Group', 'West Africa', 'Wakaya Island',\n",
       "       'North Carolina ', 'Mexico / Caribbean Sea', 'Antarctic Ocean',\n",
       "       'La Saline-les-Bains', 'Sea of Japan', 'Tavenui', 'Ligurian Sea',\n",
       "       \"L'Etang-Salé\", 'Kowloon Peninsula', 'Port Shelter',\n",
       "       'Laucala Island', 'Sainte-Marie', 'Great Exuma Island',\n",
       "       'Sainte-Suzanne', 'Tuscany', 'Tyrrhenian Sea', 'New Ireland',\n",
       "       'Valpariso Province', 'Manfredonia ', 'Tokyo Prefecture',\n",
       "       'Saint-Louis', 'Mindoro', 'Between DR and Puerto Rico',\n",
       "       'Between Honiara & Isabel Island', 'Florida Straits', 'Cádiz',\n",
       "       'Sicily', 'Andikira Fokithes', 'Central Philippines',\n",
       "       'Northwest Italy', 'English Channel', 'North & South Carolina',\n",
       "       'Carolina coast', 'Kumamoto Prefecture', 'Biserta',\n",
       "       'Saint-Philippe', 'Chungnam', 'Eronogo Region', 'Coquimbo',\n",
       "       'Pagasitikos Gulf', \"St. Mary's Parish\", 'Romblon Province',\n",
       "       'Lamu Archipelago', 'Los Vilos', 'Island of Kos', \"Ha'api\",\n",
       "       'Madeira Islands', 'Ho Ha Wan Marine Park', 'Southern Thailand',\n",
       "       'Ralik Archipelago', 'South China Sea 200 miles from Hong Kong',\n",
       "       'Reggio Calabria Province', 'Mirs Bay ', 'Genoa Province',\n",
       "       ' Split-Dalmatia County', 'Florida ',\n",
       "       'Primorje-Gorski Kotar County ', 'Aulong Island',\n",
       "       'Western Caroline Islands', 'Upolu Island', 'Antibes',\n",
       "       'Illeginni Atoll', 'Istria County', 'Between Beira & Maputo',\n",
       "       'Istria ', 'Khuzestan Province', 'Inhambe Province',\n",
       "       'Namonuito Atoll', 'Eastern Caroline Islands',\n",
       "       'Western Caroline Islands (North Pacific Ocean)', 'Caribbean Sea',\n",
       "       'St. Andrew Parish', 'Limpopo River', 'New Ireland Province',\n",
       "       'Zadar County', 'Basrah', 'Clarendon', 'Moro Gulf', 'Johor',\n",
       "       'Magdalena Department', 'Gulf Province', 'Morobe Province',\n",
       "       'Limón Province', 'Rombion Province', 'Veracruz',\n",
       "       'Brindisi Province', 'Kagawa Prefecture', 'Liguria', 'Hamilton',\n",
       "       'Out Islands', 'Mugla Province', 'Gibraltar', 'New Britain',\n",
       "       'Bay of Maputo', 'Duke of York Islands', 'Taranto province',\n",
       "       'Northern Taiwan', 'Admiralty Islands, Manus Province',\n",
       "       'North Sumatra', \"250 miles southwest of O'ahu, Hawaii\",\n",
       "       'West coast', 'East Sepik', 'Near Bougainville (North Solomons)',\n",
       "       'East of the Gulf of Aqaba', 'Bougainville (North Solomons)',\n",
       "       'Victoria ', 'Okayama Prefecture', 'San Blas', 'Connecticut',\n",
       "       'Lau Group', 'Caribbean Coast', 'Vita Levu', 'San Blas Islands',\n",
       "       'Puntarenas Province', 'Lomaloma, Lau',\n",
       "       'Between Southampton & Canary Islands',\n",
       "       'South Coast, East New Britain', ' Lau Province', 'Ysabel Island',\n",
       "       'Santo Domingo', 'San Blas coast', 'Thessaly',\n",
       "       'Lomaiviti  Island Group', 'Rodrigues', 'Manus Island',\n",
       "       'Pinas Bay', 'Grand Turk Island', 'Off coast of West Africa',\n",
       "       'Sharon', 'Antalya Province', 'Northern District',\n",
       "       'New Ireland Province, Bismarck Archipelago', 'Cyclades',\n",
       "       'Viti Levu', 'Off the Coromandel Peninsula, North Island',\n",
       "       'Madang', 'Guadalcanal Province', '10ºS, 142ºE', 'Kwajalein Atoll',\n",
       "       'East Flores', 'Western Luzon Island', 'Shefa Province',\n",
       "       '165  miles from Bermuda',\n",
       "       '25 km off the coast of Iran & 483km from mouth of Persian Gulf',\n",
       "       'Venice Province', 'Sandaun Province', 'Anatolia',\n",
       "       'East New Britain Province', 'United Arab Emirates',\n",
       "       'Wake Island (EnenKio)', '19S, 178?E', 'Pennsylvania',\n",
       "       '9.35N 79.35W', 'Roncador Bank', 'Western District',\n",
       "       'Enroute from Suez to Aden (Yemen)',\n",
       "       '180 miles southeast of Okinawa', 'Eniwetok Atoll',\n",
       "       'Cap-Vert Peninsula', 'Delagoa Bay', 'In the English Channel ',\n",
       "       'Cook Strait', 'Unknown, treated at Wick, SCOTLAND',\n",
       "       'Corregidor Island', 'Paget', '33N, 68W', 'Casamance',\n",
       "       'Madang (WO)', 'Pacific coast', 'St. Georges ',\n",
       "       'Eastern  Province', 'Northwest of Viti Levu',\n",
       "       'West New Britain Province', 'Rigo subdistrict', 'Masbate',\n",
       "       '400 miles southeast of Sri Lanka', 'Lomaiviti Province', 'Kadavu',\n",
       "       'Leyte Island', 'Orissa', 'Guerrrero', 'Hokkaido Prefecture',\n",
       "       'North Palawan', 'Queaon', 'Istria', 'PANAMA',\n",
       "       'In the Gulf Stream ', 'Mersin Province', 'Guyamas',\n",
       "       'Between England & South Africa', 'Mindanao',\n",
       "       ' Kikori River mouth', 'South Chungcheong Province',\n",
       "       'Ahirkapi coast', 'Tutuila Island', 'Primorje-Gorski Kotar County',\n",
       "       'Between Hawaii & Wake Island', 'Taipei Hsien',\n",
       "       'Ibaraki Prefecture', 'South Pacific Ocean', 'Canal Zone',\n",
       "       'Honiara', 'Havana Province', 'Karun River',\n",
       "       'Abau Subdistrict,Central Province',\n",
       "       'New Britain, Bismarck Archipelago', 'Estuaire Province',\n",
       "       'Near Dakar, Cap Vert Peninsula',\n",
       "       'Near the Andaman & Nicobar Islands', 'Mozambique Channel',\n",
       "       'Tyrrenian Sea', 'Congreve Channel', 'St. Thomas Bay', 'Madeira',\n",
       "       'Between Comores & Madagascar', 'Corfu Island',\n",
       "       '1000 miles west of Hawaii', 'Izo Islands',\n",
       "       ' Primorje-Gorski Kotar County', 'Open sea', 'Aden',\n",
       "       'New Ireland, Bismarck Archipelago', '18S / 50E', 'Illinois',\n",
       "       'Isles del Rosario', 'Wake Island', 'Isle of Man',\n",
       "       'Nagasaki Prefecture', 'Liguaria', 'Slovenia', 'South shore ',\n",
       "       'Buenos Aires Province', 'Gulf of Panama', 'Genoa  Province',\n",
       "       'Abau Sub District, Central Province', 'Teramo', 'Red Sea State',\n",
       "       'Curacao', 'Port Louis Province', 'Montserrado', 'Bay of Maputu',\n",
       "       'Sofala Province', 'Salerno', 'Salerno Province', 'Taranto',\n",
       "       ' La Libertad', 'Sago Prefecture', 'Savona', 'Southern Province',\n",
       "       'Jakarta Harbour', 'Singapore Harbor', 'Calabria',\n",
       "       'Shatt-el-Arab River', 'Shatt-al-Arab River',\n",
       "       'Calvados Archipelago', 'Shat-Al-Arab River',\n",
       "       'Between Kwajalein Atoll & Johnston Island', 'Attica',\n",
       "       'Adana Province', 'Bandar Ma’shur sea inlet', 'Saipan',\n",
       "       'Carpathian Sea', 'Kwajalein', 'Dar-es-Salaam ',\n",
       "       '\"Head of the Gulf\"', 'Ryukyu', ' North Carolina',\n",
       "       'In transit between Tinian and Leyte', 'Northern Java', 'Tel Aviv',\n",
       "       'Colon Province', '300 miles east of Luzon',\n",
       "       'Bernardino Strait near Gulf of Leyte',\n",
       "       'Off Samar Island in the Gulf of Leyte',\n",
       "       'Lake Nicaragua (fresh water)', 'Pacific Ocean',\n",
       "       'Near the Fiji Islands', '40 miles south of Naples ',\n",
       "       'Northwest of Papua New Guinea', 'Between Hawaii and U.S.A.',\n",
       "       'Makora-Ulawa Province', 'Midway Atoll',\n",
       "       '300 miles east of St. Thomas (Virgin Islands)',\n",
       "       'West of Ceylon (Sri  Lanka)', 'East Java', 'Camiguin Island',\n",
       "       'Cay Sal Bank', '(Southwestern Pacific)', 'Panama City',\n",
       "       'Off Libya', 'Off coast of Ecuador', 'Trelawney Province',\n",
       "       'In Convoy OB 274', 'New Georgia', 'Panama Bay (Pacific Ocean)',\n",
       "       'Bwagaoia', 'Western Papuan Gulf', 'Torres Strait ', 'Carabobo',\n",
       "       'Ascension Bay', 'North China', 'Lower San Juan River',\n",
       "       'Nicoya Peninsula', 'Basrah City', 'West Bengal', 'Queensland ',\n",
       "       'Argyllshire', 'Arran', 'Argyll', 'Fishing Grounds',\n",
       "       'Newfoundland', 'Isle of Wight', 'Makira-Uluwa Province',\n",
       "       'Elqui Province', 'Istanbul', 'St Michael Parish',\n",
       "       'Barlavento Islands', 'Viti Levu Island', 'Bay of Fundy', 'Manila',\n",
       "       'French Southern Territories', 'Niua ', 'Black River',\n",
       "       'Phoenix Islands', 'Cienfuegos Province', 'Valencia',\n",
       "       'Santiago Island', 'Near Puntarenas', 'Porto Seguro',\n",
       "       'Salinas Bay', 'Golfo di Genova in the Ligurian Sea',\n",
       "       'Sants-Montjic', 'South of the Equator ', 'Bay of Monaco',\n",
       "       'Valencia ', 'Vancouver',\n",
       "       '2 to 3 miles off Taboguilla Island, Pacific Ocean', 'Dorset',\n",
       "       '150 miles offshore', 'Galica', 'Demerara County', 'Vera Cruz',\n",
       "       ' Manila Bay', 'Lucy', 'East Yorkshire', 'Cape Haitien', 'Leyte',\n",
       "       'Halifax', 'Turtle Bogue',\n",
       "       '60 miles north of San Domingo in the West Indies', 'Colon',\n",
       "       'Off Ireland', 'Mediterranean Sea', 'Gran Canaria',\n",
       "       'Apolima Strait', 'Essequibo', 'Lagos ', '5aint-Denis',\n",
       "       'Viti Levu group', 'Balearics', 'Málaga ', 'Georges Bank',\n",
       "       'Zambesi River', 'Colón Province', '30 nm from Singapore',\n",
       "       'Andalucia', 'Sfax', 'South Atlantic Ocean', 'Galicia',\n",
       "       'Gulf of Suez', 'Java', 'Tiburon Peninsula', 'Oaxaca',\n",
       "       'Harare Province', 'Khánh Hòa Province', 'Maluku Province',\n",
       "       'Suez Canal', ' Nusa Tenggara', 'Between Noumea & Sydney',\n",
       "       'Villa Clara Province', 'Ancona Province', 'Quezon',\n",
       "       'Rio San Juan', 'Southern Cyprus', 'Syracuse', 'Western Viscayas',\n",
       "       'Mindoro Occidental', 'Negros ', 'Imperia Province', 'Muala',\n",
       "       'East coast', 'Ratak ', 'Socotra Islands', 'Off Cape Haitien',\n",
       "       'Moluccas', 'Bocas del Toro', 'Provence', 'Bay of Campeche',\n",
       "       'Rangoon', 'Bay of Bengal', 'Bayelsa State', 'South Island?',\n",
       "       'Norfolk Island', 'Brittany', 'Line Islands', 'Woodlark Islands',\n",
       "       'Munxar Reef', 'Between Perth & Colombo', 'Gujarat', 'Cortés',\n",
       "       'Gulf of California',\n",
       "       'Somewhere between Philadelphia and Hiogo, Japan', ' New Jersey',\n",
       "       \"Côte d'Azur  \", 'Maldonado coast', 'Western Banks',\n",
       "       'Andaman Islands', 'Off the coast of West Africa',\n",
       "       'Misamis Oriental', 'Strait of Messina', 'Hoogly River',\n",
       "       'Cyclades archipelago', 'Mount Lebanon',\n",
       "       'Between Hastings & Fairlight, Sussex', 'Veracruz ',\n",
       "       'Gilbert Islands', 'Lomaiviti Provine',\n",
       "       'Off the coast of South America', '22ºN, 88ºE',\n",
       "       'Matanzas Province (north coast)', 'Alpes Maritime', 'Edinburgh',\n",
       "       'Eastern Catalona', '300 miles east of Mauritius',\n",
       "       'Foveaux Strait', 'Sumatra', 'Conakry Region', 'Corfu', 'Malaga',\n",
       "       'Bonin Islands', 'Fernando Po Island', 'Mangaia Island',\n",
       "       'New York ', 'Corfu ', 'Between Australia & USA', 'Tongatapu',\n",
       "       'Norfolk', 'Island of St. Thomas', 'Sanma Province',\n",
       "       \"35º39 : 165º8'\", 'CUBA', 'Western Area ', 'Paraiba', 'Cape Coast',\n",
       "       'Cumberland', 'Rivers State', 'Maharashtra', 'St. Anne',\n",
       "       'St Helena', \"Côte d'Azur \", 'Skagerrak arm of the North Sea',\n",
       "       'Las Perlas archipelago', 'Southwest coast'], dtype=object)"
      ]
     },
     "execution_count": 24,
     "metadata": {},
     "output_type": "execute_result"
    }
   ],
   "source": [
    "df['State'].unique()"
   ]
  },
  {
   "cell_type": "code",
   "execution_count": 25,
   "metadata": {},
   "outputs": [],
   "source": [
    "# Reemplazar minisculas por mayusculas\n",
    "df['State'] = df['State'].str.upper()\n",
    "\n",
    "# Eliminar espacios en las celdas\n",
    "df['State'] = df['State'].str.strip()\n",
    "\n",
    "# Reemplazar celdas vacias por NAN\n",
    "df['State'] = df['State'].replace({''}, 'NaN')"
   ]
  },
  {
   "cell_type": "code",
   "execution_count": 26,
   "metadata": {},
   "outputs": [
    {
     "data": {
      "text/plain": [
       "796"
      ]
     },
     "execution_count": 26,
     "metadata": {},
     "output_type": "execute_result"
    }
   ],
   "source": [
    "df['State'].nunique()"
   ]
  },
  {
   "cell_type": "markdown",
   "metadata": {},
   "source": [
    "### Columna Activity\n",
    "\n",
    "Aplicamos varias técnicas para intentar estandarizar las actividades posibles."
   ]
  },
  {
   "cell_type": "code",
   "execution_count": 27,
   "metadata": {},
   "outputs": [
    {
     "data": {
      "text/plain": [
       "array(['Swimming', 'Snorkeling', 'Swimming  or Snorkeling', ...,\n",
       "       \"a corsair's boat was overturned\", 'Washing himself',\n",
       "       'Fell overboard from a frigate & was swallowed by a shark. The captain fired a gun at the shark, and \"the creature cast the man out of his throat.\"'],\n",
       "      dtype=object)"
      ]
     },
     "execution_count": 27,
     "metadata": {},
     "output_type": "execute_result"
    }
   ],
   "source": [
    "df['Activity'].unique()"
   ]
  },
  {
   "cell_type": "code",
   "execution_count": 28,
   "metadata": {},
   "outputs": [
    {
     "data": {
      "text/plain": [
       "Surfing                                                                                                                                                 1089\n",
       "Swimming                                                                                                                                                 923\n",
       "Fishing                                                                                                                                                  465\n",
       "Spearfishing                                                                                                                                             369\n",
       "Wading                                                                                                                                                   164\n",
       "                                                                                                                                                        ... \n",
       "Picking up shark by the tail                                                                                                                               1\n",
       "Wading & pushing dinghy toward  the shallows                                                                                                               1\n",
       "Diving. Shark “swallowed’ his hand, so he threw his other around the shark and went “shark-back riding” for 30 yards until the shark opened its jaws       1\n",
       "Body surfing?                                                                                                                                              1\n",
       "Fell overboard from a frigate & was swallowed by a shark. The captain fired a gun at the shark, and \"the creature cast the man out of his throat.\"         1\n",
       "Name: Activity, Length: 1506, dtype: int64"
      ]
     },
     "execution_count": 28,
     "metadata": {},
     "output_type": "execute_result"
    }
   ],
   "source": [
    "df['Activity'].value_counts()"
   ]
  },
  {
   "cell_type": "code",
   "execution_count": 29,
   "metadata": {},
   "outputs": [
    {
     "data": {
      "text/plain": [
       "474"
      ]
     },
     "execution_count": 29,
     "metadata": {},
     "output_type": "execute_result"
    }
   ],
   "source": [
    "df['Activity'].isnull().sum()"
   ]
  },
  {
   "cell_type": "code",
   "execution_count": 30,
   "metadata": {},
   "outputs": [],
   "source": [
    "# Reemplazar valores NaN con 'Unknown'\n",
    "df['Activity'].fillna('Unspecific', inplace=True)\n",
    "\n",
    "# Convertir todo a minúsculas y eliminar espacios en blanco al inicio y final\n",
    "df['Activity'] = df['Activity'].str.lower().str.strip()"
   ]
  },
  {
   "cell_type": "markdown",
   "metadata": {},
   "source": [
    "Mediante expresiones regulares intentamos estandarizar al máximo posible. Aunque perdemos algún dato en realidad ganamos información. Aunque antes había menos nulos, los no nulos aportaban una información imposible de analizar."
   ]
  },
  {
   "cell_type": "code",
   "execution_count": 31,
   "metadata": {},
   "outputs": [],
   "source": [
    "\n",
    "# Definir una función para aplicar las expresiones regulares\n",
    "def standardize_activity(activity):\n",
    "    if re.search(r'swim|swimming', activity):\n",
    "        return 'swimming'\n",
    "    elif re.search(r'surf|surfing', activity):\n",
    "        return 'surfing'\n",
    "    elif re.search(r'dive|diving|snorkeling', activity):\n",
    "        return 'diving'\n",
    "    elif re.search(r'fish|fishing', activity):\n",
    "        return 'fishing'\n",
    "    elif re.search(r'kayak|canoe|paddle', activity):\n",
    "        return 'kayaking'\n",
    "    elif re.search(r'board|boat', activity):\n",
    "        return 'boarding'\n",
    "    elif re.search(r'wade|wading', activity):\n",
    "        return 'wading'\n",
    "    else:\n",
    "        return 'Unspecific'"
   ]
  },
  {
   "cell_type": "code",
   "execution_count": 32,
   "metadata": {},
   "outputs": [],
   "source": [
    "# Aplicar la función a la columna 'Activity'\n",
    "df['Activity'] = df['Activity'].apply(standardize_activity)"
   ]
  },
  {
   "cell_type": "code",
   "execution_count": 33,
   "metadata": {},
   "outputs": [
    {
     "data": {
      "text/plain": [
       "Unspecific    1504\n",
       "surfing       1377\n",
       "fishing       1179\n",
       "swimming      1172\n",
       "diving         679\n",
       "boarding       340\n",
       "wading         173\n",
       "kayaking        99\n",
       "Name: Activity, dtype: int64"
      ]
     },
     "execution_count": 33,
     "metadata": {},
     "output_type": "execute_result"
    }
   ],
   "source": [
    "# Verificar los resultados\n",
    "df['Activity'].value_counts()"
   ]
  },
  {
   "cell_type": "markdown",
   "metadata": {},
   "source": [
    "### Columna Sex\n",
    "\n",
    "Aplicamos varias técnicas para estandarizar la categoría a 3 posibles datos: F, M, Unknown."
   ]
  },
  {
   "cell_type": "code",
   "execution_count": 34,
   "metadata": {},
   "outputs": [
    {
     "data": {
      "text/plain": [
       "array(['F', 'M', nan, ' M', 'M ', 'lli', 'M x 2', 'N', '.'], dtype=object)"
      ]
     },
     "execution_count": 34,
     "metadata": {},
     "output_type": "execute_result"
    }
   ],
   "source": [
    "# Verificar valores unicos\n",
    "df['Sex'].unique()"
   ]
  },
  {
   "cell_type": "code",
   "execution_count": 35,
   "metadata": {},
   "outputs": [
    {
     "data": {
      "text/plain": [
       "478"
      ]
     },
     "execution_count": 35,
     "metadata": {},
     "output_type": "execute_result"
    }
   ],
   "source": [
    "# Verificar valores faltantes\n",
    "df['Sex'].isnull().sum()"
   ]
  },
  {
   "cell_type": "code",
   "execution_count": 36,
   "metadata": {},
   "outputs": [],
   "source": [
    "# Reemplazar valores NaN con 'Unknown'\n",
    "df['Sex'].fillna('Unknown', inplace=True)\n",
    "# Eliminar espacios en blanco al inicio y final\n",
    "df['Sex'] = df['Sex'].str.strip()"
   ]
  },
  {
   "cell_type": "code",
   "execution_count": 37,
   "metadata": {},
   "outputs": [],
   "source": [
    "# Creamos un diccionario de remplazos teniendo en cuenta los valores que hemos identificado\n",
    "dic_remplazos = {'M x 2': 'M', 'lli': 'M', 'N': 'M', '.': 'Unknown'}\n",
    "# Reemplazar \n",
    "df['Sex'] = df['Sex'].replace(dic_remplazos)\n",
    "\n"
   ]
  },
  {
   "cell_type": "code",
   "execution_count": 38,
   "metadata": {},
   "outputs": [
    {
     "data": {
      "text/plain": [
       "M          5315\n",
       "F           729\n",
       "Unknown     479\n",
       "Name: Sex, dtype: int64"
      ]
     },
     "execution_count": 38,
     "metadata": {},
     "output_type": "execute_result"
    }
   ],
   "source": [
    "# Verificar resultados\n",
    "df['Sex'].value_counts()"
   ]
  },
  {
   "cell_type": "markdown",
   "metadata": {},
   "source": [
    "### Columna Age\n",
    "\n",
    "Pasamos la edad a formato numérico. Perdemos algunos datos, pero ganamos información."
   ]
  },
  {
   "cell_type": "code",
   "execution_count": 39,
   "metadata": {},
   "outputs": [
    {
     "data": {
      "text/plain": [
       "2709"
      ]
     },
     "execution_count": 39,
     "metadata": {},
     "output_type": "execute_result"
    }
   ],
   "source": [
    "# Verificar valores faltantes\n",
    "df['Age'].isnull().sum()"
   ]
  },
  {
   "cell_type": "code",
   "execution_count": 40,
   "metadata": {},
   "outputs": [
    {
     "data": {
      "text/plain": [
       "5519     13\n",
       "5443     27\n",
       "6396    NaN\n",
       "1199    NaN\n",
       "2021     20\n",
       "2160     26\n",
       "4772    NaN\n",
       "5112     14\n",
       "3794    NaN\n",
       "1309    NaN\n",
       "363      50\n",
       "6108    NaN\n",
       "4315     19\n",
       "309      17\n",
       "2333     35\n",
       "6233    NaN\n",
       "2739     21\n",
       "678      31\n",
       "2506     49\n",
       "2226    NaN\n",
       "4069     21\n",
       "3843     29\n",
       "3249     21\n",
       "5349    NaN\n",
       "4196     20\n",
       "2403     12\n",
       "2707     12\n",
       "5645    NaN\n",
       "3782    NaN\n",
       "4379    NaN\n",
       "Name: Age, dtype: object"
      ]
     },
     "execution_count": 40,
     "metadata": {},
     "output_type": "execute_result"
    }
   ],
   "source": [
    "# Verificar el tipo de datos de la variable\n",
    "df['Age'].sample(30)"
   ]
  },
  {
   "cell_type": "code",
   "execution_count": 41,
   "metadata": {},
   "outputs": [],
   "source": [
    "# Convertir la columna 'Age' a numérica, con valores no numéricos convertidos a NaN\n",
    "df['Age'] = pd.to_numeric(df['Age'], errors='coerce')"
   ]
  },
  {
   "cell_type": "code",
   "execution_count": 42,
   "metadata": {},
   "outputs": [
    {
     "data": {
      "text/plain": [
       "dtype('float64')"
      ]
     },
     "execution_count": 42,
     "metadata": {},
     "output_type": "execute_result"
    }
   ],
   "source": [
    "# Verificar el tipo de datos de la variable\n",
    "df['Age'].dtype"
   ]
  },
  {
   "cell_type": "code",
   "execution_count": 43,
   "metadata": {},
   "outputs": [
    {
     "data": {
      "text/plain": [
       "2833"
      ]
     },
     "execution_count": 43,
     "metadata": {},
     "output_type": "execute_result"
    }
   ],
   "source": [
    "# Verificar valores faltantes\n",
    "df['Age'].isnull().sum()"
   ]
  },
  {
   "cell_type": "markdown",
   "metadata": {},
   "source": [
    "### Columna Deceased\n",
    "\n",
    "Aplicamos varias técnicas para estandarizar la categoría a 3 posibles datos: Y, N, Unknown."
   ]
  },
  {
   "cell_type": "code",
   "execution_count": 44,
   "metadata": {},
   "outputs": [
    {
     "data": {
      "text/plain": [
       "array(['Y', 'N', 'M', 'n', nan, 'Nq', 'F', 'UNKNOWN', 2017, 'Y x 2', ' N',\n",
       "       'N ', 'y'], dtype=object)"
      ]
     },
     "execution_count": 44,
     "metadata": {},
     "output_type": "execute_result"
    }
   ],
   "source": [
    "# Verificar valores unicos\n",
    "df['Deceased'].unique()"
   ]
  },
  {
   "cell_type": "code",
   "execution_count": 45,
   "metadata": {},
   "outputs": [
    {
     "data": {
      "text/plain": [
       "508"
      ]
     },
     "execution_count": 45,
     "metadata": {},
     "output_type": "execute_result"
    }
   ],
   "source": [
    "# Verificar valores faltantes\n",
    "df['Deceased'].isnull().sum()"
   ]
  },
  {
   "cell_type": "code",
   "execution_count": 46,
   "metadata": {},
   "outputs": [],
   "source": [
    "# Creamos un diccionario de remplazos teniendo en cuenta los valores que hemos identificado\n",
    "dic_remplazos_Deceased = {'M': 'UNKNOWN','F': 'UNKNOWN', 'Nq': 'UNKNOWN', 'Y x 2': 'Y'}\n",
    "\n",
    "# Eliminar espacios en blanco al inicio y final\n",
    "df['Deceased'] = df['Deceased'].str.strip()\n",
    "# Reemplazar valores\n",
    "df['Deceased'] = df['Deceased'].replace(dic_remplazos_Deceased)\n",
    "# Reemplazar minisculas por mayusculas\n",
    "df['Deceased'] = df['Deceased'].str.upper()\n",
    "# Reemplazar valores NaN con 'UNKNOWN'\n",
    "df['Deceased'].fillna('UNKNOWN', inplace=True)"
   ]
  },
  {
   "cell_type": "code",
   "execution_count": 47,
   "metadata": {},
   "outputs": [
    {
     "data": {
      "text/plain": [
       "array(['Y', 'N', 'UNKNOWN'], dtype=object)"
      ]
     },
     "execution_count": 47,
     "metadata": {},
     "output_type": "execute_result"
    }
   ],
   "source": [
    "# Verificar resultados\n",
    "df['Deceased'].unique()"
   ]
  },
  {
   "cell_type": "code",
   "execution_count": 48,
   "metadata": {},
   "outputs": [
    {
     "data": {
      "text/plain": [
       "N          4611\n",
       "Y          1342\n",
       "UNKNOWN     570\n",
       "Name: Deceased, dtype: int64"
      ]
     },
     "execution_count": 48,
     "metadata": {},
     "output_type": "execute_result"
    }
   ],
   "source": [
    "# Verificar valores\n",
    "df['Deceased'].value_counts()"
   ]
  },
  {
   "cell_type": "markdown",
   "metadata": {},
   "source": [
    "### Columna Date\n",
    "\n",
    "Estudiamos los formatos de fechas para realizar los cambios necesarios y para que al cambiar al formato fechas perdamos la menor cantidad de datos. Extraemos la información de mes y año a columnas independientes. "
   ]
  },
  {
   "cell_type": "code",
   "execution_count": 49,
   "metadata": {},
   "outputs": [
    {
     "data": {
      "text/plain": [
       "0"
      ]
     },
     "execution_count": 49,
     "metadata": {},
     "output_type": "execute_result"
    }
   ],
   "source": [
    "df['Date'].isna().sum()"
   ]
  },
  {
   "cell_type": "code",
   "execution_count": 50,
   "metadata": {},
   "outputs": [
    {
     "data": {
      "text/plain": [
       "3199                   30-Aug-1991\n",
       "1679                   16-Dec-2009\n",
       "340                    25-Oct-2020\n",
       "4538                      Apr-1961\n",
       "4398                   06-Jan-1963\n",
       "553                    09-Nov-2018\n",
       "4089                   11-Aug-1968\n",
       "1415                   03-Apr-2012\n",
       "538                    14-Jan-2019\n",
       "2783                   27-Aug-1998\n",
       "1070                   19-Jan-2015\n",
       "277                    11-Jun-2021\n",
       "150                    27-Jul-2022\n",
       "2824                         1998 \n",
       "5657                   14-Jan-1931\n",
       "2315                   23-Jan-2004\n",
       "4787          Reported 02-Jun-1958\n",
       "5931                   11-Oct-1916\n",
       "3017                          1995\n",
       "3602                   25-Jun-1982\n",
       "3184                   08-Jan-1992\n",
       "4690                   02-Sep-1959\n",
       "2846                   14-Aug-1997\n",
       "6691                   20-Jul-1844\n",
       "1186                   22-Mar-2014\n",
       "1388                   26-Jun-2012\n",
       "3849                      Jun-1975\n",
       "491                    30-Jun-2019\n",
       "6402                   26-Jul-1885\n",
       "4688    Between 10 and 12-Sep-1959\n",
       "Name: Date, dtype: object"
      ]
     },
     "execution_count": 50,
     "metadata": {},
     "output_type": "execute_result"
    }
   ],
   "source": [
    "# Mostrar valores unicos y visualizarlos\n",
    "df['Date'].sample(30)"
   ]
  },
  {
   "cell_type": "code",
   "execution_count": 51,
   "metadata": {},
   "outputs": [],
   "source": [
    "# Eliminar espacios en las celdas\n",
    "\n",
    "df['Date'] = df['Date'].str.strip()"
   ]
  },
  {
   "cell_type": "code",
   "execution_count": 52,
   "metadata": {},
   "outputs": [],
   "source": [
    "# Remplazar espacios y puntos por guiones\n",
    "df['Date'] = df['Date'].apply(lambda x: x.replace(' ', '-') if isinstance(x, str) else x)\n",
    "df['Date'] = df['Date'].apply(lambda x: x.replace('.', '-') if isinstance(x, str) else x)"
   ]
  },
  {
   "cell_type": "code",
   "execution_count": 53,
   "metadata": {},
   "outputs": [
    {
     "data": {
      "text/plain": [
       "2101             21-Apr-2006\n",
       "2060             15-Aug-2006\n",
       "5072             25-Jun-1951\n",
       "4227             10-Dec-1965\n",
       "3977             23-Oct-1971\n",
       "1056             18-Mar-2015\n",
       "2680             14-Mar-2000\n",
       "4625             14-Apr-1960\n",
       "4322             11-Feb-1964\n",
       "5046             23-Jan-1952\n",
       "5316                    1943\n",
       "4520             18-Jun-1961\n",
       "2942                    1996\n",
       "265              03-Jul-2021\n",
       "2802             29-May-1998\n",
       "3295             14-Jul-1989\n",
       "6215                Ca--1899\n",
       "563     Reported-16-Oct-2018\n",
       "5524             13-Nov-1935\n",
       "4126             15-Nov-1967\n",
       "3926             04-Apr-1973\n",
       "2621             19-Sep-2000\n",
       "2722             23-Aug-1999\n",
       "5042                May-1952\n",
       "3337             22-Aug-1988\n",
       "2162             22-Sep-2005\n",
       "5836             22-May-1923\n",
       "2317             21-Jan-2004\n",
       "4619             16-May-1960\n",
       "3022             13-Dec-1994\n",
       "Name: Date, dtype: object"
      ]
     },
     "execution_count": 53,
     "metadata": {},
     "output_type": "execute_result"
    }
   ],
   "source": [
    "# Mostrar valores unicos y visualizarlos\n",
    "df['Date'].sample(30)"
   ]
  },
  {
   "cell_type": "code",
   "execution_count": 54,
   "metadata": {},
   "outputs": [],
   "source": [
    "# Función para eliminar 'Reported-', 'Late-', y 'Early' \n",
    "\n",
    "df['Date'] = df['Date'].str.replace('^(Reported-|Late-|Early-)', '', regex=True)\n",
    "\n"
   ]
  },
  {
   "cell_type": "code",
   "execution_count": 55,
   "metadata": {},
   "outputs": [],
   "source": [
    "# Función para quitar el dia\n",
    "def quitar_dia(x):\n",
    "    parts = x.split('-')\n",
    "    if len(parts) == 3:\n",
    "        return '-'.join(parts[1:])   \n",
    "    return x  "
   ]
  },
  {
   "cell_type": "code",
   "execution_count": 56,
   "metadata": {},
   "outputs": [],
   "source": [
    "# Función para quitar el dia\n",
    "df['Date'] = df['Date'].apply(lambda x: quitar_dia(x) if isinstance(x, str) else x)"
   ]
  },
  {
   "cell_type": "code",
   "execution_count": 57,
   "metadata": {},
   "outputs": [
    {
     "data": {
      "text/plain": [
       "1975        Jul-2007\n",
       "6537        Aug-1871\n",
       "5666        Sep-1930\n",
       "2589        Feb-2001\n",
       "3575           -1983\n",
       "2346        Oct-2003\n",
       "313         Jan-2021\n",
       "1639        May-2010\n",
       "1837        Jul-2008\n",
       "4999        Jul-1953\n",
       "2801        May-1998\n",
       "623         May-2018\n",
       "6722    22--Jan-1831\n",
       "2211        Apr-2005\n",
       "751         May-2017\n",
       "5092        Oct-1950\n",
       "3045        Jul-1994\n",
       "3059        Apr-1994\n",
       "2076        Jul-2006\n",
       "5458            1938\n",
       "4396        Jan-1963\n",
       "3862        Feb-1975\n",
       "5576        Mar-1934\n",
       "4187        Aug-1966\n",
       "5722            1929\n",
       "1576        Dec-2010\n",
       "3102        Jul-1993\n",
       "2258        Aug-2004\n",
       "6340            1890\n",
       "2987        Nov-1984\n",
       "Name: Date, dtype: object"
      ]
     },
     "execution_count": 57,
     "metadata": {},
     "output_type": "execute_result"
    }
   ],
   "source": [
    "# Mostrar valores unicos y visualizarlos\n",
    "df['Date'].sample(30)"
   ]
  },
  {
   "cell_type": "code",
   "execution_count": 58,
   "metadata": {},
   "outputs": [],
   "source": [
    "df['Date'] = pd.to_datetime(df['Date'],format ='%b-%Y', errors='coerce')"
   ]
  },
  {
   "cell_type": "code",
   "execution_count": 59,
   "metadata": {},
   "outputs": [
    {
     "data": {
      "text/plain": [
       "Date        datetime64[ns]\n",
       "Country             object\n",
       "State               object\n",
       "Activity            object\n",
       "Sex                 object\n",
       "Age                float64\n",
       "Deceased            object\n",
       "dtype: object"
      ]
     },
     "execution_count": 59,
     "metadata": {},
     "output_type": "execute_result"
    }
   ],
   "source": [
    "df.dtypes"
   ]
  },
  {
   "cell_type": "code",
   "execution_count": 60,
   "metadata": {},
   "outputs": [
    {
     "data": {
      "text/plain": [
       "1848   2008-07-01\n",
       "5937   1916-07-01\n",
       "3866   1975-02-01\n",
       "5556   1934-12-01\n",
       "4049   1969-08-01\n",
       "4647   1960-01-01\n",
       "1656   2010-02-01\n",
       "6156   1903-01-01\n",
       "362    2020-08-01\n",
       "2081          NaT\n",
       "5907          NaT\n",
       "3169   1992-05-01\n",
       "5490          NaT\n",
       "2887   1996-11-01\n",
       "6647          NaT\n",
       "1938   2007-09-01\n",
       "5212   1947-03-01\n",
       "1814   2008-09-01\n",
       "2022   2007-01-01\n",
       "3183   1992-01-01\n",
       "1568   2011-01-01\n",
       "6672   1848-07-01\n",
       "5066   1951-08-01\n",
       "4452   1962-04-01\n",
       "1296   2013-04-01\n",
       "911    2016-03-01\n",
       "1596   2010-10-01\n",
       "637    2018-04-01\n",
       "3961   1972-04-01\n",
       "631    2018-04-01\n",
       "Name: Date, dtype: datetime64[ns]"
      ]
     },
     "execution_count": 60,
     "metadata": {},
     "output_type": "execute_result"
    }
   ],
   "source": [
    "df['Date'].sample(30)"
   ]
  },
  {
   "cell_type": "code",
   "execution_count": 61,
   "metadata": {},
   "outputs": [
    {
     "data": {
      "text/plain": [
       "469"
      ]
     },
     "execution_count": 61,
     "metadata": {},
     "output_type": "execute_result"
    }
   ],
   "source": [
    "df['Date'].isna().sum()"
   ]
  },
  {
   "cell_type": "code",
   "execution_count": 62,
   "metadata": {},
   "outputs": [],
   "source": [
    "# Extraer la columna de mes\n",
    "df['Month'] = df['Date'].dt.strftime('%B')\n",
    "\n",
    "# Extraer la columna de año\n",
    "df['Year'] = df['Date'].dt.year"
   ]
  },
  {
   "cell_type": "code",
   "execution_count": 63,
   "metadata": {},
   "outputs": [
    {
     "data": {
      "text/html": [
       "<div>\n",
       "<style scoped>\n",
       "    .dataframe tbody tr th:only-of-type {\n",
       "        vertical-align: middle;\n",
       "    }\n",
       "\n",
       "    .dataframe tbody tr th {\n",
       "        vertical-align: top;\n",
       "    }\n",
       "\n",
       "    .dataframe thead th {\n",
       "        text-align: right;\n",
       "    }\n",
       "</style>\n",
       "<table border=\"1\" class=\"dataframe\">\n",
       "  <thead>\n",
       "    <tr style=\"text-align: right;\">\n",
       "      <th></th>\n",
       "      <th>Date</th>\n",
       "      <th>Country</th>\n",
       "      <th>State</th>\n",
       "      <th>Activity</th>\n",
       "      <th>Sex</th>\n",
       "      <th>Age</th>\n",
       "      <th>Deceased</th>\n",
       "      <th>Month</th>\n",
       "      <th>Year</th>\n",
       "    </tr>\n",
       "  </thead>\n",
       "  <tbody>\n",
       "    <tr>\n",
       "      <th>138</th>\n",
       "      <td>2022-09-01</td>\n",
       "      <td>south africa</td>\n",
       "      <td>WESTERN CAPE PROVINCE</td>\n",
       "      <td>swimming</td>\n",
       "      <td>F</td>\n",
       "      <td>39.0</td>\n",
       "      <td>Y</td>\n",
       "      <td>September</td>\n",
       "      <td>2022.0</td>\n",
       "    </tr>\n",
       "    <tr>\n",
       "      <th>140</th>\n",
       "      <td>2022-09-01</td>\n",
       "      <td>bahamas</td>\n",
       "      <td>NaN</td>\n",
       "      <td>diving</td>\n",
       "      <td>F</td>\n",
       "      <td>58.0</td>\n",
       "      <td>Y</td>\n",
       "      <td>September</td>\n",
       "      <td>2022.0</td>\n",
       "    </tr>\n",
       "    <tr>\n",
       "      <th>141</th>\n",
       "      <td>2022-09-01</td>\n",
       "      <td>usa</td>\n",
       "      <td>HAWAII</td>\n",
       "      <td>swimming</td>\n",
       "      <td>F</td>\n",
       "      <td>51.0</td>\n",
       "      <td>N</td>\n",
       "      <td>September</td>\n",
       "      <td>2022.0</td>\n",
       "    </tr>\n",
       "    <tr>\n",
       "      <th>142</th>\n",
       "      <td>2022-08-01</td>\n",
       "      <td>australia</td>\n",
       "      <td>NEW SOUTH WALES</td>\n",
       "      <td>surfing</td>\n",
       "      <td>M</td>\n",
       "      <td>14.0</td>\n",
       "      <td>N</td>\n",
       "      <td>August</td>\n",
       "      <td>2022.0</td>\n",
       "    </tr>\n",
       "    <tr>\n",
       "      <th>143</th>\n",
       "      <td>2022-08-01</td>\n",
       "      <td>australia</td>\n",
       "      <td>NEW SOUTH WALES</td>\n",
       "      <td>kayaking</td>\n",
       "      <td>M</td>\n",
       "      <td>NaN</td>\n",
       "      <td>N</td>\n",
       "      <td>August</td>\n",
       "      <td>2022.0</td>\n",
       "    </tr>\n",
       "    <tr>\n",
       "      <th>...</th>\n",
       "      <td>...</td>\n",
       "      <td>...</td>\n",
       "      <td>...</td>\n",
       "      <td>...</td>\n",
       "      <td>...</td>\n",
       "      <td>...</td>\n",
       "      <td>...</td>\n",
       "      <td>...</td>\n",
       "      <td>...</td>\n",
       "    </tr>\n",
       "    <tr>\n",
       "      <th>6793</th>\n",
       "      <td>NaT</td>\n",
       "      <td>italy</td>\n",
       "      <td>SARDINIA</td>\n",
       "      <td>swimming</td>\n",
       "      <td>M</td>\n",
       "      <td>NaN</td>\n",
       "      <td>Y</td>\n",
       "      <td>NaN</td>\n",
       "      <td>NaN</td>\n",
       "    </tr>\n",
       "    <tr>\n",
       "      <th>6794</th>\n",
       "      <td>1703-03-01</td>\n",
       "      <td>barbados</td>\n",
       "      <td>SOUTHWEST COAST</td>\n",
       "      <td>swimming</td>\n",
       "      <td>M</td>\n",
       "      <td>19.0</td>\n",
       "      <td>N</td>\n",
       "      <td>March</td>\n",
       "      <td>1703.0</td>\n",
       "    </tr>\n",
       "    <tr>\n",
       "      <th>6795</th>\n",
       "      <td>NaT</td>\n",
       "      <td>france</td>\n",
       "      <td>NaN</td>\n",
       "      <td>Unspecific</td>\n",
       "      <td>M</td>\n",
       "      <td>NaN</td>\n",
       "      <td>Y</td>\n",
       "      <td>NaN</td>\n",
       "      <td>NaN</td>\n",
       "    </tr>\n",
       "    <tr>\n",
       "      <th>6796</th>\n",
       "      <td>NaT</td>\n",
       "      <td>france</td>\n",
       "      <td>CÔTE D'AZUR</td>\n",
       "      <td>Unspecific</td>\n",
       "      <td>M</td>\n",
       "      <td>NaN</td>\n",
       "      <td>N</td>\n",
       "      <td>NaN</td>\n",
       "      <td>NaN</td>\n",
       "    </tr>\n",
       "    <tr>\n",
       "      <th>6797</th>\n",
       "      <td>NaT</td>\n",
       "      <td>barbados</td>\n",
       "      <td>NaN</td>\n",
       "      <td>Unspecific</td>\n",
       "      <td>M</td>\n",
       "      <td>NaN</td>\n",
       "      <td>Y</td>\n",
       "      <td>NaN</td>\n",
       "      <td>NaN</td>\n",
       "    </tr>\n",
       "  </tbody>\n",
       "</table>\n",
       "<p>6523 rows × 9 columns</p>\n",
       "</div>"
      ],
      "text/plain": [
       "           Date       Country                  State    Activity Sex   Age  \\\n",
       "138  2022-09-01  south africa  WESTERN CAPE PROVINCE    swimming   F  39.0   \n",
       "140  2022-09-01       bahamas                    NaN      diving   F  58.0   \n",
       "141  2022-09-01           usa                 HAWAII    swimming   F  51.0   \n",
       "142  2022-08-01     australia        NEW SOUTH WALES     surfing   M  14.0   \n",
       "143  2022-08-01     australia        NEW SOUTH WALES    kayaking   M   NaN   \n",
       "...         ...           ...                    ...         ...  ..   ...   \n",
       "6793        NaT         italy               SARDINIA    swimming   M   NaN   \n",
       "6794 1703-03-01      barbados        SOUTHWEST COAST    swimming   M  19.0   \n",
       "6795        NaT        france                    NaN  Unspecific   M   NaN   \n",
       "6796        NaT        france            CÔTE D'AZUR  Unspecific   M   NaN   \n",
       "6797        NaT      barbados                    NaN  Unspecific   M   NaN   \n",
       "\n",
       "     Deceased      Month    Year  \n",
       "138         Y  September  2022.0  \n",
       "140         Y  September  2022.0  \n",
       "141         N  September  2022.0  \n",
       "142         N     August  2022.0  \n",
       "143         N     August  2022.0  \n",
       "...       ...        ...     ...  \n",
       "6793        Y        NaN     NaN  \n",
       "6794        N      March  1703.0  \n",
       "6795        Y        NaN     NaN  \n",
       "6796        N        NaN     NaN  \n",
       "6797        Y        NaN     NaN  \n",
       "\n",
       "[6523 rows x 9 columns]"
      ]
     },
     "execution_count": 63,
     "metadata": {},
     "output_type": "execute_result"
    }
   ],
   "source": [
    "df"
   ]
  },
  {
   "cell_type": "code",
   "execution_count": 64,
   "metadata": {},
   "outputs": [
    {
     "data": {
      "text/plain": [
       "Date        datetime64[ns]\n",
       "Country             object\n",
       "State               object\n",
       "Activity            object\n",
       "Sex                 object\n",
       "Age                float64\n",
       "Deceased            object\n",
       "Month               object\n",
       "Year               float64\n",
       "dtype: object"
      ]
     },
     "execution_count": 64,
     "metadata": {},
     "output_type": "execute_result"
    }
   ],
   "source": [
    "df.dtypes"
   ]
  },
  {
   "cell_type": "markdown",
   "metadata": {},
   "source": [
    "## Estudiar duplicados"
   ]
  },
  {
   "cell_type": "code",
   "execution_count": 65,
   "metadata": {},
   "outputs": [
    {
     "data": {
      "text/plain": [
       "142"
      ]
     },
     "execution_count": 65,
     "metadata": {},
     "output_type": "execute_result"
    }
   ],
   "source": [
    "# Verificar duplicados\n",
    "df.duplicated().sum()"
   ]
  },
  {
   "cell_type": "code",
   "execution_count": 66,
   "metadata": {},
   "outputs": [],
   "source": [
    "# Eliminar duplicados\n",
    "df.drop_duplicates(inplace = True)\n",
    "# Restablecer el índice\n",
    "df.reset_index(drop=True, inplace=True)"
   ]
  },
  {
   "cell_type": "code",
   "execution_count": 67,
   "metadata": {},
   "outputs": [
    {
     "data": {
      "text/plain": [
       "0"
      ]
     },
     "execution_count": 67,
     "metadata": {},
     "output_type": "execute_result"
    }
   ],
   "source": [
    "# Verificar duplicados\n",
    "df.duplicated().sum()"
   ]
  },
  {
   "cell_type": "code",
   "execution_count": 68,
   "metadata": {},
   "outputs": [
    {
     "data": {
      "text/html": [
       "<div>\n",
       "<style scoped>\n",
       "    .dataframe tbody tr th:only-of-type {\n",
       "        vertical-align: middle;\n",
       "    }\n",
       "\n",
       "    .dataframe tbody tr th {\n",
       "        vertical-align: top;\n",
       "    }\n",
       "\n",
       "    .dataframe thead th {\n",
       "        text-align: right;\n",
       "    }\n",
       "</style>\n",
       "<table border=\"1\" class=\"dataframe\">\n",
       "  <thead>\n",
       "    <tr style=\"text-align: right;\">\n",
       "      <th></th>\n",
       "      <th>Date</th>\n",
       "      <th>Country</th>\n",
       "      <th>State</th>\n",
       "      <th>Activity</th>\n",
       "      <th>Sex</th>\n",
       "      <th>Age</th>\n",
       "      <th>Deceased</th>\n",
       "      <th>Month</th>\n",
       "      <th>Year</th>\n",
       "    </tr>\n",
       "  </thead>\n",
       "  <tbody>\n",
       "    <tr>\n",
       "      <th>0</th>\n",
       "      <td>2022-09-01</td>\n",
       "      <td>south africa</td>\n",
       "      <td>WESTERN CAPE PROVINCE</td>\n",
       "      <td>swimming</td>\n",
       "      <td>F</td>\n",
       "      <td>39.0</td>\n",
       "      <td>Y</td>\n",
       "      <td>September</td>\n",
       "      <td>2022.0</td>\n",
       "    </tr>\n",
       "    <tr>\n",
       "      <th>1</th>\n",
       "      <td>2022-09-01</td>\n",
       "      <td>bahamas</td>\n",
       "      <td>NaN</td>\n",
       "      <td>diving</td>\n",
       "      <td>F</td>\n",
       "      <td>58.0</td>\n",
       "      <td>Y</td>\n",
       "      <td>September</td>\n",
       "      <td>2022.0</td>\n",
       "    </tr>\n",
       "    <tr>\n",
       "      <th>2</th>\n",
       "      <td>2022-09-01</td>\n",
       "      <td>usa</td>\n",
       "      <td>HAWAII</td>\n",
       "      <td>swimming</td>\n",
       "      <td>F</td>\n",
       "      <td>51.0</td>\n",
       "      <td>N</td>\n",
       "      <td>September</td>\n",
       "      <td>2022.0</td>\n",
       "    </tr>\n",
       "    <tr>\n",
       "      <th>3</th>\n",
       "      <td>2022-08-01</td>\n",
       "      <td>australia</td>\n",
       "      <td>NEW SOUTH WALES</td>\n",
       "      <td>surfing</td>\n",
       "      <td>M</td>\n",
       "      <td>14.0</td>\n",
       "      <td>N</td>\n",
       "      <td>August</td>\n",
       "      <td>2022.0</td>\n",
       "    </tr>\n",
       "    <tr>\n",
       "      <th>4</th>\n",
       "      <td>2022-08-01</td>\n",
       "      <td>australia</td>\n",
       "      <td>NEW SOUTH WALES</td>\n",
       "      <td>kayaking</td>\n",
       "      <td>M</td>\n",
       "      <td>NaN</td>\n",
       "      <td>N</td>\n",
       "      <td>August</td>\n",
       "      <td>2022.0</td>\n",
       "    </tr>\n",
       "    <tr>\n",
       "      <th>...</th>\n",
       "      <td>...</td>\n",
       "      <td>...</td>\n",
       "      <td>...</td>\n",
       "      <td>...</td>\n",
       "      <td>...</td>\n",
       "      <td>...</td>\n",
       "      <td>...</td>\n",
       "      <td>...</td>\n",
       "      <td>...</td>\n",
       "    </tr>\n",
       "    <tr>\n",
       "      <th>6376</th>\n",
       "      <td>NaT</td>\n",
       "      <td>italy</td>\n",
       "      <td>SARDINIA</td>\n",
       "      <td>swimming</td>\n",
       "      <td>M</td>\n",
       "      <td>NaN</td>\n",
       "      <td>Y</td>\n",
       "      <td>NaN</td>\n",
       "      <td>NaN</td>\n",
       "    </tr>\n",
       "    <tr>\n",
       "      <th>6377</th>\n",
       "      <td>1703-03-01</td>\n",
       "      <td>barbados</td>\n",
       "      <td>SOUTHWEST COAST</td>\n",
       "      <td>swimming</td>\n",
       "      <td>M</td>\n",
       "      <td>19.0</td>\n",
       "      <td>N</td>\n",
       "      <td>March</td>\n",
       "      <td>1703.0</td>\n",
       "    </tr>\n",
       "    <tr>\n",
       "      <th>6378</th>\n",
       "      <td>NaT</td>\n",
       "      <td>france</td>\n",
       "      <td>NaN</td>\n",
       "      <td>Unspecific</td>\n",
       "      <td>M</td>\n",
       "      <td>NaN</td>\n",
       "      <td>Y</td>\n",
       "      <td>NaN</td>\n",
       "      <td>NaN</td>\n",
       "    </tr>\n",
       "    <tr>\n",
       "      <th>6379</th>\n",
       "      <td>NaT</td>\n",
       "      <td>france</td>\n",
       "      <td>CÔTE D'AZUR</td>\n",
       "      <td>Unspecific</td>\n",
       "      <td>M</td>\n",
       "      <td>NaN</td>\n",
       "      <td>N</td>\n",
       "      <td>NaN</td>\n",
       "      <td>NaN</td>\n",
       "    </tr>\n",
       "    <tr>\n",
       "      <th>6380</th>\n",
       "      <td>NaT</td>\n",
       "      <td>barbados</td>\n",
       "      <td>NaN</td>\n",
       "      <td>Unspecific</td>\n",
       "      <td>M</td>\n",
       "      <td>NaN</td>\n",
       "      <td>Y</td>\n",
       "      <td>NaN</td>\n",
       "      <td>NaN</td>\n",
       "    </tr>\n",
       "  </tbody>\n",
       "</table>\n",
       "<p>6381 rows × 9 columns</p>\n",
       "</div>"
      ],
      "text/plain": [
       "           Date       Country                  State    Activity Sex   Age  \\\n",
       "0    2022-09-01  south africa  WESTERN CAPE PROVINCE    swimming   F  39.0   \n",
       "1    2022-09-01       bahamas                    NaN      diving   F  58.0   \n",
       "2    2022-09-01           usa                 HAWAII    swimming   F  51.0   \n",
       "3    2022-08-01     australia        NEW SOUTH WALES     surfing   M  14.0   \n",
       "4    2022-08-01     australia        NEW SOUTH WALES    kayaking   M   NaN   \n",
       "...         ...           ...                    ...         ...  ..   ...   \n",
       "6376        NaT         italy               SARDINIA    swimming   M   NaN   \n",
       "6377 1703-03-01      barbados        SOUTHWEST COAST    swimming   M  19.0   \n",
       "6378        NaT        france                    NaN  Unspecific   M   NaN   \n",
       "6379        NaT        france            CÔTE D'AZUR  Unspecific   M   NaN   \n",
       "6380        NaT      barbados                    NaN  Unspecific   M   NaN   \n",
       "\n",
       "     Deceased      Month    Year  \n",
       "0           Y  September  2022.0  \n",
       "1           Y  September  2022.0  \n",
       "2           N  September  2022.0  \n",
       "3           N     August  2022.0  \n",
       "4           N     August  2022.0  \n",
       "...       ...        ...     ...  \n",
       "6376        Y        NaN     NaN  \n",
       "6377        N      March  1703.0  \n",
       "6378        Y        NaN     NaN  \n",
       "6379        N        NaN     NaN  \n",
       "6380        Y        NaN     NaN  \n",
       "\n",
       "[6381 rows x 9 columns]"
      ]
     },
     "execution_count": 68,
     "metadata": {},
     "output_type": "execute_result"
    }
   ],
   "source": [
    "df"
   ]
  },
  {
   "cell_type": "markdown",
   "metadata": {},
   "source": [
    "## Guardar en CSV\n",
    "\n",
    "Guardamos los datos en un csv para usarlos para el EDA."
   ]
  },
  {
   "cell_type": "code",
   "execution_count": 69,
   "metadata": {},
   "outputs": [],
   "source": [
    "df.to_csv('clean_data.csv', index=False)"
   ]
  }
 ],
 "metadata": {
  "kernelspec": {
   "display_name": "base",
   "language": "python",
   "name": "python3"
  },
  "language_info": {
   "codemirror_mode": {
    "name": "ipython",
    "version": 3
   },
   "file_extension": ".py",
   "mimetype": "text/x-python",
   "name": "python",
   "nbconvert_exporter": "python",
   "pygments_lexer": "ipython3",
   "version": "3.9.13"
  }
 },
 "nbformat": 4,
 "nbformat_minor": 2
}
