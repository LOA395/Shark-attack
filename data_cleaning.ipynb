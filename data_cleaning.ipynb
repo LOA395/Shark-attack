{
 "cells": [
  {
   "cell_type": "markdown",
   "metadata": {},
   "source": [
    "## SHARK ATTACK"
   ]
  },
  {
   "cell_type": "markdown",
   "metadata": {},
   "source": [
    "### Importamos la base de datos y verificamos los datos"
   ]
  },
  {
   "cell_type": "code",
   "execution_count": 1,
   "metadata": {},
   "outputs": [],
   "source": [
    "import pandas as pd\n",
    "import numpy as np\n",
    "import re"
   ]
  },
  {
   "cell_type": "code",
   "execution_count": 2,
   "metadata": {},
   "outputs": [],
   "source": [
    "# Cargar el archivo de Excel usando Pandas\n",
    "url = 'https://www.sharkattackfile.net/spreadsheets/GSAF5.xls'\n",
    "df = pd.read_excel(url)"
   ]
  },
  {
   "cell_type": "code",
   "execution_count": 3,
   "metadata": {},
   "outputs": [
    {
     "data": {
      "text/html": [
       "<div>\n",
       "<style scoped>\n",
       "    .dataframe tbody tr th:only-of-type {\n",
       "        vertical-align: middle;\n",
       "    }\n",
       "\n",
       "    .dataframe tbody tr th {\n",
       "        vertical-align: top;\n",
       "    }\n",
       "\n",
       "    .dataframe thead th {\n",
       "        text-align: right;\n",
       "    }\n",
       "</style>\n",
       "<table border=\"1\" class=\"dataframe\">\n",
       "  <thead>\n",
       "    <tr style=\"text-align: right;\">\n",
       "      <th></th>\n",
       "      <th>Date</th>\n",
       "      <th>Year</th>\n",
       "      <th>Type</th>\n",
       "      <th>Country</th>\n",
       "      <th>State</th>\n",
       "      <th>Location</th>\n",
       "      <th>Activity</th>\n",
       "      <th>Name</th>\n",
       "      <th>Sex</th>\n",
       "      <th>Age</th>\n",
       "      <th>...</th>\n",
       "      <th>Species</th>\n",
       "      <th>Source</th>\n",
       "      <th>pdf</th>\n",
       "      <th>href formula</th>\n",
       "      <th>href</th>\n",
       "      <th>Case Number</th>\n",
       "      <th>Case Number.1</th>\n",
       "      <th>original order</th>\n",
       "      <th>Unnamed: 21</th>\n",
       "      <th>Unnamed: 22</th>\n",
       "    </tr>\n",
       "  </thead>\n",
       "  <tbody>\n",
       "    <tr>\n",
       "      <th>0</th>\n",
       "      <td>15 Mar 2024</td>\n",
       "      <td>2024.0</td>\n",
       "      <td>Unprovoked</td>\n",
       "      <td>AUSTRALIA</td>\n",
       "      <td>Queensland</td>\n",
       "      <td>Bargara Beach</td>\n",
       "      <td>Swimming</td>\n",
       "      <td>Brooklyn Sauer</td>\n",
       "      <td>F</td>\n",
       "      <td>13</td>\n",
       "      <td>...</td>\n",
       "      <td>Tiger shark</td>\n",
       "      <td>Yahoo News, 3/15/2024</td>\n",
       "      <td>NaN</td>\n",
       "      <td>NaN</td>\n",
       "      <td>NaN</td>\n",
       "      <td>NaN</td>\n",
       "      <td>NaN</td>\n",
       "      <td>NaN</td>\n",
       "      <td>NaN</td>\n",
       "      <td>NaN</td>\n",
       "    </tr>\n",
       "    <tr>\n",
       "      <th>1</th>\n",
       "      <td>04 Mar 2024</td>\n",
       "      <td>2024.0</td>\n",
       "      <td>Unprovoked</td>\n",
       "      <td>USA</td>\n",
       "      <td>Hawaii</td>\n",
       "      <td>Old Man's, Waikiki</td>\n",
       "      <td>Surfing</td>\n",
       "      <td>Matthew White</td>\n",
       "      <td>M</td>\n",
       "      <td>NaN</td>\n",
       "      <td>...</td>\n",
       "      <td>Tiger shark 8'</td>\n",
       "      <td>Surfer, 3/6/2024F</td>\n",
       "      <td>NaN</td>\n",
       "      <td>NaN</td>\n",
       "      <td>NaN</td>\n",
       "      <td>NaN</td>\n",
       "      <td>NaN</td>\n",
       "      <td>NaN</td>\n",
       "      <td>NaN</td>\n",
       "      <td>NaN</td>\n",
       "    </tr>\n",
       "    <tr>\n",
       "      <th>2</th>\n",
       "      <td>02 Mar-2024</td>\n",
       "      <td>2024.0</td>\n",
       "      <td>Unprovoked</td>\n",
       "      <td>USA</td>\n",
       "      <td>Hawaii</td>\n",
       "      <td>Rainbows, Oahu</td>\n",
       "      <td>Swimming</td>\n",
       "      <td>NaN</td>\n",
       "      <td>F</td>\n",
       "      <td>11</td>\n",
       "      <td>...</td>\n",
       "      <td>3' to 4' shark</td>\n",
       "      <td>Hawaii News Now, 3/4/2024</td>\n",
       "      <td>NaN</td>\n",
       "      <td>NaN</td>\n",
       "      <td>NaN</td>\n",
       "      <td>NaN</td>\n",
       "      <td>NaN</td>\n",
       "      <td>NaN</td>\n",
       "      <td>NaN</td>\n",
       "      <td>NaN</td>\n",
       "    </tr>\n",
       "    <tr>\n",
       "      <th>3</th>\n",
       "      <td>25 Feb-2024</td>\n",
       "      <td>2024.0</td>\n",
       "      <td>Unprovoked</td>\n",
       "      <td>AUSTRALIA</td>\n",
       "      <td>Western Australia</td>\n",
       "      <td>Sandlnd Island, Jurian Bay</td>\n",
       "      <td>NaN</td>\n",
       "      <td>female</td>\n",
       "      <td>F</td>\n",
       "      <td>46</td>\n",
       "      <td>...</td>\n",
       "      <td>Tiger shark</td>\n",
       "      <td>WA Today, 2/26/2024</td>\n",
       "      <td>NaN</td>\n",
       "      <td>NaN</td>\n",
       "      <td>NaN</td>\n",
       "      <td>NaN</td>\n",
       "      <td>NaN</td>\n",
       "      <td>NaN</td>\n",
       "      <td>NaN</td>\n",
       "      <td>NaN</td>\n",
       "    </tr>\n",
       "    <tr>\n",
       "      <th>4</th>\n",
       "      <td>14 Feb-2024</td>\n",
       "      <td>2024.0</td>\n",
       "      <td>Unprovoked</td>\n",
       "      <td>INDIA</td>\n",
       "      <td>Maharashtra</td>\n",
       "      <td>Vaitarna River, Palghar District</td>\n",
       "      <td>Fishing</td>\n",
       "      <td>Vicky Suresh Govari</td>\n",
       "      <td>M</td>\n",
       "      <td>32</td>\n",
       "      <td>...</td>\n",
       "      <td>Bull shark, 7'</td>\n",
       "      <td>Times of India, 2/14/2024</td>\n",
       "      <td>NaN</td>\n",
       "      <td>NaN</td>\n",
       "      <td>NaN</td>\n",
       "      <td>NaN</td>\n",
       "      <td>NaN</td>\n",
       "      <td>NaN</td>\n",
       "      <td>NaN</td>\n",
       "      <td>NaN</td>\n",
       "    </tr>\n",
       "    <tr>\n",
       "      <th>...</th>\n",
       "      <td>...</td>\n",
       "      <td>...</td>\n",
       "      <td>...</td>\n",
       "      <td>...</td>\n",
       "      <td>...</td>\n",
       "      <td>...</td>\n",
       "      <td>...</td>\n",
       "      <td>...</td>\n",
       "      <td>...</td>\n",
       "      <td>...</td>\n",
       "      <td>...</td>\n",
       "      <td>...</td>\n",
       "      <td>...</td>\n",
       "      <td>...</td>\n",
       "      <td>...</td>\n",
       "      <td>...</td>\n",
       "      <td>...</td>\n",
       "      <td>...</td>\n",
       "      <td>...</td>\n",
       "      <td>...</td>\n",
       "      <td>...</td>\n",
       "    </tr>\n",
       "    <tr>\n",
       "      <th>6964</th>\n",
       "      <td>NaN</td>\n",
       "      <td>NaN</td>\n",
       "      <td>NaN</td>\n",
       "      <td>NaN</td>\n",
       "      <td>NaN</td>\n",
       "      <td>NaN</td>\n",
       "      <td>NaN</td>\n",
       "      <td>NaN</td>\n",
       "      <td>NaN</td>\n",
       "      <td>NaN</td>\n",
       "      <td>...</td>\n",
       "      <td>NaN</td>\n",
       "      <td>NaN</td>\n",
       "      <td>NaN</td>\n",
       "      <td>http://sharkattackfile.net/spreadsheets/pdf_di...</td>\n",
       "      <td>NaN</td>\n",
       "      <td>NaN</td>\n",
       "      <td>NaN</td>\n",
       "      <td>NaN</td>\n",
       "      <td>NaN</td>\n",
       "      <td>NaN</td>\n",
       "    </tr>\n",
       "    <tr>\n",
       "      <th>6965</th>\n",
       "      <td>NaN</td>\n",
       "      <td>NaN</td>\n",
       "      <td>NaN</td>\n",
       "      <td>NaN</td>\n",
       "      <td>NaN</td>\n",
       "      <td>NaN</td>\n",
       "      <td>NaN</td>\n",
       "      <td>NaN</td>\n",
       "      <td>NaN</td>\n",
       "      <td>NaN</td>\n",
       "      <td>...</td>\n",
       "      <td>NaN</td>\n",
       "      <td>NaN</td>\n",
       "      <td>NaN</td>\n",
       "      <td>http://sharkattackfile.net/spreadsheets/pdf_di...</td>\n",
       "      <td>NaN</td>\n",
       "      <td>NaN</td>\n",
       "      <td>NaN</td>\n",
       "      <td>NaN</td>\n",
       "      <td>NaN</td>\n",
       "      <td>NaN</td>\n",
       "    </tr>\n",
       "    <tr>\n",
       "      <th>6966</th>\n",
       "      <td>NaN</td>\n",
       "      <td>NaN</td>\n",
       "      <td>NaN</td>\n",
       "      <td>NaN</td>\n",
       "      <td>NaN</td>\n",
       "      <td>NaN</td>\n",
       "      <td>NaN</td>\n",
       "      <td>NaN</td>\n",
       "      <td>NaN</td>\n",
       "      <td>NaN</td>\n",
       "      <td>...</td>\n",
       "      <td>NaN</td>\n",
       "      <td>NaN</td>\n",
       "      <td>NaN</td>\n",
       "      <td>http://sharkattackfile.net/spreadsheets/pdf_di...</td>\n",
       "      <td>NaN</td>\n",
       "      <td>NaN</td>\n",
       "      <td>NaN</td>\n",
       "      <td>NaN</td>\n",
       "      <td>NaN</td>\n",
       "      <td>NaN</td>\n",
       "    </tr>\n",
       "    <tr>\n",
       "      <th>6967</th>\n",
       "      <td>NaN</td>\n",
       "      <td>NaN</td>\n",
       "      <td>NaN</td>\n",
       "      <td>NaN</td>\n",
       "      <td>NaN</td>\n",
       "      <td>NaN</td>\n",
       "      <td>NaN</td>\n",
       "      <td>NaN</td>\n",
       "      <td>NaN</td>\n",
       "      <td>NaN</td>\n",
       "      <td>...</td>\n",
       "      <td>NaN</td>\n",
       "      <td>NaN</td>\n",
       "      <td>NaN</td>\n",
       "      <td>http://sharkattackfile.net/spreadsheets/pdf_di...</td>\n",
       "      <td>NaN</td>\n",
       "      <td>NaN</td>\n",
       "      <td>NaN</td>\n",
       "      <td>NaN</td>\n",
       "      <td>NaN</td>\n",
       "      <td>NaN</td>\n",
       "    </tr>\n",
       "    <tr>\n",
       "      <th>6968</th>\n",
       "      <td>NaN</td>\n",
       "      <td>NaN</td>\n",
       "      <td>NaN</td>\n",
       "      <td>NaN</td>\n",
       "      <td>NaN</td>\n",
       "      <td>NaN</td>\n",
       "      <td>NaN</td>\n",
       "      <td>NaN</td>\n",
       "      <td>NaN</td>\n",
       "      <td>NaN</td>\n",
       "      <td>...</td>\n",
       "      <td>NaN</td>\n",
       "      <td>NaN</td>\n",
       "      <td>NaN</td>\n",
       "      <td>http://sharkattackfile.net/spreadsheets/pdf_di...</td>\n",
       "      <td>NaN</td>\n",
       "      <td>NaN</td>\n",
       "      <td>NaN</td>\n",
       "      <td>NaN</td>\n",
       "      <td>NaN</td>\n",
       "      <td>NaN</td>\n",
       "    </tr>\n",
       "  </tbody>\n",
       "</table>\n",
       "<p>6969 rows × 23 columns</p>\n",
       "</div>"
      ],
      "text/plain": [
       "             Date    Year        Type    Country              State  \\\n",
       "0     15 Mar 2024  2024.0  Unprovoked  AUSTRALIA         Queensland   \n",
       "1     04 Mar 2024  2024.0  Unprovoked        USA             Hawaii   \n",
       "2     02 Mar-2024  2024.0  Unprovoked        USA             Hawaii   \n",
       "3     25 Feb-2024  2024.0  Unprovoked  AUSTRALIA  Western Australia   \n",
       "4     14 Feb-2024  2024.0  Unprovoked      INDIA        Maharashtra   \n",
       "...           ...     ...         ...        ...                ...   \n",
       "6964          NaN     NaN         NaN        NaN                NaN   \n",
       "6965          NaN     NaN         NaN        NaN                NaN   \n",
       "6966          NaN     NaN         NaN        NaN                NaN   \n",
       "6967          NaN     NaN         NaN        NaN                NaN   \n",
       "6968          NaN     NaN         NaN        NaN                NaN   \n",
       "\n",
       "                              Location  Activity                 Name  Sex  \\\n",
       "0                        Bargara Beach  Swimming       Brooklyn Sauer    F   \n",
       "1                   Old Man's, Waikiki   Surfing        Matthew White    M   \n",
       "2                       Rainbows, Oahu  Swimming                  NaN    F   \n",
       "3           Sandlnd Island, Jurian Bay       NaN               female    F   \n",
       "4     Vaitarna River, Palghar District   Fishing  Vicky Suresh Govari    M   \n",
       "...                                ...       ...                  ...  ...   \n",
       "6964                               NaN       NaN                  NaN  NaN   \n",
       "6965                               NaN       NaN                  NaN  NaN   \n",
       "6966                               NaN       NaN                  NaN  NaN   \n",
       "6967                               NaN       NaN                  NaN  NaN   \n",
       "6968                               NaN       NaN                  NaN  NaN   \n",
       "\n",
       "      Age  ...        Species                      Source  pdf  \\\n",
       "0      13  ...     Tiger shark      Yahoo News, 3/15/2024  NaN   \n",
       "1     NaN  ...  Tiger shark 8'          Surfer, 3/6/2024F  NaN   \n",
       "2      11  ...  3' to 4' shark  Hawaii News Now, 3/4/2024  NaN   \n",
       "3      46  ...     Tiger shark        WA Today, 2/26/2024  NaN   \n",
       "4      32  ...  Bull shark, 7'  Times of India, 2/14/2024  NaN   \n",
       "...   ...  ...             ...                        ...  ...   \n",
       "6964  NaN  ...             NaN                        NaN  NaN   \n",
       "6965  NaN  ...             NaN                        NaN  NaN   \n",
       "6966  NaN  ...             NaN                        NaN  NaN   \n",
       "6967  NaN  ...             NaN                        NaN  NaN   \n",
       "6968  NaN  ...             NaN                        NaN  NaN   \n",
       "\n",
       "                                           href formula href Case Number  \\\n",
       "0                                                   NaN  NaN         NaN   \n",
       "1                                                   NaN  NaN         NaN   \n",
       "2                                                   NaN  NaN         NaN   \n",
       "3                                                   NaN  NaN         NaN   \n",
       "4                                                   NaN  NaN         NaN   \n",
       "...                                                 ...  ...         ...   \n",
       "6964  http://sharkattackfile.net/spreadsheets/pdf_di...  NaN         NaN   \n",
       "6965  http://sharkattackfile.net/spreadsheets/pdf_di...  NaN         NaN   \n",
       "6966  http://sharkattackfile.net/spreadsheets/pdf_di...  NaN         NaN   \n",
       "6967  http://sharkattackfile.net/spreadsheets/pdf_di...  NaN         NaN   \n",
       "6968  http://sharkattackfile.net/spreadsheets/pdf_di...  NaN         NaN   \n",
       "\n",
       "     Case Number.1 original order Unnamed: 21 Unnamed: 22  \n",
       "0              NaN            NaN         NaN         NaN  \n",
       "1              NaN            NaN         NaN         NaN  \n",
       "2              NaN            NaN         NaN         NaN  \n",
       "3              NaN            NaN         NaN         NaN  \n",
       "4              NaN            NaN         NaN         NaN  \n",
       "...            ...            ...         ...         ...  \n",
       "6964           NaN            NaN         NaN         NaN  \n",
       "6965           NaN            NaN         NaN         NaN  \n",
       "6966           NaN            NaN         NaN         NaN  \n",
       "6967           NaN            NaN         NaN         NaN  \n",
       "6968           NaN            NaN         NaN         NaN  \n",
       "\n",
       "[6969 rows x 23 columns]"
      ]
     },
     "execution_count": 3,
     "metadata": {},
     "output_type": "execute_result"
    }
   ],
   "source": [
    "df"
   ]
  },
  {
   "cell_type": "code",
   "execution_count": 4,
   "metadata": {},
   "outputs": [
    {
     "data": {
      "text/plain": [
       "Date                25\n",
       "Year                27\n",
       "Type                43\n",
       "Country             75\n",
       "State              507\n",
       "Location           590\n",
       "Activity           611\n",
       "Name               245\n",
       "Sex                604\n",
       "Age               3019\n",
       "Injury              60\n",
       "Unnamed: 11        587\n",
       "Time              3551\n",
       "Species           3157\n",
       "Source              44\n",
       "pdf                170\n",
       "href formula       150\n",
       "href               173\n",
       "Case Number        171\n",
       "Case Number.1      172\n",
       "original order     170\n",
       "Unnamed: 21       6968\n",
       "Unnamed: 22       6967\n",
       "dtype: int64"
      ]
     },
     "execution_count": 4,
     "metadata": {},
     "output_type": "execute_result"
    }
   ],
   "source": [
    "# Verificar valores faltantes\n",
    "df.isnull().sum()"
   ]
  },
  {
   "cell_type": "markdown",
   "metadata": {},
   "source": [
    "### Eliminamos las filas anteriores al año 1700"
   ]
  },
  {
   "cell_type": "code",
   "execution_count": 5,
   "metadata": {},
   "outputs": [],
   "source": [
    "# Eliminar las filas de menos del year 1700\n",
    "df = df[df['Year'] >= 1700]"
   ]
  },
  {
   "cell_type": "code",
   "execution_count": 6,
   "metadata": {},
   "outputs": [
    {
     "data": {
      "text/plain": [
       "Date                 0\n",
       "Year                 0\n",
       "Type                16\n",
       "Country             43\n",
       "State              450\n",
       "Location           522\n",
       "Activity           558\n",
       "Name               215\n",
       "Sex                569\n",
       "Age               2862\n",
       "Injury              28\n",
       "Unnamed: 11        558\n",
       "Time              3385\n",
       "Species           3024\n",
       "Source              19\n",
       "pdf                143\n",
       "href formula       148\n",
       "href               146\n",
       "Case Number        144\n",
       "Case Number.1      145\n",
       "original order     143\n",
       "Unnamed: 21       6795\n",
       "Unnamed: 22       6794\n",
       "dtype: int64"
      ]
     },
     "execution_count": 6,
     "metadata": {},
     "output_type": "execute_result"
    }
   ],
   "source": [
    "# Verificar valores faltantes\n",
    "df.isnull().sum()"
   ]
  },
  {
   "cell_type": "markdown",
   "metadata": {},
   "source": [
    "## Tratamiento de valores nulos"
   ]
  },
  {
   "cell_type": "code",
   "execution_count": 7,
   "metadata": {},
   "outputs": [],
   "source": [
    "# Eliminar columnas con más del 50% de valores faltantes\n",
    "missing_values_threshold = 0.5\n",
    "df = df.loc[:, df.isnull().mean() < missing_values_threshold]"
   ]
  },
  {
   "cell_type": "code",
   "execution_count": 8,
   "metadata": {},
   "outputs": [],
   "source": [
    "# Eliminar filas con más de 5 valores faltantes\n",
    "df = df.dropna(thresh=len(df.columns) - 5)"
   ]
  },
  {
   "cell_type": "code",
   "execution_count": 9,
   "metadata": {},
   "outputs": [
    {
     "data": {
      "text/plain": [
       "Date                 0\n",
       "Year                 0\n",
       "Type                15\n",
       "Country             23\n",
       "State              375\n",
       "Location           435\n",
       "Activity           474\n",
       "Name               138\n",
       "Sex                478\n",
       "Age               2709\n",
       "Injury              19\n",
       "Unnamed: 11        508\n",
       "Time              3224\n",
       "Species           2867\n",
       "Source              18\n",
       "pdf                  0\n",
       "href formula         4\n",
       "href                 2\n",
       "Case Number          0\n",
       "Case Number.1        1\n",
       "original order       0\n",
       "dtype: int64"
      ]
     },
     "execution_count": 9,
     "metadata": {},
     "output_type": "execute_result"
    }
   ],
   "source": [
    "df.isnull().sum()"
   ]
  },
  {
   "cell_type": "markdown",
   "metadata": {},
   "source": [
    "## Eliminamos las columnas que no aportan información para nuestro estudio"
   ]
  },
  {
   "cell_type": "code",
   "execution_count": 10,
   "metadata": {},
   "outputs": [
    {
     "name": "stdout",
     "output_type": "stream",
     "text": [
      "Index(['Date', 'Year', 'Type', 'Country', 'State', 'Location', 'Activity',\n",
      "       'Name', 'Sex', 'Age', 'Injury', 'Unnamed: 11', 'Time', 'Species ',\n",
      "       'Source', 'pdf', 'href formula', 'href', 'Case Number', 'Case Number.1',\n",
      "       'original order'],\n",
      "      dtype='object')\n"
     ]
    }
   ],
   "source": [
    "# VISUALIZAR EL NOMBRE DE LAS COLUMNAS\n",
    "print(df.columns)"
   ]
  },
  {
   "cell_type": "code",
   "execution_count": 11,
   "metadata": {},
   "outputs": [],
   "source": [
    "# Eliminar columnas\n",
    "df = df.drop(['pdf', 'href formula', 'href', 'Case Number.1', 'Case Number', 'original order', 'Source', 'Name', 'Species ', 'Location', 'Injury', 'Year', 'Time'], axis=1)\n"
   ]
  },
  {
   "cell_type": "code",
   "execution_count": 12,
   "metadata": {},
   "outputs": [
    {
     "name": "stdout",
     "output_type": "stream",
     "text": [
      "Index(['Date', 'Type', 'Country', 'State', 'Activity', 'Sex', 'Age',\n",
      "       'Unnamed: 11'],\n",
      "      dtype='object')\n"
     ]
    }
   ],
   "source": [
    "print(df.columns)"
   ]
  },
  {
   "cell_type": "markdown",
   "metadata": {},
   "source": [
    "## Renombrar columnas\n",
    "La columna unnamed: 11 hace referencia a la mortalidad"
   ]
  },
  {
   "cell_type": "code",
   "execution_count": 13,
   "metadata": {},
   "outputs": [],
   "source": [
    "# Renombrar columna unnamed: 11 por Died\n",
    "df.rename(columns={\"Unnamed: 11\": \"Deceased\"}, inplace=True)"
   ]
  },
  {
   "cell_type": "code",
   "execution_count": 14,
   "metadata": {},
   "outputs": [
    {
     "name": "stdout",
     "output_type": "stream",
     "text": [
      "Index(['Date', 'Type', 'Country', 'State', 'Activity', 'Sex', 'Age',\n",
      "       'Deceased'],\n",
      "      dtype='object')\n"
     ]
    }
   ],
   "source": [
    "print(df.columns)"
   ]
  },
  {
   "cell_type": "markdown",
   "metadata": {},
   "source": [
    "## Analisis por columnas"
   ]
  },
  {
   "cell_type": "markdown",
   "metadata": {},
   "source": [
    "### Columna Country\n"
   ]
  },
  {
   "cell_type": "code",
   "execution_count": 15,
   "metadata": {},
   "outputs": [
    {
     "data": {
      "text/plain": [
       "207"
      ]
     },
     "execution_count": 15,
     "metadata": {},
     "output_type": "execute_result"
    }
   ],
   "source": [
    "df['Country'].nunique()"
   ]
  },
  {
   "cell_type": "code",
   "execution_count": 16,
   "metadata": {},
   "outputs": [
    {
     "data": {
      "text/plain": [
       "array(['SOUTH AFRICA', 'BAHAMAS', 'USA', 'AUSTRALIA', 'ENGLAND', 'JAPAN',\n",
       "       'INDONESIA', 'EGYPT', 'JAMAICA', 'BELIZE', 'MALDIVES', 'THAILAND',\n",
       "       'FRENCH POLYNESIA', 'COLUMBIA', 'NEW ZEALAND', 'MEXICO',\n",
       "       'COSTA RICA', 'New Zealand', 'BRAZIL',\n",
       "       'British Overseas Territory', 'CANADA', 'ECUADOR', 'JORDAN',\n",
       "       'NEW CALEDONIA', 'ST KITTS / NEVIS', 'ST MARTIN', 'SPAIN', 'FIJI',\n",
       "       'SEYCHELLES', 'PAPUA NEW GUINEA', 'REUNION ISLAND', 'ISRAEL',\n",
       "       'CHINA', 'SAMOA', 'IRELAND', 'ITALY', 'COLOMBIA', 'MALAYSIA',\n",
       "       'LIBYA', nan, 'CUBA', 'MAURITIUS', 'SOLOMON ISLANDS',\n",
       "       'ST HELENA, British overseas territory', 'COMOROS', 'REUNION',\n",
       "       'UNITED KINGDOM', 'UNITED ARAB EMIRATES', 'PHILIPPINES',\n",
       "       'CAPE VERDE', 'Fiji', 'DOMINICAN REPUBLIC', 'CAYMAN ISLANDS',\n",
       "       'ARUBA', 'MOZAMBIQUE', 'PUERTO RICO', 'ATLANTIC OCEAN', 'GREECE',\n",
       "       'ST. MARTIN', 'FRANCE', 'TRINIDAD & TOBAGO', 'KIRIBATI',\n",
       "       'DIEGO GARCIA', 'TAIWAN', 'PALESTINIAN TERRITORIES', 'GUAM',\n",
       "       'NIGERIA', 'TONGA', 'SCOTLAND', 'CROATIA', 'SAUDI ARABIA', 'CHILE',\n",
       "       'ANTIGUA', 'KENYA', 'RUSSIA', 'TURKS & CAICOS',\n",
       "       'UNITED ARAB EMIRATES (UAE)', 'AZORES', 'SOUTH KOREA', 'MALTA',\n",
       "       'VIETNAM', 'MADAGASCAR', 'PANAMA', 'SOMALIA', 'NEVIS',\n",
       "       'BRITISH VIRGIN ISLANDS', 'NORWAY', 'YEMEN', 'GULF OF ADEN',\n",
       "       'Sierra Leone', 'ST. MAARTIN', 'GRAND CAYMAN', 'Seychelles',\n",
       "       'LIBERIA', 'VANUATU', 'MEXICO ', 'HONDURAS', 'VENEZUELA',\n",
       "       'SRI LANKA', ' TONGA', 'URUGUAY', 'INDIA', 'MICRONESIA',\n",
       "       'CARIBBEAN SEA', 'OKINAWA', 'TANZANIA', 'MARSHALL ISLANDS',\n",
       "       'SENEGAL', 'EGYPT / ISRAEL', 'NORTHERN ARABIAN SEA', 'HONG KONG',\n",
       "       'EL SALVADOR', 'ANGOLA', 'BERMUDA', 'MONTENEGRO', 'IRAN',\n",
       "       'TUNISIA', 'NAMIBIA', 'NORTH ATLANTIC OCEAN', 'PORTUGAL',\n",
       "       'SOUTH CHINA SEA', 'PALAU', 'WESTERN SAMOA', 'PACIFIC OCEAN ',\n",
       "       'BRITISH ISLES', 'GRENADA', 'IRAQ', 'TURKEY', 'SINGAPORE',\n",
       "       'NEW BRITAIN', 'SUDAN', 'JOHNSTON ISLAND', 'SOUTH PACIFIC OCEAN',\n",
       "       'NEW GUINEA', 'RED SEA', 'NORTH PACIFIC OCEAN',\n",
       "       'FEDERATED STATES OF MICRONESIA', 'MID ATLANTIC OCEAN',\n",
       "       'ADMIRALTY ISLANDS', 'BRITISH WEST INDIES', 'SOUTH ATLANTIC OCEAN',\n",
       "       'PERSIAN GULF', 'RED SEA / INDIAN OCEAN', 'PACIFIC OCEAN',\n",
       "       'NORTH SEA', 'NICARAGUA ', 'MALDIVE ISLANDS', 'AMERICAN SAMOA',\n",
       "       'ANDAMAN / NICOBAR ISLANDAS', 'GABON', 'MAYOTTE',\n",
       "       'NORTH ATLANTIC OCEAN ', 'THE BALKANS', 'SUDAN?', 'ARGENTINA',\n",
       "       'MARTINIQUE', 'INDIAN OCEAN', 'GUATEMALA', 'NETHERLANDS ANTILLES',\n",
       "       'NORTHERN MARIANA ISLANDS', 'IRAN / IRAQ', 'JAVA', 'SIERRA LEONE',\n",
       "       ' PHILIPPINES', 'NICARAGUA', 'CENTRAL PACIFIC',\n",
       "       'SOLOMON ISLANDS / VANUATU', 'SOUTHWEST PACIFIC OCEAN',\n",
       "       'BAY OF BENGAL', 'MID-PACIFC OCEAN', 'SLOVENIA', 'CURACAO',\n",
       "       'ICELAND', 'ITALY / CROATIA', 'BARBADOS', 'MONACO', 'GUYANA',\n",
       "       'HAITI', 'SAN DOMINGO', 'KUWAIT', 'YEMEN ', 'FALKLAND ISLANDS',\n",
       "       'CRETE', 'CYPRUS', 'EGYPT ', 'WEST INDIES', 'BURMA', 'LEBANON',\n",
       "       'BRITISH NEW GUINEA', 'OCEAN', 'GEORGIA', 'SYRIA', 'TUVALU',\n",
       "       'INDIAN OCEAN?', 'GUINEA', 'ANDAMAN ISLANDS', 'CEYLON',\n",
       "       'EQUATORIAL GUINEA / CAMEROON', 'COOK ISLANDS', 'TOBAGO', 'PERU',\n",
       "       'AFRICA', 'ALGERIA', 'Coast of AFRICA', 'TASMAN SEA', 'GHANA',\n",
       "       'MEDITERRANEAN SEA', 'SWEDEN'], dtype=object)"
      ]
     },
     "execution_count": 16,
     "metadata": {},
     "output_type": "execute_result"
    }
   ],
   "source": [
    "df['Country'].unique()"
   ]
  },
  {
   "cell_type": "code",
   "execution_count": 17,
   "metadata": {},
   "outputs": [],
   "source": [
    "# Reemplazar minisculas por mayusculas\n",
    "df['Country'] = df['Country'].str.upper()\n",
    "\n",
    "# Eliminar espacios en las celdas\n",
    "df['Country'] = df['Country'].str.strip()"
   ]
  },
  {
   "cell_type": "code",
   "execution_count": 18,
   "metadata": {},
   "outputs": [
    {
     "data": {
      "text/plain": [
       "195"
      ]
     },
     "execution_count": 18,
     "metadata": {},
     "output_type": "execute_result"
    }
   ],
   "source": [
    "df['Country'].nunique()"
   ]
  },
  {
   "cell_type": "markdown",
   "metadata": {},
   "source": [
    "### Columna State"
   ]
  },
  {
   "cell_type": "code",
   "execution_count": 19,
   "metadata": {},
   "outputs": [
    {
     "data": {
      "text/plain": [
       "825"
      ]
     },
     "execution_count": 19,
     "metadata": {},
     "output_type": "execute_result"
    }
   ],
   "source": [
    "df['State'].nunique()"
   ]
  },
  {
   "cell_type": "code",
   "execution_count": 20,
   "metadata": {},
   "outputs": [
    {
     "data": {
      "text/plain": [
       "array(['Western Cape Province', nan, 'Hawaii', 'New South Wales',\n",
       "       'South Carolina', 'Westerm Australia', 'Florida', 'California',\n",
       "       'Cornwall', 'New York', 'Noirth Carolina', 'Okinawa', 'Bali',\n",
       "       'Hurghada, Red Sea Governorate', 'Western Australia',\n",
       "       'Ambergris Cay', 'Georgia', 'Phuket', 'Tahiti', 'Alabama',\n",
       "       'New Jersey', 'KZN', 'Isla De San Andres', 'South Island',\n",
       "       'Grand  Bahama Island', 'Queensland', 'Sonora', 'Guanacoste',\n",
       "       'KwaZulu-Natal', 'Quintana Roo', 'Victoria', 'São Paulo.',\n",
       "       'North Island', 'Turks and Caicos', 'Louisiana', 'Texas',\n",
       "       'Nova Scotia', 'Maryland', 'North Carolina', 'Pernambuco',\n",
       "       'Chanthaburi Province', 'Eastern Cape Province', 'BAHAMAS',\n",
       "       'Galapagos', 'Aqaba', 'West Sussex', 'Nouville', 'Ambergris Key',\n",
       "       'Westmoreland Parish', 'Marquesas', 'Loyalty Islands',\n",
       "       'South Australia', 'Maui', 'The Narrows', 'Raa Atoll', 'Oregon',\n",
       "       'South Sinai', 'South Province', ' Grand Bahama Island',\n",
       "       'Franklin County, Florida', 'Virgin Islands', 'Tasmania',\n",
       "       'Tuamotu Islands', 'Maine', 'Bahamas', 'Delaware', 'Abaco Islands',\n",
       "       'Muang district of Satun province, ', 'Canary Islands',\n",
       "       'Vanua Levu', 'Exumas', 'Southland', 'Phang Nga Province',\n",
       "       'Praslin', 'Central Province', 'Guerrero', 'Moorea', 'Baja ',\n",
       "       'Saint-Gilles', 'Guam', 'Northern Territory ', 'Cayman Islands',\n",
       "       'Rhode Island', 'Chatham Islands', 'Quinta Roo',\n",
       "       'Lucayan Archipelago', 'Bélep Islands', 'Noumea',\n",
       "       'Fernando de Noronha', 'Liaoning Province', 'New South Wales ',\n",
       "       'Upolo', 'St. Marys Parish', 'Massachusetts', 'County Cork',\n",
       "       'Chieti, Province', 'Guizhou Province',\n",
       "       'San Andres and Providencia Archipelago', 'The Exuma Cays',\n",
       "       'Colima', 'Hua Hin', 'Cocos Island', 'Alifu Alifu Atoll',\n",
       "       'New Providence', 'Alagoas', 'Boi Island, Victoria',\n",
       "       'Galapagos Islands', 'Sepang', 'Holquin Province',\n",
       "       'Pamplemousses ', ' Upolu Island', 'Shizuoka Prefecture',\n",
       "       'Castellón', 'Red Sea Protectorate', 'New Providence District',\n",
       "       '40 miles off Grand Bahama Island', 'Ascension Island', 'Majorca',\n",
       "       'Washington', 'Tabasco', 'Anjouan', 'Ibiza Island', 'South Devon',\n",
       "       'New Providence ', 'Sharjah, ', 'Baja California Sur', 'Saint-Leu',\n",
       "       'Luzon Island', 'Tamaulipas', 'Saint-Andre', 'Bimini', 'Tuamotos',\n",
       "       'North Province', 'New Providence Island', 'Alicante Province',\n",
       "       'Hong Kong', 'Kochi Prefecture', 'Isla Providencia', 'Suez',\n",
       "       'Grand Terre', 'Boa Vista Island', 'Santa Catarina State',\n",
       "       'Altagracia Province', 'Grand Cayman', 'Balneário Camboriú',\n",
       "       'Fujairah Emirate', 'Grand Canary Island', 'Inhambane Province',\n",
       "       'Alicante', 'Guanacaste', 'Bora Bora', 'Grand Bahama Island',\n",
       "       'Le Port', 'Rangiroa', 'Saint-Gilles-les-Bains', 'Sardinia',\n",
       "       'Sinaloa', 'Central Tuamotu', 'd’Étang-Salé', 'Granada',\n",
       "       'Cargados Carajos Shoals (St. Brandon)', 'Catalonia', 'West End',\n",
       "       'Atsumi peninsula', 'Palmyra Atoll', 'Wallis and Futuna',\n",
       "       'Baie de Sainte-Marie', 'Society Islands', 'Trinidad',\n",
       "       'Okinawa Prefecture', '740 miles SE of Tarawa Atoll',\n",
       "       'Southern District', 'Bay of Biscay', 'Exuma Islands',\n",
       "       'Saint-Paul', 'Taitung ', 'Kingston Parish', 'Santa Cruz Island',\n",
       "       'Tuamotus', 'Eleuthera', 'St. Catherine', 'Palawan',\n",
       "       'Mercury Islands', 'Delta', \"Vava'u\", 'Inner Hebrides',\n",
       "       'Saint Leu', 'Trois-Bassins', 'British Colombia', 'Saint-Benoit',\n",
       "       'Tabuk Province', 'Antofagasta Province', \"St John's\",\n",
       "       'Santa Elena', 'East New Britain', 'Bois-Blanc ', 'Moray',\n",
       "       'Puerto Rico', 'Samaná Province', 'Coast Province',\n",
       "       'Primorsky Krai',\n",
       "       'Peter the Great Bay, Khasan, Primorsky Krai (Far East)',\n",
       "       'Telyakovsky Bay, Khasan,  Primorsky Krai (Far East)', 'Sucre',\n",
       "       'Middle Caicos', 'Caicos Bank', 'San Andrés archipelago', 'Kedah',\n",
       "       'Umm al Qaywayan Province', 'Vitu Levu', 'South Sinai Peninsula',\n",
       "       ' Loyalty Islands', 'Saint Gilles ', 'Virginia', \"Ha'api \",\n",
       "       'Western Province', 'Jeju Province', 'Binh Dinh Province',\n",
       "       'Antsiranana Province', 'Sinai Peninsula', 'Off Vanua Levu',\n",
       "       'Merizo', 'Rio Grande Do Sul', 'Dubai', 'Torres Strait',\n",
       "       'Eastern Province', 'Eastern Cape  Province', 'Maputo Province',\n",
       "       'Bocas', 'Fife', 'Devon', 'Makira-Ulawa Province', 'Mombasa',\n",
       "       'Catalunya', 'St. Johns Reef', 'Off Green Island', 'North Region',\n",
       "       'Batangas province', 'Strait of Malacca', 'Guantanamo Province',\n",
       "       'Maranhão', 'Red Sea', 'Batanes Provine', 'Luzon',\n",
       "       'Northern Territory', ' Split-Dalmatia Count,', 'North Devon',\n",
       "       'US Virgin Islands', 'San Carlos', 'Cabo San Lucas', 'Sussex',\n",
       "       'Bahia', 'Easter Ross', 'Guerro', 'Yasawa Islands',\n",
       "       'Northern Bahamas', 'Tokyo Bay', 'Baja California', 'Green Bay',\n",
       "       'Marovo Lagoon', 'Territory of Cocos (Keeling) Islands',\n",
       "       'Oslo Fjord', 'Kent', 'Bird Island', 'Providenciales',\n",
       "       'Bimini Islands', 'Muhafazat Hadramawt', 'Cook islans',\n",
       "       'Surigao del Norte', 'Between Somalia & Yemen', 'Ambergris Caye',\n",
       "       'Saint-Pierre', 'Kentucky', 'Andros Islands', 'Western Area',\n",
       "       '300 miles from Antigua', '800 miles from land',\n",
       "       '600 nm west of the Canary Islands', 'Simpson Bay', 'East Wall',\n",
       "       'Inner Islands', 'Shanghai', 'Malampa Province',\n",
       "       \"South Ch'ungch'ong Province\", 'Bay Islands', 'New Mexico',\n",
       "       'Santa Isabel Province', 'Santiago de Cuba Province',\n",
       "       'Camaguey Province', 'Conservatória District', 'South Carolina ',\n",
       "       'Kuril Islands in the Pacific', 'Wakayama Prefecture',\n",
       "       \"Nuku'alofa\", 'Saint-Benoît',\n",
       "       'South Island, near Karitane north of Dunedin', 'Rocha',\n",
       "       'Northlands', 'Anzoategui', 'Cook Islands', 'Tamil Nadu',\n",
       "       'Pearl Islands', 'Taveuni', 'Johnston Atoll', 'Baatan',\n",
       "       'Rio de Janeiro', 'Nueva Esparta', 'North Pacific coast',\n",
       "       'Caroline Islands', 'Cheshire', 'Louisiade Archipelago',\n",
       "       'KwaZulu-Natal between Port Edward and Port St Johns',\n",
       "       'Milne Bay Province', 'Cikobia Island (north of Vanua Levu)',\n",
       "       'Rayong Province', 'Zamboanga del Sur Province',\n",
       "       'Rio Grande de Norte',\n",
       "       'Off the western coast of peninsular Malaysia', 'New Brunswick',\n",
       "       'Miyako Island', 'Alaska', 'Minerva Reef', 'Madang Province',\n",
       "       'Worcestershire', 'Phang nga Province', 'Alinglaplap Atoll',\n",
       "       'Adriatic Sea', 'Ralik Chain', 'Grand Baie',\n",
       "       \"L' Etang Salé-les-Bains\", 'Southern Japan', 'Cap Vert Peninsula',\n",
       "       'Marches region', 'Berry Islands', 'Transvaal', 'Gaza',\n",
       "       \"Grand'Anse\", 'Miyako', \"L'Etang-Sale\", 'Chatham Islands ',\n",
       "       'South Sinai, Gulf of Aqaba', 'Cat Cay', 'Missouri',\n",
       "       '12 miles off the north coast', 'Saint-Paul ',\n",
       "       'Chatham Islands, east of New  Zealand', 'Saint-Denis', 'Vava’u',\n",
       "       'Mississippi', 'Clearwater Bay', 'New Territories',\n",
       "       'Aichi Prefecture', 'Kagoshima Prefecture', 'Saint-Joseph',\n",
       "       'Banaadir Region', 'La Libertad', 'Costa Blanca', 'Walkers Cay',\n",
       "       'On the Kowloon penisula, south of Sai Kung', 'Ehime Prefecture',\n",
       "       'Tongapatu Group', 'West Africa', 'Wakaya Island',\n",
       "       'North Carolina ', 'Mexico / Caribbean Sea', 'Antarctic Ocean',\n",
       "       'La Saline-les-Bains', 'Sea of Japan', 'Tavenui', 'Ligurian Sea',\n",
       "       \"L'Etang-Salé\", 'Kowloon Peninsula', 'Port Shelter',\n",
       "       'Laucala Island', 'Sainte-Marie', 'Great Exuma Island',\n",
       "       'Sainte-Suzanne', 'Tuscany', 'Tyrrhenian Sea', 'New Ireland',\n",
       "       'Valpariso Province', 'Manfredonia ', 'Tokyo Prefecture',\n",
       "       'Saint-Louis', 'Mindoro', 'Between DR and Puerto Rico',\n",
       "       'Between Honiara & Isabel Island', 'Florida Straits', 'Cádiz',\n",
       "       'Sicily', 'Andikira Fokithes', 'Central Philippines',\n",
       "       'Northwest Italy', 'English Channel', 'North & South Carolina',\n",
       "       'Carolina coast', 'Kumamoto Prefecture', 'Biserta',\n",
       "       'Saint-Philippe', 'Chungnam', 'Eronogo Region', 'Coquimbo',\n",
       "       'Pagasitikos Gulf', \"St. Mary's Parish\", 'Romblon Province',\n",
       "       'Lamu Archipelago', 'Los Vilos', 'Island of Kos', \"Ha'api\",\n",
       "       'Madeira Islands', 'Ho Ha Wan Marine Park', 'Southern Thailand',\n",
       "       'Ralik Archipelago', 'South China Sea 200 miles from Hong Kong',\n",
       "       'Reggio Calabria Province', 'Mirs Bay ', 'Genoa Province',\n",
       "       ' Split-Dalmatia County', 'Florida ',\n",
       "       'Primorje-Gorski Kotar County ', 'Aulong Island',\n",
       "       'Western Caroline Islands', 'Upolu Island', 'Antibes',\n",
       "       'Illeginni Atoll', 'Istria County', 'Between Beira & Maputo',\n",
       "       'Istria ', 'Khuzestan Province', 'Inhambe Province',\n",
       "       'Namonuito Atoll', 'Eastern Caroline Islands',\n",
       "       'Western Caroline Islands (North Pacific Ocean)', 'Caribbean Sea',\n",
       "       'St. Andrew Parish', 'Limpopo River', 'New Ireland Province',\n",
       "       'Zadar County', 'Basrah', 'Clarendon', 'Moro Gulf', 'Johor',\n",
       "       'Magdalena Department', 'Gulf Province', 'Morobe Province',\n",
       "       'Limón Province', 'Rombion Province', 'Veracruz',\n",
       "       'Brindisi Province', 'Kagawa Prefecture', 'Liguria', 'Hamilton',\n",
       "       'Out Islands', 'Mugla Province', 'Gibraltar', 'New Britain',\n",
       "       'Bay of Maputo', 'Duke of York Islands', 'Taranto province',\n",
       "       'Northern Taiwan', 'Admiralty Islands, Manus Province',\n",
       "       'North Sumatra', \"250 miles southwest of O'ahu, Hawaii\",\n",
       "       'West coast', 'East Sepik', 'Near Bougainville (North Solomons)',\n",
       "       'East of the Gulf of Aqaba', 'Bougainville (North Solomons)',\n",
       "       'Victoria ', 'Okayama Prefecture', 'San Blas', 'Connecticut',\n",
       "       'Lau Group', 'Caribbean Coast', 'Vita Levu', 'San Blas Islands',\n",
       "       'Puntarenas Province', 'Lomaloma, Lau',\n",
       "       'Between Southampton & Canary Islands',\n",
       "       'South Coast, East New Britain', ' Lau Province', 'Ysabel Island',\n",
       "       'Santo Domingo', 'San Blas coast', 'Thessaly',\n",
       "       'Lomaiviti  Island Group', 'Rodrigues', 'Manus Island',\n",
       "       'Pinas Bay', 'Grand Turk Island', 'Off coast of West Africa',\n",
       "       'Sharon', 'Antalya Province', 'Northern District',\n",
       "       'New Ireland Province, Bismarck Archipelago', 'Cyclades',\n",
       "       'Viti Levu', 'Off the Coromandel Peninsula, North Island',\n",
       "       'Madang', 'Guadalcanal Province', '10ºS, 142ºE', 'Kwajalein Atoll',\n",
       "       'East Flores', 'Western Luzon Island', 'Shefa Province',\n",
       "       '165  miles from Bermuda',\n",
       "       '25 km off the coast of Iran & 483km from mouth of Persian Gulf',\n",
       "       'Venice Province', 'Sandaun Province', 'Anatolia',\n",
       "       'East New Britain Province', 'United Arab Emirates',\n",
       "       'Wake Island (EnenKio)', '19S, 178?E', 'Pennsylvania',\n",
       "       '9.35N 79.35W', 'Roncador Bank', 'Western District',\n",
       "       'Enroute from Suez to Aden (Yemen)',\n",
       "       '180 miles southeast of Okinawa', 'Eniwetok Atoll',\n",
       "       'Cap-Vert Peninsula', 'Delagoa Bay', 'In the English Channel ',\n",
       "       'Cook Strait', 'Unknown, treated at Wick, SCOTLAND',\n",
       "       'Corregidor Island', 'Paget', '33N, 68W', 'Casamance',\n",
       "       'Madang (WO)', 'Pacific coast', 'St. Georges ',\n",
       "       'Eastern  Province', 'Northwest of Viti Levu',\n",
       "       'West New Britain Province', 'Rigo subdistrict', 'Masbate',\n",
       "       '400 miles southeast of Sri Lanka', 'Lomaiviti Province', 'Kadavu',\n",
       "       'Leyte Island', 'Orissa', 'Guerrrero', 'Hokkaido Prefecture',\n",
       "       'North Palawan', 'Queaon', 'Istria', 'PANAMA',\n",
       "       'In the Gulf Stream ', 'Mersin Province', 'Guyamas',\n",
       "       'Between England & South Africa', 'Mindanao',\n",
       "       ' Kikori River mouth', 'South Chungcheong Province',\n",
       "       'Ahirkapi coast', 'Tutuila Island', 'Primorje-Gorski Kotar County',\n",
       "       'Between Hawaii & Wake Island', 'Taipei Hsien',\n",
       "       'Ibaraki Prefecture', 'South Pacific Ocean', 'Canal Zone',\n",
       "       'Honiara', 'Havana Province', 'Karun River',\n",
       "       'Abau Subdistrict,Central Province',\n",
       "       'New Britain, Bismarck Archipelago', 'Estuaire Province',\n",
       "       'Near Dakar, Cap Vert Peninsula',\n",
       "       'Near the Andaman & Nicobar Islands', 'Mozambique Channel',\n",
       "       'Tyrrenian Sea', 'Congreve Channel', 'St. Thomas Bay', 'Madeira',\n",
       "       'Between Comores & Madagascar', 'Corfu Island',\n",
       "       '1000 miles west of Hawaii', 'Izo Islands',\n",
       "       ' Primorje-Gorski Kotar County', 'Open sea', 'Aden',\n",
       "       'New Ireland, Bismarck Archipelago', '18S / 50E', 'Illinois',\n",
       "       'Isles del Rosario', 'Wake Island', 'Isle of Man',\n",
       "       'Nagasaki Prefecture', 'Liguaria', 'Slovenia', 'South shore ',\n",
       "       'Buenos Aires Province', 'Gulf of Panama', 'Genoa  Province',\n",
       "       'Abau Sub District, Central Province', 'Teramo', 'Red Sea State',\n",
       "       'Curacao', 'Port Louis Province', 'Montserrado', 'Bay of Maputu',\n",
       "       'Sofala Province', 'Salerno', 'Salerno Province', 'Taranto',\n",
       "       ' La Libertad', 'Sago Prefecture', 'Savona', 'Southern Province',\n",
       "       'Jakarta Harbour', 'Singapore Harbor', 'Calabria',\n",
       "       'Shatt-el-Arab River', 'Shatt-al-Arab River',\n",
       "       'Calvados Archipelago', 'Shat-Al-Arab River',\n",
       "       'Between Kwajalein Atoll & Johnston Island', 'Attica',\n",
       "       'Adana Province', 'Bandar Ma’shur sea inlet', 'Saipan',\n",
       "       'Carpathian Sea', 'Kwajalein', 'Dar-es-Salaam ',\n",
       "       '\"Head of the Gulf\"', 'Ryukyu', ' North Carolina',\n",
       "       'In transit between Tinian and Leyte', 'Northern Java', 'Tel Aviv',\n",
       "       'Colon Province', '300 miles east of Luzon',\n",
       "       'Bernardino Strait near Gulf of Leyte',\n",
       "       'Off Samar Island in the Gulf of Leyte',\n",
       "       'Lake Nicaragua (fresh water)', 'Pacific Ocean',\n",
       "       'Near the Fiji Islands', '40 miles south of Naples ',\n",
       "       'Northwest of Papua New Guinea', 'Between Hawaii and U.S.A.',\n",
       "       'Makora-Ulawa Province', 'Midway Atoll',\n",
       "       '300 miles east of St. Thomas (Virgin Islands)',\n",
       "       'West of Ceylon (Sri  Lanka)', 'East Java', 'Camiguin Island',\n",
       "       'Cay Sal Bank', '(Southwestern Pacific)', 'Panama City',\n",
       "       'Off Libya', 'Off coast of Ecuador', 'Trelawney Province',\n",
       "       'In Convoy OB 274', 'New Georgia', 'Panama Bay (Pacific Ocean)',\n",
       "       'Bwagaoia', 'Western Papuan Gulf', 'Torres Strait ', 'Carabobo',\n",
       "       'Ascension Bay', 'North China', 'Lower San Juan River',\n",
       "       'Nicoya Peninsula', 'Basrah City', 'West Bengal', 'Queensland ',\n",
       "       'Argyllshire', 'Arran', 'Argyll', 'Fishing Grounds',\n",
       "       'Newfoundland', 'Isle of Wight', 'Makira-Uluwa Province',\n",
       "       'Elqui Province', 'Istanbul', 'St Michael Parish',\n",
       "       'Barlavento Islands', 'Viti Levu Island', 'Bay of Fundy', 'Manila',\n",
       "       'French Southern Territories', 'Niua ', 'Black River',\n",
       "       'Phoenix Islands', 'Cienfuegos Province', 'Valencia',\n",
       "       'Santiago Island', 'Near Puntarenas', 'Porto Seguro',\n",
       "       'Salinas Bay', 'Golfo di Genova in the Ligurian Sea',\n",
       "       'Sants-Montjic', 'South of the Equator ', 'Bay of Monaco',\n",
       "       'Valencia ', 'Vancouver',\n",
       "       '2 to 3 miles off Taboguilla Island, Pacific Ocean', 'Dorset',\n",
       "       '150 miles offshore', 'Galica', 'Demerara County', 'Vera Cruz',\n",
       "       ' Manila Bay', 'Lucy', 'East Yorkshire', 'Cape Haitien', 'Leyte',\n",
       "       'Halifax', 'Turtle Bogue',\n",
       "       '60 miles north of San Domingo in the West Indies', 'Colon',\n",
       "       'Off Ireland', 'Mediterranean Sea', 'Gran Canaria',\n",
       "       'Apolima Strait', 'Essequibo', 'Lagos ', '5aint-Denis',\n",
       "       'Viti Levu group', 'Balearics', 'Málaga ', 'Georges Bank',\n",
       "       'Zambesi River', 'Colón Province', '30 nm from Singapore',\n",
       "       'Andalucia', 'Sfax', 'South Atlantic Ocean', 'Galicia',\n",
       "       'Gulf of Suez', 'Java', 'Tiburon Peninsula', 'Oaxaca',\n",
       "       'Harare Province', 'Khánh Hòa Province', 'Maluku Province',\n",
       "       'Suez Canal', ' Nusa Tenggara', 'Between Noumea & Sydney',\n",
       "       'Villa Clara Province', 'Ancona Province', 'Quezon',\n",
       "       'Rio San Juan', 'Southern Cyprus', 'Syracuse', 'Western Viscayas',\n",
       "       'Mindoro Occidental', 'Negros ', 'Imperia Province', 'Muala',\n",
       "       'East coast', 'Ratak ', 'Socotra Islands', 'Off Cape Haitien',\n",
       "       'Moluccas', 'Bocas del Toro', 'Provence', 'Bay of Campeche',\n",
       "       'Rangoon', 'Bay of Bengal', 'Bayelsa State', 'South Island?',\n",
       "       'Norfolk Island', 'Brittany', 'Line Islands', 'Woodlark Islands',\n",
       "       'Munxar Reef', 'Between Perth & Colombo', 'Gujarat', 'Cortés',\n",
       "       'Gulf of California',\n",
       "       'Somewhere between Philadelphia and Hiogo, Japan', ' New Jersey',\n",
       "       \"Côte d'Azur  \", 'Maldonado coast', 'Western Banks',\n",
       "       'Andaman Islands', 'Off the coast of West Africa',\n",
       "       'Misamis Oriental', 'Strait of Messina', 'Hoogly River',\n",
       "       'Cyclades archipelago', 'Mount Lebanon',\n",
       "       'Between Hastings & Fairlight, Sussex', 'Veracruz ',\n",
       "       'Gilbert Islands', 'Lomaiviti Provine',\n",
       "       'Off the coast of South America', '22ºN, 88ºE',\n",
       "       'Matanzas Province (north coast)', 'Alpes Maritime', 'Edinburgh',\n",
       "       'Eastern Catalona', '300 miles east of Mauritius',\n",
       "       'Foveaux Strait', 'Sumatra', 'Conakry Region', 'Corfu', 'Malaga',\n",
       "       'Bonin Islands', 'Fernando Po Island', 'Mangaia Island',\n",
       "       'New York ', 'Corfu ', 'Between Australia & USA', 'Tongatapu',\n",
       "       'Norfolk', 'Island of St. Thomas', 'Sanma Province',\n",
       "       \"35º39 : 165º8'\", 'CUBA', 'Western Area ', 'Paraiba', 'Cape Coast',\n",
       "       'Cumberland', 'Rivers State', 'Maharashtra', 'St. Anne',\n",
       "       'St Helena', \"Côte d'Azur \", 'Skagerrak arm of the North Sea',\n",
       "       'Las Perlas archipelago', 'Southwest coast'], dtype=object)"
      ]
     },
     "execution_count": 20,
     "metadata": {},
     "output_type": "execute_result"
    }
   ],
   "source": [
    "df['State'].unique()"
   ]
  },
  {
   "cell_type": "code",
   "execution_count": 21,
   "metadata": {},
   "outputs": [],
   "source": [
    "# Reemplazar minisculas por mayusculas\n",
    "df['State'] = df['State'].str.upper()\n",
    "\n",
    "# Eliminar espacios en las celdas\n",
    "df['State'] = df['State'].str.strip()\n",
    "\n",
    "# Reemplazar celdas vacias por NAN\n",
    "df['State'] = df['State'].replace({''}, 'NaN')"
   ]
  },
  {
   "cell_type": "code",
   "execution_count": 22,
   "metadata": {},
   "outputs": [
    {
     "data": {
      "text/plain": [
       "796"
      ]
     },
     "execution_count": 22,
     "metadata": {},
     "output_type": "execute_result"
    }
   ],
   "source": [
    "df['State'].nunique()"
   ]
  },
  {
   "cell_type": "markdown",
   "metadata": {},
   "source": [
    "### Columna Activity"
   ]
  },
  {
   "cell_type": "code",
   "execution_count": 23,
   "metadata": {},
   "outputs": [
    {
     "data": {
      "text/plain": [
       "array(['Swimming', 'Snorkeling', 'Swimming  or Snorkeling', ...,\n",
       "       \"a corsair's boat was overturned\", 'Washing himself',\n",
       "       'Fell overboard from a frigate & was swallowed by a shark. The captain fired a gun at the shark, and \"the creature cast the man out of his throat.\"'],\n",
       "      dtype=object)"
      ]
     },
     "execution_count": 23,
     "metadata": {},
     "output_type": "execute_result"
    }
   ],
   "source": [
    "df['Activity'].unique()"
   ]
  },
  {
   "cell_type": "code",
   "execution_count": 24,
   "metadata": {},
   "outputs": [
    {
     "data": {
      "text/plain": [
       "Surfing                                                                                                                                                 1089\n",
       "Swimming                                                                                                                                                 923\n",
       "Fishing                                                                                                                                                  465\n",
       "Spearfishing                                                                                                                                             369\n",
       "Wading                                                                                                                                                   164\n",
       "                                                                                                                                                        ... \n",
       "Picking up shark by the tail                                                                                                                               1\n",
       "Wading & pushing dinghy toward  the shallows                                                                                                               1\n",
       "Diving. Shark “swallowed’ his hand, so he threw his other around the shark and went “shark-back riding” for 30 yards until the shark opened its jaws       1\n",
       "Body surfing?                                                                                                                                              1\n",
       "Fell overboard from a frigate & was swallowed by a shark. The captain fired a gun at the shark, and \"the creature cast the man out of his throat.\"         1\n",
       "Name: Activity, Length: 1506, dtype: int64"
      ]
     },
     "execution_count": 24,
     "metadata": {},
     "output_type": "execute_result"
    }
   ],
   "source": [
    "df['Activity'].value_counts()"
   ]
  },
  {
   "cell_type": "code",
   "execution_count": 25,
   "metadata": {},
   "outputs": [
    {
     "data": {
      "text/plain": [
       "474"
      ]
     },
     "execution_count": 25,
     "metadata": {},
     "output_type": "execute_result"
    }
   ],
   "source": [
    "df['Activity'].isnull().sum()"
   ]
  },
  {
   "cell_type": "code",
   "execution_count": 26,
   "metadata": {},
   "outputs": [],
   "source": [
    "# Reemplazar valores NaN con 'Unknown'\n",
    "df['Activity'].fillna('Unspecific', inplace=True)\n",
    "\n",
    "# Convertir todo a minúsculas y eliminar espacios en blanco al inicio y final\n",
    "df['Activity'] = df['Activity'].str.lower().str.strip()"
   ]
  },
  {
   "cell_type": "code",
   "execution_count": 27,
   "metadata": {},
   "outputs": [],
   "source": [
    "\n",
    "# Definir una función para aplicar las expresiones regulares\n",
    "def standardize_activity(activity):\n",
    "    if re.search(r'swim|swimming', activity):\n",
    "        return 'swimming'\n",
    "    elif re.search(r'surf|surfing', activity):\n",
    "        return 'surfing'\n",
    "    elif re.search(r'dive|diving|snorkeling', activity):\n",
    "        return 'diving'\n",
    "    elif re.search(r'fish|fishing', activity):\n",
    "        return 'fishing'\n",
    "    elif re.search(r'kayak|canoe|paddle', activity):\n",
    "        return 'kayaking'\n",
    "    elif re.search(r'board|boat', activity):\n",
    "        return 'boarding'\n",
    "    elif re.search(r'wade|wading', activity):\n",
    "        return 'wading'\n",
    "    else:\n",
    "        return 'Unspecific'"
   ]
  },
  {
   "cell_type": "code",
   "execution_count": 28,
   "metadata": {},
   "outputs": [],
   "source": [
    "# Aplicar la función a la columna 'Activity'\n",
    "df['Activity'] = df['Activity'].apply(standardize_activity)"
   ]
  },
  {
   "cell_type": "code",
   "execution_count": 29,
   "metadata": {},
   "outputs": [
    {
     "data": {
      "text/plain": [
       "Unspecific    1504\n",
       "surfing       1377\n",
       "fishing       1179\n",
       "swimming      1172\n",
       "diving         679\n",
       "boarding       340\n",
       "wading         173\n",
       "kayaking        99\n",
       "Name: Activity, dtype: int64"
      ]
     },
     "execution_count": 29,
     "metadata": {},
     "output_type": "execute_result"
    }
   ],
   "source": [
    "df['Activity'].value_counts()"
   ]
  },
  {
   "cell_type": "markdown",
   "metadata": {},
   "source": [
    "### Columna Sex"
   ]
  },
  {
   "cell_type": "code",
   "execution_count": 30,
   "metadata": {},
   "outputs": [
    {
     "data": {
      "text/plain": [
       "array(['F', 'M', nan, ' M', 'M ', 'lli', 'M x 2', 'N', '.'], dtype=object)"
      ]
     },
     "execution_count": 30,
     "metadata": {},
     "output_type": "execute_result"
    }
   ],
   "source": [
    "df['Sex'].unique()"
   ]
  },
  {
   "cell_type": "code",
   "execution_count": 31,
   "metadata": {},
   "outputs": [
    {
     "data": {
      "text/plain": [
       "478"
      ]
     },
     "execution_count": 31,
     "metadata": {},
     "output_type": "execute_result"
    }
   ],
   "source": [
    "df['Sex'].isnull().sum()"
   ]
  },
  {
   "cell_type": "code",
   "execution_count": 32,
   "metadata": {},
   "outputs": [],
   "source": [
    "df['Sex'].fillna('Unknown', inplace=True)\n",
    "df['Sex'] = df['Sex'].str.strip()"
   ]
  },
  {
   "cell_type": "code",
   "execution_count": 33,
   "metadata": {},
   "outputs": [],
   "source": [
    "\n",
    "dic_remplazos = {'M x 2': 'M', 'lli': 'M', 'N': 'M', '.': 'Unknown'}\n",
    "# Reemplazar \n",
    "df['Sex'] = df['Sex'].replace(dic_remplazos)\n",
    "\n"
   ]
  },
  {
   "cell_type": "code",
   "execution_count": 34,
   "metadata": {},
   "outputs": [
    {
     "data": {
      "text/plain": [
       "array(['F', 'M', 'Unknown'], dtype=object)"
      ]
     },
     "execution_count": 34,
     "metadata": {},
     "output_type": "execute_result"
    }
   ],
   "source": [
    "df['Sex'].unique()"
   ]
  },
  {
   "cell_type": "markdown",
   "metadata": {},
   "source": [
    "### Columna Age"
   ]
  },
  {
   "cell_type": "code",
   "execution_count": 35,
   "metadata": {},
   "outputs": [
    {
     "data": {
      "text/plain": [
       "2709"
      ]
     },
     "execution_count": 35,
     "metadata": {},
     "output_type": "execute_result"
    }
   ],
   "source": [
    "df['Age'].isnull().sum()"
   ]
  },
  {
   "cell_type": "code",
   "execution_count": 36,
   "metadata": {},
   "outputs": [
    {
     "data": {
      "text/plain": [
       "3908    NaN\n",
       "2451     15\n",
       "600      14\n",
       "6709    NaN\n",
       "4112     26\n",
       "1596    NaN\n",
       "5393    NaN\n",
       "1895     52\n",
       "6638    NaN\n",
       "4519     23\n",
       "6584    NaN\n",
       "5034    NaN\n",
       "5723    NaN\n",
       "2954     25\n",
       "4570     25\n",
       "4292     19\n",
       "4936    NaN\n",
       "4331    NaN\n",
       "3456     22\n",
       "4869    NaN\n",
       "4957    NaN\n",
       "6506    NaN\n",
       "6518    NaN\n",
       "3336    NaN\n",
       "2082      9\n",
       "4527    NaN\n",
       "2971     18\n",
       "2251     40\n",
       "4131     17\n",
       "5556     19\n",
       "Name: Age, dtype: object"
      ]
     },
     "execution_count": 36,
     "metadata": {},
     "output_type": "execute_result"
    }
   ],
   "source": [
    "df['Age'].sample(30)"
   ]
  },
  {
   "cell_type": "code",
   "execution_count": 37,
   "metadata": {},
   "outputs": [],
   "source": [
    "# Convertir la columna 'Age' a numérica, con valores no numéricos convertidos a NaN\n",
    "df['Age'] = pd.to_numeric(df['Age'], errors='coerce')"
   ]
  },
  {
   "cell_type": "code",
   "execution_count": 38,
   "metadata": {},
   "outputs": [
    {
     "data": {
      "text/plain": [
       "dtype('float64')"
      ]
     },
     "execution_count": 38,
     "metadata": {},
     "output_type": "execute_result"
    }
   ],
   "source": [
    "df['Age'].dtype"
   ]
  },
  {
   "cell_type": "code",
   "execution_count": 39,
   "metadata": {},
   "outputs": [
    {
     "data": {
      "text/plain": [
       "2833"
      ]
     },
     "execution_count": 39,
     "metadata": {},
     "output_type": "execute_result"
    }
   ],
   "source": [
    "df['Age'].isnull().sum()"
   ]
  },
  {
   "cell_type": "markdown",
   "metadata": {},
   "source": [
    "### Columna Deceased"
   ]
  },
  {
   "cell_type": "code",
   "execution_count": 40,
   "metadata": {},
   "outputs": [
    {
     "data": {
      "text/plain": [
       "array(['Y', 'N', 'M', 'n', nan, 'Nq', 'F', 'UNKNOWN', 2017, 'Y x 2', ' N',\n",
       "       'N ', 'y'], dtype=object)"
      ]
     },
     "execution_count": 40,
     "metadata": {},
     "output_type": "execute_result"
    }
   ],
   "source": [
    "df['Deceased'].unique()"
   ]
  },
  {
   "cell_type": "code",
   "execution_count": 41,
   "metadata": {},
   "outputs": [
    {
     "data": {
      "text/plain": [
       "508"
      ]
     },
     "execution_count": 41,
     "metadata": {},
     "output_type": "execute_result"
    }
   ],
   "source": [
    "df['Deceased'].isnull().sum()"
   ]
  },
  {
   "cell_type": "code",
   "execution_count": 42,
   "metadata": {},
   "outputs": [],
   "source": [
    "dic_remplazos_Deceased = {'M': 'UNKNOWN','F': 'UNKNOWN', 'Nq': 'UNKNOWN', 'Y x 2': 'Y'}\n",
    "\n",
    "df['Deceased'] = df['Deceased'].str.strip()\n",
    "\n",
    "df['Deceased'] = df['Deceased'].replace(dic_remplazos_Deceased)\n",
    "# Reemplazar minisculas por mayusculas\n",
    "df['Deceased'] = df['Deceased'].str.upper()\n",
    "\n",
    "df['Deceased'].fillna('UNKNOWN', inplace=True)"
   ]
  },
  {
   "cell_type": "code",
   "execution_count": 43,
   "metadata": {},
   "outputs": [
    {
     "data": {
      "text/plain": [
       "array(['Y', 'N', 'UNKNOWN'], dtype=object)"
      ]
     },
     "execution_count": 43,
     "metadata": {},
     "output_type": "execute_result"
    }
   ],
   "source": [
    "df['Deceased'].unique()"
   ]
  },
  {
   "cell_type": "code",
   "execution_count": 44,
   "metadata": {},
   "outputs": [
    {
     "data": {
      "text/plain": [
       "N          4611\n",
       "Y          1342\n",
       "UNKNOWN     570\n",
       "Name: Deceased, dtype: int64"
      ]
     },
     "execution_count": 44,
     "metadata": {},
     "output_type": "execute_result"
    }
   ],
   "source": [
    "df['Deceased'].value_counts()"
   ]
  },
  {
   "cell_type": "markdown",
   "metadata": {},
   "source": [
    "### Columna Date"
   ]
  },
  {
   "cell_type": "code",
   "execution_count": 45,
   "metadata": {},
   "outputs": [
    {
     "data": {
      "text/plain": [
       "6146                    1904\n",
       "5385                    1941\n",
       "4165             21-Jan-1967\n",
       "5135             16-Aug-1949\n",
       "3940             21-Dec-1972\n",
       "3647             24-May-1981\n",
       "4979             22-Jan-1954\n",
       "2850             10-Aug-1997\n",
       "5194             14-Nov-1947\n",
       "3619                    1982\n",
       "432              20-Dec-2019\n",
       "1326             31-Dec-2012\n",
       "555              05-Nov-2018\n",
       "1636             10-Jun-2010\n",
       "1604             04-Sep-2010\n",
       "3590             29-Aug-1982\n",
       "2603             21-Nov-2000\n",
       "1816             15-Sep-2008\n",
       "5843               1923-1924\n",
       "748     Reported 07-Jun-2017\n",
       "5078             15-Mar-1951\n",
       "5043             06-Apr-1952\n",
       "6573    Reported 18-Sep-1864\n",
       "2492             15-Mar-2002\n",
       "6371             18-Oct-1887\n",
       "5432           Woirld War II\n",
       "4770             31-Aug-1958\n",
       "3226             09-Jan-1991\n",
       "2176             12-Aug-2005\n",
       "4414             14-Oct-1962\n",
       "Name: Date, dtype: object"
      ]
     },
     "execution_count": 45,
     "metadata": {},
     "output_type": "execute_result"
    }
   ],
   "source": [
    "# Mostrar valores unicos y visualizarlos\n",
    "df['Date'].sample(30)"
   ]
  },
  {
   "cell_type": "code",
   "execution_count": 46,
   "metadata": {},
   "outputs": [],
   "source": [
    "# Eliminar espacios en las celdas\n",
    "\n",
    "df['Date'] = df['Date'].str.strip()"
   ]
  },
  {
   "cell_type": "code",
   "execution_count": 47,
   "metadata": {},
   "outputs": [],
   "source": [
    "# Remplazar espacios por guiones\n",
    "df['Date'] = df['Date'].apply(lambda x: x.replace(' ', '-') if isinstance(x, str) else x)"
   ]
  },
  {
   "cell_type": "code",
   "execution_count": 48,
   "metadata": {},
   "outputs": [
    {
     "data": {
      "text/plain": [
       "662                   12-Jan-2018\n",
       "1338                  04-Nov-2012\n",
       "1118                     Sep-2014\n",
       "2079                  08-Jul-2006\n",
       "1970                  21-Jul-2007\n",
       "3851                  20-May-1975\n",
       "799                   13-Jan-2017\n",
       "1558                  18-Feb-2011\n",
       "1023                  24-Jun-2015\n",
       "5777                  23-Jul-1926\n",
       "5662                  13-Dec-1930\n",
       "5704         Reported-17-Apr-1929\n",
       "4664                  19-Dec-1959\n",
       "1307                  21-Mar-2013\n",
       "4676                  10-Nov-1959\n",
       "3094    Reported------19-Aug-1993\n",
       "4733                  28-Feb-1959\n",
       "4878                  22-Jun-1956\n",
       "4006                  24-Oct-1970\n",
       "1067                  27-Jan-2015\n",
       "559                   23-Oct-2018\n",
       "6298         Reported-22-Jun-1893\n",
       "5631                         1932\n",
       "1529                  06-Jun-2011\n",
       "2304                  14-Mar-2004\n",
       "1078                  29-Dec-2014\n",
       "2870                  26-May-1997\n",
       "1619                  02-Aug-2010\n",
       "3618                          NaN\n",
       "6364         Reported-18-Jun-1888\n",
       "Name: Date, dtype: object"
      ]
     },
     "execution_count": 48,
     "metadata": {},
     "output_type": "execute_result"
    }
   ],
   "source": [
    "# Mostrar valores unicos y visualizarlos\n",
    "df['Date'].sample(30)"
   ]
  },
  {
   "cell_type": "code",
   "execution_count": 49,
   "metadata": {},
   "outputs": [],
   "source": [
    "# Función para reemplazar 'Reported-' por 'NaN', 'Late-' por 'NaN', 'Early-' por 'NaN'\n",
    "\n",
    "df['Date'] = df['Date'].str.replace('^(Reported-|Late-|Early-)', '', regex=True)\n",
    "\n"
   ]
  },
  {
   "cell_type": "code",
   "execution_count": 50,
   "metadata": {},
   "outputs": [],
   "source": [
    "# Function to remove the day if the length of the split parts is 3 (i.e., day, month, year)\n",
    "def quitar_dia(x):\n",
    "    parts = x.split('-')\n",
    "    if len(parts) == 3:\n",
    "        return '-'.join(parts[1:])  # Return the string without the first element (the day)\n",
    "    return x  # Return the original string if it's not in the expected format"
   ]
  },
  {
   "cell_type": "code",
   "execution_count": 51,
   "metadata": {},
   "outputs": [],
   "source": [
    "df['Date'] = df['Date'].apply(lambda x: quitar_dia(x) if isinstance(x, str) else x)"
   ]
  },
  {
   "cell_type": "code",
   "execution_count": 52,
   "metadata": {},
   "outputs": [
    {
     "data": {
      "text/plain": [
       "5544      Mar-1935\n",
       "6587      Sep-1863\n",
       "3177      Mar-1992\n",
       "743     2017.06.05\n",
       "914       Mar-2016\n",
       "2147      Nov-2005\n",
       "1410      May-2012\n",
       "6320      Dec-1891\n",
       "2506      Nov-2001\n",
       "735       Jul-2017\n",
       "3660      Feb-1981\n",
       "3525      Jan-1984\n",
       "823       Oct-2016\n",
       "790       Feb-2017\n",
       "6420      Feb-1883\n",
       "1848      Jul-2008\n",
       "1238      Sep-2013\n",
       "4122      Dec-1967\n",
       "6251      Dec-1896\n",
       "6114      Feb-1906\n",
       "4118           NaN\n",
       "5473      Aug-1937\n",
       "4854      Oct-1956\n",
       "6233          1898\n",
       "3452      Dec-1985\n",
       "4204      May-1966\n",
       "4789      Apr-1958\n",
       "5305      May-1943\n",
       "1038    20-May2015\n",
       "3041      Jul-1994\n",
       "Name: Date, dtype: object"
      ]
     },
     "execution_count": 52,
     "metadata": {},
     "output_type": "execute_result"
    }
   ],
   "source": [
    "df['Date'].sample(30)"
   ]
  },
  {
   "cell_type": "code",
   "execution_count": 53,
   "metadata": {},
   "outputs": [],
   "source": [
    "df['Date'] = pd.to_datetime(df['Date'],format ='%b-%Y', errors='coerce')"
   ]
  },
  {
   "cell_type": "code",
   "execution_count": 54,
   "metadata": {},
   "outputs": [
    {
     "data": {
      "text/plain": [
       "Date        datetime64[ns]\n",
       "Type                object\n",
       "Country             object\n",
       "State               object\n",
       "Activity            object\n",
       "Sex                 object\n",
       "Age                float64\n",
       "Deceased            object\n",
       "dtype: object"
      ]
     },
     "execution_count": 54,
     "metadata": {},
     "output_type": "execute_result"
    }
   ],
   "source": [
    "df.dtypes"
   ]
  },
  {
   "cell_type": "code",
   "execution_count": 55,
   "metadata": {},
   "outputs": [
    {
     "data": {
      "text/plain": [
       "4015   1970-07-01\n",
       "1404   2012-05-01\n",
       "4206   1966-05-01\n",
       "6086   1907-07-01\n",
       "4191   1966-08-01\n",
       "4308   1964-06-01\n",
       "6546   1870-06-01\n",
       "6505          NaT\n",
       "4360   1963-11-01\n",
       "1383   2012-07-01\n",
       "5662   1930-12-01\n",
       "4758   1958-12-01\n",
       "3734   1978-10-01\n",
       "634    2018-04-01\n",
       "1278   2013-06-01\n",
       "1812   2008-10-01\n",
       "5634   1931-09-01\n",
       "2011   2007-03-01\n",
       "696    2017-09-01\n",
       "2919   1996-05-01\n",
       "4300   1964-07-01\n",
       "1162   2014-06-01\n",
       "4677   1959-11-01\n",
       "1818   2008-09-01\n",
       "4178   1966-09-01\n",
       "6021   1911-05-01\n",
       "193    2022-03-01\n",
       "5133   1949-08-01\n",
       "2909   1996-07-01\n",
       "6090   1907-03-01\n",
       "Name: Date, dtype: datetime64[ns]"
      ]
     },
     "execution_count": 55,
     "metadata": {},
     "output_type": "execute_result"
    }
   ],
   "source": [
    "df['Date'].sample(30)"
   ]
  },
  {
   "cell_type": "code",
   "execution_count": 56,
   "metadata": {},
   "outputs": [
    {
     "data": {
      "text/plain": [
       "468"
      ]
     },
     "execution_count": 56,
     "metadata": {},
     "output_type": "execute_result"
    }
   ],
   "source": [
    "df['Date'].isna().sum()"
   ]
  },
  {
   "cell_type": "markdown",
   "metadata": {},
   "source": [
    "## Estudiar duplicados"
   ]
  },
  {
   "cell_type": "code",
   "execution_count": 59,
   "metadata": {},
   "outputs": [
    {
     "data": {
      "text/plain": [
       "0"
      ]
     },
     "execution_count": 59,
     "metadata": {},
     "output_type": "execute_result"
    }
   ],
   "source": [
    "df.duplicated().sum()"
   ]
  },
  {
   "cell_type": "code",
   "execution_count": 60,
   "metadata": {},
   "outputs": [],
   "source": [
    "df.drop_duplicates(inplace = True)\n",
    "df.reset_index(inplace = True)"
   ]
  },
  {
   "cell_type": "code",
   "execution_count": 61,
   "metadata": {},
   "outputs": [
    {
     "data": {
      "text/plain": [
       "0"
      ]
     },
     "execution_count": 61,
     "metadata": {},
     "output_type": "execute_result"
    }
   ],
   "source": [
    "df.duplicated().sum()"
   ]
  },
  {
   "cell_type": "markdown",
   "metadata": {},
   "source": [
    "## Guardar en CSV"
   ]
  },
  {
   "cell_type": "code",
   "execution_count": 63,
   "metadata": {},
   "outputs": [],
   "source": [
    "df.to_csv('clean_data.csv', index=False)"
   ]
  }
 ],
 "metadata": {
  "kernelspec": {
   "display_name": "base",
   "language": "python",
   "name": "python3"
  },
  "language_info": {
   "codemirror_mode": {
    "name": "ipython",
    "version": 3
   },
   "file_extension": ".py",
   "mimetype": "text/x-python",
   "name": "python",
   "nbconvert_exporter": "python",
   "pygments_lexer": "ipython3",
   "version": "3.9.13"
  }
 },
 "nbformat": 4,
 "nbformat_minor": 2
}
