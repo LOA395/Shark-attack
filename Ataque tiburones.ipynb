{
 "cells": [
  {
   "cell_type": "markdown",
   "metadata": {},
   "source": [
    "## SHARK ATTACK"
   ]
  },
  {
   "cell_type": "markdown",
   "metadata": {},
   "source": [
    "### Importamos la base de datos y verificamos los datos"
   ]
  },
  {
   "cell_type": "code",
   "execution_count": 1,
   "metadata": {},
   "outputs": [],
   "source": [
    "import pandas as pd\n",
    "import numpy as np\n",
    "\n",
    "# Cargar el archivo de Excel usando Pandas\n",
    "url = 'https://www.sharkattackfile.net/spreadsheets/GSAF5.xls'\n",
    "df = pd.read_excel(url)"
   ]
  },
  {
   "cell_type": "code",
   "execution_count": 2,
   "metadata": {},
   "outputs": [
    {
     "name": "stdout",
     "output_type": "stream",
     "text": [
      "\n",
      "Valores faltantes por columna:\n",
      "Date                25\n",
      "Year                27\n",
      "Type                43\n",
      "Country             75\n",
      "State              507\n",
      "Location           590\n",
      "Activity           611\n",
      "Name               245\n",
      "Sex                604\n",
      "Age               3019\n",
      "Injury              60\n",
      "Unnamed: 11        587\n",
      "Time              3551\n",
      "Species           3157\n",
      "Source              44\n",
      "pdf                170\n",
      "href formula       150\n",
      "href               173\n",
      "Case Number        171\n",
      "Case Number.1      172\n",
      "original order     170\n",
      "Unnamed: 21       6968\n",
      "Unnamed: 22       6967\n",
      "dtype: int64\n"
     ]
    }
   ],
   "source": [
    "# Verificar valores faltantes\n",
    "print(\"\\nValores faltantes por columna:\")\n",
    "print(df.isnull().sum())\n"
   ]
  },
  {
   "cell_type": "markdown",
   "metadata": {},
   "source": [
    "### Eliminamos columnas sobrantes y valores unicos"
   ]
  },
  {
   "cell_type": "code",
   "execution_count": 3,
   "metadata": {},
   "outputs": [],
   "source": [
    "# # Eliminar columnas: pdf, href formula, href, Case Number.1, Case Number, original order, Unnamed: 21, Unnamed: 22, Source\n",
    "\n",
    "df.drop(['pdf', 'href formula', 'href', 'Case Number', 'Case Number.1', 'original order', 'Unnamed: 21', 'Unnamed: 22', 'Source'], axis=1, inplace=True)\n"
   ]
  },
  {
   "cell_type": "code",
   "execution_count": 4,
   "metadata": {},
   "outputs": [],
   "source": [
    "# Eliminar columnas con más del 50% de valores faltantes\n",
    "missing_values_threshold = 0.5\n",
    "df = df.loc[:, df.isnull().mean() < missing_values_threshold]"
   ]
  },
  {
   "cell_type": "code",
   "execution_count": 5,
   "metadata": {},
   "outputs": [],
   "source": [
    "# Renombrar columna unnamed: 11 por Died\n",
    "if \"Unnamed: 11\" in df.columns:\n",
    "    df.rename(columns={\"Unnamed: 11\": \"Died\"}, inplace=True)"
   ]
  },
  {
   "cell_type": "code",
   "execution_count": 6,
   "metadata": {},
   "outputs": [],
   "source": [
    "# Eliminar filas con más de 5 valores faltantes\n",
    "df = df.dropna(thresh=len(df.columns) - 5)"
   ]
  },
  {
   "cell_type": "code",
   "execution_count": 7,
   "metadata": {},
   "outputs": [],
   "source": [
    "# Eliminamos los valores numericos de Sex\n",
    "df = df[df['Sex'].str.isdigit() == False]"
   ]
  },
  {
   "cell_type": "code",
   "execution_count": 8,
   "metadata": {},
   "outputs": [],
   "source": [
    "# Modificar Sex los valores nan, Unknown, ., por NAN\n",
    "df['Sex'] = df['Sex'].replace(['nan', 'Unknown', '.'], 'NaN')\n",
    "\n",
    "# Reemplazar 'M x 2' por 'M'\n",
    "df['Sex'] = df['Sex'].replace({'M x 2': 'M'})\n",
    "\n",
    "# Reemplazar 'lli' por 'M'\n",
    "df['Sex'] = df['Sex'].replace({'lli': 'M'})\n",
    "\n",
    "# Reemplazar ' M' por 'M'\n",
    "df['Sex'] = df['Sex'].replace({' M': 'M'})\n",
    "\n",
    "# Reemplazar 'M ' por 'M'\n",
    "df['Sex'] = df['Sex'].replace({'M ': 'M'})\n",
    "\n",
    "# Reemplazar 'N' por 'M'\n",
    "df['Sex'] = df['Sex'].replace({'N': 'M'})\n",
    "\n",
    "# Reemplazar celdas vacias por NAN\n",
    "df['Sex'] = df['Sex'].replace({''}, 'NaN')\n",
    "\n",
    "\n",
    "\n",
    "\n"
   ]
  },
  {
   "cell_type": "code",
   "execution_count": 9,
   "metadata": {},
   "outputs": [
    {
     "name": "stdout",
     "output_type": "stream",
     "text": [
      "\n",
      "Valores unicos:\n",
      "['F' 'M' 'NaN']\n",
      "\n",
      "Valores faltantes:\n",
      "0\n",
      "\n",
      "Valores faltantes por columna:\n",
      "Date           0\n",
      "Year           2\n",
      "Type          18\n",
      "Country       41\n",
      "State        411\n",
      "Location     488\n",
      "Activity     423\n",
      "Name          67\n",
      "Sex            0\n",
      "Age         2445\n",
      "Injury        17\n",
      "Died         478\n",
      "Species     2870\n",
      "dtype: int64\n"
     ]
    }
   ],
   "source": [
    "# Verificar valores unicos y visualizarlos\n",
    "print(\"\\nValores unicos:\")\n",
    "print(df['Sex'].unique())\n",
    "print(\"\\nValores faltantes:\")\n",
    "print(df['Sex'].isnull().sum())\n",
    "print(\"\\nValores faltantes por columna:\")\n",
    "print(df.isnull().sum())\n",
    "\n"
   ]
  },
  {
   "cell_type": "code",
   "execution_count": 10,
   "metadata": {},
   "outputs": [
    {
     "name": "stdout",
     "output_type": "stream",
     "text": [
      "\n",
      "Valores unicos:\n",
      "['15 Mar 2024' '04 Mar 2024' '02 Mar-2024' ... '1900-1905' '1883-1889'\n",
      " '1845-1853']\n",
      "\n",
      "Valores faltantes:\n",
      "0\n",
      "\n",
      "Valores faltantes por columna:\n",
      "Date           0\n",
      "Year           2\n",
      "Type          18\n",
      "Country       41\n",
      "State        411\n",
      "Location     488\n",
      "Activity     423\n",
      "Name          67\n",
      "Sex            0\n",
      "Age         2445\n",
      "Injury        17\n",
      "Died         478\n",
      "Species     2870\n",
      "dtype: int64\n"
     ]
    }
   ],
   "source": [
    "# Verificar valores unicos en la columna 'Date' y visualizarlos\n",
    "print(\"\\nValores unicos:\")\n",
    "print(df['Date'].unique())\n",
    "print(\"\\nValores faltantes:\")\n",
    "print(df['Date'].isnull().sum())\n",
    "print(\"\\nValores faltantes por columna:\")\n",
    "print(df.isnull().sum())"
   ]
  },
  {
   "cell_type": "code",
   "execution_count": 11,
   "metadata": {},
   "outputs": [
    {
     "name": "stdout",
     "output_type": "stream",
     "text": [
      "\n",
      "Valores unicos:\n",
      "[nan 'N' 'Y' 'M' 'F' 'n' 'Nq' 'UNKNOWN' 2017 'Y x 2' ' N' 'y']\n",
      "\n",
      "Valores faltantes:\n",
      "478\n",
      "\n",
      "Valores faltantes por columna:\n",
      "Date           0\n",
      "Year           2\n",
      "Type          18\n",
      "Country       41\n",
      "State        411\n",
      "Location     488\n",
      "Activity     423\n",
      "Name          67\n",
      "Sex            0\n",
      "Age         2445\n",
      "Injury        17\n",
      "Died         478\n",
      "Species     2870\n",
      "dtype: int64\n"
     ]
    }
   ],
   "source": [
    "# Verificar valores unicos y visualizarlos\n",
    "print(\"\\nValores unicos:\")\n",
    "print(df['Died'].unique())\n",
    "print(\"\\nValores faltantes:\")\n",
    "print(df['Died'].isnull().sum())\n",
    "print(\"\\nValores faltantes por columna:\")\n",
    "print(df.isnull().sum())"
   ]
  },
  {
   "cell_type": "code",
   "execution_count": 12,
   "metadata": {},
   "outputs": [],
   "source": [
    "# Modificar Died los valores nan, UNKNOWN, M, F, Nq, 2017 , por NAN\n",
    "df['Died'] = df['Died'].replace(['nan', ' nan', 'UNKNOWN', 'M', 'F', 'Nq', '2017', '', ' 2017', '2017 '], 'NaN')\n",
    "\n",
    "# Reemplazar n, ' N' por 'N'\n",
    "df['Died'] = df['Died'].replace({'n': 'N', ' N': 'N'})\n",
    "\n",
    "# Reemplazar 'Y x 2', 'y'por 'Y'\n",
    "df['Died'] = df['Died'].replace({'Y x 2': 'Y', 'y': 'Y'})\n",
    "\n",
    "#Reemplazar 2017 por NAN\n",
    "df['Died'] = df['Died'].replace({'2017': 'NaN'})\n",
    "\n",
    "# Reemplazar celdas vacias por NAN\n",
    "df['Died'] = df['Died'].replace({''}, 'NaN')\n",
    "\n",
    "# Reemplazar celdas NAN por NAN\n",
    "df['Died'] = df['Died'].replace({'NaN': 'NaN'})\n",
    "\n",
    "\n"
   ]
  },
  {
   "cell_type": "code",
   "execution_count": 13,
   "metadata": {},
   "outputs": [
    {
     "name": "stdout",
     "output_type": "stream",
     "text": [
      "\n",
      "Valores unicos:\n",
      "['Unprovoked' ' Provoked' 'Provoked' 'Questionable' 'Watercraft'\n",
      " 'Sea Disaster' nan '?' 'Unverified' 'Invalid' 'Under investigation']\n",
      "\n",
      "Valores faltantes:\n",
      "18\n",
      "\n",
      "Valores faltantes por columna:\n",
      "Date           0\n",
      "Year           2\n",
      "Type          18\n",
      "Country       41\n",
      "State        411\n",
      "Location     488\n",
      "Activity     423\n",
      "Name          67\n",
      "Sex            0\n",
      "Age         2445\n",
      "Injury        17\n",
      "Died         478\n",
      "Species     2870\n",
      "dtype: int64\n"
     ]
    }
   ],
   "source": [
    "# Verificar valores unicos y visualizarlos\n",
    "print(\"\\nValores unicos:\")\n",
    "print(df['Type'].unique())\n",
    "print(\"\\nValores faltantes:\")\n",
    "print(df['Type'].isnull().sum())\n",
    "print(\"\\nValores faltantes por columna:\")\n",
    "print(df.isnull().sum())"
   ]
  },
  {
   "cell_type": "code",
   "execution_count": 14,
   "metadata": {},
   "outputs": [],
   "source": [
    "# Modificar Type los valores nan, '?', Invalid por NAN\n",
    "df['Type'] = df['Type'].replace(['nan', '?', 'Invalid'], 'NaN')  \n",
    "\n",
    "\n",
    "#Reemplazar ' Provoked' por 'Provoked'\n",
    "df['Type'] = df['Type'].replace({' Provoked': 'Provoked'})\n",
    "\n",
    "# Reemplazar celdas vacias por NAN\n",
    "df['Type'] = df['Type'].replace({''}, 'NaN')\n",
    "\n",
    "# Reemplazar minusculas por mayusculas\n",
    "df['Type'] = df['Type'].str.upper()\n",
    "\n",
    "# Reemplazar celdas vacias por NAN\n",
    "df['Type'] = df['Type'].replace({''}, 'NaN')\n"
   ]
  },
  {
   "cell_type": "code",
   "execution_count": 15,
   "metadata": {},
   "outputs": [
    {
     "name": "stdout",
     "output_type": "stream",
     "text": [
      "\n",
      "Valores unicos:\n",
      "['AUSTRALIA' 'USA' 'INDIA' 'TRINIDAD' 'BAHAMAS' 'SOUTH AFRICA' 'MEXICO'\n",
      " 'NEW ZEALAND' 'EGYPT' 'Mexico' 'BELIZE' 'PHILIPPINES' 'Coral Sea' 'SPAIN'\n",
      " 'PORTUGAL' 'SAMOA' 'COLOMBIA' 'ECUADOR' 'FRENCH POLYNESIA'\n",
      " 'NEW CALEDONIA' 'TURKS and CaICOS' 'CUBA' 'BRAZIL' 'SEYCHELLES'\n",
      " 'ARGENTINA' 'FIJI' 'MeXICO' 'Maldives' 'South Africa' 'ENGLAND' 'JAPAN'\n",
      " 'INDONESIA' 'JAMAICA' 'MALDIVES' 'THAILAND' 'COLUMBIA' 'COSTA RICA'\n",
      " 'New Zealand' 'British Overseas Territory' 'CANADA' 'JORDAN'\n",
      " 'ST KITTS / NEVIS' 'ST MARTIN' 'PAPUA NEW GUINEA' 'REUNION ISLAND'\n",
      " 'ISRAEL' 'CHINA' 'IRELAND' 'ITALY' 'MALAYSIA' nan 'MAURITIUS'\n",
      " 'SOLOMON ISLANDS' 'ST HELENA, British overseas territory' 'REUNION'\n",
      " 'UNITED KINGDOM' 'UNITED ARAB EMIRATES' 'CAPE VERDE' 'Fiji'\n",
      " 'DOMINICAN REPUBLIC' 'CAYMAN ISLANDS' 'ARUBA' 'MOZAMBIQUE' 'PUERTO RICO'\n",
      " 'ST. MARTIN' 'FRANCE' 'TRINIDAD & TOBAGO' 'KIRIBATI' 'DIEGO GARCIA'\n",
      " 'TAIWAN' 'PALESTINIAN TERRITORIES' 'GUAM' 'NIGERIA' 'TONGA' 'SCOTLAND'\n",
      " 'SAUDI ARABIA' 'CHILE' 'ANTIGUA' 'KENYA' 'RUSSIA' 'TURKS & CAICOS'\n",
      " 'UNITED ARAB EMIRATES (UAE)' 'AZORES' 'SOUTH KOREA' 'MALTA' 'VIETNAM'\n",
      " 'MADAGASCAR' 'PANAMA' 'SOMALIA' 'NEVIS' 'CROATIA'\n",
      " 'BRITISH VIRGIN ISLANDS' 'NORWAY' 'Sierra Leone' 'ATLANTIC OCEAN'\n",
      " 'ST. MAARTIN' 'GRAND CAYMAN' 'Seychelles' 'LIBERIA' 'VANUATU' 'MEXICO '\n",
      " 'HONDURAS' 'VENEZUELA' 'SRI LANKA' ' TONGA' 'URUGUAY' 'MICRONESIA'\n",
      " 'OKINAWA' 'TANZANIA' 'MARSHALL ISLANDS' 'SENEGAL' 'EGYPT / ISRAEL'\n",
      " 'NORTHERN ARABIAN SEA' 'HONG KONG' 'EL SALVADOR' 'CARIBBEAN SEA' 'ANGOLA'\n",
      " 'BERMUDA' 'MONTENEGRO' 'IRAN' 'GREECE' 'TUNISIA' 'NAMIBIA'\n",
      " 'NORTH ATLANTIC OCEAN' 'SOUTH CHINA SEA' 'PALAU' 'WESTERN SAMOA'\n",
      " 'PACIFIC OCEAN ' 'BRITISH ISLES' 'GRENADA' 'IRAQ' 'TURKEY' 'SINGAPORE'\n",
      " 'NEW BRITAIN' 'SUDAN' 'JOHNSTON ISLAND' 'SOUTH PACIFIC OCEAN'\n",
      " 'NEW GUINEA' 'RED SEA' 'NORTH PACIFIC OCEAN'\n",
      " 'FEDERATED STATES OF MICRONESIA' 'MID ATLANTIC OCEAN' 'ADMIRALTY ISLANDS'\n",
      " 'BRITISH WEST INDIES' 'SOUTH ATLANTIC OCEAN' 'PERSIAN GULF'\n",
      " 'RED SEA / INDIAN OCEAN' 'PACIFIC OCEAN' 'NORTH SEA' 'NICARAGUA '\n",
      " 'MALDIVE ISLANDS' 'AMERICAN SAMOA' 'ANDAMAN / NICOBAR ISLANDAS' 'GABON'\n",
      " 'MAYOTTE' 'NORTH ATLANTIC OCEAN ' 'YEMEN' 'THE BALKANS' 'SUDAN?'\n",
      " 'MARTINIQUE' 'GUATEMALA' 'NETHERLANDS ANTILLES'\n",
      " 'NORTHERN MARIANA ISLANDS' 'IRAN / IRAQ' 'SIERRA LEONE' ' PHILIPPINES'\n",
      " 'CENTRAL PACIFIC' 'INDIAN OCEAN' 'SOLOMON ISLANDS / VANUATU'\n",
      " 'SOUTHWEST PACIFIC OCEAN' 'BAY OF BENGAL' 'MID-PACIFC OCEAN' 'CURACAO'\n",
      " 'ICELAND' 'ITALY / CROATIA' 'NICARAGUA' 'MONACO' 'GUYANA' 'BARBADOS'\n",
      " 'HAITI' 'SAN DOMINGO' 'KUWAIT' 'LIBYA' 'YEMEN ' 'FALKLAND ISLANDS'\n",
      " 'CRETE' 'CYPRUS' 'EGYPT ' 'WEST INDIES' 'BURMA' 'LEBANON'\n",
      " 'BRITISH NEW GUINEA' 'CEYLON' 'OCEAN' 'GEORGIA' 'SYRIA' 'INDIAN OCEAN?'\n",
      " 'GUINEA' 'ANDAMAN ISLANDS' 'EQUATORIAL GUINEA / CAMEROON' 'COOK ISLANDS'\n",
      " 'TOBAGO' 'PERU' 'AFRICA' 'ALGERIA' 'Coast of AFRICA' 'TASMAN SEA' 'GHANA'\n",
      " 'MEDITERRANEAN SEA' 'SWEDEN' 'Between PORTUGAL & INDIA' 'BAHREIN' 'KOREA'\n",
      " 'RED SEA?' 'ASIA?' 'CEYLON (SRI LANKA)']\n",
      "\n",
      "Valores faltantes:\n",
      "41\n",
      "\n",
      "Valores faltantes por columna:\n",
      "Date           0\n",
      "Year           2\n",
      "Type          18\n",
      "Country       41\n",
      "State        411\n",
      "Location     488\n",
      "Activity     423\n",
      "Name          67\n",
      "Sex            0\n",
      "Age         2445\n",
      "Injury        17\n",
      "Died         478\n",
      "Species     2870\n",
      "dtype: int64\n"
     ]
    }
   ],
   "source": [
    "# Verificar valores unicos y visualizarlos\n",
    "print(\"\\nValores unicos:\")\n",
    "print(df['Country'].unique())\n",
    "print(\"\\nValores faltantes:\")\n",
    "print(df['Country'].isnull().sum())\n",
    "print(\"\\nValores faltantes por columna:\")\n",
    "print(df.isnull().sum())"
   ]
  },
  {
   "cell_type": "code",
   "execution_count": 16,
   "metadata": {},
   "outputs": [],
   "source": [
    "# Reemplazar minisculas por mayusculas\n",
    "df['Country'] = df['Country'].str.upper()\n",
    "\n",
    "# Eliminar espacios en las celdas\n",
    "df['Country'] = df['Country'].str.strip()"
   ]
  },
  {
   "cell_type": "code",
   "execution_count": 17,
   "metadata": {},
   "outputs": [
    {
     "name": "stdout",
     "output_type": "stream",
     "text": [
      "\n",
      "Valores unicos:\n",
      "['Queensland' 'Hawaii' 'Western Australia' 'Maharashtra' nan\n",
      " 'New  South Wales' 'Paradise Island' 'South Australia'\n",
      " 'Eastern Cape Province' 'Sonora' 'New South Wales' 'South Island'\n",
      " 'Guerrero' 'New Providence   Isoad' 'Jalisco' 'Grand  Bahama Island'\n",
      " 'Florida' 'Westerm Australia' 'North Island' 'Southern Red Sea'\n",
      " 'Quintana Roo' 'Belize District' 'California' 'South Carolina'\n",
      " 'South Sinai' 'Bolinao' 'Valencia' 'Norte' \"Savai'i island\" 'New York'\n",
      " 'San Andrés Island' 'Galapagos Islands' 'Red Sea Protectorate' 'Freeport'\n",
      " 'Tahiti' 'Poum' 'Providenciales Island' 'Lucayan Lucayan Archipelago'\n",
      " 'New Jersey' 'Mayabeque' 'Easten Cape Province' 'Artemisa' 'Pernambuco'\n",
      " 'Praslin Island' 'South Province' 'Patagonia' 'Taveuni Island'\n",
      " 'Gulf of California' 'Vaavu Atoll' 'KNZ' 'New South ales' 'Samoa' 'Texas'\n",
      " 'Louisiana' 'Mississippi' 'Western  Australia' 'Victoria'\n",
      " 'Western Cape Province' 'Cornwall' 'Noirth Carolina' 'Okinawa' 'Bali'\n",
      " 'Hurghada, Red Sea Governorate' 'Ambergris Cay' 'Georgia' 'Phuket'\n",
      " 'Alabama' 'KZN' 'Isla De San Andres' 'Guanacoste' 'KwaZulu-Natal'\n",
      " 'São Paulo.' 'Turks and Caicos' 'Nova Scotia' 'Maryland' 'North Carolina'\n",
      " 'Chanthaburi Province' 'BAHAMAS' 'Galapagos' 'Aqaba' 'West Sussex'\n",
      " 'Nouville' 'Ambergris Key' 'Westmoreland Parish' 'Marquesas'\n",
      " 'Loyalty Islands' 'Maui' 'The Narrows' 'Raa Atoll' 'Oregon'\n",
      " ' Grand Bahama Island' 'Franklin County, Florida' 'Virgin Islands'\n",
      " 'Tuamotu Islands' 'Maine' 'Bahamas' 'Tasmania' 'Delaware' 'Abaco Islands'\n",
      " 'Muang district of Satun province, ' 'Canary Islands' 'Vanua Levu'\n",
      " 'Exumas' 'Southland' 'Phang Nga Province' 'Praslin' 'Central Province'\n",
      " 'Holquin' 'Moorea' 'Baja ' 'Saint-Gilles' 'Guam' 'Northern Territory '\n",
      " 'Cayman Islands' 'Rhode Island' 'Chatham Islands' 'Quinta Roo'\n",
      " 'Lucayan Archipelago' 'Bélep Islands' 'Noumea' 'Fernando de Noronha'\n",
      " 'Liaoning Province' 'New South Wales ' 'Upolo' 'St. Marys Parish'\n",
      " 'Massachusetts' 'County Cork' 'Chieti, Province' 'Guizhou Province'\n",
      " 'San Andres and Providencia Archipelago' 'The Exuma Cays' 'Colima'\n",
      " 'Hua Hin' 'Cocos Island' 'Alifu Alifu Atoll' 'New Providence' 'Alagoas'\n",
      " 'Boi Island, Victoria' 'Sepang' 'Holquin Province' 'Pamplemousses '\n",
      " ' Upolu Island' 'Shizuoka Prefecture' 'Castellón'\n",
      " 'New Providence District' '40 miles off Grand Bahama Island'\n",
      " 'Ascension Island' 'Majorca' 'Washington' 'Tabasco' 'Ibiza Island'\n",
      " 'South Devon' 'New Providence ' 'Sharjah, ' 'Baja California Sur'\n",
      " 'Saint-Leu' 'Luzon Island' 'Tamaulipas' 'Saint-Andre' 'Bimini' 'Tuamotos'\n",
      " 'North Province' 'New Providence Island' 'Alicante Province' 'Hong Kong'\n",
      " 'Kochi Prefecture' 'Isla Providencia' 'Suez' 'Grand Terre'\n",
      " 'Boa Vista Island' 'Santa Catarina State' 'Altagracia Province'\n",
      " 'Grand Cayman' 'Balneário Camboriú' 'Fujairah Emirate'\n",
      " 'Grand Canary Island' 'Inhambane Province' 'Alicante' 'Guanacaste'\n",
      " 'Bora Bora' 'Grand Bahama Island' 'Le Port' 'Rangiroa'\n",
      " 'Saint-Gilles-les-Bains' 'Sardinia' 'Sinaloa' 'Central Tuamotu'\n",
      " 'd’Étang-Salé' 'Granada' 'Cargados Carajos Shoals (St. Brandon)'\n",
      " 'Catalonia' 'West End' 'Atsumi peninsula' 'Palmyra Atoll'\n",
      " 'Wallis and Futuna' 'Baie de Sainte-Marie' 'Society Islands' 'Trinidad'\n",
      " 'Okinawa Prefecture' '740 miles SE of Tarawa Atoll' 'Southern District'\n",
      " 'Bay of Biscay' 'Exuma Islands' 'Saint-Paul' 'Taitung ' 'Kingston Parish'\n",
      " 'Santa Cruz Island' 'Tuamotus' 'Eleuthera' 'St. Catherine' 'Palawan'\n",
      " 'Mercury Islands' 'Delta' \"Vava'u\" 'Inner Hebrides' 'Saint Leu'\n",
      " 'Trois-Bassins' 'British Colombia' 'Saint-Benoit' 'Tabuk Province'\n",
      " 'Antofagasta Province' \"St John's\" 'Santa Elena' 'East New Britain'\n",
      " 'Bois-Blanc ' 'Moray' 'Puerto Rico' 'Samaná Province' 'Coast Province'\n",
      " 'Primorsky Krai' 'Peter the Great Bay, Khasan, Primorsky Krai (Far East)'\n",
      " 'Telyakovsky Bay, Khasan,  Primorsky Krai (Far East)' 'Sucre'\n",
      " 'Middle Caicos' 'Caicos Bank' 'San Andrés archipelago' 'Kedah'\n",
      " 'Umm al Qaywayan Province' 'Vitu Levu' 'South Sinai Peninsula'\n",
      " ' Loyalty Islands' 'Saint Gilles ' 'Virginia' \"Ha'api \"\n",
      " 'Western Province' 'Jeju Province' 'Binh Dinh Province'\n",
      " 'Antsiranana Province' 'Sinai Peninsula' 'Off Vanua Levu' 'Merizo'\n",
      " 'Rio Grande Do Sul' 'Dubai' 'Torres Strait' 'Eastern Province'\n",
      " 'Eastern Cape  Province' 'Maputo Province' 'Bocas' 'Fife' 'Devon'\n",
      " 'Makira-Ulawa Province' 'Mombasa' 'Catalunya' 'St. Johns Reef'\n",
      " 'Off Green Island' 'North Region' 'Batangas province' 'Strait of Malacca'\n",
      " 'Guantanamo Province' 'Maranhão' 'Red Sea' 'Batanes Provine' 'Luzon'\n",
      " 'Northern Territory' ' Split-Dalmatia Count,' 'North Devon'\n",
      " 'US Virgin Islands' 'San Carlos' 'Cabo San Lucas' 'Sussex' 'Bahia'\n",
      " 'Guerro' 'Yasawa Islands' 'Northern Bahamas' 'Tokyo Bay'\n",
      " 'Baja California' 'Green Bay' 'Marovo Lagoon'\n",
      " 'Territory of Cocos (Keeling) Islands' 'Oslo Fjord' 'Kent' 'Bird Island'\n",
      " 'Bimini Islands' 'Cook islans' 'Ambergris Caye' 'Saint-Pierre'\n",
      " 'Andros Islands' 'Western Area' '300 miles from Antigua'\n",
      " '800 miles from land' 'Simpson Bay' 'East Wall' 'Inner Islands'\n",
      " 'Shanghai' 'Malampa Province' \"South Ch'ungch'ong Province\" 'Bay Islands'\n",
      " 'New Mexico' 'Santa Isabel Province' 'Santiago de Cuba Province'\n",
      " 'Camaguey Province' 'Conservatória District' 'South Carolina '\n",
      " 'Kuril Islands in the Pacific' 'Wakayama Prefecture' \"Nuku'alofa\"\n",
      " 'Saint-Benoît' 'South Island, near Karitane north of Dunedin' 'Rocha'\n",
      " 'Northlands' 'Anzoategui' 'Cook Islands' 'Tamil Nadu' 'Pearl Islands'\n",
      " 'Taveuni' 'Johnston Atoll' 'Rio de Janeiro' 'Nueva Esparta'\n",
      " 'North Pacific coast' 'Caroline Islands' 'Cheshire'\n",
      " 'KwaZulu-Natal between Port Edward and Port St Johns'\n",
      " 'Milne Bay Province' 'Cikobia Island (north of Vanua Levu)'\n",
      " 'Rayong Province' 'Zamboanga del Sur Province' 'Rio Grande de Norte'\n",
      " 'Off the western coast of peninsular Malaysia' 'New Brunswick'\n",
      " 'Miyako Island' 'Alaska' 'Minerva Reef' 'Madang Province'\n",
      " 'Worcestershire' 'Phang nga Province' 'Alinglaplap Atoll' 'Ralik Chain'\n",
      " 'Grand Baie' \"L' Etang Salé-les-Bains\" 'Southern Japan'\n",
      " 'Cap Vert Peninsula' 'Berry Islands' 'Transvaal' 'Gaza' \"Grand'Anse\"\n",
      " 'Miyako' \"L'Etang-Sale\" 'Chatham Islands ' 'South Sinai, Gulf of Aqaba'\n",
      " 'Cat Cay' 'Missouri' 'Saint-Paul '\n",
      " 'Chatham Islands, east of New  Zealand' 'Saint-Denis' 'Vava’u'\n",
      " 'Clearwater Bay' 'New Territories' 'Aichi Prefecture' 'Banaadir Region'\n",
      " 'La Libertad' 'Costa Blanca' 'Walkers Cay'\n",
      " 'On the Kowloon penisula, south of Sai Kung' 'Tongapatu Group'\n",
      " 'West Africa' 'Wakaya Island' 'North Carolina ' 'Saint-Joseph'\n",
      " 'Mexico / Caribbean Sea' 'Antarctic Ocean' 'Ehime Prefecture'\n",
      " 'La Saline-les-Bains' 'Tavenui' 'Ligurian Sea' \"L'Etang-Salé\"\n",
      " 'Kowloon Peninsula' 'Port Shelter' 'Laucala Island' 'Sainte-Marie'\n",
      " 'Great Exuma Island' 'Sainte-Suzanne' 'Tuscany' 'Sea of Japan'\n",
      " 'Tyrrhenian Sea' 'New Ireland' 'Valpariso Province' 'Manfredonia '\n",
      " 'Tokyo Prefecture' 'Saint-Louis' 'Adriatic Sea' 'Florida Straits' 'Cádiz'\n",
      " 'Sicily' 'Andikira Fokithes' 'Central Philippines' 'Northwest Italy'\n",
      " 'English Channel' 'North & South Carolina' 'Carolina coast'\n",
      " 'Kumamoto Prefecture' 'Saint-Philippe' 'Chungnam' 'Eronogo Region'\n",
      " 'Coquimbo' 'Pagasitikos Gulf' \"St. Mary's Parish\" 'Lamu Archipelago'\n",
      " 'Los Vilos' 'Island of Kos' \"Ha'api\" 'Madeira Islands'\n",
      " 'Ho Ha Wan Marine Park' 'Southern Thailand' 'Ralik Archipelago'\n",
      " 'South China Sea 200 miles from Hong Kong' 'Reggio Calabria Province'\n",
      " 'Mirs Bay ' 'Genoa Province' ' Split-Dalmatia County' 'Florida '\n",
      " 'Aulong Island' 'Western Caroline Islands' 'Upolu Island'\n",
      " 'Illeginni Atoll' 'Istria County' 'Istria ' 'Khuzestan Province'\n",
      " 'Inhambe Province' 'Namonuito Atoll' 'Eastern Caroline Islands'\n",
      " 'Western Caroline Islands (North Pacific Ocean)' 'St. Andrew Parish'\n",
      " 'Limpopo River' 'New Ireland Province' 'Zadar County' 'Basrah'\n",
      " 'Clarendon' 'Magdalena Department' 'Gulf Province' 'Limón Province'\n",
      " 'Brindisi Province' 'Kagawa Prefecture' 'Liguria' 'Hamilton'\n",
      " 'Out Islands' 'Mugla Province' 'Gibraltar' 'New Britain' 'Veracruz'\n",
      " 'Bay of Maputo' 'Duke of York Islands' 'Primorje-Gorski Kotar County '\n",
      " 'Taranto province' 'Northern Taiwan' 'Admiralty Islands, Manus Province'\n",
      " \"250 miles southwest of O'ahu, Hawaii\" 'West coast' 'East Sepik'\n",
      " 'Near Bougainville (North Solomons)' 'East of the Gulf of Aqaba'\n",
      " 'Bougainville (North Solomons)' 'Victoria ' 'Okayama Prefecture'\n",
      " 'San Blas' 'Lau Group' 'Caribbean Coast' 'Vita Levu' 'San Blas Islands'\n",
      " 'Puntarenas Province' 'Lomaloma, Lau'\n",
      " 'Between Southampton & Canary Islands' 'South Coast, East New Britain'\n",
      " ' Lau Province' 'Ysabel Island' 'Santo Domingo' 'San Blas coast'\n",
      " 'Thessaly' 'Lomaiviti  Island Group' 'Rodrigues' 'Manus Island'\n",
      " 'Pinas Bay' 'Grand Turk Island' 'Off coast of West Africa' 'Sharon'\n",
      " 'Antalya Province' 'Northern District'\n",
      " 'New Ireland Province, Bismarck Archipelago'\n",
      " 'Off the Coromandel Peninsula, North Island' 'Madang'\n",
      " 'Guadalcanal Province' '10ºS, 142ºE' 'Kwajalein Atoll'\n",
      " 'Western Luzon Island' 'Shefa Province' '165  miles from Bermuda'\n",
      " '25 km off the coast of Iran & 483km from mouth of Persian Gulf'\n",
      " 'Venice Province' 'Sandaun Province' 'Anatolia'\n",
      " 'East New Britain Province' 'Wake Island (EnenKio)' '19S, 178?E'\n",
      " 'Pennsylvania' 'Roncador Bank' 'Western District'\n",
      " 'Enroute from Suez to Aden (Yemen)' '180 miles southeast of Okinawa'\n",
      " 'Eniwetok Atoll' 'Connecticut' 'In the English Channel '\n",
      " 'Unknown, treated at Wick, SCOTLAND' 'Corregidor Island' 'Paget'\n",
      " '33N, 68W' 'Casamance' 'Madang (WO)' 'Pacific coast' 'St. Georges '\n",
      " 'Eastern  Province' 'Northwest of Viti Levu' 'West New Britain Province'\n",
      " 'Masbate' '400 miles southeast of Sri Lanka' 'Lomaiviti Province'\n",
      " 'Kadavu' 'Leyte Island' 'Guerrrero' 'Hokkaido Prefecture' 'North Palawan'\n",
      " 'Istria' 'Mersin Province' 'Guyamas' 'Between England & South Africa'\n",
      " 'Mindanao' ' Kikori River mouth' 'South Chungcheong Province'\n",
      " 'Morobe Province' 'Tutuila Island' 'Primorje-Gorski Kotar County'\n",
      " 'Between Hawaii & Wake Island' 'Taipei Hsien' 'Ibaraki Prefecture'\n",
      " 'Canal Zone' 'Honiara' 'Viti Levu' 'Havana Province' 'Karun River'\n",
      " 'Abau Subdistrict,Central Province' 'New Britain, Bismarck Archipelago'\n",
      " 'Estuaire Province' 'Near Dakar, Cap Vert Peninsula'\n",
      " 'Near the Andaman & Nicobar Islands' 'Mozambique Channel' 'Tyrrenian Sea'\n",
      " 'St. Thomas Bay' 'Madeira' 'Between Comores & Madagascar' 'Corfu Island'\n",
      " '1000 miles west of Hawaii' 'Izo Islands' ' Primorje-Gorski Kotar County'\n",
      " 'Open sea' 'Aden' 'New Ireland, Bismarck Archipelago' '18S / 50E'\n",
      " 'Illinois' 'Isles del Rosario' 'Wake Island' 'Isle of Man'\n",
      " 'Nagasaki Prefecture' 'Liguaria' 'Slovenia' 'South shore '\n",
      " 'Buenos Aires Province' 'Gulf of Panama' 'Genoa  Province'\n",
      " 'Abau Sub District, Central Province' 'Red Sea State' 'Curacao'\n",
      " 'Port Louis Province' 'Montserrado' 'Bay of Maputu' 'Sofala Province'\n",
      " 'Salerno' 'Salerno Province' 'Taranto' ' La Libertad' 'Sago Prefecture'\n",
      " 'Caribbean Sea' 'Southern Province' 'Jakarta Harbour' 'Singapore Harbor'\n",
      " 'Calabria' 'Shatt-el-Arab River' 'Shatt-al-Arab River'\n",
      " 'Shat-Al-Arab River' 'Between Kwajalein Atoll & Johnston Island' 'Attica'\n",
      " 'Adana Province' 'Bandar Ma’shur sea inlet' 'Saipan' 'Carpathian Sea'\n",
      " 'Kwajalein' 'Dar-es-Salaam ' '\"Head of the Gulf\"' 'Ryukyu' 'Tel Aviv'\n",
      " 'Colon Province' '300 miles east of Luzon'\n",
      " 'Bernardino Strait near Gulf of Leyte'\n",
      " 'Off Samar Island in the Gulf of Leyte' 'Pacific Ocean'\n",
      " 'Near the Fiji Islands' '40 miles south of Naples '\n",
      " 'Northwest of Papua New Guinea' 'Between Hawaii and U.S.A.'\n",
      " 'Off South American coast' 'Makora-Ulawa Province' 'Midway Atoll'\n",
      " '300 miles east of St. Thomas (Virgin Islands)' 'East Java'\n",
      " 'Camiguin Island' 'Cay Sal Bank' '(Southwestern Pacific)' 'Panama City'\n",
      " 'Off Libya' 'Off coast of Ecuador' 'Trelawney Province'\n",
      " 'In Convoy OB 274' 'New Georgia' 'Panama Bay (Pacific Ocean)' 'Bwagaoia'\n",
      " 'Torres Strait ' 'Carabobo' 'Ascension Bay' 'North China'\n",
      " 'Nicoya Peninsula' 'Basrah City' 'Queensland ' 'Argyll' 'Fishing Grounds'\n",
      " 'Isle of Wight' 'Makira-Uluwa Province' 'Elqui Province' 'Istanbul'\n",
      " 'Barlavento Islands' 'Viti Levu Island' 'Bay of Fundy' 'Manila'\n",
      " 'French Southern Territories' 'Niua ' 'Black River' 'Phoenix Islands'\n",
      " 'Cienfuegos Province' 'Santiago Island' 'Near Puntarenas' 'Salinas Bay'\n",
      " 'Golfo di Genova in the Ligurian Sea' 'Sants-Montjic'\n",
      " 'South of the Equator ' 'Bay of Monaco' 'Valencia ' 'Vancouver'\n",
      " '2 to 3 miles off Taboguilla Island, Pacific Ocean' 'Dorset'\n",
      " '150 miles offshore' 'Demerara County' ' Manila Bay' 'Lucy'\n",
      " 'East Yorkshire' 'Cape Haitien' 'Leyte' 'Turtle Bogue'\n",
      " '60 miles north of San Domingo in the West Indies' 'Colon' 'Off Ireland'\n",
      " 'Mediterranean Sea' 'Gran Canaria' 'Apolima Strait' 'Essequibo' 'Lagos '\n",
      " '5aint-Denis' 'Viti Levu group' 'Balearics' 'Málaga ' 'Georges Bank'\n",
      " 'Colón Province' 'Andalucia' 'Sfax' 'South Atlantic Ocean' 'Galicia'\n",
      " 'Gulf of Suez' 'Java' 'Tiburon Peninsula' 'Oaxaca' 'Harare Province'\n",
      " 'Khánh Hòa Province' 'Maluku Province' 'Suez Canal' ' Nusa Tenggara'\n",
      " 'Between Noumea & Sydney' 'Villa Clara Province' 'Ancona Province'\n",
      " 'Quezon' 'Rio San Juan' 'Southern Cyprus' 'Syracuse' 'Western Viscayas'\n",
      " 'Negros ' 'Imperia Province' 'Muala' 'East coast' 'Vera Cruz'\n",
      " 'Off Cape Haitien' 'St Michael Parish' 'Moluccas' 'Bocas del Toro'\n",
      " 'Provence' 'Bay of Campeche' 'Rangoon' 'Bay of Bengal' 'Bayelsa State'\n",
      " 'South Island?' 'Norfolk Island' 'Woodlark Islands' 'Munxar Reef'\n",
      " 'Between Perth & Colombo' 'Gujarat' 'Cortés'\n",
      " 'Somewhere between Philadelphia and Hiogo, Japan' ' New Jersey'\n",
      " \"Côte d'Azur  \" 'Maldonado coast' 'Western Banks' 'West Bengal'\n",
      " 'Andaman Islands' 'Off the coast of West Africa' 'Misamis Oriental'\n",
      " 'Strait of Messina' 'Hoogly River' 'Cyclades archipelago' 'Mount Lebanon'\n",
      " 'Between Hastings & Fairlight, Sussex' 'Veracruz ' 'Gilbert Islands'\n",
      " 'Newfoundland' 'Lomaiviti Provine' 'Off the coast of South America'\n",
      " '22ºN, 88ºE' 'Matanzas Province (north coast)' 'Alpes Maritime'\n",
      " 'Edinburgh' 'Eastern Catalona' '300 miles east of Mauritius'\n",
      " 'Foveaux Strait' 'Sumatra' 'Conakry Region' 'Corfu' 'Malaga'\n",
      " 'Bonin Islands' 'Fernando Po Island' 'Mangaia Island' 'New York '\n",
      " 'Corfu ' 'Between Australia & USA' 'Tongatapu'\n",
      " 'Lake Nicaragua (fresh water)' 'Norfolk' 'Island of St. Thomas'\n",
      " 'Cumberland' 'Sanma Province' \"35º39 : 165º8'\" 'CUBA' 'Western Area '\n",
      " 'Paraiba' 'Cape Coast' 'St. Anne' 'St Helena' \"Côte d'Azur \"\n",
      " 'Skagerrak arm of the North Sea' 'Las Perlas archipelago'\n",
      " 'Southwest coast' 'Quebec' 'Kerala' 'Nice & Marseilles'\n",
      " 'Magarita or Cubagua Islands' 'Yucatan' 'Ionian Sea' 'Piraeus'\n",
      " 'Off Thessaly' 'Paloma' 'Bocas del Toro Province' 'Rocha ' 'Cyrenaica'\n",
      " 'Northern Province' 'Los Roques  Islands' 'Dodecanese Islands'\n",
      " 'Malaita Province' 'South Korea' 'Milne Bay  Province' 'Island of Volos'\n",
      " 'Amirante Islands' 'Kadavu Island Group' 'Toamasina Province'\n",
      " 'Riau Province' 'Bikini Atoll' 'Between New Ireland & New Britain'\n",
      " 'Ba Ria-Vung Tau  Province']\n",
      "\n",
      "Valores faltantes:\n",
      "411\n",
      "\n",
      "Valores faltantes por columna:\n",
      "Date           0\n",
      "Year           2\n",
      "Type          18\n",
      "Country       41\n",
      "State        411\n",
      "Location     488\n",
      "Activity     423\n",
      "Name          67\n",
      "Sex            0\n",
      "Age         2445\n",
      "Injury        17\n",
      "Died         478\n",
      "Species     2870\n",
      "dtype: int64\n"
     ]
    }
   ],
   "source": [
    "# Verificar valores unicos y visualizarlos\n",
    "print(\"\\nValores unicos:\")\n",
    "print(df['State'].unique())\n",
    "print(\"\\nValores faltantes:\")\n",
    "print(df['State'].isnull().sum())\n",
    "print(\"\\nValores faltantes por columna:\")\n",
    "print(df.isnull().sum())"
   ]
  },
  {
   "cell_type": "code",
   "execution_count": 18,
   "metadata": {},
   "outputs": [],
   "source": [
    "# Reemplazar minisculas por mayusculas\n",
    "df['State'] = df['State'].str.upper()\n",
    "\n",
    "# Eliminar espacios en las celdas\n",
    "df['State'] = df['State'].str.strip()\n",
    "\n",
    "# Reemplazar celdas vacias por NAN\n",
    "df['State'] = df['State'].replace({''}, 'NaN')"
   ]
  },
  {
   "cell_type": "code",
   "execution_count": 19,
   "metadata": {},
   "outputs": [
    {
     "name": "stdout",
     "output_type": "stream",
     "text": [
      "\n",
      "Valores unicos:\n",
      "['Bargara Beach' \"Old Man's, Waikiki\" 'Rainbows, Oahu' ...\n",
      " 'Ocracoke Inlet' 'Panama Bay 8ºN, 79ºW'\n",
      " 'Below the English fort, Trincomalee']\n",
      "\n",
      "Valores faltantes:\n",
      "488\n",
      "\n",
      "Valores faltantes por columna:\n",
      "Date           0\n",
      "Year           2\n",
      "Type          18\n",
      "Country       41\n",
      "State        411\n",
      "Location     488\n",
      "Activity     423\n",
      "Name          67\n",
      "Sex            0\n",
      "Age         2445\n",
      "Injury        17\n",
      "Died         478\n",
      "Species     2870\n",
      "dtype: int64\n"
     ]
    }
   ],
   "source": [
    "# Verificar valores unicos y visualizarlos\n",
    "print(\"\\nValores unicos:\")\n",
    "print(df['Location'].unique())\n",
    "print(\"\\nValores faltantes:\")\n",
    "print(df['Location'].isnull().sum())\n",
    "print(\"\\nValores faltantes por columna:\")\n",
    "print(df.isnull().sum())"
   ]
  },
  {
   "cell_type": "code",
   "execution_count": 20,
   "metadata": {},
   "outputs": [],
   "source": [
    " # Reemplazar minisculas por mayusculas\n",
    "df['Location'] = df['Location'].str.upper()\n",
    "\n",
    "# Eliminar espacios en las celdas\n",
    "df['Location'] = df['Location'].str.strip()\n",
    "\n",
    "# Reemplazar celdas vacias por NAN\n",
    "df['Location'] = df['Location'].replace({''}, 'NaN')\n"
   ]
  },
  {
   "cell_type": "code",
   "execution_count": 21,
   "metadata": {},
   "outputs": [
    {
     "name": "stdout",
     "output_type": "stream",
     "text": [
      "\n",
      "Valores unicos:\n",
      "['Swimming' 'Surfing' nan ... 'Swimming around anchored ship'\n",
      " 'Crew swimming alongside their anchored ship' '4 men were bathing']\n",
      "\n",
      "Valores faltantes:\n",
      "423\n",
      "\n",
      "Valores faltantes por columna:\n",
      "Date           0\n",
      "Year           2\n",
      "Type          18\n",
      "Country       41\n",
      "State        411\n",
      "Location     488\n",
      "Activity     423\n",
      "Name          67\n",
      "Sex            0\n",
      "Age         2445\n",
      "Injury        17\n",
      "Died         478\n",
      "Species     2870\n",
      "dtype: int64\n"
     ]
    }
   ],
   "source": [
    "# Verificar valores unicos y visualizarlos\n",
    "print(\"\\nValores unicos:\")\n",
    "print(df['Activity'].unique())\n",
    "print(\"\\nValores faltantes:\")\n",
    "print(df['Activity'].isnull().sum())\n",
    "print(\"\\nValores faltantes por columna:\")\n",
    "print(df.isnull().sum())"
   ]
  },
  {
   "cell_type": "code",
   "execution_count": 22,
   "metadata": {},
   "outputs": [],
   "source": [
    "# Reemplazar minisculas por mayusculas\n",
    "df['Activity'] = df['Activity'].str.upper()\n",
    "\n",
    "# Eliminar espacios en las celdas\n",
    "df['Activity'] = df['Activity'].str.strip()\n",
    "\n",
    "# Reemplazar celdas vacias por NAN\n",
    "df['Activity'] = df['Activity'].replace({''}, 'NaN')\n",
    "\n",
    "# Reemplazar los valores que no sean 'SURFING', 'SWIMMING' o 'FISHING' por NaN\n",
    "valid_activities = ['SURFING', 'SWIMMING', 'FISHING']\n",
    "df['Activity'] = df['Activity'].apply(lambda x: x if x in valid_activities else np.nan)"
   ]
  },
  {
   "cell_type": "code",
   "execution_count": 33,
   "metadata": {},
   "outputs": [
    {
     "name": "stdout",
     "output_type": "stream",
     "text": [
      "\n",
      "Valores unicos:\n",
      "[13. nan 11. 46. 32. 29. 10. 64. 62. 39. 22. 15. 16. 21. 66. 52. 20. 44.\n",
      " 26. 47. 55. 30. 59.  8. 50. 45. 34. 38. 37. 19. 35. 65. 77. 60. 49. 42.\n",
      " 24. 73. 25. 18. 58. 67. 17. 14.  6. 41. 53. 68. 43. 40. 51. 31. 23. 12.\n",
      "  9. 36. 63. 71. 48. 70. 57.  7. 28. 33. 61. 74. 27.  3. 56.  5. 54. 86.\n",
      " 69. 87.  4. 81. 78.  1.]\n",
      "\n",
      "Valores faltantes:\n",
      "4424\n",
      "\n",
      "Valores faltantes por columna:\n",
      "Date           0\n",
      "Year           0\n",
      "Type          16\n",
      "Country       38\n",
      "State        386\n",
      "Location     453\n",
      "Activity    3742\n",
      "Name          66\n",
      "Sex            0\n",
      "Age         4424\n",
      "Injury        15\n",
      "Died         475\n",
      "Species     2775\n",
      "dtype: int64\n"
     ]
    }
   ],
   "source": [
    "# Verificar valores unicos y visualizarlos\n",
    "print(\"\\nValores unicos:\")\n",
    "print(df['Age'].unique())\n",
    "print(\"\\nValores faltantes:\")\n",
    "print(df['Age'].isnull().sum())\n",
    "print(\"\\nValores faltantes por columna:\")\n",
    "print(df.isnull().sum())"
   ]
  },
  {
   "cell_type": "code",
   "execution_count": 32,
   "metadata": {},
   "outputs": [],
   "source": [
    "# Eliminar espacios en las celdas\n",
    "df['Age'] = df['Age'].str.strip()\n",
    "\n",
    "# Reemplazar celdas vacias por NAN\n",
    "df['Age'] = df['Age'].replace({''}, 'NaN')\n",
    "\n",
    "# Convertir la columna 'Age' a numérica, con valores no numéricos convertidos a NaN\n",
    "df['Age'] = pd.to_numeric(df['Age'], errors='coerce')\n",
    "\n"
   ]
  },
  {
   "cell_type": "code",
   "execution_count": 40,
   "metadata": {},
   "outputs": [
    {
     "name": "stdout",
     "output_type": "stream",
     "text": [
      "\n",
      "Valores unicos:\n",
      "['MINOR INJURIES TO BACK, ABDOMEN AND LEGS'\n",
      " 'NO INJURY, SHARK BIT SURFBOARD' 'LACERATIONS TO LEFT FOOT' ...\n",
      " 'RIGHT LEG SEVERED AT KNEE.  IN 1796 HE BECAME LORD MAYOR OF LONDON. IN 1778 HE COMMISSIONED  AMERICAN ARTIST, JOHN SINGLETON COPLEY, TO PAINT THE INCIDENT: WATSON AND THE SHARK'\n",
      " 'FATAL,  PARTIAL REMAINS RECOVERED FROM SHARK’S GUT'\n",
      " 'HAND AND FOOT SEVERELY BITTEN, SURGICALLY AMPUTATED']\n",
      "\n",
      "Valores faltantes:\n",
      "15\n",
      "\n",
      "Valores faltantes por columna:\n",
      "Date           0\n",
      "Year           0\n",
      "Type          16\n",
      "Country       38\n",
      "State        386\n",
      "Location     453\n",
      "Activity    3742\n",
      "Name          66\n",
      "Sex            0\n",
      "Age         4424\n",
      "Injury        15\n",
      "Died         475\n",
      "Species     2775\n",
      "dtype: int64\n"
     ]
    }
   ],
   "source": [
    "# Verificar valores unicos y visualizarlos\n",
    "print(\"\\nValores unicos:\")\n",
    "print(df['Injury'].unique())\n",
    "print(\"\\nValores faltantes:\")\n",
    "print(df['Injury'].isnull().sum())\n",
    "print(\"\\nValores faltantes por columna:\")\n",
    "print(df.isnull().sum())"
   ]
  },
  {
   "cell_type": "code",
   "execution_count": 39,
   "metadata": {},
   "outputs": [],
   "source": [
    "# Eliminar espacios en las celdas\n",
    "df['Injury'] = df['Injury'].str.strip()\n",
    "\n",
    "# Reemplazar celdas vacias por NAN\n",
    "df['Injury'] = df['Injury'].replace({''}, 'NaN')\n",
    "\n",
    "# Reemplazar minusculas por mayusculas\n",
    "df['Injury'] = df['Injury'].str.upper()"
   ]
  },
  {
   "cell_type": "markdown",
   "metadata": {},
   "source": [
    "### ELIMINAMOS DUPLICADOS"
   ]
  },
  {
   "cell_type": "code",
   "execution_count": 24,
   "metadata": {},
   "outputs": [
    {
     "data": {
      "text/plain": [
       "3"
      ]
     },
     "execution_count": 24,
     "metadata": {},
     "output_type": "execute_result"
    }
   ],
   "source": [
    "df.duplicated().sum()"
   ]
  },
  {
   "cell_type": "code",
   "execution_count": 25,
   "metadata": {},
   "outputs": [
    {
     "data": {
      "text/plain": [
       "True"
      ]
     },
     "execution_count": 25,
     "metadata": {},
     "output_type": "execute_result"
    }
   ],
   "source": [
    "df.duplicated().any()"
   ]
  },
  {
   "cell_type": "code",
   "execution_count": 26,
   "metadata": {},
   "outputs": [],
   "source": [
    "df.drop_duplicates(inplace=True)"
   ]
  },
  {
   "cell_type": "code",
   "execution_count": 27,
   "metadata": {},
   "outputs": [
    {
     "data": {
      "text/plain": [
       "Date           0\n",
       "Year           2\n",
       "Type          18\n",
       "Country       41\n",
       "State        411\n",
       "Location     488\n",
       "Activity    3851\n",
       "Name          67\n",
       "Sex            0\n",
       "Age         2442\n",
       "Injury        17\n",
       "Died         478\n",
       "Species     2868\n",
       "dtype: int64"
      ]
     },
     "execution_count": 27,
     "metadata": {},
     "output_type": "execute_result"
    }
   ],
   "source": [
    "# Valores nulos\n",
    "df.isnull().sum()"
   ]
  },
  {
   "cell_type": "markdown",
   "metadata": {},
   "source": [
    "### Eliminamos las filas de 1642 para atras"
   ]
  },
  {
   "cell_type": "code",
   "execution_count": 28,
   "metadata": {},
   "outputs": [],
   "source": [
    "# Eliminar las filas de menos del year 1642\n",
    "df = df[df['Year'] >= 1642]"
   ]
  },
  {
   "cell_type": "code",
   "execution_count": 29,
   "metadata": {},
   "outputs": [
    {
     "name": "stdout",
     "output_type": "stream",
     "text": [
      "\n",
      "Valores unicos:\n",
      "[nan 'N' 'Y' 'NaN' 2017]\n",
      "\n",
      "Valores faltantes:\n",
      "475\n",
      "\n",
      "Valores faltantes por columna:\n",
      "Date           0\n",
      "Year           0\n",
      "Type          16\n",
      "Country       38\n",
      "State        386\n",
      "Location     453\n",
      "Activity    3742\n",
      "Name          66\n",
      "Sex            0\n",
      "Age         2328\n",
      "Injury        15\n",
      "Died         475\n",
      "Species     2775\n",
      "dtype: int64\n"
     ]
    }
   ],
   "source": [
    "# Verificar valores unicos y visualizarlos\n",
    "print(\"\\nValores unicos:\")\n",
    "print(df['Died'].unique())\n",
    "print(\"\\nValores faltantes:\")\n",
    "print(df['Died'].isnull().sum())\n",
    "print(\"\\nValores faltantes por columna:\")\n",
    "print(df.isnull().sum())"
   ]
  }
 ],
 "metadata": {
  "kernelspec": {
   "display_name": "base",
   "language": "python",
   "name": "python3"
  },
  "language_info": {
   "codemirror_mode": {
    "name": "ipython",
    "version": 3
   },
   "file_extension": ".py",
   "mimetype": "text/x-python",
   "name": "python",
   "nbconvert_exporter": "python",
   "pygments_lexer": "ipython3",
   "version": "3.11.7"
  }
 },
 "nbformat": 4,
 "nbformat_minor": 2
}
